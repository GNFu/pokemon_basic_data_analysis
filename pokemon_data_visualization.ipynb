{
 "cells": [
  {
   "cell_type": "code",
   "execution_count": 1,
   "metadata": {},
   "outputs": [],
   "source": [
    "import pandas as pd\n",
    "import plotly.express as px"
   ]
  },
  {
   "cell_type": "code",
   "execution_count": 3,
   "metadata": {},
   "outputs": [
    {
     "data": {
      "text/html": [
       "<div>\n",
       "<style scoped>\n",
       "    .dataframe tbody tr th:only-of-type {\n",
       "        vertical-align: middle;\n",
       "    }\n",
       "\n",
       "    .dataframe tbody tr th {\n",
       "        vertical-align: top;\n",
       "    }\n",
       "\n",
       "    .dataframe thead th {\n",
       "        text-align: right;\n",
       "    }\n",
       "</style>\n",
       "<table border=\"1\" class=\"dataframe\">\n",
       "  <thead>\n",
       "    <tr style=\"text-align: right;\">\n",
       "      <th></th>\n",
       "      <th>#</th>\n",
       "      <th>Name</th>\n",
       "      <th>Type 1</th>\n",
       "      <th>Type 2</th>\n",
       "      <th>Total</th>\n",
       "      <th>HP</th>\n",
       "      <th>Attack</th>\n",
       "      <th>Defense</th>\n",
       "      <th>Sp. Atk</th>\n",
       "      <th>Sp. Def</th>\n",
       "      <th>Speed</th>\n",
       "      <th>Generation</th>\n",
       "      <th>Legendary</th>\n",
       "    </tr>\n",
       "  </thead>\n",
       "  <tbody>\n",
       "    <tr>\n",
       "      <th>0</th>\n",
       "      <td>1</td>\n",
       "      <td>Bulbasaur</td>\n",
       "      <td>Grass</td>\n",
       "      <td>Poison</td>\n",
       "      <td>318</td>\n",
       "      <td>45</td>\n",
       "      <td>49</td>\n",
       "      <td>49</td>\n",
       "      <td>65</td>\n",
       "      <td>65</td>\n",
       "      <td>45</td>\n",
       "      <td>1</td>\n",
       "      <td>False</td>\n",
       "    </tr>\n",
       "    <tr>\n",
       "      <th>1</th>\n",
       "      <td>2</td>\n",
       "      <td>Ivysaur</td>\n",
       "      <td>Grass</td>\n",
       "      <td>Poison</td>\n",
       "      <td>405</td>\n",
       "      <td>60</td>\n",
       "      <td>62</td>\n",
       "      <td>63</td>\n",
       "      <td>80</td>\n",
       "      <td>80</td>\n",
       "      <td>60</td>\n",
       "      <td>1</td>\n",
       "      <td>False</td>\n",
       "    </tr>\n",
       "    <tr>\n",
       "      <th>2</th>\n",
       "      <td>3</td>\n",
       "      <td>Venusaur</td>\n",
       "      <td>Grass</td>\n",
       "      <td>Poison</td>\n",
       "      <td>525</td>\n",
       "      <td>80</td>\n",
       "      <td>82</td>\n",
       "      <td>83</td>\n",
       "      <td>100</td>\n",
       "      <td>100</td>\n",
       "      <td>80</td>\n",
       "      <td>1</td>\n",
       "      <td>False</td>\n",
       "    </tr>\n",
       "    <tr>\n",
       "      <th>3</th>\n",
       "      <td>3</td>\n",
       "      <td>VenusaurMega Venusaur</td>\n",
       "      <td>Grass</td>\n",
       "      <td>Poison</td>\n",
       "      <td>625</td>\n",
       "      <td>80</td>\n",
       "      <td>100</td>\n",
       "      <td>123</td>\n",
       "      <td>122</td>\n",
       "      <td>120</td>\n",
       "      <td>80</td>\n",
       "      <td>1</td>\n",
       "      <td>False</td>\n",
       "    </tr>\n",
       "    <tr>\n",
       "      <th>4</th>\n",
       "      <td>4</td>\n",
       "      <td>Charmander</td>\n",
       "      <td>Fire</td>\n",
       "      <td>NaN</td>\n",
       "      <td>309</td>\n",
       "      <td>39</td>\n",
       "      <td>52</td>\n",
       "      <td>43</td>\n",
       "      <td>60</td>\n",
       "      <td>50</td>\n",
       "      <td>65</td>\n",
       "      <td>1</td>\n",
       "      <td>False</td>\n",
       "    </tr>\n",
       "    <tr>\n",
       "      <th>5</th>\n",
       "      <td>5</td>\n",
       "      <td>Charmeleon</td>\n",
       "      <td>Fire</td>\n",
       "      <td>NaN</td>\n",
       "      <td>405</td>\n",
       "      <td>58</td>\n",
       "      <td>64</td>\n",
       "      <td>58</td>\n",
       "      <td>80</td>\n",
       "      <td>65</td>\n",
       "      <td>80</td>\n",
       "      <td>1</td>\n",
       "      <td>False</td>\n",
       "    </tr>\n",
       "    <tr>\n",
       "      <th>6</th>\n",
       "      <td>6</td>\n",
       "      <td>Charizard</td>\n",
       "      <td>Fire</td>\n",
       "      <td>Flying</td>\n",
       "      <td>534</td>\n",
       "      <td>78</td>\n",
       "      <td>84</td>\n",
       "      <td>78</td>\n",
       "      <td>109</td>\n",
       "      <td>85</td>\n",
       "      <td>100</td>\n",
       "      <td>1</td>\n",
       "      <td>False</td>\n",
       "    </tr>\n",
       "    <tr>\n",
       "      <th>7</th>\n",
       "      <td>6</td>\n",
       "      <td>CharizardMega Charizard X</td>\n",
       "      <td>Fire</td>\n",
       "      <td>Dragon</td>\n",
       "      <td>634</td>\n",
       "      <td>78</td>\n",
       "      <td>130</td>\n",
       "      <td>111</td>\n",
       "      <td>130</td>\n",
       "      <td>85</td>\n",
       "      <td>100</td>\n",
       "      <td>1</td>\n",
       "      <td>False</td>\n",
       "    </tr>\n",
       "    <tr>\n",
       "      <th>8</th>\n",
       "      <td>6</td>\n",
       "      <td>CharizardMega Charizard Y</td>\n",
       "      <td>Fire</td>\n",
       "      <td>Flying</td>\n",
       "      <td>634</td>\n",
       "      <td>78</td>\n",
       "      <td>104</td>\n",
       "      <td>78</td>\n",
       "      <td>159</td>\n",
       "      <td>115</td>\n",
       "      <td>100</td>\n",
       "      <td>1</td>\n",
       "      <td>False</td>\n",
       "    </tr>\n",
       "    <tr>\n",
       "      <th>9</th>\n",
       "      <td>7</td>\n",
       "      <td>Squirtle</td>\n",
       "      <td>Water</td>\n",
       "      <td>NaN</td>\n",
       "      <td>314</td>\n",
       "      <td>44</td>\n",
       "      <td>48</td>\n",
       "      <td>65</td>\n",
       "      <td>50</td>\n",
       "      <td>64</td>\n",
       "      <td>43</td>\n",
       "      <td>1</td>\n",
       "      <td>False</td>\n",
       "    </tr>\n",
       "  </tbody>\n",
       "</table>\n",
       "</div>"
      ],
      "text/plain": [
       "   #                       Name Type 1  Type 2  Total  HP  Attack  Defense  \\\n",
       "0  1                  Bulbasaur  Grass  Poison    318  45      49       49   \n",
       "1  2                    Ivysaur  Grass  Poison    405  60      62       63   \n",
       "2  3                   Venusaur  Grass  Poison    525  80      82       83   \n",
       "3  3      VenusaurMega Venusaur  Grass  Poison    625  80     100      123   \n",
       "4  4                 Charmander   Fire     NaN    309  39      52       43   \n",
       "5  5                 Charmeleon   Fire     NaN    405  58      64       58   \n",
       "6  6                  Charizard   Fire  Flying    534  78      84       78   \n",
       "7  6  CharizardMega Charizard X   Fire  Dragon    634  78     130      111   \n",
       "8  6  CharizardMega Charizard Y   Fire  Flying    634  78     104       78   \n",
       "9  7                   Squirtle  Water     NaN    314  44      48       65   \n",
       "\n",
       "   Sp. Atk  Sp. Def  Speed  Generation  Legendary  \n",
       "0       65       65     45           1      False  \n",
       "1       80       80     60           1      False  \n",
       "2      100      100     80           1      False  \n",
       "3      122      120     80           1      False  \n",
       "4       60       50     65           1      False  \n",
       "5       80       65     80           1      False  \n",
       "6      109       85    100           1      False  \n",
       "7      130       85    100           1      False  \n",
       "8      159      115    100           1      False  \n",
       "9       50       64     43           1      False  "
      ]
     },
     "execution_count": 3,
     "metadata": {},
     "output_type": "execute_result"
    }
   ],
   "source": [
    "df = pd.read_csv(\"data/pokemon.csv\")\n",
    "df.head(10)"
   ]
  },
  {
   "cell_type": "code",
   "execution_count": 4,
   "metadata": {},
   "outputs": [
    {
     "data": {
      "text/html": [
       "<div>\n",
       "<style scoped>\n",
       "    .dataframe tbody tr th:only-of-type {\n",
       "        vertical-align: middle;\n",
       "    }\n",
       "\n",
       "    .dataframe tbody tr th {\n",
       "        vertical-align: top;\n",
       "    }\n",
       "\n",
       "    .dataframe thead th {\n",
       "        text-align: right;\n",
       "    }\n",
       "</style>\n",
       "<table border=\"1\" class=\"dataframe\">\n",
       "  <thead>\n",
       "    <tr style=\"text-align: right;\">\n",
       "      <th></th>\n",
       "      <th>#</th>\n",
       "      <th>Total</th>\n",
       "      <th>HP</th>\n",
       "      <th>Attack</th>\n",
       "      <th>Defense</th>\n",
       "      <th>Sp. Atk</th>\n",
       "      <th>Sp. Def</th>\n",
       "      <th>Speed</th>\n",
       "      <th>Generation</th>\n",
       "    </tr>\n",
       "  </thead>\n",
       "  <tbody>\n",
       "    <tr>\n",
       "      <th>count</th>\n",
       "      <td>800.000000</td>\n",
       "      <td>800.00000</td>\n",
       "      <td>800.000000</td>\n",
       "      <td>800.000000</td>\n",
       "      <td>800.000000</td>\n",
       "      <td>800.000000</td>\n",
       "      <td>800.000000</td>\n",
       "      <td>800.000000</td>\n",
       "      <td>800.00000</td>\n",
       "    </tr>\n",
       "    <tr>\n",
       "      <th>mean</th>\n",
       "      <td>362.813750</td>\n",
       "      <td>435.10250</td>\n",
       "      <td>69.258750</td>\n",
       "      <td>79.001250</td>\n",
       "      <td>73.842500</td>\n",
       "      <td>72.820000</td>\n",
       "      <td>71.902500</td>\n",
       "      <td>68.277500</td>\n",
       "      <td>3.32375</td>\n",
       "    </tr>\n",
       "    <tr>\n",
       "      <th>std</th>\n",
       "      <td>208.343798</td>\n",
       "      <td>119.96304</td>\n",
       "      <td>25.534669</td>\n",
       "      <td>32.457366</td>\n",
       "      <td>31.183501</td>\n",
       "      <td>32.722294</td>\n",
       "      <td>27.828916</td>\n",
       "      <td>29.060474</td>\n",
       "      <td>1.66129</td>\n",
       "    </tr>\n",
       "    <tr>\n",
       "      <th>min</th>\n",
       "      <td>1.000000</td>\n",
       "      <td>180.00000</td>\n",
       "      <td>1.000000</td>\n",
       "      <td>5.000000</td>\n",
       "      <td>5.000000</td>\n",
       "      <td>10.000000</td>\n",
       "      <td>20.000000</td>\n",
       "      <td>5.000000</td>\n",
       "      <td>1.00000</td>\n",
       "    </tr>\n",
       "    <tr>\n",
       "      <th>25%</th>\n",
       "      <td>184.750000</td>\n",
       "      <td>330.00000</td>\n",
       "      <td>50.000000</td>\n",
       "      <td>55.000000</td>\n",
       "      <td>50.000000</td>\n",
       "      <td>49.750000</td>\n",
       "      <td>50.000000</td>\n",
       "      <td>45.000000</td>\n",
       "      <td>2.00000</td>\n",
       "    </tr>\n",
       "    <tr>\n",
       "      <th>50%</th>\n",
       "      <td>364.500000</td>\n",
       "      <td>450.00000</td>\n",
       "      <td>65.000000</td>\n",
       "      <td>75.000000</td>\n",
       "      <td>70.000000</td>\n",
       "      <td>65.000000</td>\n",
       "      <td>70.000000</td>\n",
       "      <td>65.000000</td>\n",
       "      <td>3.00000</td>\n",
       "    </tr>\n",
       "    <tr>\n",
       "      <th>75%</th>\n",
       "      <td>539.250000</td>\n",
       "      <td>515.00000</td>\n",
       "      <td>80.000000</td>\n",
       "      <td>100.000000</td>\n",
       "      <td>90.000000</td>\n",
       "      <td>95.000000</td>\n",
       "      <td>90.000000</td>\n",
       "      <td>90.000000</td>\n",
       "      <td>5.00000</td>\n",
       "    </tr>\n",
       "    <tr>\n",
       "      <th>max</th>\n",
       "      <td>721.000000</td>\n",
       "      <td>780.00000</td>\n",
       "      <td>255.000000</td>\n",
       "      <td>190.000000</td>\n",
       "      <td>230.000000</td>\n",
       "      <td>194.000000</td>\n",
       "      <td>230.000000</td>\n",
       "      <td>180.000000</td>\n",
       "      <td>6.00000</td>\n",
       "    </tr>\n",
       "  </tbody>\n",
       "</table>\n",
       "</div>"
      ],
      "text/plain": [
       "                #      Total          HP      Attack     Defense     Sp. Atk  \\\n",
       "count  800.000000  800.00000  800.000000  800.000000  800.000000  800.000000   \n",
       "mean   362.813750  435.10250   69.258750   79.001250   73.842500   72.820000   \n",
       "std    208.343798  119.96304   25.534669   32.457366   31.183501   32.722294   \n",
       "min      1.000000  180.00000    1.000000    5.000000    5.000000   10.000000   \n",
       "25%    184.750000  330.00000   50.000000   55.000000   50.000000   49.750000   \n",
       "50%    364.500000  450.00000   65.000000   75.000000   70.000000   65.000000   \n",
       "75%    539.250000  515.00000   80.000000  100.000000   90.000000   95.000000   \n",
       "max    721.000000  780.00000  255.000000  190.000000  230.000000  194.000000   \n",
       "\n",
       "          Sp. Def       Speed  Generation  \n",
       "count  800.000000  800.000000   800.00000  \n",
       "mean    71.902500   68.277500     3.32375  \n",
       "std     27.828916   29.060474     1.66129  \n",
       "min     20.000000    5.000000     1.00000  \n",
       "25%     50.000000   45.000000     2.00000  \n",
       "50%     70.000000   65.000000     3.00000  \n",
       "75%     90.000000   90.000000     5.00000  \n",
       "max    230.000000  180.000000     6.00000  "
      ]
     },
     "execution_count": 4,
     "metadata": {},
     "output_type": "execute_result"
    }
   ],
   "source": [
    "df.describe()\n",
    "\n",
    "# What is our objective?"
   ]
  },
  {
   "cell_type": "code",
   "execution_count": 10,
   "metadata": {},
   "outputs": [
    {
     "data": {
      "text/html": [
       "<div>\n",
       "<style scoped>\n",
       "    .dataframe tbody tr th:only-of-type {\n",
       "        vertical-align: middle;\n",
       "    }\n",
       "\n",
       "    .dataframe tbody tr th {\n",
       "        vertical-align: top;\n",
       "    }\n",
       "\n",
       "    .dataframe thead th {\n",
       "        text-align: right;\n",
       "    }\n",
       "</style>\n",
       "<table border=\"1\" class=\"dataframe\">\n",
       "  <thead>\n",
       "    <tr style=\"text-align: right;\">\n",
       "      <th></th>\n",
       "      <th>#</th>\n",
       "      <th>Total</th>\n",
       "      <th>HP</th>\n",
       "      <th>Attack</th>\n",
       "      <th>Defense</th>\n",
       "      <th>Sp. Atk</th>\n",
       "      <th>Sp. Def</th>\n",
       "      <th>Speed</th>\n",
       "      <th>Generation</th>\n",
       "    </tr>\n",
       "  </thead>\n",
       "  <tbody>\n",
       "    <tr>\n",
       "      <th>count</th>\n",
       "      <td>65.000000</td>\n",
       "      <td>65.000000</td>\n",
       "      <td>65.000000</td>\n",
       "      <td>65.000000</td>\n",
       "      <td>65.000000</td>\n",
       "      <td>65.000000</td>\n",
       "      <td>65.000000</td>\n",
       "      <td>65.000000</td>\n",
       "      <td>65.000000</td>\n",
       "    </tr>\n",
       "    <tr>\n",
       "      <th>mean</th>\n",
       "      <td>470.215385</td>\n",
       "      <td>637.384615</td>\n",
       "      <td>92.738462</td>\n",
       "      <td>116.676923</td>\n",
       "      <td>99.661538</td>\n",
       "      <td>122.184615</td>\n",
       "      <td>105.938462</td>\n",
       "      <td>100.184615</td>\n",
       "      <td>3.769231</td>\n",
       "    </tr>\n",
       "    <tr>\n",
       "      <th>std</th>\n",
       "      <td>173.651095</td>\n",
       "      <td>60.937389</td>\n",
       "      <td>21.722164</td>\n",
       "      <td>30.348037</td>\n",
       "      <td>28.255131</td>\n",
       "      <td>31.104608</td>\n",
       "      <td>28.827004</td>\n",
       "      <td>22.952323</td>\n",
       "      <td>1.455262</td>\n",
       "    </tr>\n",
       "    <tr>\n",
       "      <th>min</th>\n",
       "      <td>144.000000</td>\n",
       "      <td>580.000000</td>\n",
       "      <td>50.000000</td>\n",
       "      <td>50.000000</td>\n",
       "      <td>20.000000</td>\n",
       "      <td>50.000000</td>\n",
       "      <td>20.000000</td>\n",
       "      <td>50.000000</td>\n",
       "      <td>1.000000</td>\n",
       "    </tr>\n",
       "    <tr>\n",
       "      <th>25%</th>\n",
       "      <td>381.000000</td>\n",
       "      <td>580.000000</td>\n",
       "      <td>80.000000</td>\n",
       "      <td>100.000000</td>\n",
       "      <td>90.000000</td>\n",
       "      <td>100.000000</td>\n",
       "      <td>90.000000</td>\n",
       "      <td>90.000000</td>\n",
       "      <td>3.000000</td>\n",
       "    </tr>\n",
       "    <tr>\n",
       "      <th>50%</th>\n",
       "      <td>483.000000</td>\n",
       "      <td>600.000000</td>\n",
       "      <td>91.000000</td>\n",
       "      <td>110.000000</td>\n",
       "      <td>100.000000</td>\n",
       "      <td>120.000000</td>\n",
       "      <td>100.000000</td>\n",
       "      <td>100.000000</td>\n",
       "      <td>4.000000</td>\n",
       "    </tr>\n",
       "    <tr>\n",
       "      <th>75%</th>\n",
       "      <td>642.000000</td>\n",
       "      <td>680.000000</td>\n",
       "      <td>105.000000</td>\n",
       "      <td>131.000000</td>\n",
       "      <td>115.000000</td>\n",
       "      <td>150.000000</td>\n",
       "      <td>120.000000</td>\n",
       "      <td>110.000000</td>\n",
       "      <td>5.000000</td>\n",
       "    </tr>\n",
       "    <tr>\n",
       "      <th>max</th>\n",
       "      <td>721.000000</td>\n",
       "      <td>780.000000</td>\n",
       "      <td>150.000000</td>\n",
       "      <td>190.000000</td>\n",
       "      <td>200.000000</td>\n",
       "      <td>194.000000</td>\n",
       "      <td>200.000000</td>\n",
       "      <td>180.000000</td>\n",
       "      <td>6.000000</td>\n",
       "    </tr>\n",
       "  </tbody>\n",
       "</table>\n",
       "</div>"
      ],
      "text/plain": [
       "                #       Total          HP      Attack     Defense     Sp. Atk  \\\n",
       "count   65.000000   65.000000   65.000000   65.000000   65.000000   65.000000   \n",
       "mean   470.215385  637.384615   92.738462  116.676923   99.661538  122.184615   \n",
       "std    173.651095   60.937389   21.722164   30.348037   28.255131   31.104608   \n",
       "min    144.000000  580.000000   50.000000   50.000000   20.000000   50.000000   \n",
       "25%    381.000000  580.000000   80.000000  100.000000   90.000000  100.000000   \n",
       "50%    483.000000  600.000000   91.000000  110.000000  100.000000  120.000000   \n",
       "75%    642.000000  680.000000  105.000000  131.000000  115.000000  150.000000   \n",
       "max    721.000000  780.000000  150.000000  190.000000  200.000000  194.000000   \n",
       "\n",
       "          Sp. Def       Speed  Generation  \n",
       "count   65.000000   65.000000   65.000000  \n",
       "mean   105.938462  100.184615    3.769231  \n",
       "std     28.827004   22.952323    1.455262  \n",
       "min     20.000000   50.000000    1.000000  \n",
       "25%     90.000000   90.000000    3.000000  \n",
       "50%    100.000000  100.000000    4.000000  \n",
       "75%    120.000000  110.000000    5.000000  \n",
       "max    200.000000  180.000000    6.000000  "
      ]
     },
     "execution_count": 10,
     "metadata": {},
     "output_type": "execute_result"
    }
   ],
   "source": [
    "df_legendary = df[df[\"Legendary\"] == True]\n",
    "df_legendary.describe()"
   ]
  },
  {
   "cell_type": "code",
   "execution_count": 11,
   "metadata": {},
   "outputs": [
    {
     "data": {
      "text/html": [
       "<div>\n",
       "<style scoped>\n",
       "    .dataframe tbody tr th:only-of-type {\n",
       "        vertical-align: middle;\n",
       "    }\n",
       "\n",
       "    .dataframe tbody tr th {\n",
       "        vertical-align: top;\n",
       "    }\n",
       "\n",
       "    .dataframe thead th {\n",
       "        text-align: right;\n",
       "    }\n",
       "</style>\n",
       "<table border=\"1\" class=\"dataframe\">\n",
       "  <thead>\n",
       "    <tr style=\"text-align: right;\">\n",
       "      <th></th>\n",
       "      <th>#</th>\n",
       "      <th>Total</th>\n",
       "      <th>HP</th>\n",
       "      <th>Attack</th>\n",
       "      <th>Defense</th>\n",
       "      <th>Sp. Atk</th>\n",
       "      <th>Sp. Def</th>\n",
       "      <th>Speed</th>\n",
       "      <th>Generation</th>\n",
       "    </tr>\n",
       "  </thead>\n",
       "  <tbody>\n",
       "    <tr>\n",
       "      <th>count</th>\n",
       "      <td>735.000000</td>\n",
       "      <td>735.000000</td>\n",
       "      <td>735.000000</td>\n",
       "      <td>735.000000</td>\n",
       "      <td>735.000000</td>\n",
       "      <td>735.000000</td>\n",
       "      <td>735.000000</td>\n",
       "      <td>735.000000</td>\n",
       "      <td>735.000000</td>\n",
       "    </tr>\n",
       "    <tr>\n",
       "      <th>mean</th>\n",
       "      <td>353.315646</td>\n",
       "      <td>417.213605</td>\n",
       "      <td>67.182313</td>\n",
       "      <td>75.669388</td>\n",
       "      <td>71.559184</td>\n",
       "      <td>68.454422</td>\n",
       "      <td>68.892517</td>\n",
       "      <td>65.455782</td>\n",
       "      <td>3.284354</td>\n",
       "    </tr>\n",
       "    <tr>\n",
       "      <th>std</th>\n",
       "      <td>208.590419</td>\n",
       "      <td>106.760417</td>\n",
       "      <td>24.808849</td>\n",
       "      <td>30.490153</td>\n",
       "      <td>30.408194</td>\n",
       "      <td>29.091705</td>\n",
       "      <td>25.669310</td>\n",
       "      <td>27.843038</td>\n",
       "      <td>1.673471</td>\n",
       "    </tr>\n",
       "    <tr>\n",
       "      <th>min</th>\n",
       "      <td>1.000000</td>\n",
       "      <td>180.000000</td>\n",
       "      <td>1.000000</td>\n",
       "      <td>5.000000</td>\n",
       "      <td>5.000000</td>\n",
       "      <td>10.000000</td>\n",
       "      <td>20.000000</td>\n",
       "      <td>5.000000</td>\n",
       "      <td>1.000000</td>\n",
       "    </tr>\n",
       "    <tr>\n",
       "      <th>25%</th>\n",
       "      <td>175.500000</td>\n",
       "      <td>324.000000</td>\n",
       "      <td>50.000000</td>\n",
       "      <td>54.500000</td>\n",
       "      <td>50.000000</td>\n",
       "      <td>45.000000</td>\n",
       "      <td>50.000000</td>\n",
       "      <td>45.000000</td>\n",
       "      <td>2.000000</td>\n",
       "    </tr>\n",
       "    <tr>\n",
       "      <th>50%</th>\n",
       "      <td>346.000000</td>\n",
       "      <td>425.000000</td>\n",
       "      <td>65.000000</td>\n",
       "      <td>72.000000</td>\n",
       "      <td>66.000000</td>\n",
       "      <td>65.000000</td>\n",
       "      <td>65.000000</td>\n",
       "      <td>64.000000</td>\n",
       "      <td>3.000000</td>\n",
       "    </tr>\n",
       "    <tr>\n",
       "      <th>75%</th>\n",
       "      <td>533.500000</td>\n",
       "      <td>498.000000</td>\n",
       "      <td>79.500000</td>\n",
       "      <td>95.000000</td>\n",
       "      <td>85.000000</td>\n",
       "      <td>85.000000</td>\n",
       "      <td>85.000000</td>\n",
       "      <td>85.000000</td>\n",
       "      <td>5.000000</td>\n",
       "    </tr>\n",
       "    <tr>\n",
       "      <th>max</th>\n",
       "      <td>715.000000</td>\n",
       "      <td>700.000000</td>\n",
       "      <td>255.000000</td>\n",
       "      <td>185.000000</td>\n",
       "      <td>230.000000</td>\n",
       "      <td>175.000000</td>\n",
       "      <td>230.000000</td>\n",
       "      <td>160.000000</td>\n",
       "      <td>6.000000</td>\n",
       "    </tr>\n",
       "  </tbody>\n",
       "</table>\n",
       "</div>"
      ],
      "text/plain": [
       "                #       Total          HP      Attack     Defense     Sp. Atk  \\\n",
       "count  735.000000  735.000000  735.000000  735.000000  735.000000  735.000000   \n",
       "mean   353.315646  417.213605   67.182313   75.669388   71.559184   68.454422   \n",
       "std    208.590419  106.760417   24.808849   30.490153   30.408194   29.091705   \n",
       "min      1.000000  180.000000    1.000000    5.000000    5.000000   10.000000   \n",
       "25%    175.500000  324.000000   50.000000   54.500000   50.000000   45.000000   \n",
       "50%    346.000000  425.000000   65.000000   72.000000   66.000000   65.000000   \n",
       "75%    533.500000  498.000000   79.500000   95.000000   85.000000   85.000000   \n",
       "max    715.000000  700.000000  255.000000  185.000000  230.000000  175.000000   \n",
       "\n",
       "          Sp. Def       Speed  Generation  \n",
       "count  735.000000  735.000000  735.000000  \n",
       "mean    68.892517   65.455782    3.284354  \n",
       "std     25.669310   27.843038    1.673471  \n",
       "min     20.000000    5.000000    1.000000  \n",
       "25%     50.000000   45.000000    2.000000  \n",
       "50%     65.000000   64.000000    3.000000  \n",
       "75%     85.000000   85.000000    5.000000  \n",
       "max    230.000000  160.000000    6.000000  "
      ]
     },
     "execution_count": 11,
     "metadata": {},
     "output_type": "execute_result"
    }
   ],
   "source": [
    "df_non_legendary = df[~df[\"Legendary\"] == True]\n",
    "df_non_legendary.describe()"
   ]
  },
  {
   "cell_type": "markdown",
   "metadata": {},
   "source": [
    "# 每项属性前十的宝可梦"
   ]
  },
  {
   "cell_type": "code",
   "execution_count": 14,
   "metadata": {},
   "outputs": [
    {
     "data": {
      "text/html": [
       "<div>\n",
       "<style scoped>\n",
       "    .dataframe tbody tr th:only-of-type {\n",
       "        vertical-align: middle;\n",
       "    }\n",
       "\n",
       "    .dataframe tbody tr th {\n",
       "        vertical-align: top;\n",
       "    }\n",
       "\n",
       "    .dataframe thead th {\n",
       "        text-align: right;\n",
       "    }\n",
       "</style>\n",
       "<table border=\"1\" class=\"dataframe\">\n",
       "  <thead>\n",
       "    <tr style=\"text-align: right;\">\n",
       "      <th></th>\n",
       "      <th>#</th>\n",
       "      <th>Name</th>\n",
       "      <th>Type 1</th>\n",
       "      <th>Type 2</th>\n",
       "      <th>Total</th>\n",
       "      <th>HP</th>\n",
       "      <th>Attack</th>\n",
       "      <th>Defense</th>\n",
       "      <th>Sp. Atk</th>\n",
       "      <th>Sp. Def</th>\n",
       "      <th>Speed</th>\n",
       "      <th>Generation</th>\n",
       "      <th>Legendary</th>\n",
       "    </tr>\n",
       "  </thead>\n",
       "  <tbody>\n",
       "    <tr>\n",
       "      <th>232</th>\n",
       "      <td>214</td>\n",
       "      <td>HeracrossMega Heracross</td>\n",
       "      <td>Bug</td>\n",
       "      <td>Fighting</td>\n",
       "      <td>600</td>\n",
       "      <td>80</td>\n",
       "      <td>185</td>\n",
       "      <td>115</td>\n",
       "      <td>40</td>\n",
       "      <td>105</td>\n",
       "      <td>75</td>\n",
       "      <td>2</td>\n",
       "      <td>False</td>\n",
       "    </tr>\n",
       "    <tr>\n",
       "      <th>494</th>\n",
       "      <td>445</td>\n",
       "      <td>GarchompMega Garchomp</td>\n",
       "      <td>Dragon</td>\n",
       "      <td>Ground</td>\n",
       "      <td>700</td>\n",
       "      <td>108</td>\n",
       "      <td>170</td>\n",
       "      <td>115</td>\n",
       "      <td>120</td>\n",
       "      <td>95</td>\n",
       "      <td>92</td>\n",
       "      <td>4</td>\n",
       "      <td>False</td>\n",
       "    </tr>\n",
       "    <tr>\n",
       "      <th>527</th>\n",
       "      <td>475</td>\n",
       "      <td>GalladeMega Gallade</td>\n",
       "      <td>Psychic</td>\n",
       "      <td>Fighting</td>\n",
       "      <td>618</td>\n",
       "      <td>68</td>\n",
       "      <td>165</td>\n",
       "      <td>95</td>\n",
       "      <td>65</td>\n",
       "      <td>115</td>\n",
       "      <td>110</td>\n",
       "      <td>4</td>\n",
       "      <td>False</td>\n",
       "    </tr>\n",
       "    <tr>\n",
       "      <th>387</th>\n",
       "      <td>354</td>\n",
       "      <td>BanetteMega Banette</td>\n",
       "      <td>Ghost</td>\n",
       "      <td>NaN</td>\n",
       "      <td>555</td>\n",
       "      <td>64</td>\n",
       "      <td>165</td>\n",
       "      <td>75</td>\n",
       "      <td>93</td>\n",
       "      <td>83</td>\n",
       "      <td>75</td>\n",
       "      <td>3</td>\n",
       "      <td>False</td>\n",
       "    </tr>\n",
       "    <tr>\n",
       "      <th>454</th>\n",
       "      <td>409</td>\n",
       "      <td>Rampardos</td>\n",
       "      <td>Rock</td>\n",
       "      <td>NaN</td>\n",
       "      <td>495</td>\n",
       "      <td>97</td>\n",
       "      <td>165</td>\n",
       "      <td>60</td>\n",
       "      <td>65</td>\n",
       "      <td>50</td>\n",
       "      <td>58</td>\n",
       "      <td>4</td>\n",
       "      <td>False</td>\n",
       "    </tr>\n",
       "    <tr>\n",
       "      <th>268</th>\n",
       "      <td>248</td>\n",
       "      <td>TyranitarMega Tyranitar</td>\n",
       "      <td>Rock</td>\n",
       "      <td>Dark</td>\n",
       "      <td>700</td>\n",
       "      <td>100</td>\n",
       "      <td>164</td>\n",
       "      <td>150</td>\n",
       "      <td>95</td>\n",
       "      <td>120</td>\n",
       "      <td>71</td>\n",
       "      <td>2</td>\n",
       "      <td>False</td>\n",
       "    </tr>\n",
       "    <tr>\n",
       "      <th>313</th>\n",
       "      <td>289</td>\n",
       "      <td>Slaking</td>\n",
       "      <td>Normal</td>\n",
       "      <td>NaN</td>\n",
       "      <td>670</td>\n",
       "      <td>150</td>\n",
       "      <td>160</td>\n",
       "      <td>100</td>\n",
       "      <td>95</td>\n",
       "      <td>65</td>\n",
       "      <td>100</td>\n",
       "      <td>3</td>\n",
       "      <td>False</td>\n",
       "    </tr>\n",
       "    <tr>\n",
       "      <th>279</th>\n",
       "      <td>257</td>\n",
       "      <td>BlazikenMega Blaziken</td>\n",
       "      <td>Fire</td>\n",
       "      <td>Fighting</td>\n",
       "      <td>630</td>\n",
       "      <td>80</td>\n",
       "      <td>160</td>\n",
       "      <td>80</td>\n",
       "      <td>130</td>\n",
       "      <td>80</td>\n",
       "      <td>100</td>\n",
       "      <td>3</td>\n",
       "      <td>False</td>\n",
       "    </tr>\n",
       "    <tr>\n",
       "      <th>137</th>\n",
       "      <td>127</td>\n",
       "      <td>PinsirMega Pinsir</td>\n",
       "      <td>Bug</td>\n",
       "      <td>Flying</td>\n",
       "      <td>600</td>\n",
       "      <td>65</td>\n",
       "      <td>155</td>\n",
       "      <td>120</td>\n",
       "      <td>65</td>\n",
       "      <td>90</td>\n",
       "      <td>105</td>\n",
       "      <td>1</td>\n",
       "      <td>False</td>\n",
       "    </tr>\n",
       "    <tr>\n",
       "      <th>141</th>\n",
       "      <td>130</td>\n",
       "      <td>GyaradosMega Gyarados</td>\n",
       "      <td>Water</td>\n",
       "      <td>Dark</td>\n",
       "      <td>640</td>\n",
       "      <td>95</td>\n",
       "      <td>155</td>\n",
       "      <td>109</td>\n",
       "      <td>70</td>\n",
       "      <td>130</td>\n",
       "      <td>81</td>\n",
       "      <td>1</td>\n",
       "      <td>False</td>\n",
       "    </tr>\n",
       "  </tbody>\n",
       "</table>\n",
       "</div>"
      ],
      "text/plain": [
       "       #                     Name   Type 1    Type 2  Total   HP  Attack  \\\n",
       "232  214  HeracrossMega Heracross      Bug  Fighting    600   80     185   \n",
       "494  445    GarchompMega Garchomp   Dragon    Ground    700  108     170   \n",
       "527  475      GalladeMega Gallade  Psychic  Fighting    618   68     165   \n",
       "387  354      BanetteMega Banette    Ghost       NaN    555   64     165   \n",
       "454  409                Rampardos     Rock       NaN    495   97     165   \n",
       "268  248  TyranitarMega Tyranitar     Rock      Dark    700  100     164   \n",
       "313  289                  Slaking   Normal       NaN    670  150     160   \n",
       "279  257    BlazikenMega Blaziken     Fire  Fighting    630   80     160   \n",
       "137  127        PinsirMega Pinsir      Bug    Flying    600   65     155   \n",
       "141  130    GyaradosMega Gyarados    Water      Dark    640   95     155   \n",
       "\n",
       "     Defense  Sp. Atk  Sp. Def  Speed  Generation  Legendary  \n",
       "232      115       40      105     75           2      False  \n",
       "494      115      120       95     92           4      False  \n",
       "527       95       65      115    110           4      False  \n",
       "387       75       93       83     75           3      False  \n",
       "454       60       65       50     58           4      False  \n",
       "268      150       95      120     71           2      False  \n",
       "313      100       95       65    100           3      False  \n",
       "279       80      130       80    100           3      False  \n",
       "137      120       65       90    105           1      False  \n",
       "141      109       70      130     81           1      False  "
      ]
     },
     "execution_count": 14,
     "metadata": {},
     "output_type": "execute_result"
    }
   ],
   "source": [
    "# We would like to study non-legendary pokemons\n",
    "\n",
    "# The top-10 attack pokemons\n",
    "top_attack = df_non_legendary.sort_values(by=\"Attack\",ascending=False)[:10]\n",
    "top_attack"
   ]
  },
  {
   "cell_type": "code",
   "execution_count": 16,
   "metadata": {},
   "outputs": [
    {
     "data": {
      "text/html": [
       "<div>\n",
       "<style scoped>\n",
       "    .dataframe tbody tr th:only-of-type {\n",
       "        vertical-align: middle;\n",
       "    }\n",
       "\n",
       "    .dataframe tbody tr th {\n",
       "        vertical-align: top;\n",
       "    }\n",
       "\n",
       "    .dataframe thead th {\n",
       "        text-align: right;\n",
       "    }\n",
       "</style>\n",
       "<table border=\"1\" class=\"dataframe\">\n",
       "  <thead>\n",
       "    <tr style=\"text-align: right;\">\n",
       "      <th></th>\n",
       "      <th>#</th>\n",
       "      <th>Name</th>\n",
       "      <th>Type 1</th>\n",
       "      <th>Type 2</th>\n",
       "      <th>Total</th>\n",
       "      <th>HP</th>\n",
       "      <th>Attack</th>\n",
       "      <th>Defense</th>\n",
       "      <th>Sp. Atk</th>\n",
       "      <th>Sp. Def</th>\n",
       "      <th>Speed</th>\n",
       "      <th>Generation</th>\n",
       "      <th>Legendary</th>\n",
       "    </tr>\n",
       "  </thead>\n",
       "  <tbody>\n",
       "    <tr>\n",
       "      <th>71</th>\n",
       "      <td>65</td>\n",
       "      <td>AlakazamMega Alakazam</td>\n",
       "      <td>Psychic</td>\n",
       "      <td>NaN</td>\n",
       "      <td>590</td>\n",
       "      <td>55</td>\n",
       "      <td>50</td>\n",
       "      <td>65</td>\n",
       "      <td>175</td>\n",
       "      <td>95</td>\n",
       "      <td>150</td>\n",
       "      <td>1</td>\n",
       "      <td>False</td>\n",
       "    </tr>\n",
       "    <tr>\n",
       "      <th>102</th>\n",
       "      <td>94</td>\n",
       "      <td>GengarMega Gengar</td>\n",
       "      <td>Ghost</td>\n",
       "      <td>Poison</td>\n",
       "      <td>600</td>\n",
       "      <td>60</td>\n",
       "      <td>65</td>\n",
       "      <td>80</td>\n",
       "      <td>170</td>\n",
       "      <td>95</td>\n",
       "      <td>130</td>\n",
       "      <td>1</td>\n",
       "      <td>False</td>\n",
       "    </tr>\n",
       "    <tr>\n",
       "      <th>196</th>\n",
       "      <td>181</td>\n",
       "      <td>AmpharosMega Ampharos</td>\n",
       "      <td>Electric</td>\n",
       "      <td>Dragon</td>\n",
       "      <td>610</td>\n",
       "      <td>90</td>\n",
       "      <td>95</td>\n",
       "      <td>105</td>\n",
       "      <td>165</td>\n",
       "      <td>110</td>\n",
       "      <td>45</td>\n",
       "      <td>2</td>\n",
       "      <td>False</td>\n",
       "    </tr>\n",
       "    <tr>\n",
       "      <th>306</th>\n",
       "      <td>282</td>\n",
       "      <td>GardevoirMega Gardevoir</td>\n",
       "      <td>Psychic</td>\n",
       "      <td>Fairy</td>\n",
       "      <td>618</td>\n",
       "      <td>68</td>\n",
       "      <td>85</td>\n",
       "      <td>65</td>\n",
       "      <td>165</td>\n",
       "      <td>135</td>\n",
       "      <td>100</td>\n",
       "      <td>3</td>\n",
       "      <td>False</td>\n",
       "    </tr>\n",
       "    <tr>\n",
       "      <th>8</th>\n",
       "      <td>6</td>\n",
       "      <td>CharizardMega Charizard Y</td>\n",
       "      <td>Fire</td>\n",
       "      <td>Flying</td>\n",
       "      <td>634</td>\n",
       "      <td>78</td>\n",
       "      <td>104</td>\n",
       "      <td>78</td>\n",
       "      <td>159</td>\n",
       "      <td>115</td>\n",
       "      <td>100</td>\n",
       "      <td>1</td>\n",
       "      <td>False</td>\n",
       "    </tr>\n",
       "    <tr>\n",
       "      <th>750</th>\n",
       "      <td>681</td>\n",
       "      <td>AegislashBlade Forme</td>\n",
       "      <td>Steel</td>\n",
       "      <td>Ghost</td>\n",
       "      <td>520</td>\n",
       "      <td>60</td>\n",
       "      <td>150</td>\n",
       "      <td>50</td>\n",
       "      <td>150</td>\n",
       "      <td>50</td>\n",
       "      <td>60</td>\n",
       "      <td>6</td>\n",
       "      <td>False</td>\n",
       "    </tr>\n",
       "    <tr>\n",
       "      <th>275</th>\n",
       "      <td>254</td>\n",
       "      <td>SceptileMega Sceptile</td>\n",
       "      <td>Grass</td>\n",
       "      <td>Dragon</td>\n",
       "      <td>630</td>\n",
       "      <td>70</td>\n",
       "      <td>110</td>\n",
       "      <td>75</td>\n",
       "      <td>145</td>\n",
       "      <td>85</td>\n",
       "      <td>145</td>\n",
       "      <td>3</td>\n",
       "      <td>False</td>\n",
       "    </tr>\n",
       "    <tr>\n",
       "      <th>354</th>\n",
       "      <td>323</td>\n",
       "      <td>CameruptMega Camerupt</td>\n",
       "      <td>Fire</td>\n",
       "      <td>Ground</td>\n",
       "      <td>560</td>\n",
       "      <td>70</td>\n",
       "      <td>120</td>\n",
       "      <td>100</td>\n",
       "      <td>145</td>\n",
       "      <td>105</td>\n",
       "      <td>20</td>\n",
       "      <td>3</td>\n",
       "      <td>False</td>\n",
       "    </tr>\n",
       "    <tr>\n",
       "      <th>670</th>\n",
       "      <td>609</td>\n",
       "      <td>Chandelure</td>\n",
       "      <td>Ghost</td>\n",
       "      <td>Fire</td>\n",
       "      <td>520</td>\n",
       "      <td>60</td>\n",
       "      <td>55</td>\n",
       "      <td>90</td>\n",
       "      <td>145</td>\n",
       "      <td>90</td>\n",
       "      <td>80</td>\n",
       "      <td>5</td>\n",
       "      <td>False</td>\n",
       "    </tr>\n",
       "    <tr>\n",
       "      <th>248</th>\n",
       "      <td>229</td>\n",
       "      <td>HoundoomMega Houndoom</td>\n",
       "      <td>Dark</td>\n",
       "      <td>Fire</td>\n",
       "      <td>600</td>\n",
       "      <td>75</td>\n",
       "      <td>90</td>\n",
       "      <td>90</td>\n",
       "      <td>140</td>\n",
       "      <td>90</td>\n",
       "      <td>115</td>\n",
       "      <td>2</td>\n",
       "      <td>False</td>\n",
       "    </tr>\n",
       "  </tbody>\n",
       "</table>\n",
       "</div>"
      ],
      "text/plain": [
       "       #                       Name    Type 1  Type 2  Total  HP  Attack  \\\n",
       "71    65      AlakazamMega Alakazam   Psychic     NaN    590  55      50   \n",
       "102   94          GengarMega Gengar     Ghost  Poison    600  60      65   \n",
       "196  181      AmpharosMega Ampharos  Electric  Dragon    610  90      95   \n",
       "306  282    GardevoirMega Gardevoir   Psychic   Fairy    618  68      85   \n",
       "8      6  CharizardMega Charizard Y      Fire  Flying    634  78     104   \n",
       "750  681       AegislashBlade Forme     Steel   Ghost    520  60     150   \n",
       "275  254      SceptileMega Sceptile     Grass  Dragon    630  70     110   \n",
       "354  323      CameruptMega Camerupt      Fire  Ground    560  70     120   \n",
       "670  609                 Chandelure     Ghost    Fire    520  60      55   \n",
       "248  229      HoundoomMega Houndoom      Dark    Fire    600  75      90   \n",
       "\n",
       "     Defense  Sp. Atk  Sp. Def  Speed  Generation  Legendary  \n",
       "71        65      175       95    150           1      False  \n",
       "102       80      170       95    130           1      False  \n",
       "196      105      165      110     45           2      False  \n",
       "306       65      165      135    100           3      False  \n",
       "8         78      159      115    100           1      False  \n",
       "750       50      150       50     60           6      False  \n",
       "275       75      145       85    145           3      False  \n",
       "354      100      145      105     20           3      False  \n",
       "670       90      145       90     80           5      False  \n",
       "248       90      140       90    115           2      False  "
      ]
     },
     "execution_count": 16,
     "metadata": {},
     "output_type": "execute_result"
    }
   ],
   "source": [
    "# The top-10 special attack pokemons\n",
    "top_sp_attack = df_non_legendary.sort_values(by=\"Sp. Atk\",ascending=False)[:10]\n",
    "top_sp_attack"
   ]
  },
  {
   "cell_type": "code",
   "execution_count": 17,
   "metadata": {},
   "outputs": [
    {
     "data": {
      "text/html": [
       "<div>\n",
       "<style scoped>\n",
       "    .dataframe tbody tr th:only-of-type {\n",
       "        vertical-align: middle;\n",
       "    }\n",
       "\n",
       "    .dataframe tbody tr th {\n",
       "        vertical-align: top;\n",
       "    }\n",
       "\n",
       "    .dataframe thead th {\n",
       "        text-align: right;\n",
       "    }\n",
       "</style>\n",
       "<table border=\"1\" class=\"dataframe\">\n",
       "  <thead>\n",
       "    <tr style=\"text-align: right;\">\n",
       "      <th></th>\n",
       "      <th>#</th>\n",
       "      <th>Name</th>\n",
       "      <th>Type 1</th>\n",
       "      <th>Type 2</th>\n",
       "      <th>Total</th>\n",
       "      <th>HP</th>\n",
       "      <th>Attack</th>\n",
       "      <th>Defense</th>\n",
       "      <th>Sp. Atk</th>\n",
       "      <th>Sp. Def</th>\n",
       "      <th>Speed</th>\n",
       "      <th>Generation</th>\n",
       "      <th>Legendary</th>\n",
       "    </tr>\n",
       "  </thead>\n",
       "  <tbody>\n",
       "    <tr>\n",
       "      <th>333</th>\n",
       "      <td>306</td>\n",
       "      <td>AggronMega Aggron</td>\n",
       "      <td>Steel</td>\n",
       "      <td>NaN</td>\n",
       "      <td>630</td>\n",
       "      <td>70</td>\n",
       "      <td>140</td>\n",
       "      <td>230</td>\n",
       "      <td>60</td>\n",
       "      <td>80</td>\n",
       "      <td>50</td>\n",
       "      <td>3</td>\n",
       "      <td>False</td>\n",
       "    </tr>\n",
       "    <tr>\n",
       "      <th>224</th>\n",
       "      <td>208</td>\n",
       "      <td>SteelixMega Steelix</td>\n",
       "      <td>Steel</td>\n",
       "      <td>Ground</td>\n",
       "      <td>610</td>\n",
       "      <td>75</td>\n",
       "      <td>125</td>\n",
       "      <td>230</td>\n",
       "      <td>55</td>\n",
       "      <td>95</td>\n",
       "      <td>30</td>\n",
       "      <td>2</td>\n",
       "      <td>False</td>\n",
       "    </tr>\n",
       "    <tr>\n",
       "      <th>230</th>\n",
       "      <td>213</td>\n",
       "      <td>Shuckle</td>\n",
       "      <td>Bug</td>\n",
       "      <td>Rock</td>\n",
       "      <td>505</td>\n",
       "      <td>20</td>\n",
       "      <td>10</td>\n",
       "      <td>230</td>\n",
       "      <td>10</td>\n",
       "      <td>230</td>\n",
       "      <td>5</td>\n",
       "      <td>2</td>\n",
       "      <td>False</td>\n",
       "    </tr>\n",
       "    <tr>\n",
       "      <th>223</th>\n",
       "      <td>208</td>\n",
       "      <td>Steelix</td>\n",
       "      <td>Steel</td>\n",
       "      <td>Ground</td>\n",
       "      <td>510</td>\n",
       "      <td>75</td>\n",
       "      <td>85</td>\n",
       "      <td>200</td>\n",
       "      <td>55</td>\n",
       "      <td>65</td>\n",
       "      <td>30</td>\n",
       "      <td>2</td>\n",
       "      <td>False</td>\n",
       "    </tr>\n",
       "    <tr>\n",
       "      <th>789</th>\n",
       "      <td>713</td>\n",
       "      <td>Avalugg</td>\n",
       "      <td>Ice</td>\n",
       "      <td>NaN</td>\n",
       "      <td>514</td>\n",
       "      <td>95</td>\n",
       "      <td>117</td>\n",
       "      <td>184</td>\n",
       "      <td>44</td>\n",
       "      <td>46</td>\n",
       "      <td>28</td>\n",
       "      <td>6</td>\n",
       "      <td>False</td>\n",
       "    </tr>\n",
       "    <tr>\n",
       "      <th>332</th>\n",
       "      <td>306</td>\n",
       "      <td>Aggron</td>\n",
       "      <td>Steel</td>\n",
       "      <td>Rock</td>\n",
       "      <td>530</td>\n",
       "      <td>70</td>\n",
       "      <td>110</td>\n",
       "      <td>180</td>\n",
       "      <td>60</td>\n",
       "      <td>60</td>\n",
       "      <td>50</td>\n",
       "      <td>3</td>\n",
       "      <td>False</td>\n",
       "    </tr>\n",
       "    <tr>\n",
       "      <th>98</th>\n",
       "      <td>91</td>\n",
       "      <td>Cloyster</td>\n",
       "      <td>Water</td>\n",
       "      <td>Ice</td>\n",
       "      <td>525</td>\n",
       "      <td>50</td>\n",
       "      <td>95</td>\n",
       "      <td>180</td>\n",
       "      <td>85</td>\n",
       "      <td>45</td>\n",
       "      <td>70</td>\n",
       "      <td>1</td>\n",
       "      <td>False</td>\n",
       "    </tr>\n",
       "    <tr>\n",
       "      <th>87</th>\n",
       "      <td>80</td>\n",
       "      <td>SlowbroMega Slowbro</td>\n",
       "      <td>Water</td>\n",
       "      <td>Psychic</td>\n",
       "      <td>590</td>\n",
       "      <td>95</td>\n",
       "      <td>75</td>\n",
       "      <td>180</td>\n",
       "      <td>130</td>\n",
       "      <td>80</td>\n",
       "      <td>30</td>\n",
       "      <td>1</td>\n",
       "      <td>False</td>\n",
       "    </tr>\n",
       "    <tr>\n",
       "      <th>456</th>\n",
       "      <td>411</td>\n",
       "      <td>Bastiodon</td>\n",
       "      <td>Rock</td>\n",
       "      <td>Steel</td>\n",
       "      <td>495</td>\n",
       "      <td>60</td>\n",
       "      <td>52</td>\n",
       "      <td>168</td>\n",
       "      <td>47</td>\n",
       "      <td>138</td>\n",
       "      <td>30</td>\n",
       "      <td>4</td>\n",
       "      <td>False</td>\n",
       "    </tr>\n",
       "    <tr>\n",
       "      <th>103</th>\n",
       "      <td>95</td>\n",
       "      <td>Onix</td>\n",
       "      <td>Rock</td>\n",
       "      <td>Ground</td>\n",
       "      <td>385</td>\n",
       "      <td>35</td>\n",
       "      <td>45</td>\n",
       "      <td>160</td>\n",
       "      <td>30</td>\n",
       "      <td>45</td>\n",
       "      <td>70</td>\n",
       "      <td>1</td>\n",
       "      <td>False</td>\n",
       "    </tr>\n",
       "  </tbody>\n",
       "</table>\n",
       "</div>"
      ],
      "text/plain": [
       "       #                 Name Type 1   Type 2  Total  HP  Attack  Defense  \\\n",
       "333  306    AggronMega Aggron  Steel      NaN    630  70     140      230   \n",
       "224  208  SteelixMega Steelix  Steel   Ground    610  75     125      230   \n",
       "230  213              Shuckle    Bug     Rock    505  20      10      230   \n",
       "223  208              Steelix  Steel   Ground    510  75      85      200   \n",
       "789  713              Avalugg    Ice      NaN    514  95     117      184   \n",
       "332  306               Aggron  Steel     Rock    530  70     110      180   \n",
       "98    91             Cloyster  Water      Ice    525  50      95      180   \n",
       "87    80  SlowbroMega Slowbro  Water  Psychic    590  95      75      180   \n",
       "456  411            Bastiodon   Rock    Steel    495  60      52      168   \n",
       "103   95                 Onix   Rock   Ground    385  35      45      160   \n",
       "\n",
       "     Sp. Atk  Sp. Def  Speed  Generation  Legendary  \n",
       "333       60       80     50           3      False  \n",
       "224       55       95     30           2      False  \n",
       "230       10      230      5           2      False  \n",
       "223       55       65     30           2      False  \n",
       "789       44       46     28           6      False  \n",
       "332       60       60     50           3      False  \n",
       "98        85       45     70           1      False  \n",
       "87       130       80     30           1      False  \n",
       "456       47      138     30           4      False  \n",
       "103       30       45     70           1      False  "
      ]
     },
     "execution_count": 17,
     "metadata": {},
     "output_type": "execute_result"
    }
   ],
   "source": [
    "# The top-10 defense pokemons\n",
    "top_defense = df_non_legendary.sort_values(by=\"Defense\",ascending=False)[:10]\n",
    "top_defense"
   ]
  },
  {
   "cell_type": "code",
   "execution_count": 18,
   "metadata": {},
   "outputs": [
    {
     "data": {
      "text/html": [
       "<div>\n",
       "<style scoped>\n",
       "    .dataframe tbody tr th:only-of-type {\n",
       "        vertical-align: middle;\n",
       "    }\n",
       "\n",
       "    .dataframe tbody tr th {\n",
       "        vertical-align: top;\n",
       "    }\n",
       "\n",
       "    .dataframe thead th {\n",
       "        text-align: right;\n",
       "    }\n",
       "</style>\n",
       "<table border=\"1\" class=\"dataframe\">\n",
       "  <thead>\n",
       "    <tr style=\"text-align: right;\">\n",
       "      <th></th>\n",
       "      <th>#</th>\n",
       "      <th>Name</th>\n",
       "      <th>Type 1</th>\n",
       "      <th>Type 2</th>\n",
       "      <th>Total</th>\n",
       "      <th>HP</th>\n",
       "      <th>Attack</th>\n",
       "      <th>Defense</th>\n",
       "      <th>Sp. Atk</th>\n",
       "      <th>Sp. Def</th>\n",
       "      <th>Speed</th>\n",
       "      <th>Generation</th>\n",
       "      <th>Legendary</th>\n",
       "    </tr>\n",
       "  </thead>\n",
       "  <tbody>\n",
       "    <tr>\n",
       "      <th>230</th>\n",
       "      <td>213</td>\n",
       "      <td>Shuckle</td>\n",
       "      <td>Bug</td>\n",
       "      <td>Rock</td>\n",
       "      <td>505</td>\n",
       "      <td>20</td>\n",
       "      <td>10</td>\n",
       "      <td>230</td>\n",
       "      <td>10</td>\n",
       "      <td>230</td>\n",
       "      <td>5</td>\n",
       "      <td>2</td>\n",
       "      <td>False</td>\n",
       "    </tr>\n",
       "    <tr>\n",
       "      <th>739</th>\n",
       "      <td>671</td>\n",
       "      <td>Florges</td>\n",
       "      <td>Fairy</td>\n",
       "      <td>NaN</td>\n",
       "      <td>552</td>\n",
       "      <td>78</td>\n",
       "      <td>65</td>\n",
       "      <td>68</td>\n",
       "      <td>112</td>\n",
       "      <td>154</td>\n",
       "      <td>75</td>\n",
       "      <td>6</td>\n",
       "      <td>False</td>\n",
       "    </tr>\n",
       "    <tr>\n",
       "      <th>751</th>\n",
       "      <td>681</td>\n",
       "      <td>AegislashShield Forme</td>\n",
       "      <td>Steel</td>\n",
       "      <td>Ghost</td>\n",
       "      <td>520</td>\n",
       "      <td>60</td>\n",
       "      <td>50</td>\n",
       "      <td>150</td>\n",
       "      <td>50</td>\n",
       "      <td>150</td>\n",
       "      <td>60</td>\n",
       "      <td>6</td>\n",
       "      <td>False</td>\n",
       "    </tr>\n",
       "    <tr>\n",
       "      <th>528</th>\n",
       "      <td>476</td>\n",
       "      <td>Probopass</td>\n",
       "      <td>Rock</td>\n",
       "      <td>Steel</td>\n",
       "      <td>525</td>\n",
       "      <td>60</td>\n",
       "      <td>55</td>\n",
       "      <td>145</td>\n",
       "      <td>75</td>\n",
       "      <td>150</td>\n",
       "      <td>40</td>\n",
       "      <td>4</td>\n",
       "      <td>False</td>\n",
       "    </tr>\n",
       "    <tr>\n",
       "      <th>776</th>\n",
       "      <td>706</td>\n",
       "      <td>Goodra</td>\n",
       "      <td>Dragon</td>\n",
       "      <td>NaN</td>\n",
       "      <td>600</td>\n",
       "      <td>90</td>\n",
       "      <td>100</td>\n",
       "      <td>70</td>\n",
       "      <td>110</td>\n",
       "      <td>150</td>\n",
       "      <td>80</td>\n",
       "      <td>6</td>\n",
       "      <td>False</td>\n",
       "    </tr>\n",
       "    <tr>\n",
       "      <th>773</th>\n",
       "      <td>703</td>\n",
       "      <td>Carbink</td>\n",
       "      <td>Rock</td>\n",
       "      <td>Fairy</td>\n",
       "      <td>500</td>\n",
       "      <td>50</td>\n",
       "      <td>50</td>\n",
       "      <td>150</td>\n",
       "      <td>50</td>\n",
       "      <td>150</td>\n",
       "      <td>50</td>\n",
       "      <td>6</td>\n",
       "      <td>False</td>\n",
       "    </tr>\n",
       "    <tr>\n",
       "      <th>244</th>\n",
       "      <td>226</td>\n",
       "      <td>Mantine</td>\n",
       "      <td>Water</td>\n",
       "      <td>Flying</td>\n",
       "      <td>465</td>\n",
       "      <td>65</td>\n",
       "      <td>40</td>\n",
       "      <td>70</td>\n",
       "      <td>80</td>\n",
       "      <td>140</td>\n",
       "      <td>70</td>\n",
       "      <td>2</td>\n",
       "      <td>False</td>\n",
       "    </tr>\n",
       "    <tr>\n",
       "      <th>456</th>\n",
       "      <td>411</td>\n",
       "      <td>Bastiodon</td>\n",
       "      <td>Rock</td>\n",
       "      <td>Steel</td>\n",
       "      <td>495</td>\n",
       "      <td>60</td>\n",
       "      <td>52</td>\n",
       "      <td>168</td>\n",
       "      <td>47</td>\n",
       "      <td>138</td>\n",
       "      <td>30</td>\n",
       "      <td>4</td>\n",
       "      <td>False</td>\n",
       "    </tr>\n",
       "    <tr>\n",
       "      <th>529</th>\n",
       "      <td>477</td>\n",
       "      <td>Dusknoir</td>\n",
       "      <td>Ghost</td>\n",
       "      <td>NaN</td>\n",
       "      <td>525</td>\n",
       "      <td>45</td>\n",
       "      <td>100</td>\n",
       "      <td>135</td>\n",
       "      <td>65</td>\n",
       "      <td>135</td>\n",
       "      <td>45</td>\n",
       "      <td>4</td>\n",
       "      <td>False</td>\n",
       "    </tr>\n",
       "    <tr>\n",
       "      <th>261</th>\n",
       "      <td>242</td>\n",
       "      <td>Blissey</td>\n",
       "      <td>Normal</td>\n",
       "      <td>NaN</td>\n",
       "      <td>540</td>\n",
       "      <td>255</td>\n",
       "      <td>10</td>\n",
       "      <td>10</td>\n",
       "      <td>75</td>\n",
       "      <td>135</td>\n",
       "      <td>55</td>\n",
       "      <td>2</td>\n",
       "      <td>False</td>\n",
       "    </tr>\n",
       "  </tbody>\n",
       "</table>\n",
       "</div>"
      ],
      "text/plain": [
       "       #                   Name  Type 1  Type 2  Total   HP  Attack  Defense  \\\n",
       "230  213                Shuckle     Bug    Rock    505   20      10      230   \n",
       "739  671                Florges   Fairy     NaN    552   78      65       68   \n",
       "751  681  AegislashShield Forme   Steel   Ghost    520   60      50      150   \n",
       "528  476              Probopass    Rock   Steel    525   60      55      145   \n",
       "776  706                 Goodra  Dragon     NaN    600   90     100       70   \n",
       "773  703                Carbink    Rock   Fairy    500   50      50      150   \n",
       "244  226                Mantine   Water  Flying    465   65      40       70   \n",
       "456  411              Bastiodon    Rock   Steel    495   60      52      168   \n",
       "529  477               Dusknoir   Ghost     NaN    525   45     100      135   \n",
       "261  242                Blissey  Normal     NaN    540  255      10       10   \n",
       "\n",
       "     Sp. Atk  Sp. Def  Speed  Generation  Legendary  \n",
       "230       10      230      5           2      False  \n",
       "739      112      154     75           6      False  \n",
       "751       50      150     60           6      False  \n",
       "528       75      150     40           4      False  \n",
       "776      110      150     80           6      False  \n",
       "773       50      150     50           6      False  \n",
       "244       80      140     70           2      False  \n",
       "456       47      138     30           4      False  \n",
       "529       65      135     45           4      False  \n",
       "261       75      135     55           2      False  "
      ]
     },
     "execution_count": 18,
     "metadata": {},
     "output_type": "execute_result"
    }
   ],
   "source": [
    "# The top-10 special defense pokemons\n",
    "top_sp_defense = df_non_legendary.sort_values(by=\"Sp. Def\",ascending=False)[:10]\n",
    "top_sp_defense"
   ]
  },
  {
   "cell_type": "code",
   "execution_count": 20,
   "metadata": {},
   "outputs": [
    {
     "data": {
      "text/html": [
       "<div>\n",
       "<style scoped>\n",
       "    .dataframe tbody tr th:only-of-type {\n",
       "        vertical-align: middle;\n",
       "    }\n",
       "\n",
       "    .dataframe tbody tr th {\n",
       "        vertical-align: top;\n",
       "    }\n",
       "\n",
       "    .dataframe thead th {\n",
       "        text-align: right;\n",
       "    }\n",
       "</style>\n",
       "<table border=\"1\" class=\"dataframe\">\n",
       "  <thead>\n",
       "    <tr style=\"text-align: right;\">\n",
       "      <th></th>\n",
       "      <th>#</th>\n",
       "      <th>Name</th>\n",
       "      <th>Type 1</th>\n",
       "      <th>Type 2</th>\n",
       "      <th>Total</th>\n",
       "      <th>HP</th>\n",
       "      <th>Attack</th>\n",
       "      <th>Defense</th>\n",
       "      <th>Sp. Atk</th>\n",
       "      <th>Sp. Def</th>\n",
       "      <th>Speed</th>\n",
       "      <th>Generation</th>\n",
       "      <th>Legendary</th>\n",
       "    </tr>\n",
       "  </thead>\n",
       "  <tbody>\n",
       "    <tr>\n",
       "      <th>261</th>\n",
       "      <td>242</td>\n",
       "      <td>Blissey</td>\n",
       "      <td>Normal</td>\n",
       "      <td>NaN</td>\n",
       "      <td>540</td>\n",
       "      <td>255</td>\n",
       "      <td>10</td>\n",
       "      <td>10</td>\n",
       "      <td>75</td>\n",
       "      <td>135</td>\n",
       "      <td>55</td>\n",
       "      <td>2</td>\n",
       "      <td>False</td>\n",
       "    </tr>\n",
       "    <tr>\n",
       "      <th>121</th>\n",
       "      <td>113</td>\n",
       "      <td>Chansey</td>\n",
       "      <td>Normal</td>\n",
       "      <td>NaN</td>\n",
       "      <td>450</td>\n",
       "      <td>250</td>\n",
       "      <td>5</td>\n",
       "      <td>5</td>\n",
       "      <td>35</td>\n",
       "      <td>105</td>\n",
       "      <td>50</td>\n",
       "      <td>1</td>\n",
       "      <td>False</td>\n",
       "    </tr>\n",
       "    <tr>\n",
       "      <th>217</th>\n",
       "      <td>202</td>\n",
       "      <td>Wobbuffet</td>\n",
       "      <td>Psychic</td>\n",
       "      <td>NaN</td>\n",
       "      <td>405</td>\n",
       "      <td>190</td>\n",
       "      <td>33</td>\n",
       "      <td>58</td>\n",
       "      <td>33</td>\n",
       "      <td>58</td>\n",
       "      <td>33</td>\n",
       "      <td>2</td>\n",
       "      <td>False</td>\n",
       "    </tr>\n",
       "    <tr>\n",
       "      <th>351</th>\n",
       "      <td>321</td>\n",
       "      <td>Wailord</td>\n",
       "      <td>Water</td>\n",
       "      <td>NaN</td>\n",
       "      <td>500</td>\n",
       "      <td>170</td>\n",
       "      <td>90</td>\n",
       "      <td>45</td>\n",
       "      <td>90</td>\n",
       "      <td>45</td>\n",
       "      <td>60</td>\n",
       "      <td>3</td>\n",
       "      <td>False</td>\n",
       "    </tr>\n",
       "    <tr>\n",
       "      <th>655</th>\n",
       "      <td>594</td>\n",
       "      <td>Alomomola</td>\n",
       "      <td>Water</td>\n",
       "      <td>NaN</td>\n",
       "      <td>470</td>\n",
       "      <td>165</td>\n",
       "      <td>75</td>\n",
       "      <td>80</td>\n",
       "      <td>40</td>\n",
       "      <td>45</td>\n",
       "      <td>65</td>\n",
       "      <td>5</td>\n",
       "      <td>False</td>\n",
       "    </tr>\n",
       "    <tr>\n",
       "      <th>155</th>\n",
       "      <td>143</td>\n",
       "      <td>Snorlax</td>\n",
       "      <td>Normal</td>\n",
       "      <td>NaN</td>\n",
       "      <td>540</td>\n",
       "      <td>160</td>\n",
       "      <td>110</td>\n",
       "      <td>65</td>\n",
       "      <td>65</td>\n",
       "      <td>110</td>\n",
       "      <td>30</td>\n",
       "      <td>1</td>\n",
       "      <td>False</td>\n",
       "    </tr>\n",
       "    <tr>\n",
       "      <th>473</th>\n",
       "      <td>426</td>\n",
       "      <td>Drifblim</td>\n",
       "      <td>Ghost</td>\n",
       "      <td>Flying</td>\n",
       "      <td>498</td>\n",
       "      <td>150</td>\n",
       "      <td>80</td>\n",
       "      <td>44</td>\n",
       "      <td>90</td>\n",
       "      <td>54</td>\n",
       "      <td>80</td>\n",
       "      <td>4</td>\n",
       "      <td>False</td>\n",
       "    </tr>\n",
       "    <tr>\n",
       "      <th>313</th>\n",
       "      <td>289</td>\n",
       "      <td>Slaking</td>\n",
       "      <td>Normal</td>\n",
       "      <td>NaN</td>\n",
       "      <td>670</td>\n",
       "      <td>150</td>\n",
       "      <td>160</td>\n",
       "      <td>100</td>\n",
       "      <td>95</td>\n",
       "      <td>65</td>\n",
       "      <td>100</td>\n",
       "      <td>3</td>\n",
       "      <td>False</td>\n",
       "    </tr>\n",
       "    <tr>\n",
       "      <th>321</th>\n",
       "      <td>297</td>\n",
       "      <td>Hariyama</td>\n",
       "      <td>Fighting</td>\n",
       "      <td>NaN</td>\n",
       "      <td>474</td>\n",
       "      <td>144</td>\n",
       "      <td>120</td>\n",
       "      <td>60</td>\n",
       "      <td>40</td>\n",
       "      <td>60</td>\n",
       "      <td>50</td>\n",
       "      <td>3</td>\n",
       "      <td>False</td>\n",
       "    </tr>\n",
       "    <tr>\n",
       "      <th>45</th>\n",
       "      <td>40</td>\n",
       "      <td>Wigglytuff</td>\n",
       "      <td>Normal</td>\n",
       "      <td>Fairy</td>\n",
       "      <td>435</td>\n",
       "      <td>140</td>\n",
       "      <td>70</td>\n",
       "      <td>45</td>\n",
       "      <td>85</td>\n",
       "      <td>50</td>\n",
       "      <td>45</td>\n",
       "      <td>1</td>\n",
       "      <td>False</td>\n",
       "    </tr>\n",
       "  </tbody>\n",
       "</table>\n",
       "</div>"
      ],
      "text/plain": [
       "       #        Name    Type 1  Type 2  Total   HP  Attack  Defense  Sp. Atk  \\\n",
       "261  242     Blissey    Normal     NaN    540  255      10       10       75   \n",
       "121  113     Chansey    Normal     NaN    450  250       5        5       35   \n",
       "217  202   Wobbuffet   Psychic     NaN    405  190      33       58       33   \n",
       "351  321     Wailord     Water     NaN    500  170      90       45       90   \n",
       "655  594   Alomomola     Water     NaN    470  165      75       80       40   \n",
       "155  143     Snorlax    Normal     NaN    540  160     110       65       65   \n",
       "473  426    Drifblim     Ghost  Flying    498  150      80       44       90   \n",
       "313  289     Slaking    Normal     NaN    670  150     160      100       95   \n",
       "321  297    Hariyama  Fighting     NaN    474  144     120       60       40   \n",
       "45    40  Wigglytuff    Normal   Fairy    435  140      70       45       85   \n",
       "\n",
       "     Sp. Def  Speed  Generation  Legendary  \n",
       "261      135     55           2      False  \n",
       "121      105     50           1      False  \n",
       "217       58     33           2      False  \n",
       "351       45     60           3      False  \n",
       "655       45     65           5      False  \n",
       "155      110     30           1      False  \n",
       "473       54     80           4      False  \n",
       "313       65    100           3      False  \n",
       "321       60     50           3      False  \n",
       "45        50     45           1      False  "
      ]
     },
     "execution_count": 20,
     "metadata": {},
     "output_type": "execute_result"
    }
   ],
   "source": [
    "# The top-10 hp pokemons\n",
    "top_hp = df_non_legendary.sort_values(by=\"HP\",ascending=False)[:10]\n",
    "top_hp"
   ]
  },
  {
   "cell_type": "markdown",
   "metadata": {},
   "source": [
    "# 各属性的宝可梦均值"
   ]
  },
  {
   "cell_type": "code",
   "execution_count": 23,
   "metadata": {},
   "outputs": [
    {
     "data": {
      "text/plain": [
       "['Grass',\n",
       " 'Fire',\n",
       " 'Water',\n",
       " 'Bug',\n",
       " 'Normal',\n",
       " 'Poison',\n",
       " 'Electric',\n",
       " 'Ground',\n",
       " 'Fairy',\n",
       " 'Fighting',\n",
       " 'Psychic',\n",
       " 'Rock',\n",
       " 'Ghost',\n",
       " 'Ice',\n",
       " 'Dragon',\n",
       " 'Dark',\n",
       " 'Steel',\n",
       " 'Flying']"
      ]
     },
     "execution_count": 23,
     "metadata": {},
     "output_type": "execute_result"
    }
   ],
   "source": [
    "# First we need to know what types of pokemon do we have.\n",
    "types_list = df_non_legendary[\"Type 1\"].unique().tolist()\n",
    "types_list"
   ]
  },
  {
   "cell_type": "code",
   "execution_count": 24,
   "metadata": {},
   "outputs": [
    {
     "data": {
      "text/plain": [
       "18"
      ]
     },
     "execution_count": 24,
     "metadata": {},
     "output_type": "execute_result"
    }
   ],
   "source": [
    "# How many types of pokemon are there?\n",
    "type_count = len(types_list)\n",
    "type_count"
   ]
  },
  {
   "cell_type": "code",
   "execution_count": 29,
   "metadata": {},
   "outputs": [
    {
     "data": {
      "text/plain": [
       "Type 1\n",
       "Bug          69\n",
       "Dark         29\n",
       "Dragon       20\n",
       "Electric     40\n",
       "Fairy        16\n",
       "Fighting     27\n",
       "Fire         47\n",
       "Flying        2\n",
       "Ghost        30\n",
       "Grass        67\n",
       "Ground       28\n",
       "Ice          22\n",
       "Normal       96\n",
       "Poison       28\n",
       "Psychic      43\n",
       "Rock         40\n",
       "Steel        23\n",
       "Water       108\n",
       "Name: #, dtype: int64"
      ]
     },
     "execution_count": 29,
     "metadata": {},
     "output_type": "execute_result"
    }
   ],
   "source": [
    "# How many pokemons are there for each type?\n",
    "pokemon_type_count = df_non_legendary.groupby(\"Type 1\").count()[\"#\"]\n",
    "pokemon_type_count"
   ]
  },
  {
   "cell_type": "code",
   "execution_count": 32,
   "metadata": {},
   "outputs": [
    {
     "data": {
      "text/plain": [
       "Type 1\n",
       "Water       108\n",
       "Normal       96\n",
       "Bug          69\n",
       "Grass        67\n",
       "Fire         47\n",
       "Psychic      43\n",
       "Rock         40\n",
       "Electric     40\n",
       "Ghost        30\n",
       "Dark         29\n",
       "Poison       28\n",
       "Ground       28\n",
       "Fighting     27\n",
       "Steel        23\n",
       "Ice          22\n",
       "Dragon       20\n",
       "Fairy        16\n",
       "Flying        2\n",
       "Name: #, dtype: int64"
      ]
     },
     "execution_count": 32,
     "metadata": {},
     "output_type": "execute_result"
    }
   ],
   "source": [
    "#How about if I want to sort them in descending order?\n",
    "pokemon_type_count_sorted = pokemon_type_count.sort_values(ascending=False)\n",
    "pokemon_type_count_sorted"
   ]
  },
  {
   "cell_type": "code",
   "execution_count": 38,
   "metadata": {},
   "outputs": [
    {
     "data": {
      "text/html": [
       "<div>\n",
       "<style scoped>\n",
       "    .dataframe tbody tr th:only-of-type {\n",
       "        vertical-align: middle;\n",
       "    }\n",
       "\n",
       "    .dataframe tbody tr th {\n",
       "        vertical-align: top;\n",
       "    }\n",
       "\n",
       "    .dataframe thead th {\n",
       "        text-align: right;\n",
       "    }\n",
       "</style>\n",
       "<table border=\"1\" class=\"dataframe\">\n",
       "  <thead>\n",
       "    <tr style=\"text-align: right;\">\n",
       "      <th></th>\n",
       "      <th>Total</th>\n",
       "      <th>HP</th>\n",
       "      <th>Attack</th>\n",
       "      <th>Defense</th>\n",
       "      <th>Sp. Atk</th>\n",
       "      <th>Sp. Def</th>\n",
       "      <th>Speed</th>\n",
       "    </tr>\n",
       "    <tr>\n",
       "      <th>Type 1</th>\n",
       "      <th></th>\n",
       "      <th></th>\n",
       "      <th></th>\n",
       "      <th></th>\n",
       "      <th></th>\n",
       "      <th></th>\n",
       "      <th></th>\n",
       "    </tr>\n",
       "  </thead>\n",
       "  <tbody>\n",
       "    <tr>\n",
       "      <th>Bug</th>\n",
       "      <td>378.927536</td>\n",
       "      <td>56.884058</td>\n",
       "      <td>70.971014</td>\n",
       "      <td>70.724638</td>\n",
       "      <td>53.869565</td>\n",
       "      <td>64.797101</td>\n",
       "      <td>61.681159</td>\n",
       "    </tr>\n",
       "    <tr>\n",
       "      <th>Dark</th>\n",
       "      <td>432.344828</td>\n",
       "      <td>64.655172</td>\n",
       "      <td>86.862069</td>\n",
       "      <td>68.689655</td>\n",
       "      <td>70.620690</td>\n",
       "      <td>67.827586</td>\n",
       "      <td>73.689655</td>\n",
       "    </tr>\n",
       "    <tr>\n",
       "      <th>Dragon</th>\n",
       "      <td>476.850000</td>\n",
       "      <td>72.650000</td>\n",
       "      <td>103.400000</td>\n",
       "      <td>78.150000</td>\n",
       "      <td>72.900000</td>\n",
       "      <td>77.400000</td>\n",
       "      <td>72.350000</td>\n",
       "    </tr>\n",
       "    <tr>\n",
       "      <th>Electric</th>\n",
       "      <td>429.750000</td>\n",
       "      <td>57.325000</td>\n",
       "      <td>66.125000</td>\n",
       "      <td>65.425000</td>\n",
       "      <td>86.275000</td>\n",
       "      <td>72.325000</td>\n",
       "      <td>82.275000</td>\n",
       "    </tr>\n",
       "    <tr>\n",
       "      <th>Fairy</th>\n",
       "      <td>396.500000</td>\n",
       "      <td>70.875000</td>\n",
       "      <td>57.187500</td>\n",
       "      <td>63.875000</td>\n",
       "      <td>75.250000</td>\n",
       "      <td>83.875000</td>\n",
       "      <td>45.437500</td>\n",
       "    </tr>\n",
       "    <tr>\n",
       "      <th>Fighting</th>\n",
       "      <td>416.444444</td>\n",
       "      <td>69.851852</td>\n",
       "      <td>96.777778</td>\n",
       "      <td>65.925926</td>\n",
       "      <td>53.111111</td>\n",
       "      <td>64.703704</td>\n",
       "      <td>66.074074</td>\n",
       "    </tr>\n",
       "    <tr>\n",
       "      <th>Fire</th>\n",
       "      <td>442.127660</td>\n",
       "      <td>67.085106</td>\n",
       "      <td>82.191489</td>\n",
       "      <td>64.531915</td>\n",
       "      <td>86.000000</td>\n",
       "      <td>69.042553</td>\n",
       "      <td>73.276596</td>\n",
       "    </tr>\n",
       "    <tr>\n",
       "      <th>Flying</th>\n",
       "      <td>390.000000</td>\n",
       "      <td>62.500000</td>\n",
       "      <td>50.000000</td>\n",
       "      <td>57.500000</td>\n",
       "      <td>71.000000</td>\n",
       "      <td>60.000000</td>\n",
       "      <td>89.000000</td>\n",
       "    </tr>\n",
       "    <tr>\n",
       "      <th>Ghost</th>\n",
       "      <td>423.533333</td>\n",
       "      <td>58.733333</td>\n",
       "      <td>71.366667</td>\n",
       "      <td>79.266667</td>\n",
       "      <td>77.300000</td>\n",
       "      <td>74.233333</td>\n",
       "      <td>62.633333</td>\n",
       "    </tr>\n",
       "    <tr>\n",
       "      <th>Grass</th>\n",
       "      <td>413.432836</td>\n",
       "      <td>65.940299</td>\n",
       "      <td>72.119403</td>\n",
       "      <td>70.283582</td>\n",
       "      <td>76.343284</td>\n",
       "      <td>69.044776</td>\n",
       "      <td>59.701493</td>\n",
       "    </tr>\n",
       "    <tr>\n",
       "      <th>Ground</th>\n",
       "      <td>405.714286</td>\n",
       "      <td>70.821429</td>\n",
       "      <td>88.000000</td>\n",
       "      <td>79.821429</td>\n",
       "      <td>47.750000</td>\n",
       "      <td>59.571429</td>\n",
       "      <td>59.750000</td>\n",
       "    </tr>\n",
       "    <tr>\n",
       "      <th>Ice</th>\n",
       "      <td>420.136364</td>\n",
       "      <td>70.818182</td>\n",
       "      <td>73.227273</td>\n",
       "      <td>68.818182</td>\n",
       "      <td>75.727273</td>\n",
       "      <td>68.454545</td>\n",
       "      <td>63.090909</td>\n",
       "    </tr>\n",
       "    <tr>\n",
       "      <th>Normal</th>\n",
       "      <td>395.572917</td>\n",
       "      <td>76.489583</td>\n",
       "      <td>72.083333</td>\n",
       "      <td>58.697917</td>\n",
       "      <td>54.895833</td>\n",
       "      <td>62.656250</td>\n",
       "      <td>70.750000</td>\n",
       "    </tr>\n",
       "    <tr>\n",
       "      <th>Poison</th>\n",
       "      <td>399.142857</td>\n",
       "      <td>67.250000</td>\n",
       "      <td>74.678571</td>\n",
       "      <td>68.821429</td>\n",
       "      <td>60.428571</td>\n",
       "      <td>64.392857</td>\n",
       "      <td>63.571429</td>\n",
       "    </tr>\n",
       "    <tr>\n",
       "      <th>Psychic</th>\n",
       "      <td>423.000000</td>\n",
       "      <td>67.720930</td>\n",
       "      <td>54.953488</td>\n",
       "      <td>61.000000</td>\n",
       "      <td>88.302326</td>\n",
       "      <td>80.674419</td>\n",
       "      <td>70.348837</td>\n",
       "    </tr>\n",
       "    <tr>\n",
       "      <th>Rock</th>\n",
       "      <td>437.625000</td>\n",
       "      <td>65.125000</td>\n",
       "      <td>89.925000</td>\n",
       "      <td>97.125000</td>\n",
       "      <td>60.125000</td>\n",
       "      <td>71.775000</td>\n",
       "      <td>53.550000</td>\n",
       "    </tr>\n",
       "    <tr>\n",
       "      <th>Steel</th>\n",
       "      <td>466.434783</td>\n",
       "      <td>60.434783</td>\n",
       "      <td>92.086957</td>\n",
       "      <td>126.652174</td>\n",
       "      <td>61.217391</td>\n",
       "      <td>76.304348</td>\n",
       "      <td>49.739130</td>\n",
       "    </tr>\n",
       "    <tr>\n",
       "      <th>Water</th>\n",
       "      <td>421.398148</td>\n",
       "      <td>71.120370</td>\n",
       "      <td>72.777778</td>\n",
       "      <td>71.990741</td>\n",
       "      <td>72.305556</td>\n",
       "      <td>68.175926</td>\n",
       "      <td>65.027778</td>\n",
       "    </tr>\n",
       "  </tbody>\n",
       "</table>\n",
       "</div>"
      ],
      "text/plain": [
       "               Total         HP      Attack     Defense    Sp. Atk    Sp. Def  \\\n",
       "Type 1                                                                          \n",
       "Bug       378.927536  56.884058   70.971014   70.724638  53.869565  64.797101   \n",
       "Dark      432.344828  64.655172   86.862069   68.689655  70.620690  67.827586   \n",
       "Dragon    476.850000  72.650000  103.400000   78.150000  72.900000  77.400000   \n",
       "Electric  429.750000  57.325000   66.125000   65.425000  86.275000  72.325000   \n",
       "Fairy     396.500000  70.875000   57.187500   63.875000  75.250000  83.875000   \n",
       "Fighting  416.444444  69.851852   96.777778   65.925926  53.111111  64.703704   \n",
       "Fire      442.127660  67.085106   82.191489   64.531915  86.000000  69.042553   \n",
       "Flying    390.000000  62.500000   50.000000   57.500000  71.000000  60.000000   \n",
       "Ghost     423.533333  58.733333   71.366667   79.266667  77.300000  74.233333   \n",
       "Grass     413.432836  65.940299   72.119403   70.283582  76.343284  69.044776   \n",
       "Ground    405.714286  70.821429   88.000000   79.821429  47.750000  59.571429   \n",
       "Ice       420.136364  70.818182   73.227273   68.818182  75.727273  68.454545   \n",
       "Normal    395.572917  76.489583   72.083333   58.697917  54.895833  62.656250   \n",
       "Poison    399.142857  67.250000   74.678571   68.821429  60.428571  64.392857   \n",
       "Psychic   423.000000  67.720930   54.953488   61.000000  88.302326  80.674419   \n",
       "Rock      437.625000  65.125000   89.925000   97.125000  60.125000  71.775000   \n",
       "Steel     466.434783  60.434783   92.086957  126.652174  61.217391  76.304348   \n",
       "Water     421.398148  71.120370   72.777778   71.990741  72.305556  68.175926   \n",
       "\n",
       "              Speed  \n",
       "Type 1               \n",
       "Bug       61.681159  \n",
       "Dark      73.689655  \n",
       "Dragon    72.350000  \n",
       "Electric  82.275000  \n",
       "Fairy     45.437500  \n",
       "Fighting  66.074074  \n",
       "Fire      73.276596  \n",
       "Flying    89.000000  \n",
       "Ghost     62.633333  \n",
       "Grass     59.701493  \n",
       "Ground    59.750000  \n",
       "Ice       63.090909  \n",
       "Normal    70.750000  \n",
       "Poison    63.571429  \n",
       "Psychic   70.348837  \n",
       "Rock      53.550000  \n",
       "Steel     49.739130  \n",
       "Water     65.027778  "
      ]
     },
     "execution_count": 38,
     "metadata": {},
     "output_type": "execute_result"
    }
   ],
   "source": [
    "pokemon_type_average = df_non_legendary.groupby(\"Type 1\").mean()[[\"Total\",\"HP\",\"Attack\",\"Defense\",\"Sp. Atk\",\"Sp. Def\",\"Speed\"]]\n",
    "pokemon_type_average"
   ]
  },
  {
   "cell_type": "code",
   "execution_count": 40,
   "metadata": {},
   "outputs": [
    {
     "data": {
      "text/html": [
       "<div>\n",
       "<style scoped>\n",
       "    .dataframe tbody tr th:only-of-type {\n",
       "        vertical-align: middle;\n",
       "    }\n",
       "\n",
       "    .dataframe tbody tr th {\n",
       "        vertical-align: top;\n",
       "    }\n",
       "\n",
       "    .dataframe thead th {\n",
       "        text-align: right;\n",
       "    }\n",
       "</style>\n",
       "<table border=\"1\" class=\"dataframe\">\n",
       "  <thead>\n",
       "    <tr style=\"text-align: right;\">\n",
       "      <th></th>\n",
       "      <th>Total</th>\n",
       "      <th>HP</th>\n",
       "      <th>Attack</th>\n",
       "      <th>Defense</th>\n",
       "      <th>Sp. Atk</th>\n",
       "      <th>Sp. Def</th>\n",
       "      <th>Speed</th>\n",
       "    </tr>\n",
       "    <tr>\n",
       "      <th>Type 1</th>\n",
       "      <th></th>\n",
       "      <th></th>\n",
       "      <th></th>\n",
       "      <th></th>\n",
       "      <th></th>\n",
       "      <th></th>\n",
       "      <th></th>\n",
       "    </tr>\n",
       "  </thead>\n",
       "  <tbody>\n",
       "    <tr>\n",
       "      <th>Dragon</th>\n",
       "      <td>476.850000</td>\n",
       "      <td>72.650000</td>\n",
       "      <td>103.400000</td>\n",
       "      <td>78.150000</td>\n",
       "      <td>72.900000</td>\n",
       "      <td>77.400000</td>\n",
       "      <td>72.350000</td>\n",
       "    </tr>\n",
       "    <tr>\n",
       "      <th>Steel</th>\n",
       "      <td>466.434783</td>\n",
       "      <td>60.434783</td>\n",
       "      <td>92.086957</td>\n",
       "      <td>126.652174</td>\n",
       "      <td>61.217391</td>\n",
       "      <td>76.304348</td>\n",
       "      <td>49.739130</td>\n",
       "    </tr>\n",
       "    <tr>\n",
       "      <th>Fire</th>\n",
       "      <td>442.127660</td>\n",
       "      <td>67.085106</td>\n",
       "      <td>82.191489</td>\n",
       "      <td>64.531915</td>\n",
       "      <td>86.000000</td>\n",
       "      <td>69.042553</td>\n",
       "      <td>73.276596</td>\n",
       "    </tr>\n",
       "    <tr>\n",
       "      <th>Rock</th>\n",
       "      <td>437.625000</td>\n",
       "      <td>65.125000</td>\n",
       "      <td>89.925000</td>\n",
       "      <td>97.125000</td>\n",
       "      <td>60.125000</td>\n",
       "      <td>71.775000</td>\n",
       "      <td>53.550000</td>\n",
       "    </tr>\n",
       "    <tr>\n",
       "      <th>Dark</th>\n",
       "      <td>432.344828</td>\n",
       "      <td>64.655172</td>\n",
       "      <td>86.862069</td>\n",
       "      <td>68.689655</td>\n",
       "      <td>70.620690</td>\n",
       "      <td>67.827586</td>\n",
       "      <td>73.689655</td>\n",
       "    </tr>\n",
       "    <tr>\n",
       "      <th>Electric</th>\n",
       "      <td>429.750000</td>\n",
       "      <td>57.325000</td>\n",
       "      <td>66.125000</td>\n",
       "      <td>65.425000</td>\n",
       "      <td>86.275000</td>\n",
       "      <td>72.325000</td>\n",
       "      <td>82.275000</td>\n",
       "    </tr>\n",
       "    <tr>\n",
       "      <th>Ghost</th>\n",
       "      <td>423.533333</td>\n",
       "      <td>58.733333</td>\n",
       "      <td>71.366667</td>\n",
       "      <td>79.266667</td>\n",
       "      <td>77.300000</td>\n",
       "      <td>74.233333</td>\n",
       "      <td>62.633333</td>\n",
       "    </tr>\n",
       "    <tr>\n",
       "      <th>Psychic</th>\n",
       "      <td>423.000000</td>\n",
       "      <td>67.720930</td>\n",
       "      <td>54.953488</td>\n",
       "      <td>61.000000</td>\n",
       "      <td>88.302326</td>\n",
       "      <td>80.674419</td>\n",
       "      <td>70.348837</td>\n",
       "    </tr>\n",
       "    <tr>\n",
       "      <th>Water</th>\n",
       "      <td>421.398148</td>\n",
       "      <td>71.120370</td>\n",
       "      <td>72.777778</td>\n",
       "      <td>71.990741</td>\n",
       "      <td>72.305556</td>\n",
       "      <td>68.175926</td>\n",
       "      <td>65.027778</td>\n",
       "    </tr>\n",
       "    <tr>\n",
       "      <th>Ice</th>\n",
       "      <td>420.136364</td>\n",
       "      <td>70.818182</td>\n",
       "      <td>73.227273</td>\n",
       "      <td>68.818182</td>\n",
       "      <td>75.727273</td>\n",
       "      <td>68.454545</td>\n",
       "      <td>63.090909</td>\n",
       "    </tr>\n",
       "    <tr>\n",
       "      <th>Fighting</th>\n",
       "      <td>416.444444</td>\n",
       "      <td>69.851852</td>\n",
       "      <td>96.777778</td>\n",
       "      <td>65.925926</td>\n",
       "      <td>53.111111</td>\n",
       "      <td>64.703704</td>\n",
       "      <td>66.074074</td>\n",
       "    </tr>\n",
       "    <tr>\n",
       "      <th>Grass</th>\n",
       "      <td>413.432836</td>\n",
       "      <td>65.940299</td>\n",
       "      <td>72.119403</td>\n",
       "      <td>70.283582</td>\n",
       "      <td>76.343284</td>\n",
       "      <td>69.044776</td>\n",
       "      <td>59.701493</td>\n",
       "    </tr>\n",
       "    <tr>\n",
       "      <th>Ground</th>\n",
       "      <td>405.714286</td>\n",
       "      <td>70.821429</td>\n",
       "      <td>88.000000</td>\n",
       "      <td>79.821429</td>\n",
       "      <td>47.750000</td>\n",
       "      <td>59.571429</td>\n",
       "      <td>59.750000</td>\n",
       "    </tr>\n",
       "    <tr>\n",
       "      <th>Poison</th>\n",
       "      <td>399.142857</td>\n",
       "      <td>67.250000</td>\n",
       "      <td>74.678571</td>\n",
       "      <td>68.821429</td>\n",
       "      <td>60.428571</td>\n",
       "      <td>64.392857</td>\n",
       "      <td>63.571429</td>\n",
       "    </tr>\n",
       "    <tr>\n",
       "      <th>Fairy</th>\n",
       "      <td>396.500000</td>\n",
       "      <td>70.875000</td>\n",
       "      <td>57.187500</td>\n",
       "      <td>63.875000</td>\n",
       "      <td>75.250000</td>\n",
       "      <td>83.875000</td>\n",
       "      <td>45.437500</td>\n",
       "    </tr>\n",
       "    <tr>\n",
       "      <th>Normal</th>\n",
       "      <td>395.572917</td>\n",
       "      <td>76.489583</td>\n",
       "      <td>72.083333</td>\n",
       "      <td>58.697917</td>\n",
       "      <td>54.895833</td>\n",
       "      <td>62.656250</td>\n",
       "      <td>70.750000</td>\n",
       "    </tr>\n",
       "    <tr>\n",
       "      <th>Flying</th>\n",
       "      <td>390.000000</td>\n",
       "      <td>62.500000</td>\n",
       "      <td>50.000000</td>\n",
       "      <td>57.500000</td>\n",
       "      <td>71.000000</td>\n",
       "      <td>60.000000</td>\n",
       "      <td>89.000000</td>\n",
       "    </tr>\n",
       "    <tr>\n",
       "      <th>Bug</th>\n",
       "      <td>378.927536</td>\n",
       "      <td>56.884058</td>\n",
       "      <td>70.971014</td>\n",
       "      <td>70.724638</td>\n",
       "      <td>53.869565</td>\n",
       "      <td>64.797101</td>\n",
       "      <td>61.681159</td>\n",
       "    </tr>\n",
       "  </tbody>\n",
       "</table>\n",
       "</div>"
      ],
      "text/plain": [
       "               Total         HP      Attack     Defense    Sp. Atk    Sp. Def  \\\n",
       "Type 1                                                                          \n",
       "Dragon    476.850000  72.650000  103.400000   78.150000  72.900000  77.400000   \n",
       "Steel     466.434783  60.434783   92.086957  126.652174  61.217391  76.304348   \n",
       "Fire      442.127660  67.085106   82.191489   64.531915  86.000000  69.042553   \n",
       "Rock      437.625000  65.125000   89.925000   97.125000  60.125000  71.775000   \n",
       "Dark      432.344828  64.655172   86.862069   68.689655  70.620690  67.827586   \n",
       "Electric  429.750000  57.325000   66.125000   65.425000  86.275000  72.325000   \n",
       "Ghost     423.533333  58.733333   71.366667   79.266667  77.300000  74.233333   \n",
       "Psychic   423.000000  67.720930   54.953488   61.000000  88.302326  80.674419   \n",
       "Water     421.398148  71.120370   72.777778   71.990741  72.305556  68.175926   \n",
       "Ice       420.136364  70.818182   73.227273   68.818182  75.727273  68.454545   \n",
       "Fighting  416.444444  69.851852   96.777778   65.925926  53.111111  64.703704   \n",
       "Grass     413.432836  65.940299   72.119403   70.283582  76.343284  69.044776   \n",
       "Ground    405.714286  70.821429   88.000000   79.821429  47.750000  59.571429   \n",
       "Poison    399.142857  67.250000   74.678571   68.821429  60.428571  64.392857   \n",
       "Fairy     396.500000  70.875000   57.187500   63.875000  75.250000  83.875000   \n",
       "Normal    395.572917  76.489583   72.083333   58.697917  54.895833  62.656250   \n",
       "Flying    390.000000  62.500000   50.000000   57.500000  71.000000  60.000000   \n",
       "Bug       378.927536  56.884058   70.971014   70.724638  53.869565  64.797101   \n",
       "\n",
       "              Speed  \n",
       "Type 1               \n",
       "Dragon    72.350000  \n",
       "Steel     49.739130  \n",
       "Fire      73.276596  \n",
       "Rock      53.550000  \n",
       "Dark      73.689655  \n",
       "Electric  82.275000  \n",
       "Ghost     62.633333  \n",
       "Psychic   70.348837  \n",
       "Water     65.027778  \n",
       "Ice       63.090909  \n",
       "Fighting  66.074074  \n",
       "Grass     59.701493  \n",
       "Ground    59.750000  \n",
       "Poison    63.571429  \n",
       "Fairy     45.437500  \n",
       "Normal    70.750000  \n",
       "Flying    89.000000  \n",
       "Bug       61.681159  "
      ]
     },
     "execution_count": 40,
     "metadata": {},
     "output_type": "execute_result"
    }
   ],
   "source": [
    "pokemon_type_average_sorted = pokemon_type_average.sort_values(by=\"Total\",ascending = False)\n",
    "pokemon_type_average_sorted"
   ]
  },
  {
   "cell_type": "code",
   "execution_count": 47,
   "metadata": {},
   "outputs": [
    {
     "data": {
      "application/vnd.plotly.v1+json": {
       "config": {
        "plotlyServerURL": "https://plot.ly"
       },
       "data": [
        {
         "alignmentgroup": "True",
         "hovertemplate": "variable=Total<br>Type 1=%{x}<br>value=%{y}<extra></extra>",
         "legendgroup": "Total",
         "marker": {
          "color": "#636efa"
         },
         "name": "Total",
         "offsetgroup": "Total",
         "orientation": "v",
         "showlegend": true,
         "textposition": "auto",
         "type": "bar",
         "x": [
          "Dragon",
          "Steel",
          "Fire",
          "Rock",
          "Dark",
          "Electric",
          "Ghost",
          "Psychic",
          "Water",
          "Ice",
          "Fighting",
          "Grass",
          "Ground",
          "Poison",
          "Fairy",
          "Normal",
          "Flying",
          "Bug"
         ],
         "xaxis": "x",
         "y": [
          476.85,
          466.4347826086956,
          442.1276595744681,
          437.625,
          432.3448275862069,
          429.75,
          423.53333333333336,
          423,
          421.39814814814815,
          420.1363636363636,
          416.44444444444446,
          413.43283582089555,
          405.7142857142857,
          399.14285714285717,
          396.5,
          395.5729166666667,
          390,
          378.92753623188406
         ],
         "yaxis": "y"
        }
       ],
       "layout": {
        "barmode": "relative",
        "legend": {
         "title": {
          "text": "variable"
         },
         "tracegroupgap": 0
        },
        "margin": {
         "t": 60
        },
        "template": {
         "data": {
          "bar": [
           {
            "error_x": {
             "color": "#2a3f5f"
            },
            "error_y": {
             "color": "#2a3f5f"
            },
            "marker": {
             "line": {
              "color": "#E5ECF6",
              "width": 0.5
             }
            },
            "type": "bar"
           }
          ],
          "barpolar": [
           {
            "marker": {
             "line": {
              "color": "#E5ECF6",
              "width": 0.5
             }
            },
            "type": "barpolar"
           }
          ],
          "carpet": [
           {
            "aaxis": {
             "endlinecolor": "#2a3f5f",
             "gridcolor": "white",
             "linecolor": "white",
             "minorgridcolor": "white",
             "startlinecolor": "#2a3f5f"
            },
            "baxis": {
             "endlinecolor": "#2a3f5f",
             "gridcolor": "white",
             "linecolor": "white",
             "minorgridcolor": "white",
             "startlinecolor": "#2a3f5f"
            },
            "type": "carpet"
           }
          ],
          "choropleth": [
           {
            "colorbar": {
             "outlinewidth": 0,
             "ticks": ""
            },
            "type": "choropleth"
           }
          ],
          "contour": [
           {
            "colorbar": {
             "outlinewidth": 0,
             "ticks": ""
            },
            "colorscale": [
             [
              0,
              "#0d0887"
             ],
             [
              0.1111111111111111,
              "#46039f"
             ],
             [
              0.2222222222222222,
              "#7201a8"
             ],
             [
              0.3333333333333333,
              "#9c179e"
             ],
             [
              0.4444444444444444,
              "#bd3786"
             ],
             [
              0.5555555555555556,
              "#d8576b"
             ],
             [
              0.6666666666666666,
              "#ed7953"
             ],
             [
              0.7777777777777778,
              "#fb9f3a"
             ],
             [
              0.8888888888888888,
              "#fdca26"
             ],
             [
              1,
              "#f0f921"
             ]
            ],
            "type": "contour"
           }
          ],
          "contourcarpet": [
           {
            "colorbar": {
             "outlinewidth": 0,
             "ticks": ""
            },
            "type": "contourcarpet"
           }
          ],
          "heatmap": [
           {
            "colorbar": {
             "outlinewidth": 0,
             "ticks": ""
            },
            "colorscale": [
             [
              0,
              "#0d0887"
             ],
             [
              0.1111111111111111,
              "#46039f"
             ],
             [
              0.2222222222222222,
              "#7201a8"
             ],
             [
              0.3333333333333333,
              "#9c179e"
             ],
             [
              0.4444444444444444,
              "#bd3786"
             ],
             [
              0.5555555555555556,
              "#d8576b"
             ],
             [
              0.6666666666666666,
              "#ed7953"
             ],
             [
              0.7777777777777778,
              "#fb9f3a"
             ],
             [
              0.8888888888888888,
              "#fdca26"
             ],
             [
              1,
              "#f0f921"
             ]
            ],
            "type": "heatmap"
           }
          ],
          "heatmapgl": [
           {
            "colorbar": {
             "outlinewidth": 0,
             "ticks": ""
            },
            "colorscale": [
             [
              0,
              "#0d0887"
             ],
             [
              0.1111111111111111,
              "#46039f"
             ],
             [
              0.2222222222222222,
              "#7201a8"
             ],
             [
              0.3333333333333333,
              "#9c179e"
             ],
             [
              0.4444444444444444,
              "#bd3786"
             ],
             [
              0.5555555555555556,
              "#d8576b"
             ],
             [
              0.6666666666666666,
              "#ed7953"
             ],
             [
              0.7777777777777778,
              "#fb9f3a"
             ],
             [
              0.8888888888888888,
              "#fdca26"
             ],
             [
              1,
              "#f0f921"
             ]
            ],
            "type": "heatmapgl"
           }
          ],
          "histogram": [
           {
            "marker": {
             "colorbar": {
              "outlinewidth": 0,
              "ticks": ""
             }
            },
            "type": "histogram"
           }
          ],
          "histogram2d": [
           {
            "colorbar": {
             "outlinewidth": 0,
             "ticks": ""
            },
            "colorscale": [
             [
              0,
              "#0d0887"
             ],
             [
              0.1111111111111111,
              "#46039f"
             ],
             [
              0.2222222222222222,
              "#7201a8"
             ],
             [
              0.3333333333333333,
              "#9c179e"
             ],
             [
              0.4444444444444444,
              "#bd3786"
             ],
             [
              0.5555555555555556,
              "#d8576b"
             ],
             [
              0.6666666666666666,
              "#ed7953"
             ],
             [
              0.7777777777777778,
              "#fb9f3a"
             ],
             [
              0.8888888888888888,
              "#fdca26"
             ],
             [
              1,
              "#f0f921"
             ]
            ],
            "type": "histogram2d"
           }
          ],
          "histogram2dcontour": [
           {
            "colorbar": {
             "outlinewidth": 0,
             "ticks": ""
            },
            "colorscale": [
             [
              0,
              "#0d0887"
             ],
             [
              0.1111111111111111,
              "#46039f"
             ],
             [
              0.2222222222222222,
              "#7201a8"
             ],
             [
              0.3333333333333333,
              "#9c179e"
             ],
             [
              0.4444444444444444,
              "#bd3786"
             ],
             [
              0.5555555555555556,
              "#d8576b"
             ],
             [
              0.6666666666666666,
              "#ed7953"
             ],
             [
              0.7777777777777778,
              "#fb9f3a"
             ],
             [
              0.8888888888888888,
              "#fdca26"
             ],
             [
              1,
              "#f0f921"
             ]
            ],
            "type": "histogram2dcontour"
           }
          ],
          "mesh3d": [
           {
            "colorbar": {
             "outlinewidth": 0,
             "ticks": ""
            },
            "type": "mesh3d"
           }
          ],
          "parcoords": [
           {
            "line": {
             "colorbar": {
              "outlinewidth": 0,
              "ticks": ""
             }
            },
            "type": "parcoords"
           }
          ],
          "pie": [
           {
            "automargin": true,
            "type": "pie"
           }
          ],
          "scatter": [
           {
            "marker": {
             "colorbar": {
              "outlinewidth": 0,
              "ticks": ""
             }
            },
            "type": "scatter"
           }
          ],
          "scatter3d": [
           {
            "line": {
             "colorbar": {
              "outlinewidth": 0,
              "ticks": ""
             }
            },
            "marker": {
             "colorbar": {
              "outlinewidth": 0,
              "ticks": ""
             }
            },
            "type": "scatter3d"
           }
          ],
          "scattercarpet": [
           {
            "marker": {
             "colorbar": {
              "outlinewidth": 0,
              "ticks": ""
             }
            },
            "type": "scattercarpet"
           }
          ],
          "scattergeo": [
           {
            "marker": {
             "colorbar": {
              "outlinewidth": 0,
              "ticks": ""
             }
            },
            "type": "scattergeo"
           }
          ],
          "scattergl": [
           {
            "marker": {
             "colorbar": {
              "outlinewidth": 0,
              "ticks": ""
             }
            },
            "type": "scattergl"
           }
          ],
          "scattermapbox": [
           {
            "marker": {
             "colorbar": {
              "outlinewidth": 0,
              "ticks": ""
             }
            },
            "type": "scattermapbox"
           }
          ],
          "scatterpolar": [
           {
            "marker": {
             "colorbar": {
              "outlinewidth": 0,
              "ticks": ""
             }
            },
            "type": "scatterpolar"
           }
          ],
          "scatterpolargl": [
           {
            "marker": {
             "colorbar": {
              "outlinewidth": 0,
              "ticks": ""
             }
            },
            "type": "scatterpolargl"
           }
          ],
          "scatterternary": [
           {
            "marker": {
             "colorbar": {
              "outlinewidth": 0,
              "ticks": ""
             }
            },
            "type": "scatterternary"
           }
          ],
          "surface": [
           {
            "colorbar": {
             "outlinewidth": 0,
             "ticks": ""
            },
            "colorscale": [
             [
              0,
              "#0d0887"
             ],
             [
              0.1111111111111111,
              "#46039f"
             ],
             [
              0.2222222222222222,
              "#7201a8"
             ],
             [
              0.3333333333333333,
              "#9c179e"
             ],
             [
              0.4444444444444444,
              "#bd3786"
             ],
             [
              0.5555555555555556,
              "#d8576b"
             ],
             [
              0.6666666666666666,
              "#ed7953"
             ],
             [
              0.7777777777777778,
              "#fb9f3a"
             ],
             [
              0.8888888888888888,
              "#fdca26"
             ],
             [
              1,
              "#f0f921"
             ]
            ],
            "type": "surface"
           }
          ],
          "table": [
           {
            "cells": {
             "fill": {
              "color": "#EBF0F8"
             },
             "line": {
              "color": "white"
             }
            },
            "header": {
             "fill": {
              "color": "#C8D4E3"
             },
             "line": {
              "color": "white"
             }
            },
            "type": "table"
           }
          ]
         },
         "layout": {
          "annotationdefaults": {
           "arrowcolor": "#2a3f5f",
           "arrowhead": 0,
           "arrowwidth": 1
          },
          "coloraxis": {
           "colorbar": {
            "outlinewidth": 0,
            "ticks": ""
           }
          },
          "colorscale": {
           "diverging": [
            [
             0,
             "#8e0152"
            ],
            [
             0.1,
             "#c51b7d"
            ],
            [
             0.2,
             "#de77ae"
            ],
            [
             0.3,
             "#f1b6da"
            ],
            [
             0.4,
             "#fde0ef"
            ],
            [
             0.5,
             "#f7f7f7"
            ],
            [
             0.6,
             "#e6f5d0"
            ],
            [
             0.7,
             "#b8e186"
            ],
            [
             0.8,
             "#7fbc41"
            ],
            [
             0.9,
             "#4d9221"
            ],
            [
             1,
             "#276419"
            ]
           ],
           "sequential": [
            [
             0,
             "#0d0887"
            ],
            [
             0.1111111111111111,
             "#46039f"
            ],
            [
             0.2222222222222222,
             "#7201a8"
            ],
            [
             0.3333333333333333,
             "#9c179e"
            ],
            [
             0.4444444444444444,
             "#bd3786"
            ],
            [
             0.5555555555555556,
             "#d8576b"
            ],
            [
             0.6666666666666666,
             "#ed7953"
            ],
            [
             0.7777777777777778,
             "#fb9f3a"
            ],
            [
             0.8888888888888888,
             "#fdca26"
            ],
            [
             1,
             "#f0f921"
            ]
           ],
           "sequentialminus": [
            [
             0,
             "#0d0887"
            ],
            [
             0.1111111111111111,
             "#46039f"
            ],
            [
             0.2222222222222222,
             "#7201a8"
            ],
            [
             0.3333333333333333,
             "#9c179e"
            ],
            [
             0.4444444444444444,
             "#bd3786"
            ],
            [
             0.5555555555555556,
             "#d8576b"
            ],
            [
             0.6666666666666666,
             "#ed7953"
            ],
            [
             0.7777777777777778,
             "#fb9f3a"
            ],
            [
             0.8888888888888888,
             "#fdca26"
            ],
            [
             1,
             "#f0f921"
            ]
           ]
          },
          "colorway": [
           "#636efa",
           "#EF553B",
           "#00cc96",
           "#ab63fa",
           "#FFA15A",
           "#19d3f3",
           "#FF6692",
           "#B6E880",
           "#FF97FF",
           "#FECB52"
          ],
          "font": {
           "color": "#2a3f5f"
          },
          "geo": {
           "bgcolor": "white",
           "lakecolor": "white",
           "landcolor": "#E5ECF6",
           "showlakes": true,
           "showland": true,
           "subunitcolor": "white"
          },
          "hoverlabel": {
           "align": "left"
          },
          "hovermode": "closest",
          "mapbox": {
           "style": "light"
          },
          "paper_bgcolor": "white",
          "plot_bgcolor": "#E5ECF6",
          "polar": {
           "angularaxis": {
            "gridcolor": "white",
            "linecolor": "white",
            "ticks": ""
           },
           "bgcolor": "#E5ECF6",
           "radialaxis": {
            "gridcolor": "white",
            "linecolor": "white",
            "ticks": ""
           }
          },
          "scene": {
           "xaxis": {
            "backgroundcolor": "#E5ECF6",
            "gridcolor": "white",
            "gridwidth": 2,
            "linecolor": "white",
            "showbackground": true,
            "ticks": "",
            "zerolinecolor": "white"
           },
           "yaxis": {
            "backgroundcolor": "#E5ECF6",
            "gridcolor": "white",
            "gridwidth": 2,
            "linecolor": "white",
            "showbackground": true,
            "ticks": "",
            "zerolinecolor": "white"
           },
           "zaxis": {
            "backgroundcolor": "#E5ECF6",
            "gridcolor": "white",
            "gridwidth": 2,
            "linecolor": "white",
            "showbackground": true,
            "ticks": "",
            "zerolinecolor": "white"
           }
          },
          "shapedefaults": {
           "line": {
            "color": "#2a3f5f"
           }
          },
          "ternary": {
           "aaxis": {
            "gridcolor": "white",
            "linecolor": "white",
            "ticks": ""
           },
           "baxis": {
            "gridcolor": "white",
            "linecolor": "white",
            "ticks": ""
           },
           "bgcolor": "#E5ECF6",
           "caxis": {
            "gridcolor": "white",
            "linecolor": "white",
            "ticks": ""
           }
          },
          "title": {
           "x": 0.05
          },
          "xaxis": {
           "automargin": true,
           "gridcolor": "white",
           "linecolor": "white",
           "ticks": "",
           "title": {
            "standoff": 15
           },
           "zerolinecolor": "white",
           "zerolinewidth": 2
          },
          "yaxis": {
           "automargin": true,
           "gridcolor": "white",
           "linecolor": "white",
           "ticks": "",
           "title": {
            "standoff": 15
           },
           "zerolinecolor": "white",
           "zerolinewidth": 2
          }
         }
        },
        "xaxis": {
         "anchor": "y",
         "domain": [
          0,
          1
         ],
         "title": {
          "text": "Type 1"
         }
        },
        "yaxis": {
         "anchor": "x",
         "domain": [
          0,
          1
         ],
         "title": {
          "text": "value"
         }
        }
       }
      },
      "text/html": [
       "<div>                            <div id=\"78c723f7-aa2e-40aa-88ef-3616464d5002\" class=\"plotly-graph-div\" style=\"height:525px; width:100%;\"></div>            <script type=\"text/javascript\">                require([\"plotly\"], function(Plotly) {                    window.PLOTLYENV=window.PLOTLYENV || {};                                    if (document.getElementById(\"78c723f7-aa2e-40aa-88ef-3616464d5002\")) {                    Plotly.newPlot(                        \"78c723f7-aa2e-40aa-88ef-3616464d5002\",                        [{\"alignmentgroup\": \"True\", \"hovertemplate\": \"variable=Total<br>Type 1=%{x}<br>value=%{y}<extra></extra>\", \"legendgroup\": \"Total\", \"marker\": {\"color\": \"#636efa\"}, \"name\": \"Total\", \"offsetgroup\": \"Total\", \"orientation\": \"v\", \"showlegend\": true, \"textposition\": \"auto\", \"type\": \"bar\", \"x\": [\"Dragon\", \"Steel\", \"Fire\", \"Rock\", \"Dark\", \"Electric\", \"Ghost\", \"Psychic\", \"Water\", \"Ice\", \"Fighting\", \"Grass\", \"Ground\", \"Poison\", \"Fairy\", \"Normal\", \"Flying\", \"Bug\"], \"xaxis\": \"x\", \"y\": [476.85, 466.4347826086956, 442.1276595744681, 437.625, 432.3448275862069, 429.75, 423.53333333333336, 423.0, 421.39814814814815, 420.1363636363636, 416.44444444444446, 413.43283582089555, 405.7142857142857, 399.14285714285717, 396.5, 395.5729166666667, 390.0, 378.92753623188406], \"yaxis\": \"y\"}],                        {\"barmode\": \"relative\", \"legend\": {\"title\": {\"text\": \"variable\"}, \"tracegroupgap\": 0}, \"margin\": {\"t\": 60}, \"template\": {\"data\": {\"bar\": [{\"error_x\": {\"color\": \"#2a3f5f\"}, \"error_y\": {\"color\": \"#2a3f5f\"}, \"marker\": {\"line\": {\"color\": \"#E5ECF6\", \"width\": 0.5}}, \"type\": \"bar\"}], \"barpolar\": [{\"marker\": {\"line\": {\"color\": \"#E5ECF6\", \"width\": 0.5}}, \"type\": \"barpolar\"}], \"carpet\": [{\"aaxis\": {\"endlinecolor\": \"#2a3f5f\", \"gridcolor\": \"white\", \"linecolor\": \"white\", \"minorgridcolor\": \"white\", \"startlinecolor\": \"#2a3f5f\"}, \"baxis\": {\"endlinecolor\": \"#2a3f5f\", \"gridcolor\": \"white\", \"linecolor\": \"white\", \"minorgridcolor\": \"white\", \"startlinecolor\": \"#2a3f5f\"}, \"type\": \"carpet\"}], \"choropleth\": [{\"colorbar\": {\"outlinewidth\": 0, \"ticks\": \"\"}, \"type\": \"choropleth\"}], \"contour\": [{\"colorbar\": {\"outlinewidth\": 0, \"ticks\": \"\"}, \"colorscale\": [[0.0, \"#0d0887\"], [0.1111111111111111, \"#46039f\"], [0.2222222222222222, \"#7201a8\"], [0.3333333333333333, \"#9c179e\"], [0.4444444444444444, \"#bd3786\"], [0.5555555555555556, \"#d8576b\"], [0.6666666666666666, \"#ed7953\"], [0.7777777777777778, \"#fb9f3a\"], [0.8888888888888888, \"#fdca26\"], [1.0, \"#f0f921\"]], \"type\": \"contour\"}], \"contourcarpet\": [{\"colorbar\": {\"outlinewidth\": 0, \"ticks\": \"\"}, \"type\": \"contourcarpet\"}], \"heatmap\": [{\"colorbar\": {\"outlinewidth\": 0, \"ticks\": \"\"}, \"colorscale\": [[0.0, \"#0d0887\"], [0.1111111111111111, \"#46039f\"], [0.2222222222222222, \"#7201a8\"], [0.3333333333333333, \"#9c179e\"], [0.4444444444444444, \"#bd3786\"], [0.5555555555555556, \"#d8576b\"], [0.6666666666666666, \"#ed7953\"], [0.7777777777777778, \"#fb9f3a\"], [0.8888888888888888, \"#fdca26\"], [1.0, \"#f0f921\"]], \"type\": \"heatmap\"}], \"heatmapgl\": [{\"colorbar\": {\"outlinewidth\": 0, \"ticks\": \"\"}, \"colorscale\": [[0.0, \"#0d0887\"], [0.1111111111111111, \"#46039f\"], [0.2222222222222222, \"#7201a8\"], [0.3333333333333333, \"#9c179e\"], [0.4444444444444444, \"#bd3786\"], [0.5555555555555556, \"#d8576b\"], [0.6666666666666666, \"#ed7953\"], [0.7777777777777778, \"#fb9f3a\"], [0.8888888888888888, \"#fdca26\"], [1.0, \"#f0f921\"]], \"type\": \"heatmapgl\"}], \"histogram\": [{\"marker\": {\"colorbar\": {\"outlinewidth\": 0, \"ticks\": \"\"}}, \"type\": \"histogram\"}], \"histogram2d\": [{\"colorbar\": {\"outlinewidth\": 0, \"ticks\": \"\"}, \"colorscale\": [[0.0, \"#0d0887\"], [0.1111111111111111, \"#46039f\"], [0.2222222222222222, \"#7201a8\"], [0.3333333333333333, \"#9c179e\"], [0.4444444444444444, \"#bd3786\"], [0.5555555555555556, \"#d8576b\"], [0.6666666666666666, \"#ed7953\"], [0.7777777777777778, \"#fb9f3a\"], [0.8888888888888888, \"#fdca26\"], [1.0, \"#f0f921\"]], \"type\": \"histogram2d\"}], \"histogram2dcontour\": [{\"colorbar\": {\"outlinewidth\": 0, \"ticks\": \"\"}, \"colorscale\": [[0.0, \"#0d0887\"], [0.1111111111111111, \"#46039f\"], [0.2222222222222222, \"#7201a8\"], [0.3333333333333333, \"#9c179e\"], [0.4444444444444444, \"#bd3786\"], [0.5555555555555556, \"#d8576b\"], [0.6666666666666666, \"#ed7953\"], [0.7777777777777778, \"#fb9f3a\"], [0.8888888888888888, \"#fdca26\"], [1.0, \"#f0f921\"]], \"type\": \"histogram2dcontour\"}], \"mesh3d\": [{\"colorbar\": {\"outlinewidth\": 0, \"ticks\": \"\"}, \"type\": \"mesh3d\"}], \"parcoords\": [{\"line\": {\"colorbar\": {\"outlinewidth\": 0, \"ticks\": \"\"}}, \"type\": \"parcoords\"}], \"pie\": [{\"automargin\": true, \"type\": \"pie\"}], \"scatter\": [{\"marker\": {\"colorbar\": {\"outlinewidth\": 0, \"ticks\": \"\"}}, \"type\": \"scatter\"}], \"scatter3d\": [{\"line\": {\"colorbar\": {\"outlinewidth\": 0, \"ticks\": \"\"}}, \"marker\": {\"colorbar\": {\"outlinewidth\": 0, \"ticks\": \"\"}}, \"type\": \"scatter3d\"}], \"scattercarpet\": [{\"marker\": {\"colorbar\": {\"outlinewidth\": 0, \"ticks\": \"\"}}, \"type\": \"scattercarpet\"}], \"scattergeo\": [{\"marker\": {\"colorbar\": {\"outlinewidth\": 0, \"ticks\": \"\"}}, \"type\": \"scattergeo\"}], \"scattergl\": [{\"marker\": {\"colorbar\": {\"outlinewidth\": 0, \"ticks\": \"\"}}, \"type\": \"scattergl\"}], \"scattermapbox\": [{\"marker\": {\"colorbar\": {\"outlinewidth\": 0, \"ticks\": \"\"}}, \"type\": \"scattermapbox\"}], \"scatterpolar\": [{\"marker\": {\"colorbar\": {\"outlinewidth\": 0, \"ticks\": \"\"}}, \"type\": \"scatterpolar\"}], \"scatterpolargl\": [{\"marker\": {\"colorbar\": {\"outlinewidth\": 0, \"ticks\": \"\"}}, \"type\": \"scatterpolargl\"}], \"scatterternary\": [{\"marker\": {\"colorbar\": {\"outlinewidth\": 0, \"ticks\": \"\"}}, \"type\": \"scatterternary\"}], \"surface\": [{\"colorbar\": {\"outlinewidth\": 0, \"ticks\": \"\"}, \"colorscale\": [[0.0, \"#0d0887\"], [0.1111111111111111, \"#46039f\"], [0.2222222222222222, \"#7201a8\"], [0.3333333333333333, \"#9c179e\"], [0.4444444444444444, \"#bd3786\"], [0.5555555555555556, \"#d8576b\"], [0.6666666666666666, \"#ed7953\"], [0.7777777777777778, \"#fb9f3a\"], [0.8888888888888888, \"#fdca26\"], [1.0, \"#f0f921\"]], \"type\": \"surface\"}], \"table\": [{\"cells\": {\"fill\": {\"color\": \"#EBF0F8\"}, \"line\": {\"color\": \"white\"}}, \"header\": {\"fill\": {\"color\": \"#C8D4E3\"}, \"line\": {\"color\": \"white\"}}, \"type\": \"table\"}]}, \"layout\": {\"annotationdefaults\": {\"arrowcolor\": \"#2a3f5f\", \"arrowhead\": 0, \"arrowwidth\": 1}, \"coloraxis\": {\"colorbar\": {\"outlinewidth\": 0, \"ticks\": \"\"}}, \"colorscale\": {\"diverging\": [[0, \"#8e0152\"], [0.1, \"#c51b7d\"], [0.2, \"#de77ae\"], [0.3, \"#f1b6da\"], [0.4, \"#fde0ef\"], [0.5, \"#f7f7f7\"], [0.6, \"#e6f5d0\"], [0.7, \"#b8e186\"], [0.8, \"#7fbc41\"], [0.9, \"#4d9221\"], [1, \"#276419\"]], \"sequential\": [[0.0, \"#0d0887\"], [0.1111111111111111, \"#46039f\"], [0.2222222222222222, \"#7201a8\"], [0.3333333333333333, \"#9c179e\"], [0.4444444444444444, \"#bd3786\"], [0.5555555555555556, \"#d8576b\"], [0.6666666666666666, \"#ed7953\"], [0.7777777777777778, \"#fb9f3a\"], [0.8888888888888888, \"#fdca26\"], [1.0, \"#f0f921\"]], \"sequentialminus\": [[0.0, \"#0d0887\"], [0.1111111111111111, \"#46039f\"], [0.2222222222222222, \"#7201a8\"], [0.3333333333333333, \"#9c179e\"], [0.4444444444444444, \"#bd3786\"], [0.5555555555555556, \"#d8576b\"], [0.6666666666666666, \"#ed7953\"], [0.7777777777777778, \"#fb9f3a\"], [0.8888888888888888, \"#fdca26\"], [1.0, \"#f0f921\"]]}, \"colorway\": [\"#636efa\", \"#EF553B\", \"#00cc96\", \"#ab63fa\", \"#FFA15A\", \"#19d3f3\", \"#FF6692\", \"#B6E880\", \"#FF97FF\", \"#FECB52\"], \"font\": {\"color\": \"#2a3f5f\"}, \"geo\": {\"bgcolor\": \"white\", \"lakecolor\": \"white\", \"landcolor\": \"#E5ECF6\", \"showlakes\": true, \"showland\": true, \"subunitcolor\": \"white\"}, \"hoverlabel\": {\"align\": \"left\"}, \"hovermode\": \"closest\", \"mapbox\": {\"style\": \"light\"}, \"paper_bgcolor\": \"white\", \"plot_bgcolor\": \"#E5ECF6\", \"polar\": {\"angularaxis\": {\"gridcolor\": \"white\", \"linecolor\": \"white\", \"ticks\": \"\"}, \"bgcolor\": \"#E5ECF6\", \"radialaxis\": {\"gridcolor\": \"white\", \"linecolor\": \"white\", \"ticks\": \"\"}}, \"scene\": {\"xaxis\": {\"backgroundcolor\": \"#E5ECF6\", \"gridcolor\": \"white\", \"gridwidth\": 2, \"linecolor\": \"white\", \"showbackground\": true, \"ticks\": \"\", \"zerolinecolor\": \"white\"}, \"yaxis\": {\"backgroundcolor\": \"#E5ECF6\", \"gridcolor\": \"white\", \"gridwidth\": 2, \"linecolor\": \"white\", \"showbackground\": true, \"ticks\": \"\", \"zerolinecolor\": \"white\"}, \"zaxis\": {\"backgroundcolor\": \"#E5ECF6\", \"gridcolor\": \"white\", \"gridwidth\": 2, \"linecolor\": \"white\", \"showbackground\": true, \"ticks\": \"\", \"zerolinecolor\": \"white\"}}, \"shapedefaults\": {\"line\": {\"color\": \"#2a3f5f\"}}, \"ternary\": {\"aaxis\": {\"gridcolor\": \"white\", \"linecolor\": \"white\", \"ticks\": \"\"}, \"baxis\": {\"gridcolor\": \"white\", \"linecolor\": \"white\", \"ticks\": \"\"}, \"bgcolor\": \"#E5ECF6\", \"caxis\": {\"gridcolor\": \"white\", \"linecolor\": \"white\", \"ticks\": \"\"}}, \"title\": {\"x\": 0.05}, \"xaxis\": {\"automargin\": true, \"gridcolor\": \"white\", \"linecolor\": \"white\", \"ticks\": \"\", \"title\": {\"standoff\": 15}, \"zerolinecolor\": \"white\", \"zerolinewidth\": 2}, \"yaxis\": {\"automargin\": true, \"gridcolor\": \"white\", \"linecolor\": \"white\", \"ticks\": \"\", \"title\": {\"standoff\": 15}, \"zerolinecolor\": \"white\", \"zerolinewidth\": 2}}}, \"xaxis\": {\"anchor\": \"y\", \"domain\": [0.0, 1.0], \"title\": {\"text\": \"Type 1\"}}, \"yaxis\": {\"anchor\": \"x\", \"domain\": [0.0, 1.0], \"title\": {\"text\": \"value\"}}},                        {\"responsive\": true}                    ).then(function(){\n",
       "                            \n",
       "var gd = document.getElementById('78c723f7-aa2e-40aa-88ef-3616464d5002');\n",
       "var x = new MutationObserver(function (mutations, observer) {{\n",
       "        var display = window.getComputedStyle(gd).display;\n",
       "        if (!display || display === 'none') {{\n",
       "            console.log([gd, 'removed!']);\n",
       "            Plotly.purge(gd);\n",
       "            observer.disconnect();\n",
       "        }}\n",
       "}});\n",
       "\n",
       "// Listen for the removal of the full notebook cells\n",
       "var notebookContainer = gd.closest('#notebook-container');\n",
       "if (notebookContainer) {{\n",
       "    x.observe(notebookContainer, {childList: true});\n",
       "}}\n",
       "\n",
       "// Listen for the clearing of the current output cell\n",
       "var outputEl = gd.closest('.output');\n",
       "if (outputEl) {{\n",
       "    x.observe(outputEl, {childList: true});\n",
       "}}\n",
       "\n",
       "                        })                };                });            </script>        </div>"
      ]
     },
     "metadata": {},
     "output_type": "display_data"
    }
   ],
   "source": [
    "# Draw a barchart for the Total column\n",
    "\n",
    "total_average_bar = px.bar(pokemon_type_average_sorted[\"Total\"])\n",
    "total_average_bar.show()"
   ]
  },
  {
   "cell_type": "code",
   "execution_count": 48,
   "metadata": {},
   "outputs": [
    {
     "data": {
      "application/vnd.plotly.v1+json": {
       "config": {
        "plotlyServerURL": "https://plot.ly"
       },
       "data": [
        {
         "alignmentgroup": "True",
         "hovertemplate": "variable=Attack<br>Type 1=%{x}<br>value=%{y}<extra></extra>",
         "legendgroup": "Attack",
         "marker": {
          "color": "#636efa"
         },
         "name": "Attack",
         "offsetgroup": "Attack",
         "orientation": "v",
         "showlegend": true,
         "textposition": "auto",
         "type": "bar",
         "x": [
          "Dragon",
          "Steel",
          "Fire",
          "Rock",
          "Dark",
          "Electric",
          "Ghost",
          "Psychic",
          "Water",
          "Ice",
          "Fighting",
          "Grass",
          "Ground",
          "Poison",
          "Fairy",
          "Normal",
          "Flying",
          "Bug"
         ],
         "xaxis": "x",
         "y": [
          103.4,
          92.08695652173913,
          82.19148936170212,
          89.925,
          86.86206896551724,
          66.125,
          71.36666666666666,
          54.95348837209303,
          72.77777777777777,
          73.22727272727273,
          96.77777777777777,
          72.11940298507463,
          88,
          74.67857142857143,
          57.1875,
          72.08333333333333,
          50,
          70.97101449275362
         ],
         "yaxis": "y"
        }
       ],
       "layout": {
        "barmode": "relative",
        "legend": {
         "title": {
          "text": "variable"
         },
         "tracegroupgap": 0
        },
        "margin": {
         "t": 60
        },
        "template": {
         "data": {
          "bar": [
           {
            "error_x": {
             "color": "#2a3f5f"
            },
            "error_y": {
             "color": "#2a3f5f"
            },
            "marker": {
             "line": {
              "color": "#E5ECF6",
              "width": 0.5
             }
            },
            "type": "bar"
           }
          ],
          "barpolar": [
           {
            "marker": {
             "line": {
              "color": "#E5ECF6",
              "width": 0.5
             }
            },
            "type": "barpolar"
           }
          ],
          "carpet": [
           {
            "aaxis": {
             "endlinecolor": "#2a3f5f",
             "gridcolor": "white",
             "linecolor": "white",
             "minorgridcolor": "white",
             "startlinecolor": "#2a3f5f"
            },
            "baxis": {
             "endlinecolor": "#2a3f5f",
             "gridcolor": "white",
             "linecolor": "white",
             "minorgridcolor": "white",
             "startlinecolor": "#2a3f5f"
            },
            "type": "carpet"
           }
          ],
          "choropleth": [
           {
            "colorbar": {
             "outlinewidth": 0,
             "ticks": ""
            },
            "type": "choropleth"
           }
          ],
          "contour": [
           {
            "colorbar": {
             "outlinewidth": 0,
             "ticks": ""
            },
            "colorscale": [
             [
              0,
              "#0d0887"
             ],
             [
              0.1111111111111111,
              "#46039f"
             ],
             [
              0.2222222222222222,
              "#7201a8"
             ],
             [
              0.3333333333333333,
              "#9c179e"
             ],
             [
              0.4444444444444444,
              "#bd3786"
             ],
             [
              0.5555555555555556,
              "#d8576b"
             ],
             [
              0.6666666666666666,
              "#ed7953"
             ],
             [
              0.7777777777777778,
              "#fb9f3a"
             ],
             [
              0.8888888888888888,
              "#fdca26"
             ],
             [
              1,
              "#f0f921"
             ]
            ],
            "type": "contour"
           }
          ],
          "contourcarpet": [
           {
            "colorbar": {
             "outlinewidth": 0,
             "ticks": ""
            },
            "type": "contourcarpet"
           }
          ],
          "heatmap": [
           {
            "colorbar": {
             "outlinewidth": 0,
             "ticks": ""
            },
            "colorscale": [
             [
              0,
              "#0d0887"
             ],
             [
              0.1111111111111111,
              "#46039f"
             ],
             [
              0.2222222222222222,
              "#7201a8"
             ],
             [
              0.3333333333333333,
              "#9c179e"
             ],
             [
              0.4444444444444444,
              "#bd3786"
             ],
             [
              0.5555555555555556,
              "#d8576b"
             ],
             [
              0.6666666666666666,
              "#ed7953"
             ],
             [
              0.7777777777777778,
              "#fb9f3a"
             ],
             [
              0.8888888888888888,
              "#fdca26"
             ],
             [
              1,
              "#f0f921"
             ]
            ],
            "type": "heatmap"
           }
          ],
          "heatmapgl": [
           {
            "colorbar": {
             "outlinewidth": 0,
             "ticks": ""
            },
            "colorscale": [
             [
              0,
              "#0d0887"
             ],
             [
              0.1111111111111111,
              "#46039f"
             ],
             [
              0.2222222222222222,
              "#7201a8"
             ],
             [
              0.3333333333333333,
              "#9c179e"
             ],
             [
              0.4444444444444444,
              "#bd3786"
             ],
             [
              0.5555555555555556,
              "#d8576b"
             ],
             [
              0.6666666666666666,
              "#ed7953"
             ],
             [
              0.7777777777777778,
              "#fb9f3a"
             ],
             [
              0.8888888888888888,
              "#fdca26"
             ],
             [
              1,
              "#f0f921"
             ]
            ],
            "type": "heatmapgl"
           }
          ],
          "histogram": [
           {
            "marker": {
             "colorbar": {
              "outlinewidth": 0,
              "ticks": ""
             }
            },
            "type": "histogram"
           }
          ],
          "histogram2d": [
           {
            "colorbar": {
             "outlinewidth": 0,
             "ticks": ""
            },
            "colorscale": [
             [
              0,
              "#0d0887"
             ],
             [
              0.1111111111111111,
              "#46039f"
             ],
             [
              0.2222222222222222,
              "#7201a8"
             ],
             [
              0.3333333333333333,
              "#9c179e"
             ],
             [
              0.4444444444444444,
              "#bd3786"
             ],
             [
              0.5555555555555556,
              "#d8576b"
             ],
             [
              0.6666666666666666,
              "#ed7953"
             ],
             [
              0.7777777777777778,
              "#fb9f3a"
             ],
             [
              0.8888888888888888,
              "#fdca26"
             ],
             [
              1,
              "#f0f921"
             ]
            ],
            "type": "histogram2d"
           }
          ],
          "histogram2dcontour": [
           {
            "colorbar": {
             "outlinewidth": 0,
             "ticks": ""
            },
            "colorscale": [
             [
              0,
              "#0d0887"
             ],
             [
              0.1111111111111111,
              "#46039f"
             ],
             [
              0.2222222222222222,
              "#7201a8"
             ],
             [
              0.3333333333333333,
              "#9c179e"
             ],
             [
              0.4444444444444444,
              "#bd3786"
             ],
             [
              0.5555555555555556,
              "#d8576b"
             ],
             [
              0.6666666666666666,
              "#ed7953"
             ],
             [
              0.7777777777777778,
              "#fb9f3a"
             ],
             [
              0.8888888888888888,
              "#fdca26"
             ],
             [
              1,
              "#f0f921"
             ]
            ],
            "type": "histogram2dcontour"
           }
          ],
          "mesh3d": [
           {
            "colorbar": {
             "outlinewidth": 0,
             "ticks": ""
            },
            "type": "mesh3d"
           }
          ],
          "parcoords": [
           {
            "line": {
             "colorbar": {
              "outlinewidth": 0,
              "ticks": ""
             }
            },
            "type": "parcoords"
           }
          ],
          "pie": [
           {
            "automargin": true,
            "type": "pie"
           }
          ],
          "scatter": [
           {
            "marker": {
             "colorbar": {
              "outlinewidth": 0,
              "ticks": ""
             }
            },
            "type": "scatter"
           }
          ],
          "scatter3d": [
           {
            "line": {
             "colorbar": {
              "outlinewidth": 0,
              "ticks": ""
             }
            },
            "marker": {
             "colorbar": {
              "outlinewidth": 0,
              "ticks": ""
             }
            },
            "type": "scatter3d"
           }
          ],
          "scattercarpet": [
           {
            "marker": {
             "colorbar": {
              "outlinewidth": 0,
              "ticks": ""
             }
            },
            "type": "scattercarpet"
           }
          ],
          "scattergeo": [
           {
            "marker": {
             "colorbar": {
              "outlinewidth": 0,
              "ticks": ""
             }
            },
            "type": "scattergeo"
           }
          ],
          "scattergl": [
           {
            "marker": {
             "colorbar": {
              "outlinewidth": 0,
              "ticks": ""
             }
            },
            "type": "scattergl"
           }
          ],
          "scattermapbox": [
           {
            "marker": {
             "colorbar": {
              "outlinewidth": 0,
              "ticks": ""
             }
            },
            "type": "scattermapbox"
           }
          ],
          "scatterpolar": [
           {
            "marker": {
             "colorbar": {
              "outlinewidth": 0,
              "ticks": ""
             }
            },
            "type": "scatterpolar"
           }
          ],
          "scatterpolargl": [
           {
            "marker": {
             "colorbar": {
              "outlinewidth": 0,
              "ticks": ""
             }
            },
            "type": "scatterpolargl"
           }
          ],
          "scatterternary": [
           {
            "marker": {
             "colorbar": {
              "outlinewidth": 0,
              "ticks": ""
             }
            },
            "type": "scatterternary"
           }
          ],
          "surface": [
           {
            "colorbar": {
             "outlinewidth": 0,
             "ticks": ""
            },
            "colorscale": [
             [
              0,
              "#0d0887"
             ],
             [
              0.1111111111111111,
              "#46039f"
             ],
             [
              0.2222222222222222,
              "#7201a8"
             ],
             [
              0.3333333333333333,
              "#9c179e"
             ],
             [
              0.4444444444444444,
              "#bd3786"
             ],
             [
              0.5555555555555556,
              "#d8576b"
             ],
             [
              0.6666666666666666,
              "#ed7953"
             ],
             [
              0.7777777777777778,
              "#fb9f3a"
             ],
             [
              0.8888888888888888,
              "#fdca26"
             ],
             [
              1,
              "#f0f921"
             ]
            ],
            "type": "surface"
           }
          ],
          "table": [
           {
            "cells": {
             "fill": {
              "color": "#EBF0F8"
             },
             "line": {
              "color": "white"
             }
            },
            "header": {
             "fill": {
              "color": "#C8D4E3"
             },
             "line": {
              "color": "white"
             }
            },
            "type": "table"
           }
          ]
         },
         "layout": {
          "annotationdefaults": {
           "arrowcolor": "#2a3f5f",
           "arrowhead": 0,
           "arrowwidth": 1
          },
          "coloraxis": {
           "colorbar": {
            "outlinewidth": 0,
            "ticks": ""
           }
          },
          "colorscale": {
           "diverging": [
            [
             0,
             "#8e0152"
            ],
            [
             0.1,
             "#c51b7d"
            ],
            [
             0.2,
             "#de77ae"
            ],
            [
             0.3,
             "#f1b6da"
            ],
            [
             0.4,
             "#fde0ef"
            ],
            [
             0.5,
             "#f7f7f7"
            ],
            [
             0.6,
             "#e6f5d0"
            ],
            [
             0.7,
             "#b8e186"
            ],
            [
             0.8,
             "#7fbc41"
            ],
            [
             0.9,
             "#4d9221"
            ],
            [
             1,
             "#276419"
            ]
           ],
           "sequential": [
            [
             0,
             "#0d0887"
            ],
            [
             0.1111111111111111,
             "#46039f"
            ],
            [
             0.2222222222222222,
             "#7201a8"
            ],
            [
             0.3333333333333333,
             "#9c179e"
            ],
            [
             0.4444444444444444,
             "#bd3786"
            ],
            [
             0.5555555555555556,
             "#d8576b"
            ],
            [
             0.6666666666666666,
             "#ed7953"
            ],
            [
             0.7777777777777778,
             "#fb9f3a"
            ],
            [
             0.8888888888888888,
             "#fdca26"
            ],
            [
             1,
             "#f0f921"
            ]
           ],
           "sequentialminus": [
            [
             0,
             "#0d0887"
            ],
            [
             0.1111111111111111,
             "#46039f"
            ],
            [
             0.2222222222222222,
             "#7201a8"
            ],
            [
             0.3333333333333333,
             "#9c179e"
            ],
            [
             0.4444444444444444,
             "#bd3786"
            ],
            [
             0.5555555555555556,
             "#d8576b"
            ],
            [
             0.6666666666666666,
             "#ed7953"
            ],
            [
             0.7777777777777778,
             "#fb9f3a"
            ],
            [
             0.8888888888888888,
             "#fdca26"
            ],
            [
             1,
             "#f0f921"
            ]
           ]
          },
          "colorway": [
           "#636efa",
           "#EF553B",
           "#00cc96",
           "#ab63fa",
           "#FFA15A",
           "#19d3f3",
           "#FF6692",
           "#B6E880",
           "#FF97FF",
           "#FECB52"
          ],
          "font": {
           "color": "#2a3f5f"
          },
          "geo": {
           "bgcolor": "white",
           "lakecolor": "white",
           "landcolor": "#E5ECF6",
           "showlakes": true,
           "showland": true,
           "subunitcolor": "white"
          },
          "hoverlabel": {
           "align": "left"
          },
          "hovermode": "closest",
          "mapbox": {
           "style": "light"
          },
          "paper_bgcolor": "white",
          "plot_bgcolor": "#E5ECF6",
          "polar": {
           "angularaxis": {
            "gridcolor": "white",
            "linecolor": "white",
            "ticks": ""
           },
           "bgcolor": "#E5ECF6",
           "radialaxis": {
            "gridcolor": "white",
            "linecolor": "white",
            "ticks": ""
           }
          },
          "scene": {
           "xaxis": {
            "backgroundcolor": "#E5ECF6",
            "gridcolor": "white",
            "gridwidth": 2,
            "linecolor": "white",
            "showbackground": true,
            "ticks": "",
            "zerolinecolor": "white"
           },
           "yaxis": {
            "backgroundcolor": "#E5ECF6",
            "gridcolor": "white",
            "gridwidth": 2,
            "linecolor": "white",
            "showbackground": true,
            "ticks": "",
            "zerolinecolor": "white"
           },
           "zaxis": {
            "backgroundcolor": "#E5ECF6",
            "gridcolor": "white",
            "gridwidth": 2,
            "linecolor": "white",
            "showbackground": true,
            "ticks": "",
            "zerolinecolor": "white"
           }
          },
          "shapedefaults": {
           "line": {
            "color": "#2a3f5f"
           }
          },
          "ternary": {
           "aaxis": {
            "gridcolor": "white",
            "linecolor": "white",
            "ticks": ""
           },
           "baxis": {
            "gridcolor": "white",
            "linecolor": "white",
            "ticks": ""
           },
           "bgcolor": "#E5ECF6",
           "caxis": {
            "gridcolor": "white",
            "linecolor": "white",
            "ticks": ""
           }
          },
          "title": {
           "x": 0.05
          },
          "xaxis": {
           "automargin": true,
           "gridcolor": "white",
           "linecolor": "white",
           "ticks": "",
           "title": {
            "standoff": 15
           },
           "zerolinecolor": "white",
           "zerolinewidth": 2
          },
          "yaxis": {
           "automargin": true,
           "gridcolor": "white",
           "linecolor": "white",
           "ticks": "",
           "title": {
            "standoff": 15
           },
           "zerolinecolor": "white",
           "zerolinewidth": 2
          }
         }
        },
        "xaxis": {
         "anchor": "y",
         "domain": [
          0,
          1
         ],
         "title": {
          "text": "Type 1"
         }
        },
        "yaxis": {
         "anchor": "x",
         "domain": [
          0,
          1
         ],
         "title": {
          "text": "value"
         }
        }
       }
      },
      "text/html": [
       "<div>                            <div id=\"039cc036-0140-4273-93f9-0c1e925a2b05\" class=\"plotly-graph-div\" style=\"height:525px; width:100%;\"></div>            <script type=\"text/javascript\">                require([\"plotly\"], function(Plotly) {                    window.PLOTLYENV=window.PLOTLYENV || {};                                    if (document.getElementById(\"039cc036-0140-4273-93f9-0c1e925a2b05\")) {                    Plotly.newPlot(                        \"039cc036-0140-4273-93f9-0c1e925a2b05\",                        [{\"alignmentgroup\": \"True\", \"hovertemplate\": \"variable=Attack<br>Type 1=%{x}<br>value=%{y}<extra></extra>\", \"legendgroup\": \"Attack\", \"marker\": {\"color\": \"#636efa\"}, \"name\": \"Attack\", \"offsetgroup\": \"Attack\", \"orientation\": \"v\", \"showlegend\": true, \"textposition\": \"auto\", \"type\": \"bar\", \"x\": [\"Dragon\", \"Steel\", \"Fire\", \"Rock\", \"Dark\", \"Electric\", \"Ghost\", \"Psychic\", \"Water\", \"Ice\", \"Fighting\", \"Grass\", \"Ground\", \"Poison\", \"Fairy\", \"Normal\", \"Flying\", \"Bug\"], \"xaxis\": \"x\", \"y\": [103.4, 92.08695652173913, 82.19148936170212, 89.925, 86.86206896551724, 66.125, 71.36666666666666, 54.95348837209303, 72.77777777777777, 73.22727272727273, 96.77777777777777, 72.11940298507463, 88.0, 74.67857142857143, 57.1875, 72.08333333333333, 50.0, 70.97101449275362], \"yaxis\": \"y\"}],                        {\"barmode\": \"relative\", \"legend\": {\"title\": {\"text\": \"variable\"}, \"tracegroupgap\": 0}, \"margin\": {\"t\": 60}, \"template\": {\"data\": {\"bar\": [{\"error_x\": {\"color\": \"#2a3f5f\"}, \"error_y\": {\"color\": \"#2a3f5f\"}, \"marker\": {\"line\": {\"color\": \"#E5ECF6\", \"width\": 0.5}}, \"type\": \"bar\"}], \"barpolar\": [{\"marker\": {\"line\": {\"color\": \"#E5ECF6\", \"width\": 0.5}}, \"type\": \"barpolar\"}], \"carpet\": [{\"aaxis\": {\"endlinecolor\": \"#2a3f5f\", \"gridcolor\": \"white\", \"linecolor\": \"white\", \"minorgridcolor\": \"white\", \"startlinecolor\": \"#2a3f5f\"}, \"baxis\": {\"endlinecolor\": \"#2a3f5f\", \"gridcolor\": \"white\", \"linecolor\": \"white\", \"minorgridcolor\": \"white\", \"startlinecolor\": \"#2a3f5f\"}, \"type\": \"carpet\"}], \"choropleth\": [{\"colorbar\": {\"outlinewidth\": 0, \"ticks\": \"\"}, \"type\": \"choropleth\"}], \"contour\": [{\"colorbar\": {\"outlinewidth\": 0, \"ticks\": \"\"}, \"colorscale\": [[0.0, \"#0d0887\"], [0.1111111111111111, \"#46039f\"], [0.2222222222222222, \"#7201a8\"], [0.3333333333333333, \"#9c179e\"], [0.4444444444444444, \"#bd3786\"], [0.5555555555555556, \"#d8576b\"], [0.6666666666666666, \"#ed7953\"], [0.7777777777777778, \"#fb9f3a\"], [0.8888888888888888, \"#fdca26\"], [1.0, \"#f0f921\"]], \"type\": \"contour\"}], \"contourcarpet\": [{\"colorbar\": {\"outlinewidth\": 0, \"ticks\": \"\"}, \"type\": \"contourcarpet\"}], \"heatmap\": [{\"colorbar\": {\"outlinewidth\": 0, \"ticks\": \"\"}, \"colorscale\": [[0.0, \"#0d0887\"], [0.1111111111111111, \"#46039f\"], [0.2222222222222222, \"#7201a8\"], [0.3333333333333333, \"#9c179e\"], [0.4444444444444444, \"#bd3786\"], [0.5555555555555556, \"#d8576b\"], [0.6666666666666666, \"#ed7953\"], [0.7777777777777778, \"#fb9f3a\"], [0.8888888888888888, \"#fdca26\"], [1.0, \"#f0f921\"]], \"type\": \"heatmap\"}], \"heatmapgl\": [{\"colorbar\": {\"outlinewidth\": 0, \"ticks\": \"\"}, \"colorscale\": [[0.0, \"#0d0887\"], [0.1111111111111111, \"#46039f\"], [0.2222222222222222, \"#7201a8\"], [0.3333333333333333, \"#9c179e\"], [0.4444444444444444, \"#bd3786\"], [0.5555555555555556, \"#d8576b\"], [0.6666666666666666, \"#ed7953\"], [0.7777777777777778, \"#fb9f3a\"], [0.8888888888888888, \"#fdca26\"], [1.0, \"#f0f921\"]], \"type\": \"heatmapgl\"}], \"histogram\": [{\"marker\": {\"colorbar\": {\"outlinewidth\": 0, \"ticks\": \"\"}}, \"type\": \"histogram\"}], \"histogram2d\": [{\"colorbar\": {\"outlinewidth\": 0, \"ticks\": \"\"}, \"colorscale\": [[0.0, \"#0d0887\"], [0.1111111111111111, \"#46039f\"], [0.2222222222222222, \"#7201a8\"], [0.3333333333333333, \"#9c179e\"], [0.4444444444444444, \"#bd3786\"], [0.5555555555555556, \"#d8576b\"], [0.6666666666666666, \"#ed7953\"], [0.7777777777777778, \"#fb9f3a\"], [0.8888888888888888, \"#fdca26\"], [1.0, \"#f0f921\"]], \"type\": \"histogram2d\"}], \"histogram2dcontour\": [{\"colorbar\": {\"outlinewidth\": 0, \"ticks\": \"\"}, \"colorscale\": [[0.0, \"#0d0887\"], [0.1111111111111111, \"#46039f\"], [0.2222222222222222, \"#7201a8\"], [0.3333333333333333, \"#9c179e\"], [0.4444444444444444, \"#bd3786\"], [0.5555555555555556, \"#d8576b\"], [0.6666666666666666, \"#ed7953\"], [0.7777777777777778, \"#fb9f3a\"], [0.8888888888888888, \"#fdca26\"], [1.0, \"#f0f921\"]], \"type\": \"histogram2dcontour\"}], \"mesh3d\": [{\"colorbar\": {\"outlinewidth\": 0, \"ticks\": \"\"}, \"type\": \"mesh3d\"}], \"parcoords\": [{\"line\": {\"colorbar\": {\"outlinewidth\": 0, \"ticks\": \"\"}}, \"type\": \"parcoords\"}], \"pie\": [{\"automargin\": true, \"type\": \"pie\"}], \"scatter\": [{\"marker\": {\"colorbar\": {\"outlinewidth\": 0, \"ticks\": \"\"}}, \"type\": \"scatter\"}], \"scatter3d\": [{\"line\": {\"colorbar\": {\"outlinewidth\": 0, \"ticks\": \"\"}}, \"marker\": {\"colorbar\": {\"outlinewidth\": 0, \"ticks\": \"\"}}, \"type\": \"scatter3d\"}], \"scattercarpet\": [{\"marker\": {\"colorbar\": {\"outlinewidth\": 0, \"ticks\": \"\"}}, \"type\": \"scattercarpet\"}], \"scattergeo\": [{\"marker\": {\"colorbar\": {\"outlinewidth\": 0, \"ticks\": \"\"}}, \"type\": \"scattergeo\"}], \"scattergl\": [{\"marker\": {\"colorbar\": {\"outlinewidth\": 0, \"ticks\": \"\"}}, \"type\": \"scattergl\"}], \"scattermapbox\": [{\"marker\": {\"colorbar\": {\"outlinewidth\": 0, \"ticks\": \"\"}}, \"type\": \"scattermapbox\"}], \"scatterpolar\": [{\"marker\": {\"colorbar\": {\"outlinewidth\": 0, \"ticks\": \"\"}}, \"type\": \"scatterpolar\"}], \"scatterpolargl\": [{\"marker\": {\"colorbar\": {\"outlinewidth\": 0, \"ticks\": \"\"}}, \"type\": \"scatterpolargl\"}], \"scatterternary\": [{\"marker\": {\"colorbar\": {\"outlinewidth\": 0, \"ticks\": \"\"}}, \"type\": \"scatterternary\"}], \"surface\": [{\"colorbar\": {\"outlinewidth\": 0, \"ticks\": \"\"}, \"colorscale\": [[0.0, \"#0d0887\"], [0.1111111111111111, \"#46039f\"], [0.2222222222222222, \"#7201a8\"], [0.3333333333333333, \"#9c179e\"], [0.4444444444444444, \"#bd3786\"], [0.5555555555555556, \"#d8576b\"], [0.6666666666666666, \"#ed7953\"], [0.7777777777777778, \"#fb9f3a\"], [0.8888888888888888, \"#fdca26\"], [1.0, \"#f0f921\"]], \"type\": \"surface\"}], \"table\": [{\"cells\": {\"fill\": {\"color\": \"#EBF0F8\"}, \"line\": {\"color\": \"white\"}}, \"header\": {\"fill\": {\"color\": \"#C8D4E3\"}, \"line\": {\"color\": \"white\"}}, \"type\": \"table\"}]}, \"layout\": {\"annotationdefaults\": {\"arrowcolor\": \"#2a3f5f\", \"arrowhead\": 0, \"arrowwidth\": 1}, \"coloraxis\": {\"colorbar\": {\"outlinewidth\": 0, \"ticks\": \"\"}}, \"colorscale\": {\"diverging\": [[0, \"#8e0152\"], [0.1, \"#c51b7d\"], [0.2, \"#de77ae\"], [0.3, \"#f1b6da\"], [0.4, \"#fde0ef\"], [0.5, \"#f7f7f7\"], [0.6, \"#e6f5d0\"], [0.7, \"#b8e186\"], [0.8, \"#7fbc41\"], [0.9, \"#4d9221\"], [1, \"#276419\"]], \"sequential\": [[0.0, \"#0d0887\"], [0.1111111111111111, \"#46039f\"], [0.2222222222222222, \"#7201a8\"], [0.3333333333333333, \"#9c179e\"], [0.4444444444444444, \"#bd3786\"], [0.5555555555555556, \"#d8576b\"], [0.6666666666666666, \"#ed7953\"], [0.7777777777777778, \"#fb9f3a\"], [0.8888888888888888, \"#fdca26\"], [1.0, \"#f0f921\"]], \"sequentialminus\": [[0.0, \"#0d0887\"], [0.1111111111111111, \"#46039f\"], [0.2222222222222222, \"#7201a8\"], [0.3333333333333333, \"#9c179e\"], [0.4444444444444444, \"#bd3786\"], [0.5555555555555556, \"#d8576b\"], [0.6666666666666666, \"#ed7953\"], [0.7777777777777778, \"#fb9f3a\"], [0.8888888888888888, \"#fdca26\"], [1.0, \"#f0f921\"]]}, \"colorway\": [\"#636efa\", \"#EF553B\", \"#00cc96\", \"#ab63fa\", \"#FFA15A\", \"#19d3f3\", \"#FF6692\", \"#B6E880\", \"#FF97FF\", \"#FECB52\"], \"font\": {\"color\": \"#2a3f5f\"}, \"geo\": {\"bgcolor\": \"white\", \"lakecolor\": \"white\", \"landcolor\": \"#E5ECF6\", \"showlakes\": true, \"showland\": true, \"subunitcolor\": \"white\"}, \"hoverlabel\": {\"align\": \"left\"}, \"hovermode\": \"closest\", \"mapbox\": {\"style\": \"light\"}, \"paper_bgcolor\": \"white\", \"plot_bgcolor\": \"#E5ECF6\", \"polar\": {\"angularaxis\": {\"gridcolor\": \"white\", \"linecolor\": \"white\", \"ticks\": \"\"}, \"bgcolor\": \"#E5ECF6\", \"radialaxis\": {\"gridcolor\": \"white\", \"linecolor\": \"white\", \"ticks\": \"\"}}, \"scene\": {\"xaxis\": {\"backgroundcolor\": \"#E5ECF6\", \"gridcolor\": \"white\", \"gridwidth\": 2, \"linecolor\": \"white\", \"showbackground\": true, \"ticks\": \"\", \"zerolinecolor\": \"white\"}, \"yaxis\": {\"backgroundcolor\": \"#E5ECF6\", \"gridcolor\": \"white\", \"gridwidth\": 2, \"linecolor\": \"white\", \"showbackground\": true, \"ticks\": \"\", \"zerolinecolor\": \"white\"}, \"zaxis\": {\"backgroundcolor\": \"#E5ECF6\", \"gridcolor\": \"white\", \"gridwidth\": 2, \"linecolor\": \"white\", \"showbackground\": true, \"ticks\": \"\", \"zerolinecolor\": \"white\"}}, \"shapedefaults\": {\"line\": {\"color\": \"#2a3f5f\"}}, \"ternary\": {\"aaxis\": {\"gridcolor\": \"white\", \"linecolor\": \"white\", \"ticks\": \"\"}, \"baxis\": {\"gridcolor\": \"white\", \"linecolor\": \"white\", \"ticks\": \"\"}, \"bgcolor\": \"#E5ECF6\", \"caxis\": {\"gridcolor\": \"white\", \"linecolor\": \"white\", \"ticks\": \"\"}}, \"title\": {\"x\": 0.05}, \"xaxis\": {\"automargin\": true, \"gridcolor\": \"white\", \"linecolor\": \"white\", \"ticks\": \"\", \"title\": {\"standoff\": 15}, \"zerolinecolor\": \"white\", \"zerolinewidth\": 2}, \"yaxis\": {\"automargin\": true, \"gridcolor\": \"white\", \"linecolor\": \"white\", \"ticks\": \"\", \"title\": {\"standoff\": 15}, \"zerolinecolor\": \"white\", \"zerolinewidth\": 2}}}, \"xaxis\": {\"anchor\": \"y\", \"domain\": [0.0, 1.0], \"title\": {\"text\": \"Type 1\"}}, \"yaxis\": {\"anchor\": \"x\", \"domain\": [0.0, 1.0], \"title\": {\"text\": \"value\"}}},                        {\"responsive\": true}                    ).then(function(){\n",
       "                            \n",
       "var gd = document.getElementById('039cc036-0140-4273-93f9-0c1e925a2b05');\n",
       "var x = new MutationObserver(function (mutations, observer) {{\n",
       "        var display = window.getComputedStyle(gd).display;\n",
       "        if (!display || display === 'none') {{\n",
       "            console.log([gd, 'removed!']);\n",
       "            Plotly.purge(gd);\n",
       "            observer.disconnect();\n",
       "        }}\n",
       "}});\n",
       "\n",
       "// Listen for the removal of the full notebook cells\n",
       "var notebookContainer = gd.closest('#notebook-container');\n",
       "if (notebookContainer) {{\n",
       "    x.observe(notebookContainer, {childList: true});\n",
       "}}\n",
       "\n",
       "// Listen for the clearing of the current output cell\n",
       "var outputEl = gd.closest('.output');\n",
       "if (outputEl) {{\n",
       "    x.observe(outputEl, {childList: true});\n",
       "}}\n",
       "\n",
       "                        })                };                });            </script>        </div>"
      ]
     },
     "metadata": {},
     "output_type": "display_data"
    }
   ],
   "source": [
    "# Excecise: Draw a barchart for the Attack column using the df above.\n",
    "\n",
    "attack_average_bar = px.bar(pokemon_type_average_sorted[\"Attack\"])\n",
    "attack_average_bar.show()"
   ]
  },
  {
   "cell_type": "code",
   "execution_count": 49,
   "metadata": {},
   "outputs": [
    {
     "data": {
      "application/vnd.plotly.v1+json": {
       "config": {
        "plotlyServerURL": "https://plot.ly"
       },
       "data": [
        {
         "alignmentgroup": "True",
         "hovertemplate": "variable=Attack<br>Type 1=%{x}<br>value=%{y}<extra></extra>",
         "legendgroup": "Attack",
         "marker": {
          "color": "#636efa"
         },
         "name": "Attack",
         "offsetgroup": "Attack",
         "orientation": "v",
         "showlegend": true,
         "textposition": "auto",
         "type": "bar",
         "x": [
          "Dragon",
          "Fighting",
          "Steel",
          "Rock",
          "Ground",
          "Dark",
          "Fire",
          "Poison",
          "Ice",
          "Water",
          "Grass",
          "Normal",
          "Ghost",
          "Bug",
          "Electric",
          "Fairy",
          "Psychic",
          "Flying"
         ],
         "xaxis": "x",
         "y": [
          103.4,
          96.77777777777777,
          92.08695652173913,
          89.925,
          88,
          86.86206896551724,
          82.19148936170212,
          74.67857142857143,
          73.22727272727273,
          72.77777777777777,
          72.11940298507463,
          72.08333333333333,
          71.36666666666666,
          70.97101449275362,
          66.125,
          57.1875,
          54.95348837209303,
          50
         ],
         "yaxis": "y"
        }
       ],
       "layout": {
        "barmode": "relative",
        "legend": {
         "title": {
          "text": "variable"
         },
         "tracegroupgap": 0
        },
        "margin": {
         "t": 60
        },
        "template": {
         "data": {
          "bar": [
           {
            "error_x": {
             "color": "#2a3f5f"
            },
            "error_y": {
             "color": "#2a3f5f"
            },
            "marker": {
             "line": {
              "color": "#E5ECF6",
              "width": 0.5
             }
            },
            "type": "bar"
           }
          ],
          "barpolar": [
           {
            "marker": {
             "line": {
              "color": "#E5ECF6",
              "width": 0.5
             }
            },
            "type": "barpolar"
           }
          ],
          "carpet": [
           {
            "aaxis": {
             "endlinecolor": "#2a3f5f",
             "gridcolor": "white",
             "linecolor": "white",
             "minorgridcolor": "white",
             "startlinecolor": "#2a3f5f"
            },
            "baxis": {
             "endlinecolor": "#2a3f5f",
             "gridcolor": "white",
             "linecolor": "white",
             "minorgridcolor": "white",
             "startlinecolor": "#2a3f5f"
            },
            "type": "carpet"
           }
          ],
          "choropleth": [
           {
            "colorbar": {
             "outlinewidth": 0,
             "ticks": ""
            },
            "type": "choropleth"
           }
          ],
          "contour": [
           {
            "colorbar": {
             "outlinewidth": 0,
             "ticks": ""
            },
            "colorscale": [
             [
              0,
              "#0d0887"
             ],
             [
              0.1111111111111111,
              "#46039f"
             ],
             [
              0.2222222222222222,
              "#7201a8"
             ],
             [
              0.3333333333333333,
              "#9c179e"
             ],
             [
              0.4444444444444444,
              "#bd3786"
             ],
             [
              0.5555555555555556,
              "#d8576b"
             ],
             [
              0.6666666666666666,
              "#ed7953"
             ],
             [
              0.7777777777777778,
              "#fb9f3a"
             ],
             [
              0.8888888888888888,
              "#fdca26"
             ],
             [
              1,
              "#f0f921"
             ]
            ],
            "type": "contour"
           }
          ],
          "contourcarpet": [
           {
            "colorbar": {
             "outlinewidth": 0,
             "ticks": ""
            },
            "type": "contourcarpet"
           }
          ],
          "heatmap": [
           {
            "colorbar": {
             "outlinewidth": 0,
             "ticks": ""
            },
            "colorscale": [
             [
              0,
              "#0d0887"
             ],
             [
              0.1111111111111111,
              "#46039f"
             ],
             [
              0.2222222222222222,
              "#7201a8"
             ],
             [
              0.3333333333333333,
              "#9c179e"
             ],
             [
              0.4444444444444444,
              "#bd3786"
             ],
             [
              0.5555555555555556,
              "#d8576b"
             ],
             [
              0.6666666666666666,
              "#ed7953"
             ],
             [
              0.7777777777777778,
              "#fb9f3a"
             ],
             [
              0.8888888888888888,
              "#fdca26"
             ],
             [
              1,
              "#f0f921"
             ]
            ],
            "type": "heatmap"
           }
          ],
          "heatmapgl": [
           {
            "colorbar": {
             "outlinewidth": 0,
             "ticks": ""
            },
            "colorscale": [
             [
              0,
              "#0d0887"
             ],
             [
              0.1111111111111111,
              "#46039f"
             ],
             [
              0.2222222222222222,
              "#7201a8"
             ],
             [
              0.3333333333333333,
              "#9c179e"
             ],
             [
              0.4444444444444444,
              "#bd3786"
             ],
             [
              0.5555555555555556,
              "#d8576b"
             ],
             [
              0.6666666666666666,
              "#ed7953"
             ],
             [
              0.7777777777777778,
              "#fb9f3a"
             ],
             [
              0.8888888888888888,
              "#fdca26"
             ],
             [
              1,
              "#f0f921"
             ]
            ],
            "type": "heatmapgl"
           }
          ],
          "histogram": [
           {
            "marker": {
             "colorbar": {
              "outlinewidth": 0,
              "ticks": ""
             }
            },
            "type": "histogram"
           }
          ],
          "histogram2d": [
           {
            "colorbar": {
             "outlinewidth": 0,
             "ticks": ""
            },
            "colorscale": [
             [
              0,
              "#0d0887"
             ],
             [
              0.1111111111111111,
              "#46039f"
             ],
             [
              0.2222222222222222,
              "#7201a8"
             ],
             [
              0.3333333333333333,
              "#9c179e"
             ],
             [
              0.4444444444444444,
              "#bd3786"
             ],
             [
              0.5555555555555556,
              "#d8576b"
             ],
             [
              0.6666666666666666,
              "#ed7953"
             ],
             [
              0.7777777777777778,
              "#fb9f3a"
             ],
             [
              0.8888888888888888,
              "#fdca26"
             ],
             [
              1,
              "#f0f921"
             ]
            ],
            "type": "histogram2d"
           }
          ],
          "histogram2dcontour": [
           {
            "colorbar": {
             "outlinewidth": 0,
             "ticks": ""
            },
            "colorscale": [
             [
              0,
              "#0d0887"
             ],
             [
              0.1111111111111111,
              "#46039f"
             ],
             [
              0.2222222222222222,
              "#7201a8"
             ],
             [
              0.3333333333333333,
              "#9c179e"
             ],
             [
              0.4444444444444444,
              "#bd3786"
             ],
             [
              0.5555555555555556,
              "#d8576b"
             ],
             [
              0.6666666666666666,
              "#ed7953"
             ],
             [
              0.7777777777777778,
              "#fb9f3a"
             ],
             [
              0.8888888888888888,
              "#fdca26"
             ],
             [
              1,
              "#f0f921"
             ]
            ],
            "type": "histogram2dcontour"
           }
          ],
          "mesh3d": [
           {
            "colorbar": {
             "outlinewidth": 0,
             "ticks": ""
            },
            "type": "mesh3d"
           }
          ],
          "parcoords": [
           {
            "line": {
             "colorbar": {
              "outlinewidth": 0,
              "ticks": ""
             }
            },
            "type": "parcoords"
           }
          ],
          "pie": [
           {
            "automargin": true,
            "type": "pie"
           }
          ],
          "scatter": [
           {
            "marker": {
             "colorbar": {
              "outlinewidth": 0,
              "ticks": ""
             }
            },
            "type": "scatter"
           }
          ],
          "scatter3d": [
           {
            "line": {
             "colorbar": {
              "outlinewidth": 0,
              "ticks": ""
             }
            },
            "marker": {
             "colorbar": {
              "outlinewidth": 0,
              "ticks": ""
             }
            },
            "type": "scatter3d"
           }
          ],
          "scattercarpet": [
           {
            "marker": {
             "colorbar": {
              "outlinewidth": 0,
              "ticks": ""
             }
            },
            "type": "scattercarpet"
           }
          ],
          "scattergeo": [
           {
            "marker": {
             "colorbar": {
              "outlinewidth": 0,
              "ticks": ""
             }
            },
            "type": "scattergeo"
           }
          ],
          "scattergl": [
           {
            "marker": {
             "colorbar": {
              "outlinewidth": 0,
              "ticks": ""
             }
            },
            "type": "scattergl"
           }
          ],
          "scattermapbox": [
           {
            "marker": {
             "colorbar": {
              "outlinewidth": 0,
              "ticks": ""
             }
            },
            "type": "scattermapbox"
           }
          ],
          "scatterpolar": [
           {
            "marker": {
             "colorbar": {
              "outlinewidth": 0,
              "ticks": ""
             }
            },
            "type": "scatterpolar"
           }
          ],
          "scatterpolargl": [
           {
            "marker": {
             "colorbar": {
              "outlinewidth": 0,
              "ticks": ""
             }
            },
            "type": "scatterpolargl"
           }
          ],
          "scatterternary": [
           {
            "marker": {
             "colorbar": {
              "outlinewidth": 0,
              "ticks": ""
             }
            },
            "type": "scatterternary"
           }
          ],
          "surface": [
           {
            "colorbar": {
             "outlinewidth": 0,
             "ticks": ""
            },
            "colorscale": [
             [
              0,
              "#0d0887"
             ],
             [
              0.1111111111111111,
              "#46039f"
             ],
             [
              0.2222222222222222,
              "#7201a8"
             ],
             [
              0.3333333333333333,
              "#9c179e"
             ],
             [
              0.4444444444444444,
              "#bd3786"
             ],
             [
              0.5555555555555556,
              "#d8576b"
             ],
             [
              0.6666666666666666,
              "#ed7953"
             ],
             [
              0.7777777777777778,
              "#fb9f3a"
             ],
             [
              0.8888888888888888,
              "#fdca26"
             ],
             [
              1,
              "#f0f921"
             ]
            ],
            "type": "surface"
           }
          ],
          "table": [
           {
            "cells": {
             "fill": {
              "color": "#EBF0F8"
             },
             "line": {
              "color": "white"
             }
            },
            "header": {
             "fill": {
              "color": "#C8D4E3"
             },
             "line": {
              "color": "white"
             }
            },
            "type": "table"
           }
          ]
         },
         "layout": {
          "annotationdefaults": {
           "arrowcolor": "#2a3f5f",
           "arrowhead": 0,
           "arrowwidth": 1
          },
          "coloraxis": {
           "colorbar": {
            "outlinewidth": 0,
            "ticks": ""
           }
          },
          "colorscale": {
           "diverging": [
            [
             0,
             "#8e0152"
            ],
            [
             0.1,
             "#c51b7d"
            ],
            [
             0.2,
             "#de77ae"
            ],
            [
             0.3,
             "#f1b6da"
            ],
            [
             0.4,
             "#fde0ef"
            ],
            [
             0.5,
             "#f7f7f7"
            ],
            [
             0.6,
             "#e6f5d0"
            ],
            [
             0.7,
             "#b8e186"
            ],
            [
             0.8,
             "#7fbc41"
            ],
            [
             0.9,
             "#4d9221"
            ],
            [
             1,
             "#276419"
            ]
           ],
           "sequential": [
            [
             0,
             "#0d0887"
            ],
            [
             0.1111111111111111,
             "#46039f"
            ],
            [
             0.2222222222222222,
             "#7201a8"
            ],
            [
             0.3333333333333333,
             "#9c179e"
            ],
            [
             0.4444444444444444,
             "#bd3786"
            ],
            [
             0.5555555555555556,
             "#d8576b"
            ],
            [
             0.6666666666666666,
             "#ed7953"
            ],
            [
             0.7777777777777778,
             "#fb9f3a"
            ],
            [
             0.8888888888888888,
             "#fdca26"
            ],
            [
             1,
             "#f0f921"
            ]
           ],
           "sequentialminus": [
            [
             0,
             "#0d0887"
            ],
            [
             0.1111111111111111,
             "#46039f"
            ],
            [
             0.2222222222222222,
             "#7201a8"
            ],
            [
             0.3333333333333333,
             "#9c179e"
            ],
            [
             0.4444444444444444,
             "#bd3786"
            ],
            [
             0.5555555555555556,
             "#d8576b"
            ],
            [
             0.6666666666666666,
             "#ed7953"
            ],
            [
             0.7777777777777778,
             "#fb9f3a"
            ],
            [
             0.8888888888888888,
             "#fdca26"
            ],
            [
             1,
             "#f0f921"
            ]
           ]
          },
          "colorway": [
           "#636efa",
           "#EF553B",
           "#00cc96",
           "#ab63fa",
           "#FFA15A",
           "#19d3f3",
           "#FF6692",
           "#B6E880",
           "#FF97FF",
           "#FECB52"
          ],
          "font": {
           "color": "#2a3f5f"
          },
          "geo": {
           "bgcolor": "white",
           "lakecolor": "white",
           "landcolor": "#E5ECF6",
           "showlakes": true,
           "showland": true,
           "subunitcolor": "white"
          },
          "hoverlabel": {
           "align": "left"
          },
          "hovermode": "closest",
          "mapbox": {
           "style": "light"
          },
          "paper_bgcolor": "white",
          "plot_bgcolor": "#E5ECF6",
          "polar": {
           "angularaxis": {
            "gridcolor": "white",
            "linecolor": "white",
            "ticks": ""
           },
           "bgcolor": "#E5ECF6",
           "radialaxis": {
            "gridcolor": "white",
            "linecolor": "white",
            "ticks": ""
           }
          },
          "scene": {
           "xaxis": {
            "backgroundcolor": "#E5ECF6",
            "gridcolor": "white",
            "gridwidth": 2,
            "linecolor": "white",
            "showbackground": true,
            "ticks": "",
            "zerolinecolor": "white"
           },
           "yaxis": {
            "backgroundcolor": "#E5ECF6",
            "gridcolor": "white",
            "gridwidth": 2,
            "linecolor": "white",
            "showbackground": true,
            "ticks": "",
            "zerolinecolor": "white"
           },
           "zaxis": {
            "backgroundcolor": "#E5ECF6",
            "gridcolor": "white",
            "gridwidth": 2,
            "linecolor": "white",
            "showbackground": true,
            "ticks": "",
            "zerolinecolor": "white"
           }
          },
          "shapedefaults": {
           "line": {
            "color": "#2a3f5f"
           }
          },
          "ternary": {
           "aaxis": {
            "gridcolor": "white",
            "linecolor": "white",
            "ticks": ""
           },
           "baxis": {
            "gridcolor": "white",
            "linecolor": "white",
            "ticks": ""
           },
           "bgcolor": "#E5ECF6",
           "caxis": {
            "gridcolor": "white",
            "linecolor": "white",
            "ticks": ""
           }
          },
          "title": {
           "x": 0.05
          },
          "xaxis": {
           "automargin": true,
           "gridcolor": "white",
           "linecolor": "white",
           "ticks": "",
           "title": {
            "standoff": 15
           },
           "zerolinecolor": "white",
           "zerolinewidth": 2
          },
          "yaxis": {
           "automargin": true,
           "gridcolor": "white",
           "linecolor": "white",
           "ticks": "",
           "title": {
            "standoff": 15
           },
           "zerolinecolor": "white",
           "zerolinewidth": 2
          }
         }
        },
        "xaxis": {
         "anchor": "y",
         "domain": [
          0,
          1
         ],
         "title": {
          "text": "Type 1"
         }
        },
        "yaxis": {
         "anchor": "x",
         "domain": [
          0,
          1
         ],
         "title": {
          "text": "value"
         }
        }
       }
      },
      "text/html": [
       "<div>                            <div id=\"55a050ff-7ae0-4553-8466-120cccaa4b5a\" class=\"plotly-graph-div\" style=\"height:525px; width:100%;\"></div>            <script type=\"text/javascript\">                require([\"plotly\"], function(Plotly) {                    window.PLOTLYENV=window.PLOTLYENV || {};                                    if (document.getElementById(\"55a050ff-7ae0-4553-8466-120cccaa4b5a\")) {                    Plotly.newPlot(                        \"55a050ff-7ae0-4553-8466-120cccaa4b5a\",                        [{\"alignmentgroup\": \"True\", \"hovertemplate\": \"variable=Attack<br>Type 1=%{x}<br>value=%{y}<extra></extra>\", \"legendgroup\": \"Attack\", \"marker\": {\"color\": \"#636efa\"}, \"name\": \"Attack\", \"offsetgroup\": \"Attack\", \"orientation\": \"v\", \"showlegend\": true, \"textposition\": \"auto\", \"type\": \"bar\", \"x\": [\"Dragon\", \"Fighting\", \"Steel\", \"Rock\", \"Ground\", \"Dark\", \"Fire\", \"Poison\", \"Ice\", \"Water\", \"Grass\", \"Normal\", \"Ghost\", \"Bug\", \"Electric\", \"Fairy\", \"Psychic\", \"Flying\"], \"xaxis\": \"x\", \"y\": [103.4, 96.77777777777777, 92.08695652173913, 89.925, 88.0, 86.86206896551724, 82.19148936170212, 74.67857142857143, 73.22727272727273, 72.77777777777777, 72.11940298507463, 72.08333333333333, 71.36666666666666, 70.97101449275362, 66.125, 57.1875, 54.95348837209303, 50.0], \"yaxis\": \"y\"}],                        {\"barmode\": \"relative\", \"legend\": {\"title\": {\"text\": \"variable\"}, \"tracegroupgap\": 0}, \"margin\": {\"t\": 60}, \"template\": {\"data\": {\"bar\": [{\"error_x\": {\"color\": \"#2a3f5f\"}, \"error_y\": {\"color\": \"#2a3f5f\"}, \"marker\": {\"line\": {\"color\": \"#E5ECF6\", \"width\": 0.5}}, \"type\": \"bar\"}], \"barpolar\": [{\"marker\": {\"line\": {\"color\": \"#E5ECF6\", \"width\": 0.5}}, \"type\": \"barpolar\"}], \"carpet\": [{\"aaxis\": {\"endlinecolor\": \"#2a3f5f\", \"gridcolor\": \"white\", \"linecolor\": \"white\", \"minorgridcolor\": \"white\", \"startlinecolor\": \"#2a3f5f\"}, \"baxis\": {\"endlinecolor\": \"#2a3f5f\", \"gridcolor\": \"white\", \"linecolor\": \"white\", \"minorgridcolor\": \"white\", \"startlinecolor\": \"#2a3f5f\"}, \"type\": \"carpet\"}], \"choropleth\": [{\"colorbar\": {\"outlinewidth\": 0, \"ticks\": \"\"}, \"type\": \"choropleth\"}], \"contour\": [{\"colorbar\": {\"outlinewidth\": 0, \"ticks\": \"\"}, \"colorscale\": [[0.0, \"#0d0887\"], [0.1111111111111111, \"#46039f\"], [0.2222222222222222, \"#7201a8\"], [0.3333333333333333, \"#9c179e\"], [0.4444444444444444, \"#bd3786\"], [0.5555555555555556, \"#d8576b\"], [0.6666666666666666, \"#ed7953\"], [0.7777777777777778, \"#fb9f3a\"], [0.8888888888888888, \"#fdca26\"], [1.0, \"#f0f921\"]], \"type\": \"contour\"}], \"contourcarpet\": [{\"colorbar\": {\"outlinewidth\": 0, \"ticks\": \"\"}, \"type\": \"contourcarpet\"}], \"heatmap\": [{\"colorbar\": {\"outlinewidth\": 0, \"ticks\": \"\"}, \"colorscale\": [[0.0, \"#0d0887\"], [0.1111111111111111, \"#46039f\"], [0.2222222222222222, \"#7201a8\"], [0.3333333333333333, \"#9c179e\"], [0.4444444444444444, \"#bd3786\"], [0.5555555555555556, \"#d8576b\"], [0.6666666666666666, \"#ed7953\"], [0.7777777777777778, \"#fb9f3a\"], [0.8888888888888888, \"#fdca26\"], [1.0, \"#f0f921\"]], \"type\": \"heatmap\"}], \"heatmapgl\": [{\"colorbar\": {\"outlinewidth\": 0, \"ticks\": \"\"}, \"colorscale\": [[0.0, \"#0d0887\"], [0.1111111111111111, \"#46039f\"], [0.2222222222222222, \"#7201a8\"], [0.3333333333333333, \"#9c179e\"], [0.4444444444444444, \"#bd3786\"], [0.5555555555555556, \"#d8576b\"], [0.6666666666666666, \"#ed7953\"], [0.7777777777777778, \"#fb9f3a\"], [0.8888888888888888, \"#fdca26\"], [1.0, \"#f0f921\"]], \"type\": \"heatmapgl\"}], \"histogram\": [{\"marker\": {\"colorbar\": {\"outlinewidth\": 0, \"ticks\": \"\"}}, \"type\": \"histogram\"}], \"histogram2d\": [{\"colorbar\": {\"outlinewidth\": 0, \"ticks\": \"\"}, \"colorscale\": [[0.0, \"#0d0887\"], [0.1111111111111111, \"#46039f\"], [0.2222222222222222, \"#7201a8\"], [0.3333333333333333, \"#9c179e\"], [0.4444444444444444, \"#bd3786\"], [0.5555555555555556, \"#d8576b\"], [0.6666666666666666, \"#ed7953\"], [0.7777777777777778, \"#fb9f3a\"], [0.8888888888888888, \"#fdca26\"], [1.0, \"#f0f921\"]], \"type\": \"histogram2d\"}], \"histogram2dcontour\": [{\"colorbar\": {\"outlinewidth\": 0, \"ticks\": \"\"}, \"colorscale\": [[0.0, \"#0d0887\"], [0.1111111111111111, \"#46039f\"], [0.2222222222222222, \"#7201a8\"], [0.3333333333333333, \"#9c179e\"], [0.4444444444444444, \"#bd3786\"], [0.5555555555555556, \"#d8576b\"], [0.6666666666666666, \"#ed7953\"], [0.7777777777777778, \"#fb9f3a\"], [0.8888888888888888, \"#fdca26\"], [1.0, \"#f0f921\"]], \"type\": \"histogram2dcontour\"}], \"mesh3d\": [{\"colorbar\": {\"outlinewidth\": 0, \"ticks\": \"\"}, \"type\": \"mesh3d\"}], \"parcoords\": [{\"line\": {\"colorbar\": {\"outlinewidth\": 0, \"ticks\": \"\"}}, \"type\": \"parcoords\"}], \"pie\": [{\"automargin\": true, \"type\": \"pie\"}], \"scatter\": [{\"marker\": {\"colorbar\": {\"outlinewidth\": 0, \"ticks\": \"\"}}, \"type\": \"scatter\"}], \"scatter3d\": [{\"line\": {\"colorbar\": {\"outlinewidth\": 0, \"ticks\": \"\"}}, \"marker\": {\"colorbar\": {\"outlinewidth\": 0, \"ticks\": \"\"}}, \"type\": \"scatter3d\"}], \"scattercarpet\": [{\"marker\": {\"colorbar\": {\"outlinewidth\": 0, \"ticks\": \"\"}}, \"type\": \"scattercarpet\"}], \"scattergeo\": [{\"marker\": {\"colorbar\": {\"outlinewidth\": 0, \"ticks\": \"\"}}, \"type\": \"scattergeo\"}], \"scattergl\": [{\"marker\": {\"colorbar\": {\"outlinewidth\": 0, \"ticks\": \"\"}}, \"type\": \"scattergl\"}], \"scattermapbox\": [{\"marker\": {\"colorbar\": {\"outlinewidth\": 0, \"ticks\": \"\"}}, \"type\": \"scattermapbox\"}], \"scatterpolar\": [{\"marker\": {\"colorbar\": {\"outlinewidth\": 0, \"ticks\": \"\"}}, \"type\": \"scatterpolar\"}], \"scatterpolargl\": [{\"marker\": {\"colorbar\": {\"outlinewidth\": 0, \"ticks\": \"\"}}, \"type\": \"scatterpolargl\"}], \"scatterternary\": [{\"marker\": {\"colorbar\": {\"outlinewidth\": 0, \"ticks\": \"\"}}, \"type\": \"scatterternary\"}], \"surface\": [{\"colorbar\": {\"outlinewidth\": 0, \"ticks\": \"\"}, \"colorscale\": [[0.0, \"#0d0887\"], [0.1111111111111111, \"#46039f\"], [0.2222222222222222, \"#7201a8\"], [0.3333333333333333, \"#9c179e\"], [0.4444444444444444, \"#bd3786\"], [0.5555555555555556, \"#d8576b\"], [0.6666666666666666, \"#ed7953\"], [0.7777777777777778, \"#fb9f3a\"], [0.8888888888888888, \"#fdca26\"], [1.0, \"#f0f921\"]], \"type\": \"surface\"}], \"table\": [{\"cells\": {\"fill\": {\"color\": \"#EBF0F8\"}, \"line\": {\"color\": \"white\"}}, \"header\": {\"fill\": {\"color\": \"#C8D4E3\"}, \"line\": {\"color\": \"white\"}}, \"type\": \"table\"}]}, \"layout\": {\"annotationdefaults\": {\"arrowcolor\": \"#2a3f5f\", \"arrowhead\": 0, \"arrowwidth\": 1}, \"coloraxis\": {\"colorbar\": {\"outlinewidth\": 0, \"ticks\": \"\"}}, \"colorscale\": {\"diverging\": [[0, \"#8e0152\"], [0.1, \"#c51b7d\"], [0.2, \"#de77ae\"], [0.3, \"#f1b6da\"], [0.4, \"#fde0ef\"], [0.5, \"#f7f7f7\"], [0.6, \"#e6f5d0\"], [0.7, \"#b8e186\"], [0.8, \"#7fbc41\"], [0.9, \"#4d9221\"], [1, \"#276419\"]], \"sequential\": [[0.0, \"#0d0887\"], [0.1111111111111111, \"#46039f\"], [0.2222222222222222, \"#7201a8\"], [0.3333333333333333, \"#9c179e\"], [0.4444444444444444, \"#bd3786\"], [0.5555555555555556, \"#d8576b\"], [0.6666666666666666, \"#ed7953\"], [0.7777777777777778, \"#fb9f3a\"], [0.8888888888888888, \"#fdca26\"], [1.0, \"#f0f921\"]], \"sequentialminus\": [[0.0, \"#0d0887\"], [0.1111111111111111, \"#46039f\"], [0.2222222222222222, \"#7201a8\"], [0.3333333333333333, \"#9c179e\"], [0.4444444444444444, \"#bd3786\"], [0.5555555555555556, \"#d8576b\"], [0.6666666666666666, \"#ed7953\"], [0.7777777777777778, \"#fb9f3a\"], [0.8888888888888888, \"#fdca26\"], [1.0, \"#f0f921\"]]}, \"colorway\": [\"#636efa\", \"#EF553B\", \"#00cc96\", \"#ab63fa\", \"#FFA15A\", \"#19d3f3\", \"#FF6692\", \"#B6E880\", \"#FF97FF\", \"#FECB52\"], \"font\": {\"color\": \"#2a3f5f\"}, \"geo\": {\"bgcolor\": \"white\", \"lakecolor\": \"white\", \"landcolor\": \"#E5ECF6\", \"showlakes\": true, \"showland\": true, \"subunitcolor\": \"white\"}, \"hoverlabel\": {\"align\": \"left\"}, \"hovermode\": \"closest\", \"mapbox\": {\"style\": \"light\"}, \"paper_bgcolor\": \"white\", \"plot_bgcolor\": \"#E5ECF6\", \"polar\": {\"angularaxis\": {\"gridcolor\": \"white\", \"linecolor\": \"white\", \"ticks\": \"\"}, \"bgcolor\": \"#E5ECF6\", \"radialaxis\": {\"gridcolor\": \"white\", \"linecolor\": \"white\", \"ticks\": \"\"}}, \"scene\": {\"xaxis\": {\"backgroundcolor\": \"#E5ECF6\", \"gridcolor\": \"white\", \"gridwidth\": 2, \"linecolor\": \"white\", \"showbackground\": true, \"ticks\": \"\", \"zerolinecolor\": \"white\"}, \"yaxis\": {\"backgroundcolor\": \"#E5ECF6\", \"gridcolor\": \"white\", \"gridwidth\": 2, \"linecolor\": \"white\", \"showbackground\": true, \"ticks\": \"\", \"zerolinecolor\": \"white\"}, \"zaxis\": {\"backgroundcolor\": \"#E5ECF6\", \"gridcolor\": \"white\", \"gridwidth\": 2, \"linecolor\": \"white\", \"showbackground\": true, \"ticks\": \"\", \"zerolinecolor\": \"white\"}}, \"shapedefaults\": {\"line\": {\"color\": \"#2a3f5f\"}}, \"ternary\": {\"aaxis\": {\"gridcolor\": \"white\", \"linecolor\": \"white\", \"ticks\": \"\"}, \"baxis\": {\"gridcolor\": \"white\", \"linecolor\": \"white\", \"ticks\": \"\"}, \"bgcolor\": \"#E5ECF6\", \"caxis\": {\"gridcolor\": \"white\", \"linecolor\": \"white\", \"ticks\": \"\"}}, \"title\": {\"x\": 0.05}, \"xaxis\": {\"automargin\": true, \"gridcolor\": \"white\", \"linecolor\": \"white\", \"ticks\": \"\", \"title\": {\"standoff\": 15}, \"zerolinecolor\": \"white\", \"zerolinewidth\": 2}, \"yaxis\": {\"automargin\": true, \"gridcolor\": \"white\", \"linecolor\": \"white\", \"ticks\": \"\", \"title\": {\"standoff\": 15}, \"zerolinecolor\": \"white\", \"zerolinewidth\": 2}}}, \"xaxis\": {\"anchor\": \"y\", \"domain\": [0.0, 1.0], \"title\": {\"text\": \"Type 1\"}}, \"yaxis\": {\"anchor\": \"x\", \"domain\": [0.0, 1.0], \"title\": {\"text\": \"value\"}}},                        {\"responsive\": true}                    ).then(function(){\n",
       "                            \n",
       "var gd = document.getElementById('55a050ff-7ae0-4553-8466-120cccaa4b5a');\n",
       "var x = new MutationObserver(function (mutations, observer) {{\n",
       "        var display = window.getComputedStyle(gd).display;\n",
       "        if (!display || display === 'none') {{\n",
       "            console.log([gd, 'removed!']);\n",
       "            Plotly.purge(gd);\n",
       "            observer.disconnect();\n",
       "        }}\n",
       "}});\n",
       "\n",
       "// Listen for the removal of the full notebook cells\n",
       "var notebookContainer = gd.closest('#notebook-container');\n",
       "if (notebookContainer) {{\n",
       "    x.observe(notebookContainer, {childList: true});\n",
       "}}\n",
       "\n",
       "// Listen for the clearing of the current output cell\n",
       "var outputEl = gd.closest('.output');\n",
       "if (outputEl) {{\n",
       "    x.observe(outputEl, {childList: true});\n",
       "}}\n",
       "\n",
       "                        })                };                });            </script>        </div>"
      ]
     },
     "metadata": {},
     "output_type": "display_data"
    }
   ],
   "source": [
    "# Can I plot the chart above in a sorted way?\n",
    "\n",
    "type_attack_sorted = pokemon_type_average.sort_values(by=\"Attack\",ascending=False)\n",
    "attack_average_sorted_bar = px.bar(type_attack_sorted[\"Attack\"])\n",
    "attack_average_sorted_bar.show()"
   ]
  },
  {
   "cell_type": "code",
   "execution_count": 64,
   "metadata": {},
   "outputs": [
    {
     "data": {
      "application/vnd.plotly.v1+json": {
       "config": {
        "plotlyServerURL": "https://plot.ly"
       },
       "data": [
        {
         "alignmentgroup": "True",
         "hovertemplate": "variable=Attack<br>Type=%{x}<br>Attack=%{y}<extra></extra>",
         "legendgroup": "Attack",
         "marker": {
          "color": "#F8766D"
         },
         "name": "Attack",
         "offsetgroup": "Attack",
         "orientation": "v",
         "showlegend": true,
         "textposition": "auto",
         "type": "bar",
         "x": [
          "Dragon",
          "Fighting",
          "Steel",
          "Rock",
          "Ground",
          "Dark",
          "Fire",
          "Poison",
          "Ice",
          "Water",
          "Grass",
          "Normal",
          "Ghost",
          "Bug",
          "Electric",
          "Fairy",
          "Psychic",
          "Flying"
         ],
         "xaxis": "x",
         "y": [
          103.4,
          96.77777777777777,
          92.08695652173913,
          89.925,
          88,
          86.86206896551724,
          82.19148936170212,
          74.67857142857143,
          73.22727272727273,
          72.77777777777777,
          72.11940298507463,
          72.08333333333333,
          71.36666666666666,
          70.97101449275362,
          66.125,
          57.1875,
          54.95348837209303,
          50
         ],
         "yaxis": "y"
        }
       ],
       "layout": {
        "barmode": "relative",
        "legend": {
         "title": {
          "text": "variable"
         },
         "tracegroupgap": 0
        },
        "template": {
         "data": {
          "bar": [
           {
            "error_x": {
             "color": "rgb(51,51,51)"
            },
            "error_y": {
             "color": "rgb(51,51,51)"
            },
            "marker": {
             "line": {
              "color": "rgb(237,237,237)",
              "width": 0.5
             }
            },
            "type": "bar"
           }
          ],
          "barpolar": [
           {
            "marker": {
             "line": {
              "color": "rgb(237,237,237)",
              "width": 0.5
             }
            },
            "type": "barpolar"
           }
          ],
          "carpet": [
           {
            "aaxis": {
             "endlinecolor": "rgb(51,51,51)",
             "gridcolor": "white",
             "linecolor": "white",
             "minorgridcolor": "white",
             "startlinecolor": "rgb(51,51,51)"
            },
            "baxis": {
             "endlinecolor": "rgb(51,51,51)",
             "gridcolor": "white",
             "linecolor": "white",
             "minorgridcolor": "white",
             "startlinecolor": "rgb(51,51,51)"
            },
            "type": "carpet"
           }
          ],
          "choropleth": [
           {
            "colorbar": {
             "outlinewidth": 0,
             "tickcolor": "rgb(237,237,237)",
             "ticklen": 6,
             "ticks": "inside"
            },
            "type": "choropleth"
           }
          ],
          "contour": [
           {
            "colorbar": {
             "outlinewidth": 0,
             "tickcolor": "rgb(237,237,237)",
             "ticklen": 6,
             "ticks": "inside"
            },
            "colorscale": [
             [
              0,
              "rgb(20,44,66)"
             ],
             [
              1,
              "rgb(90,179,244)"
             ]
            ],
            "type": "contour"
           }
          ],
          "contourcarpet": [
           {
            "colorbar": {
             "outlinewidth": 0,
             "tickcolor": "rgb(237,237,237)",
             "ticklen": 6,
             "ticks": "inside"
            },
            "type": "contourcarpet"
           }
          ],
          "heatmap": [
           {
            "colorbar": {
             "outlinewidth": 0,
             "tickcolor": "rgb(237,237,237)",
             "ticklen": 6,
             "ticks": "inside"
            },
            "colorscale": [
             [
              0,
              "rgb(20,44,66)"
             ],
             [
              1,
              "rgb(90,179,244)"
             ]
            ],
            "type": "heatmap"
           }
          ],
          "heatmapgl": [
           {
            "colorbar": {
             "outlinewidth": 0,
             "tickcolor": "rgb(237,237,237)",
             "ticklen": 6,
             "ticks": "inside"
            },
            "colorscale": [
             [
              0,
              "rgb(20,44,66)"
             ],
             [
              1,
              "rgb(90,179,244)"
             ]
            ],
            "type": "heatmapgl"
           }
          ],
          "histogram": [
           {
            "marker": {
             "colorbar": {
              "outlinewidth": 0,
              "tickcolor": "rgb(237,237,237)",
              "ticklen": 6,
              "ticks": "inside"
             }
            },
            "type": "histogram"
           }
          ],
          "histogram2d": [
           {
            "colorbar": {
             "outlinewidth": 0,
             "tickcolor": "rgb(237,237,237)",
             "ticklen": 6,
             "ticks": "inside"
            },
            "colorscale": [
             [
              0,
              "rgb(20,44,66)"
             ],
             [
              1,
              "rgb(90,179,244)"
             ]
            ],
            "type": "histogram2d"
           }
          ],
          "histogram2dcontour": [
           {
            "colorbar": {
             "outlinewidth": 0,
             "tickcolor": "rgb(237,237,237)",
             "ticklen": 6,
             "ticks": "inside"
            },
            "colorscale": [
             [
              0,
              "rgb(20,44,66)"
             ],
             [
              1,
              "rgb(90,179,244)"
             ]
            ],
            "type": "histogram2dcontour"
           }
          ],
          "mesh3d": [
           {
            "colorbar": {
             "outlinewidth": 0,
             "tickcolor": "rgb(237,237,237)",
             "ticklen": 6,
             "ticks": "inside"
            },
            "type": "mesh3d"
           }
          ],
          "parcoords": [
           {
            "line": {
             "colorbar": {
              "outlinewidth": 0,
              "tickcolor": "rgb(237,237,237)",
              "ticklen": 6,
              "ticks": "inside"
             }
            },
            "type": "parcoords"
           }
          ],
          "pie": [
           {
            "automargin": true,
            "type": "pie"
           }
          ],
          "scatter": [
           {
            "marker": {
             "colorbar": {
              "outlinewidth": 0,
              "tickcolor": "rgb(237,237,237)",
              "ticklen": 6,
              "ticks": "inside"
             }
            },
            "type": "scatter"
           }
          ],
          "scatter3d": [
           {
            "line": {
             "colorbar": {
              "outlinewidth": 0,
              "tickcolor": "rgb(237,237,237)",
              "ticklen": 6,
              "ticks": "inside"
             }
            },
            "marker": {
             "colorbar": {
              "outlinewidth": 0,
              "tickcolor": "rgb(237,237,237)",
              "ticklen": 6,
              "ticks": "inside"
             }
            },
            "type": "scatter3d"
           }
          ],
          "scattercarpet": [
           {
            "marker": {
             "colorbar": {
              "outlinewidth": 0,
              "tickcolor": "rgb(237,237,237)",
              "ticklen": 6,
              "ticks": "inside"
             }
            },
            "type": "scattercarpet"
           }
          ],
          "scattergeo": [
           {
            "marker": {
             "colorbar": {
              "outlinewidth": 0,
              "tickcolor": "rgb(237,237,237)",
              "ticklen": 6,
              "ticks": "inside"
             }
            },
            "type": "scattergeo"
           }
          ],
          "scattergl": [
           {
            "marker": {
             "colorbar": {
              "outlinewidth": 0,
              "tickcolor": "rgb(237,237,237)",
              "ticklen": 6,
              "ticks": "inside"
             }
            },
            "type": "scattergl"
           }
          ],
          "scattermapbox": [
           {
            "marker": {
             "colorbar": {
              "outlinewidth": 0,
              "tickcolor": "rgb(237,237,237)",
              "ticklen": 6,
              "ticks": "inside"
             }
            },
            "type": "scattermapbox"
           }
          ],
          "scatterpolar": [
           {
            "marker": {
             "colorbar": {
              "outlinewidth": 0,
              "tickcolor": "rgb(237,237,237)",
              "ticklen": 6,
              "ticks": "inside"
             }
            },
            "type": "scatterpolar"
           }
          ],
          "scatterpolargl": [
           {
            "marker": {
             "colorbar": {
              "outlinewidth": 0,
              "tickcolor": "rgb(237,237,237)",
              "ticklen": 6,
              "ticks": "inside"
             }
            },
            "type": "scatterpolargl"
           }
          ],
          "scatterternary": [
           {
            "marker": {
             "colorbar": {
              "outlinewidth": 0,
              "tickcolor": "rgb(237,237,237)",
              "ticklen": 6,
              "ticks": "inside"
             }
            },
            "type": "scatterternary"
           }
          ],
          "surface": [
           {
            "colorbar": {
             "outlinewidth": 0,
             "tickcolor": "rgb(237,237,237)",
             "ticklen": 6,
             "ticks": "inside"
            },
            "colorscale": [
             [
              0,
              "rgb(20,44,66)"
             ],
             [
              1,
              "rgb(90,179,244)"
             ]
            ],
            "type": "surface"
           }
          ],
          "table": [
           {
            "cells": {
             "fill": {
              "color": "rgb(237,237,237)"
             },
             "line": {
              "color": "white"
             }
            },
            "header": {
             "fill": {
              "color": "rgb(217,217,217)"
             },
             "line": {
              "color": "white"
             }
            },
            "type": "table"
           }
          ]
         },
         "layout": {
          "annotationdefaults": {
           "arrowhead": 0,
           "arrowwidth": 1
          },
          "coloraxis": {
           "colorbar": {
            "outlinewidth": 0,
            "tickcolor": "rgb(237,237,237)",
            "ticklen": 6,
            "ticks": "inside"
           }
          },
          "colorscale": {
           "sequential": [
            [
             0,
             "rgb(20,44,66)"
            ],
            [
             1,
             "rgb(90,179,244)"
            ]
           ],
           "sequentialminus": [
            [
             0,
             "rgb(20,44,66)"
            ],
            [
             1,
             "rgb(90,179,244)"
            ]
           ]
          },
          "colorway": [
           "#F8766D",
           "#A3A500",
           "#00BF7D",
           "#00B0F6",
           "#E76BF3"
          ],
          "font": {
           "color": "rgb(51,51,51)"
          },
          "geo": {
           "bgcolor": "white",
           "lakecolor": "white",
           "landcolor": "rgb(237,237,237)",
           "showlakes": true,
           "showland": true,
           "subunitcolor": "white"
          },
          "hoverlabel": {
           "align": "left"
          },
          "hovermode": "closest",
          "paper_bgcolor": "white",
          "plot_bgcolor": "rgb(237,237,237)",
          "polar": {
           "angularaxis": {
            "gridcolor": "white",
            "linecolor": "white",
            "showgrid": true,
            "tickcolor": "rgb(51,51,51)",
            "ticks": "outside"
           },
           "bgcolor": "rgb(237,237,237)",
           "radialaxis": {
            "gridcolor": "white",
            "linecolor": "white",
            "showgrid": true,
            "tickcolor": "rgb(51,51,51)",
            "ticks": "outside"
           }
          },
          "scene": {
           "xaxis": {
            "backgroundcolor": "rgb(237,237,237)",
            "gridcolor": "white",
            "gridwidth": 2,
            "linecolor": "white",
            "showbackground": true,
            "showgrid": true,
            "tickcolor": "rgb(51,51,51)",
            "ticks": "outside",
            "zerolinecolor": "white"
           },
           "yaxis": {
            "backgroundcolor": "rgb(237,237,237)",
            "gridcolor": "white",
            "gridwidth": 2,
            "linecolor": "white",
            "showbackground": true,
            "showgrid": true,
            "tickcolor": "rgb(51,51,51)",
            "ticks": "outside",
            "zerolinecolor": "white"
           },
           "zaxis": {
            "backgroundcolor": "rgb(237,237,237)",
            "gridcolor": "white",
            "gridwidth": 2,
            "linecolor": "white",
            "showbackground": true,
            "showgrid": true,
            "tickcolor": "rgb(51,51,51)",
            "ticks": "outside",
            "zerolinecolor": "white"
           }
          },
          "shapedefaults": {
           "fillcolor": "black",
           "line": {
            "width": 0
           },
           "opacity": 0.3
          },
          "ternary": {
           "aaxis": {
            "gridcolor": "white",
            "linecolor": "white",
            "showgrid": true,
            "tickcolor": "rgb(51,51,51)",
            "ticks": "outside"
           },
           "baxis": {
            "gridcolor": "white",
            "linecolor": "white",
            "showgrid": true,
            "tickcolor": "rgb(51,51,51)",
            "ticks": "outside"
           },
           "bgcolor": "rgb(237,237,237)",
           "caxis": {
            "gridcolor": "white",
            "linecolor": "white",
            "showgrid": true,
            "tickcolor": "rgb(51,51,51)",
            "ticks": "outside"
           }
          },
          "xaxis": {
           "automargin": true,
           "gridcolor": "white",
           "linecolor": "white",
           "showgrid": true,
           "tickcolor": "rgb(51,51,51)",
           "ticks": "outside",
           "title": {
            "standoff": 15
           },
           "zerolinecolor": "white"
          },
          "yaxis": {
           "automargin": true,
           "gridcolor": "white",
           "linecolor": "white",
           "showgrid": true,
           "tickcolor": "rgb(51,51,51)",
           "ticks": "outside",
           "title": {
            "standoff": 15
           },
           "zerolinecolor": "white"
          }
         }
        },
        "title": {
         "text": "Average attack value of each type of pokemon"
        },
        "xaxis": {
         "anchor": "y",
         "domain": [
          0,
          1
         ],
         "title": {
          "text": "Type"
         }
        },
        "yaxis": {
         "anchor": "x",
         "domain": [
          0,
          1
         ],
         "title": {
          "text": "Attack"
         }
        }
       }
      },
      "text/html": [
       "<div>                            <div id=\"0782dd1d-e420-4770-aee3-68b4ca95c7a5\" class=\"plotly-graph-div\" style=\"height:525px; width:100%;\"></div>            <script type=\"text/javascript\">                require([\"plotly\"], function(Plotly) {                    window.PLOTLYENV=window.PLOTLYENV || {};                                    if (document.getElementById(\"0782dd1d-e420-4770-aee3-68b4ca95c7a5\")) {                    Plotly.newPlot(                        \"0782dd1d-e420-4770-aee3-68b4ca95c7a5\",                        [{\"alignmentgroup\": \"True\", \"hovertemplate\": \"variable=Attack<br>Type=%{x}<br>Attack=%{y}<extra></extra>\", \"legendgroup\": \"Attack\", \"marker\": {\"color\": \"#F8766D\"}, \"name\": \"Attack\", \"offsetgroup\": \"Attack\", \"orientation\": \"v\", \"showlegend\": true, \"textposition\": \"auto\", \"type\": \"bar\", \"x\": [\"Dragon\", \"Fighting\", \"Steel\", \"Rock\", \"Ground\", \"Dark\", \"Fire\", \"Poison\", \"Ice\", \"Water\", \"Grass\", \"Normal\", \"Ghost\", \"Bug\", \"Electric\", \"Fairy\", \"Psychic\", \"Flying\"], \"xaxis\": \"x\", \"y\": [103.4, 96.77777777777777, 92.08695652173913, 89.925, 88.0, 86.86206896551724, 82.19148936170212, 74.67857142857143, 73.22727272727273, 72.77777777777777, 72.11940298507463, 72.08333333333333, 71.36666666666666, 70.97101449275362, 66.125, 57.1875, 54.95348837209303, 50.0], \"yaxis\": \"y\"}],                        {\"barmode\": \"relative\", \"legend\": {\"title\": {\"text\": \"variable\"}, \"tracegroupgap\": 0}, \"template\": {\"data\": {\"bar\": [{\"error_x\": {\"color\": \"rgb(51,51,51)\"}, \"error_y\": {\"color\": \"rgb(51,51,51)\"}, \"marker\": {\"line\": {\"color\": \"rgb(237,237,237)\", \"width\": 0.5}}, \"type\": \"bar\"}], \"barpolar\": [{\"marker\": {\"line\": {\"color\": \"rgb(237,237,237)\", \"width\": 0.5}}, \"type\": \"barpolar\"}], \"carpet\": [{\"aaxis\": {\"endlinecolor\": \"rgb(51,51,51)\", \"gridcolor\": \"white\", \"linecolor\": \"white\", \"minorgridcolor\": \"white\", \"startlinecolor\": \"rgb(51,51,51)\"}, \"baxis\": {\"endlinecolor\": \"rgb(51,51,51)\", \"gridcolor\": \"white\", \"linecolor\": \"white\", \"minorgridcolor\": \"white\", \"startlinecolor\": \"rgb(51,51,51)\"}, \"type\": \"carpet\"}], \"choropleth\": [{\"colorbar\": {\"outlinewidth\": 0, \"tickcolor\": \"rgb(237,237,237)\", \"ticklen\": 6, \"ticks\": \"inside\"}, \"type\": \"choropleth\"}], \"contour\": [{\"colorbar\": {\"outlinewidth\": 0, \"tickcolor\": \"rgb(237,237,237)\", \"ticklen\": 6, \"ticks\": \"inside\"}, \"colorscale\": [[0, \"rgb(20,44,66)\"], [1, \"rgb(90,179,244)\"]], \"type\": \"contour\"}], \"contourcarpet\": [{\"colorbar\": {\"outlinewidth\": 0, \"tickcolor\": \"rgb(237,237,237)\", \"ticklen\": 6, \"ticks\": \"inside\"}, \"type\": \"contourcarpet\"}], \"heatmap\": [{\"colorbar\": {\"outlinewidth\": 0, \"tickcolor\": \"rgb(237,237,237)\", \"ticklen\": 6, \"ticks\": \"inside\"}, \"colorscale\": [[0, \"rgb(20,44,66)\"], [1, \"rgb(90,179,244)\"]], \"type\": \"heatmap\"}], \"heatmapgl\": [{\"colorbar\": {\"outlinewidth\": 0, \"tickcolor\": \"rgb(237,237,237)\", \"ticklen\": 6, \"ticks\": \"inside\"}, \"colorscale\": [[0, \"rgb(20,44,66)\"], [1, \"rgb(90,179,244)\"]], \"type\": \"heatmapgl\"}], \"histogram\": [{\"marker\": {\"colorbar\": {\"outlinewidth\": 0, \"tickcolor\": \"rgb(237,237,237)\", \"ticklen\": 6, \"ticks\": \"inside\"}}, \"type\": \"histogram\"}], \"histogram2d\": [{\"colorbar\": {\"outlinewidth\": 0, \"tickcolor\": \"rgb(237,237,237)\", \"ticklen\": 6, \"ticks\": \"inside\"}, \"colorscale\": [[0, \"rgb(20,44,66)\"], [1, \"rgb(90,179,244)\"]], \"type\": \"histogram2d\"}], \"histogram2dcontour\": [{\"colorbar\": {\"outlinewidth\": 0, \"tickcolor\": \"rgb(237,237,237)\", \"ticklen\": 6, \"ticks\": \"inside\"}, \"colorscale\": [[0, \"rgb(20,44,66)\"], [1, \"rgb(90,179,244)\"]], \"type\": \"histogram2dcontour\"}], \"mesh3d\": [{\"colorbar\": {\"outlinewidth\": 0, \"tickcolor\": \"rgb(237,237,237)\", \"ticklen\": 6, \"ticks\": \"inside\"}, \"type\": \"mesh3d\"}], \"parcoords\": [{\"line\": {\"colorbar\": {\"outlinewidth\": 0, \"tickcolor\": \"rgb(237,237,237)\", \"ticklen\": 6, \"ticks\": \"inside\"}}, \"type\": \"parcoords\"}], \"pie\": [{\"automargin\": true, \"type\": \"pie\"}], \"scatter\": [{\"marker\": {\"colorbar\": {\"outlinewidth\": 0, \"tickcolor\": \"rgb(237,237,237)\", \"ticklen\": 6, \"ticks\": \"inside\"}}, \"type\": \"scatter\"}], \"scatter3d\": [{\"line\": {\"colorbar\": {\"outlinewidth\": 0, \"tickcolor\": \"rgb(237,237,237)\", \"ticklen\": 6, \"ticks\": \"inside\"}}, \"marker\": {\"colorbar\": {\"outlinewidth\": 0, \"tickcolor\": \"rgb(237,237,237)\", \"ticklen\": 6, \"ticks\": \"inside\"}}, \"type\": \"scatter3d\"}], \"scattercarpet\": [{\"marker\": {\"colorbar\": {\"outlinewidth\": 0, \"tickcolor\": \"rgb(237,237,237)\", \"ticklen\": 6, \"ticks\": \"inside\"}}, \"type\": \"scattercarpet\"}], \"scattergeo\": [{\"marker\": {\"colorbar\": {\"outlinewidth\": 0, \"tickcolor\": \"rgb(237,237,237)\", \"ticklen\": 6, \"ticks\": \"inside\"}}, \"type\": \"scattergeo\"}], \"scattergl\": [{\"marker\": {\"colorbar\": {\"outlinewidth\": 0, \"tickcolor\": \"rgb(237,237,237)\", \"ticklen\": 6, \"ticks\": \"inside\"}}, \"type\": \"scattergl\"}], \"scattermapbox\": [{\"marker\": {\"colorbar\": {\"outlinewidth\": 0, \"tickcolor\": \"rgb(237,237,237)\", \"ticklen\": 6, \"ticks\": \"inside\"}}, \"type\": \"scattermapbox\"}], \"scatterpolar\": [{\"marker\": {\"colorbar\": {\"outlinewidth\": 0, \"tickcolor\": \"rgb(237,237,237)\", \"ticklen\": 6, \"ticks\": \"inside\"}}, \"type\": \"scatterpolar\"}], \"scatterpolargl\": [{\"marker\": {\"colorbar\": {\"outlinewidth\": 0, \"tickcolor\": \"rgb(237,237,237)\", \"ticklen\": 6, \"ticks\": \"inside\"}}, \"type\": \"scatterpolargl\"}], \"scatterternary\": [{\"marker\": {\"colorbar\": {\"outlinewidth\": 0, \"tickcolor\": \"rgb(237,237,237)\", \"ticklen\": 6, \"ticks\": \"inside\"}}, \"type\": \"scatterternary\"}], \"surface\": [{\"colorbar\": {\"outlinewidth\": 0, \"tickcolor\": \"rgb(237,237,237)\", \"ticklen\": 6, \"ticks\": \"inside\"}, \"colorscale\": [[0, \"rgb(20,44,66)\"], [1, \"rgb(90,179,244)\"]], \"type\": \"surface\"}], \"table\": [{\"cells\": {\"fill\": {\"color\": \"rgb(237,237,237)\"}, \"line\": {\"color\": \"white\"}}, \"header\": {\"fill\": {\"color\": \"rgb(217,217,217)\"}, \"line\": {\"color\": \"white\"}}, \"type\": \"table\"}]}, \"layout\": {\"annotationdefaults\": {\"arrowhead\": 0, \"arrowwidth\": 1}, \"coloraxis\": {\"colorbar\": {\"outlinewidth\": 0, \"tickcolor\": \"rgb(237,237,237)\", \"ticklen\": 6, \"ticks\": \"inside\"}}, \"colorscale\": {\"sequential\": [[0, \"rgb(20,44,66)\"], [1, \"rgb(90,179,244)\"]], \"sequentialminus\": [[0, \"rgb(20,44,66)\"], [1, \"rgb(90,179,244)\"]]}, \"colorway\": [\"#F8766D\", \"#A3A500\", \"#00BF7D\", \"#00B0F6\", \"#E76BF3\"], \"font\": {\"color\": \"rgb(51,51,51)\"}, \"geo\": {\"bgcolor\": \"white\", \"lakecolor\": \"white\", \"landcolor\": \"rgb(237,237,237)\", \"showlakes\": true, \"showland\": true, \"subunitcolor\": \"white\"}, \"hoverlabel\": {\"align\": \"left\"}, \"hovermode\": \"closest\", \"paper_bgcolor\": \"white\", \"plot_bgcolor\": \"rgb(237,237,237)\", \"polar\": {\"angularaxis\": {\"gridcolor\": \"white\", \"linecolor\": \"white\", \"showgrid\": true, \"tickcolor\": \"rgb(51,51,51)\", \"ticks\": \"outside\"}, \"bgcolor\": \"rgb(237,237,237)\", \"radialaxis\": {\"gridcolor\": \"white\", \"linecolor\": \"white\", \"showgrid\": true, \"tickcolor\": \"rgb(51,51,51)\", \"ticks\": \"outside\"}}, \"scene\": {\"xaxis\": {\"backgroundcolor\": \"rgb(237,237,237)\", \"gridcolor\": \"white\", \"gridwidth\": 2, \"linecolor\": \"white\", \"showbackground\": true, \"showgrid\": true, \"tickcolor\": \"rgb(51,51,51)\", \"ticks\": \"outside\", \"zerolinecolor\": \"white\"}, \"yaxis\": {\"backgroundcolor\": \"rgb(237,237,237)\", \"gridcolor\": \"white\", \"gridwidth\": 2, \"linecolor\": \"white\", \"showbackground\": true, \"showgrid\": true, \"tickcolor\": \"rgb(51,51,51)\", \"ticks\": \"outside\", \"zerolinecolor\": \"white\"}, \"zaxis\": {\"backgroundcolor\": \"rgb(237,237,237)\", \"gridcolor\": \"white\", \"gridwidth\": 2, \"linecolor\": \"white\", \"showbackground\": true, \"showgrid\": true, \"tickcolor\": \"rgb(51,51,51)\", \"ticks\": \"outside\", \"zerolinecolor\": \"white\"}}, \"shapedefaults\": {\"fillcolor\": \"black\", \"line\": {\"width\": 0}, \"opacity\": 0.3}, \"ternary\": {\"aaxis\": {\"gridcolor\": \"white\", \"linecolor\": \"white\", \"showgrid\": true, \"tickcolor\": \"rgb(51,51,51)\", \"ticks\": \"outside\"}, \"baxis\": {\"gridcolor\": \"white\", \"linecolor\": \"white\", \"showgrid\": true, \"tickcolor\": \"rgb(51,51,51)\", \"ticks\": \"outside\"}, \"bgcolor\": \"rgb(237,237,237)\", \"caxis\": {\"gridcolor\": \"white\", \"linecolor\": \"white\", \"showgrid\": true, \"tickcolor\": \"rgb(51,51,51)\", \"ticks\": \"outside\"}}, \"xaxis\": {\"automargin\": true, \"gridcolor\": \"white\", \"linecolor\": \"white\", \"showgrid\": true, \"tickcolor\": \"rgb(51,51,51)\", \"ticks\": \"outside\", \"title\": {\"standoff\": 15}, \"zerolinecolor\": \"white\"}, \"yaxis\": {\"automargin\": true, \"gridcolor\": \"white\", \"linecolor\": \"white\", \"showgrid\": true, \"tickcolor\": \"rgb(51,51,51)\", \"ticks\": \"outside\", \"title\": {\"standoff\": 15}, \"zerolinecolor\": \"white\"}}}, \"title\": {\"text\": \"Average attack value of each type of pokemon\"}, \"xaxis\": {\"anchor\": \"y\", \"domain\": [0.0, 1.0], \"title\": {\"text\": \"Type\"}}, \"yaxis\": {\"anchor\": \"x\", \"domain\": [0.0, 1.0], \"title\": {\"text\": \"Attack\"}}},                        {\"responsive\": true}                    ).then(function(){\n",
       "                            \n",
       "var gd = document.getElementById('0782dd1d-e420-4770-aee3-68b4ca95c7a5');\n",
       "var x = new MutationObserver(function (mutations, observer) {{\n",
       "        var display = window.getComputedStyle(gd).display;\n",
       "        if (!display || display === 'none') {{\n",
       "            console.log([gd, 'removed!']);\n",
       "            Plotly.purge(gd);\n",
       "            observer.disconnect();\n",
       "        }}\n",
       "}});\n",
       "\n",
       "// Listen for the removal of the full notebook cells\n",
       "var notebookContainer = gd.closest('#notebook-container');\n",
       "if (notebookContainer) {{\n",
       "    x.observe(notebookContainer, {childList: true});\n",
       "}}\n",
       "\n",
       "// Listen for the clearing of the current output cell\n",
       "var outputEl = gd.closest('.output');\n",
       "if (outputEl) {{\n",
       "    x.observe(outputEl, {childList: true});\n",
       "}}\n",
       "\n",
       "                        })                };                });            </script>        </div>"
      ]
     },
     "metadata": {},
     "output_type": "display_data"
    }
   ],
   "source": [
    "#How can I have a chart with a better look?\n",
    "\n",
    "formatted_aasb = px.bar(\n",
    "    type_attack_sorted[\"Attack\"],\n",
    "    template=\"ggplot2\",\n",
    "    title=\"Average attack value of each type of pokemon\",\n",
    "    labels={\n",
    "        \"value\":\"Attack\",\"Type 1\":\"Type\"\n",
    "    }\n",
    ")\n",
    "formatted_aasb.show()"
   ]
  },
  {
   "cell_type": "code",
   "execution_count": 65,
   "metadata": {},
   "outputs": [
    {
     "data": {
      "application/vnd.plotly.v1+json": {
       "config": {
        "plotlyServerURL": "https://plot.ly"
       },
       "data": [
        {
         "alignmentgroup": "True",
         "hovertemplate": "variable=Attack<br>Type=%{x}<br>Attack=%{y}<extra></extra>",
         "legendgroup": "Attack",
         "marker": {
          "color": "#F8766D"
         },
         "name": "Attack",
         "offsetgroup": "Attack",
         "orientation": "v",
         "showlegend": true,
         "textposition": "auto",
         "type": "bar",
         "x": [
          "Dragon",
          "Fighting",
          "Steel",
          "Rock",
          "Ground",
          "Dark",
          "Fire",
          "Poison",
          "Ice",
          "Water",
          "Grass",
          "Normal",
          "Ghost",
          "Bug",
          "Electric",
          "Fairy",
          "Psychic",
          "Flying"
         ],
         "xaxis": "x",
         "y": [
          103.4,
          96.77777777777777,
          92.08695652173913,
          89.925,
          88,
          86.86206896551724,
          82.19148936170212,
          74.67857142857143,
          73.22727272727273,
          72.77777777777777,
          72.11940298507463,
          72.08333333333333,
          71.36666666666666,
          70.97101449275362,
          66.125,
          57.1875,
          54.95348837209303,
          50
         ],
         "yaxis": "y"
        }
       ],
       "layout": {
        "annotations": [
         {
          "arrowhead": 1,
          "showarrow": true,
          "text": "average line",
          "x": "Bug",
          "y": 78.37407335612664
         }
        ],
        "barmode": "relative",
        "legend": {
         "title": {
          "text": "variable"
         },
         "tracegroupgap": 0
        },
        "shapes": [
         {
          "line": {
           "color": "red",
           "dash": "dot",
           "width": 3
          },
          "opacity": 1,
          "type": "line",
          "x0": 0,
          "x1": 1,
          "xref": "paper",
          "y0": 76.37407335612664,
          "y1": 76.37407335612664,
          "yref": "y"
         }
        ],
        "template": {
         "data": {
          "bar": [
           {
            "error_x": {
             "color": "rgb(51,51,51)"
            },
            "error_y": {
             "color": "rgb(51,51,51)"
            },
            "marker": {
             "line": {
              "color": "rgb(237,237,237)",
              "width": 0.5
             }
            },
            "type": "bar"
           }
          ],
          "barpolar": [
           {
            "marker": {
             "line": {
              "color": "rgb(237,237,237)",
              "width": 0.5
             }
            },
            "type": "barpolar"
           }
          ],
          "carpet": [
           {
            "aaxis": {
             "endlinecolor": "rgb(51,51,51)",
             "gridcolor": "white",
             "linecolor": "white",
             "minorgridcolor": "white",
             "startlinecolor": "rgb(51,51,51)"
            },
            "baxis": {
             "endlinecolor": "rgb(51,51,51)",
             "gridcolor": "white",
             "linecolor": "white",
             "minorgridcolor": "white",
             "startlinecolor": "rgb(51,51,51)"
            },
            "type": "carpet"
           }
          ],
          "choropleth": [
           {
            "colorbar": {
             "outlinewidth": 0,
             "tickcolor": "rgb(237,237,237)",
             "ticklen": 6,
             "ticks": "inside"
            },
            "type": "choropleth"
           }
          ],
          "contour": [
           {
            "colorbar": {
             "outlinewidth": 0,
             "tickcolor": "rgb(237,237,237)",
             "ticklen": 6,
             "ticks": "inside"
            },
            "colorscale": [
             [
              0,
              "rgb(20,44,66)"
             ],
             [
              1,
              "rgb(90,179,244)"
             ]
            ],
            "type": "contour"
           }
          ],
          "contourcarpet": [
           {
            "colorbar": {
             "outlinewidth": 0,
             "tickcolor": "rgb(237,237,237)",
             "ticklen": 6,
             "ticks": "inside"
            },
            "type": "contourcarpet"
           }
          ],
          "heatmap": [
           {
            "colorbar": {
             "outlinewidth": 0,
             "tickcolor": "rgb(237,237,237)",
             "ticklen": 6,
             "ticks": "inside"
            },
            "colorscale": [
             [
              0,
              "rgb(20,44,66)"
             ],
             [
              1,
              "rgb(90,179,244)"
             ]
            ],
            "type": "heatmap"
           }
          ],
          "heatmapgl": [
           {
            "colorbar": {
             "outlinewidth": 0,
             "tickcolor": "rgb(237,237,237)",
             "ticklen": 6,
             "ticks": "inside"
            },
            "colorscale": [
             [
              0,
              "rgb(20,44,66)"
             ],
             [
              1,
              "rgb(90,179,244)"
             ]
            ],
            "type": "heatmapgl"
           }
          ],
          "histogram": [
           {
            "marker": {
             "colorbar": {
              "outlinewidth": 0,
              "tickcolor": "rgb(237,237,237)",
              "ticklen": 6,
              "ticks": "inside"
             }
            },
            "type": "histogram"
           }
          ],
          "histogram2d": [
           {
            "colorbar": {
             "outlinewidth": 0,
             "tickcolor": "rgb(237,237,237)",
             "ticklen": 6,
             "ticks": "inside"
            },
            "colorscale": [
             [
              0,
              "rgb(20,44,66)"
             ],
             [
              1,
              "rgb(90,179,244)"
             ]
            ],
            "type": "histogram2d"
           }
          ],
          "histogram2dcontour": [
           {
            "colorbar": {
             "outlinewidth": 0,
             "tickcolor": "rgb(237,237,237)",
             "ticklen": 6,
             "ticks": "inside"
            },
            "colorscale": [
             [
              0,
              "rgb(20,44,66)"
             ],
             [
              1,
              "rgb(90,179,244)"
             ]
            ],
            "type": "histogram2dcontour"
           }
          ],
          "mesh3d": [
           {
            "colorbar": {
             "outlinewidth": 0,
             "tickcolor": "rgb(237,237,237)",
             "ticklen": 6,
             "ticks": "inside"
            },
            "type": "mesh3d"
           }
          ],
          "parcoords": [
           {
            "line": {
             "colorbar": {
              "outlinewidth": 0,
              "tickcolor": "rgb(237,237,237)",
              "ticklen": 6,
              "ticks": "inside"
             }
            },
            "type": "parcoords"
           }
          ],
          "pie": [
           {
            "automargin": true,
            "type": "pie"
           }
          ],
          "scatter": [
           {
            "marker": {
             "colorbar": {
              "outlinewidth": 0,
              "tickcolor": "rgb(237,237,237)",
              "ticklen": 6,
              "ticks": "inside"
             }
            },
            "type": "scatter"
           }
          ],
          "scatter3d": [
           {
            "line": {
             "colorbar": {
              "outlinewidth": 0,
              "tickcolor": "rgb(237,237,237)",
              "ticklen": 6,
              "ticks": "inside"
             }
            },
            "marker": {
             "colorbar": {
              "outlinewidth": 0,
              "tickcolor": "rgb(237,237,237)",
              "ticklen": 6,
              "ticks": "inside"
             }
            },
            "type": "scatter3d"
           }
          ],
          "scattercarpet": [
           {
            "marker": {
             "colorbar": {
              "outlinewidth": 0,
              "tickcolor": "rgb(237,237,237)",
              "ticklen": 6,
              "ticks": "inside"
             }
            },
            "type": "scattercarpet"
           }
          ],
          "scattergeo": [
           {
            "marker": {
             "colorbar": {
              "outlinewidth": 0,
              "tickcolor": "rgb(237,237,237)",
              "ticklen": 6,
              "ticks": "inside"
             }
            },
            "type": "scattergeo"
           }
          ],
          "scattergl": [
           {
            "marker": {
             "colorbar": {
              "outlinewidth": 0,
              "tickcolor": "rgb(237,237,237)",
              "ticklen": 6,
              "ticks": "inside"
             }
            },
            "type": "scattergl"
           }
          ],
          "scattermapbox": [
           {
            "marker": {
             "colorbar": {
              "outlinewidth": 0,
              "tickcolor": "rgb(237,237,237)",
              "ticklen": 6,
              "ticks": "inside"
             }
            },
            "type": "scattermapbox"
           }
          ],
          "scatterpolar": [
           {
            "marker": {
             "colorbar": {
              "outlinewidth": 0,
              "tickcolor": "rgb(237,237,237)",
              "ticklen": 6,
              "ticks": "inside"
             }
            },
            "type": "scatterpolar"
           }
          ],
          "scatterpolargl": [
           {
            "marker": {
             "colorbar": {
              "outlinewidth": 0,
              "tickcolor": "rgb(237,237,237)",
              "ticklen": 6,
              "ticks": "inside"
             }
            },
            "type": "scatterpolargl"
           }
          ],
          "scatterternary": [
           {
            "marker": {
             "colorbar": {
              "outlinewidth": 0,
              "tickcolor": "rgb(237,237,237)",
              "ticklen": 6,
              "ticks": "inside"
             }
            },
            "type": "scatterternary"
           }
          ],
          "surface": [
           {
            "colorbar": {
             "outlinewidth": 0,
             "tickcolor": "rgb(237,237,237)",
             "ticklen": 6,
             "ticks": "inside"
            },
            "colorscale": [
             [
              0,
              "rgb(20,44,66)"
             ],
             [
              1,
              "rgb(90,179,244)"
             ]
            ],
            "type": "surface"
           }
          ],
          "table": [
           {
            "cells": {
             "fill": {
              "color": "rgb(237,237,237)"
             },
             "line": {
              "color": "white"
             }
            },
            "header": {
             "fill": {
              "color": "rgb(217,217,217)"
             },
             "line": {
              "color": "white"
             }
            },
            "type": "table"
           }
          ]
         },
         "layout": {
          "annotationdefaults": {
           "arrowhead": 0,
           "arrowwidth": 1
          },
          "coloraxis": {
           "colorbar": {
            "outlinewidth": 0,
            "tickcolor": "rgb(237,237,237)",
            "ticklen": 6,
            "ticks": "inside"
           }
          },
          "colorscale": {
           "sequential": [
            [
             0,
             "rgb(20,44,66)"
            ],
            [
             1,
             "rgb(90,179,244)"
            ]
           ],
           "sequentialminus": [
            [
             0,
             "rgb(20,44,66)"
            ],
            [
             1,
             "rgb(90,179,244)"
            ]
           ]
          },
          "colorway": [
           "#F8766D",
           "#A3A500",
           "#00BF7D",
           "#00B0F6",
           "#E76BF3"
          ],
          "font": {
           "color": "rgb(51,51,51)"
          },
          "geo": {
           "bgcolor": "white",
           "lakecolor": "white",
           "landcolor": "rgb(237,237,237)",
           "showlakes": true,
           "showland": true,
           "subunitcolor": "white"
          },
          "hoverlabel": {
           "align": "left"
          },
          "hovermode": "closest",
          "paper_bgcolor": "white",
          "plot_bgcolor": "rgb(237,237,237)",
          "polar": {
           "angularaxis": {
            "gridcolor": "white",
            "linecolor": "white",
            "showgrid": true,
            "tickcolor": "rgb(51,51,51)",
            "ticks": "outside"
           },
           "bgcolor": "rgb(237,237,237)",
           "radialaxis": {
            "gridcolor": "white",
            "linecolor": "white",
            "showgrid": true,
            "tickcolor": "rgb(51,51,51)",
            "ticks": "outside"
           }
          },
          "scene": {
           "xaxis": {
            "backgroundcolor": "rgb(237,237,237)",
            "gridcolor": "white",
            "gridwidth": 2,
            "linecolor": "white",
            "showbackground": true,
            "showgrid": true,
            "tickcolor": "rgb(51,51,51)",
            "ticks": "outside",
            "zerolinecolor": "white"
           },
           "yaxis": {
            "backgroundcolor": "rgb(237,237,237)",
            "gridcolor": "white",
            "gridwidth": 2,
            "linecolor": "white",
            "showbackground": true,
            "showgrid": true,
            "tickcolor": "rgb(51,51,51)",
            "ticks": "outside",
            "zerolinecolor": "white"
           },
           "zaxis": {
            "backgroundcolor": "rgb(237,237,237)",
            "gridcolor": "white",
            "gridwidth": 2,
            "linecolor": "white",
            "showbackground": true,
            "showgrid": true,
            "tickcolor": "rgb(51,51,51)",
            "ticks": "outside",
            "zerolinecolor": "white"
           }
          },
          "shapedefaults": {
           "fillcolor": "black",
           "line": {
            "width": 0
           },
           "opacity": 0.3
          },
          "ternary": {
           "aaxis": {
            "gridcolor": "white",
            "linecolor": "white",
            "showgrid": true,
            "tickcolor": "rgb(51,51,51)",
            "ticks": "outside"
           },
           "baxis": {
            "gridcolor": "white",
            "linecolor": "white",
            "showgrid": true,
            "tickcolor": "rgb(51,51,51)",
            "ticks": "outside"
           },
           "bgcolor": "rgb(237,237,237)",
           "caxis": {
            "gridcolor": "white",
            "linecolor": "white",
            "showgrid": true,
            "tickcolor": "rgb(51,51,51)",
            "ticks": "outside"
           }
          },
          "xaxis": {
           "automargin": true,
           "gridcolor": "white",
           "linecolor": "white",
           "showgrid": true,
           "tickcolor": "rgb(51,51,51)",
           "ticks": "outside",
           "title": {
            "standoff": 15
           },
           "zerolinecolor": "white"
          },
          "yaxis": {
           "automargin": true,
           "gridcolor": "white",
           "linecolor": "white",
           "showgrid": true,
           "tickcolor": "rgb(51,51,51)",
           "ticks": "outside",
           "title": {
            "standoff": 15
           },
           "zerolinecolor": "white"
          }
         }
        },
        "title": {
         "text": "Average attack value of each type of pokemon"
        },
        "xaxis": {
         "anchor": "y",
         "domain": [
          0,
          1
         ],
         "title": {
          "text": "Type"
         }
        },
        "yaxis": {
         "anchor": "x",
         "domain": [
          0,
          1
         ],
         "title": {
          "text": "Attack"
         }
        }
       }
      },
      "text/html": [
       "<div>                            <div id=\"995e897d-fe28-4feb-9753-f2dfd5574de5\" class=\"plotly-graph-div\" style=\"height:525px; width:100%;\"></div>            <script type=\"text/javascript\">                require([\"plotly\"], function(Plotly) {                    window.PLOTLYENV=window.PLOTLYENV || {};                                    if (document.getElementById(\"995e897d-fe28-4feb-9753-f2dfd5574de5\")) {                    Plotly.newPlot(                        \"995e897d-fe28-4feb-9753-f2dfd5574de5\",                        [{\"alignmentgroup\": \"True\", \"hovertemplate\": \"variable=Attack<br>Type=%{x}<br>Attack=%{y}<extra></extra>\", \"legendgroup\": \"Attack\", \"marker\": {\"color\": \"#F8766D\"}, \"name\": \"Attack\", \"offsetgroup\": \"Attack\", \"orientation\": \"v\", \"showlegend\": true, \"textposition\": \"auto\", \"type\": \"bar\", \"x\": [\"Dragon\", \"Fighting\", \"Steel\", \"Rock\", \"Ground\", \"Dark\", \"Fire\", \"Poison\", \"Ice\", \"Water\", \"Grass\", \"Normal\", \"Ghost\", \"Bug\", \"Electric\", \"Fairy\", \"Psychic\", \"Flying\"], \"xaxis\": \"x\", \"y\": [103.4, 96.77777777777777, 92.08695652173913, 89.925, 88.0, 86.86206896551724, 82.19148936170212, 74.67857142857143, 73.22727272727273, 72.77777777777777, 72.11940298507463, 72.08333333333333, 71.36666666666666, 70.97101449275362, 66.125, 57.1875, 54.95348837209303, 50.0], \"yaxis\": \"y\"}],                        {\"annotations\": [{\"arrowhead\": 1, \"showarrow\": true, \"text\": \"average line\", \"x\": \"Bug\", \"y\": 78.37407335612664}], \"barmode\": \"relative\", \"legend\": {\"title\": {\"text\": \"variable\"}, \"tracegroupgap\": 0}, \"shapes\": [{\"line\": {\"color\": \"red\", \"dash\": \"dot\", \"width\": 3}, \"opacity\": 1, \"type\": \"line\", \"x0\": 0, \"x1\": 1, \"xref\": \"paper\", \"y0\": 76.37407335612664, \"y1\": 76.37407335612664, \"yref\": \"y\"}], \"template\": {\"data\": {\"bar\": [{\"error_x\": {\"color\": \"rgb(51,51,51)\"}, \"error_y\": {\"color\": \"rgb(51,51,51)\"}, \"marker\": {\"line\": {\"color\": \"rgb(237,237,237)\", \"width\": 0.5}}, \"type\": \"bar\"}], \"barpolar\": [{\"marker\": {\"line\": {\"color\": \"rgb(237,237,237)\", \"width\": 0.5}}, \"type\": \"barpolar\"}], \"carpet\": [{\"aaxis\": {\"endlinecolor\": \"rgb(51,51,51)\", \"gridcolor\": \"white\", \"linecolor\": \"white\", \"minorgridcolor\": \"white\", \"startlinecolor\": \"rgb(51,51,51)\"}, \"baxis\": {\"endlinecolor\": \"rgb(51,51,51)\", \"gridcolor\": \"white\", \"linecolor\": \"white\", \"minorgridcolor\": \"white\", \"startlinecolor\": \"rgb(51,51,51)\"}, \"type\": \"carpet\"}], \"choropleth\": [{\"colorbar\": {\"outlinewidth\": 0, \"tickcolor\": \"rgb(237,237,237)\", \"ticklen\": 6, \"ticks\": \"inside\"}, \"type\": \"choropleth\"}], \"contour\": [{\"colorbar\": {\"outlinewidth\": 0, \"tickcolor\": \"rgb(237,237,237)\", \"ticklen\": 6, \"ticks\": \"inside\"}, \"colorscale\": [[0, \"rgb(20,44,66)\"], [1, \"rgb(90,179,244)\"]], \"type\": \"contour\"}], \"contourcarpet\": [{\"colorbar\": {\"outlinewidth\": 0, \"tickcolor\": \"rgb(237,237,237)\", \"ticklen\": 6, \"ticks\": \"inside\"}, \"type\": \"contourcarpet\"}], \"heatmap\": [{\"colorbar\": {\"outlinewidth\": 0, \"tickcolor\": \"rgb(237,237,237)\", \"ticklen\": 6, \"ticks\": \"inside\"}, \"colorscale\": [[0, \"rgb(20,44,66)\"], [1, \"rgb(90,179,244)\"]], \"type\": \"heatmap\"}], \"heatmapgl\": [{\"colorbar\": {\"outlinewidth\": 0, \"tickcolor\": \"rgb(237,237,237)\", \"ticklen\": 6, \"ticks\": \"inside\"}, \"colorscale\": [[0, \"rgb(20,44,66)\"], [1, \"rgb(90,179,244)\"]], \"type\": \"heatmapgl\"}], \"histogram\": [{\"marker\": {\"colorbar\": {\"outlinewidth\": 0, \"tickcolor\": \"rgb(237,237,237)\", \"ticklen\": 6, \"ticks\": \"inside\"}}, \"type\": \"histogram\"}], \"histogram2d\": [{\"colorbar\": {\"outlinewidth\": 0, \"tickcolor\": \"rgb(237,237,237)\", \"ticklen\": 6, \"ticks\": \"inside\"}, \"colorscale\": [[0, \"rgb(20,44,66)\"], [1, \"rgb(90,179,244)\"]], \"type\": \"histogram2d\"}], \"histogram2dcontour\": [{\"colorbar\": {\"outlinewidth\": 0, \"tickcolor\": \"rgb(237,237,237)\", \"ticklen\": 6, \"ticks\": \"inside\"}, \"colorscale\": [[0, \"rgb(20,44,66)\"], [1, \"rgb(90,179,244)\"]], \"type\": \"histogram2dcontour\"}], \"mesh3d\": [{\"colorbar\": {\"outlinewidth\": 0, \"tickcolor\": \"rgb(237,237,237)\", \"ticklen\": 6, \"ticks\": \"inside\"}, \"type\": \"mesh3d\"}], \"parcoords\": [{\"line\": {\"colorbar\": {\"outlinewidth\": 0, \"tickcolor\": \"rgb(237,237,237)\", \"ticklen\": 6, \"ticks\": \"inside\"}}, \"type\": \"parcoords\"}], \"pie\": [{\"automargin\": true, \"type\": \"pie\"}], \"scatter\": [{\"marker\": {\"colorbar\": {\"outlinewidth\": 0, \"tickcolor\": \"rgb(237,237,237)\", \"ticklen\": 6, \"ticks\": \"inside\"}}, \"type\": \"scatter\"}], \"scatter3d\": [{\"line\": {\"colorbar\": {\"outlinewidth\": 0, \"tickcolor\": \"rgb(237,237,237)\", \"ticklen\": 6, \"ticks\": \"inside\"}}, \"marker\": {\"colorbar\": {\"outlinewidth\": 0, \"tickcolor\": \"rgb(237,237,237)\", \"ticklen\": 6, \"ticks\": \"inside\"}}, \"type\": \"scatter3d\"}], \"scattercarpet\": [{\"marker\": {\"colorbar\": {\"outlinewidth\": 0, \"tickcolor\": \"rgb(237,237,237)\", \"ticklen\": 6, \"ticks\": \"inside\"}}, \"type\": \"scattercarpet\"}], \"scattergeo\": [{\"marker\": {\"colorbar\": {\"outlinewidth\": 0, \"tickcolor\": \"rgb(237,237,237)\", \"ticklen\": 6, \"ticks\": \"inside\"}}, \"type\": \"scattergeo\"}], \"scattergl\": [{\"marker\": {\"colorbar\": {\"outlinewidth\": 0, \"tickcolor\": \"rgb(237,237,237)\", \"ticklen\": 6, \"ticks\": \"inside\"}}, \"type\": \"scattergl\"}], \"scattermapbox\": [{\"marker\": {\"colorbar\": {\"outlinewidth\": 0, \"tickcolor\": \"rgb(237,237,237)\", \"ticklen\": 6, \"ticks\": \"inside\"}}, \"type\": \"scattermapbox\"}], \"scatterpolar\": [{\"marker\": {\"colorbar\": {\"outlinewidth\": 0, \"tickcolor\": \"rgb(237,237,237)\", \"ticklen\": 6, \"ticks\": \"inside\"}}, \"type\": \"scatterpolar\"}], \"scatterpolargl\": [{\"marker\": {\"colorbar\": {\"outlinewidth\": 0, \"tickcolor\": \"rgb(237,237,237)\", \"ticklen\": 6, \"ticks\": \"inside\"}}, \"type\": \"scatterpolargl\"}], \"scatterternary\": [{\"marker\": {\"colorbar\": {\"outlinewidth\": 0, \"tickcolor\": \"rgb(237,237,237)\", \"ticklen\": 6, \"ticks\": \"inside\"}}, \"type\": \"scatterternary\"}], \"surface\": [{\"colorbar\": {\"outlinewidth\": 0, \"tickcolor\": \"rgb(237,237,237)\", \"ticklen\": 6, \"ticks\": \"inside\"}, \"colorscale\": [[0, \"rgb(20,44,66)\"], [1, \"rgb(90,179,244)\"]], \"type\": \"surface\"}], \"table\": [{\"cells\": {\"fill\": {\"color\": \"rgb(237,237,237)\"}, \"line\": {\"color\": \"white\"}}, \"header\": {\"fill\": {\"color\": \"rgb(217,217,217)\"}, \"line\": {\"color\": \"white\"}}, \"type\": \"table\"}]}, \"layout\": {\"annotationdefaults\": {\"arrowhead\": 0, \"arrowwidth\": 1}, \"coloraxis\": {\"colorbar\": {\"outlinewidth\": 0, \"tickcolor\": \"rgb(237,237,237)\", \"ticklen\": 6, \"ticks\": \"inside\"}}, \"colorscale\": {\"sequential\": [[0, \"rgb(20,44,66)\"], [1, \"rgb(90,179,244)\"]], \"sequentialminus\": [[0, \"rgb(20,44,66)\"], [1, \"rgb(90,179,244)\"]]}, \"colorway\": [\"#F8766D\", \"#A3A500\", \"#00BF7D\", \"#00B0F6\", \"#E76BF3\"], \"font\": {\"color\": \"rgb(51,51,51)\"}, \"geo\": {\"bgcolor\": \"white\", \"lakecolor\": \"white\", \"landcolor\": \"rgb(237,237,237)\", \"showlakes\": true, \"showland\": true, \"subunitcolor\": \"white\"}, \"hoverlabel\": {\"align\": \"left\"}, \"hovermode\": \"closest\", \"paper_bgcolor\": \"white\", \"plot_bgcolor\": \"rgb(237,237,237)\", \"polar\": {\"angularaxis\": {\"gridcolor\": \"white\", \"linecolor\": \"white\", \"showgrid\": true, \"tickcolor\": \"rgb(51,51,51)\", \"ticks\": \"outside\"}, \"bgcolor\": \"rgb(237,237,237)\", \"radialaxis\": {\"gridcolor\": \"white\", \"linecolor\": \"white\", \"showgrid\": true, \"tickcolor\": \"rgb(51,51,51)\", \"ticks\": \"outside\"}}, \"scene\": {\"xaxis\": {\"backgroundcolor\": \"rgb(237,237,237)\", \"gridcolor\": \"white\", \"gridwidth\": 2, \"linecolor\": \"white\", \"showbackground\": true, \"showgrid\": true, \"tickcolor\": \"rgb(51,51,51)\", \"ticks\": \"outside\", \"zerolinecolor\": \"white\"}, \"yaxis\": {\"backgroundcolor\": \"rgb(237,237,237)\", \"gridcolor\": \"white\", \"gridwidth\": 2, \"linecolor\": \"white\", \"showbackground\": true, \"showgrid\": true, \"tickcolor\": \"rgb(51,51,51)\", \"ticks\": \"outside\", \"zerolinecolor\": \"white\"}, \"zaxis\": {\"backgroundcolor\": \"rgb(237,237,237)\", \"gridcolor\": \"white\", \"gridwidth\": 2, \"linecolor\": \"white\", \"showbackground\": true, \"showgrid\": true, \"tickcolor\": \"rgb(51,51,51)\", \"ticks\": \"outside\", \"zerolinecolor\": \"white\"}}, \"shapedefaults\": {\"fillcolor\": \"black\", \"line\": {\"width\": 0}, \"opacity\": 0.3}, \"ternary\": {\"aaxis\": {\"gridcolor\": \"white\", \"linecolor\": \"white\", \"showgrid\": true, \"tickcolor\": \"rgb(51,51,51)\", \"ticks\": \"outside\"}, \"baxis\": {\"gridcolor\": \"white\", \"linecolor\": \"white\", \"showgrid\": true, \"tickcolor\": \"rgb(51,51,51)\", \"ticks\": \"outside\"}, \"bgcolor\": \"rgb(237,237,237)\", \"caxis\": {\"gridcolor\": \"white\", \"linecolor\": \"white\", \"showgrid\": true, \"tickcolor\": \"rgb(51,51,51)\", \"ticks\": \"outside\"}}, \"xaxis\": {\"automargin\": true, \"gridcolor\": \"white\", \"linecolor\": \"white\", \"showgrid\": true, \"tickcolor\": \"rgb(51,51,51)\", \"ticks\": \"outside\", \"title\": {\"standoff\": 15}, \"zerolinecolor\": \"white\"}, \"yaxis\": {\"automargin\": true, \"gridcolor\": \"white\", \"linecolor\": \"white\", \"showgrid\": true, \"tickcolor\": \"rgb(51,51,51)\", \"ticks\": \"outside\", \"title\": {\"standoff\": 15}, \"zerolinecolor\": \"white\"}}}, \"title\": {\"text\": \"Average attack value of each type of pokemon\"}, \"xaxis\": {\"anchor\": \"y\", \"domain\": [0.0, 1.0], \"title\": {\"text\": \"Type\"}}, \"yaxis\": {\"anchor\": \"x\", \"domain\": [0.0, 1.0], \"title\": {\"text\": \"Attack\"}}},                        {\"responsive\": true}                    ).then(function(){\n",
       "                            \n",
       "var gd = document.getElementById('995e897d-fe28-4feb-9753-f2dfd5574de5');\n",
       "var x = new MutationObserver(function (mutations, observer) {{\n",
       "        var display = window.getComputedStyle(gd).display;\n",
       "        if (!display || display === 'none') {{\n",
       "            console.log([gd, 'removed!']);\n",
       "            Plotly.purge(gd);\n",
       "            observer.disconnect();\n",
       "        }}\n",
       "}});\n",
       "\n",
       "// Listen for the removal of the full notebook cells\n",
       "var notebookContainer = gd.closest('#notebook-container');\n",
       "if (notebookContainer) {{\n",
       "    x.observe(notebookContainer, {childList: true});\n",
       "}}\n",
       "\n",
       "// Listen for the clearing of the current output cell\n",
       "var outputEl = gd.closest('.output');\n",
       "if (outputEl) {{\n",
       "    x.observe(outputEl, {childList: true});\n",
       "}}\n",
       "\n",
       "                        })                };                });            </script>        </div>"
      ]
     },
     "metadata": {},
     "output_type": "display_data"
    }
   ],
   "source": [
    "# How can I make the chart above even more informative?\n",
    "\n",
    "average_attack = type_attack_sorted[\"Attack\"].mean()\n",
    "formatted_aasb.add_shape( # add a horizontal \"average\" line\n",
    "    type=\"line\", line_color=\"red\", line_width=3, opacity=1, line_dash=\"dot\",\n",
    "    x0=0, x1=1, xref=\"paper\", y0=average_attack, y1=average_attack, yref=\"y\"\n",
    ")\n",
    "formatted_aasb.add_annotation( # add a text callout with arrow\n",
    "    text=\"average line\", x=\"Bug\", y=average_attack+2, arrowhead=1, showarrow=True\n",
    ")\n",
    "\n",
    "formatted_aasb.show()\n",
    "\n",
    "# You can try to search for other propertyies by looking up: https://plotly.com/python/styling-plotly-express/"
   ]
  },
  {
   "cell_type": "markdown",
   "metadata": {},
   "source": [
    "# 各属性各项均值"
   ]
  },
  {
   "cell_type": "code",
   "execution_count": 72,
   "metadata": {},
   "outputs": [
    {
     "data": {
      "application/vnd.plotly.v1+json": {
       "config": {
        "plotlyServerURL": "https://plot.ly"
       },
       "data": [
        {
         "alignmentgroup": "True",
         "hovertemplate": "variable=HP<br>Type=%{x}<br>Attack=%{y}<extra></extra>",
         "legendgroup": "HP",
         "marker": {
          "color": "#F8766D"
         },
         "name": "HP",
         "offsetgroup": "HP",
         "orientation": "v",
         "showlegend": true,
         "textposition": "auto",
         "type": "bar",
         "x": [
          "Dragon",
          "Steel",
          "Fire",
          "Rock",
          "Dark",
          "Electric",
          "Ghost",
          "Psychic",
          "Water",
          "Ice",
          "Fighting",
          "Grass",
          "Ground",
          "Poison",
          "Fairy",
          "Normal",
          "Flying",
          "Bug"
         ],
         "xaxis": "x",
         "y": [
          72.65,
          60.43478260869565,
          67.08510638297872,
          65.125,
          64.65517241379311,
          57.325,
          58.733333333333334,
          67.72093023255815,
          71.12037037037037,
          70.81818181818181,
          69.85185185185185,
          65.94029850746269,
          70.82142857142857,
          67.25,
          70.875,
          76.48958333333333,
          62.5,
          56.88405797101449
         ],
         "yaxis": "y"
        },
        {
         "alignmentgroup": "True",
         "hovertemplate": "variable=Attack<br>Type=%{x}<br>Attack=%{y}<extra></extra>",
         "legendgroup": "Attack",
         "marker": {
          "color": "#A3A500"
         },
         "name": "Attack",
         "offsetgroup": "Attack",
         "orientation": "v",
         "showlegend": true,
         "textposition": "auto",
         "type": "bar",
         "x": [
          "Dragon",
          "Steel",
          "Fire",
          "Rock",
          "Dark",
          "Electric",
          "Ghost",
          "Psychic",
          "Water",
          "Ice",
          "Fighting",
          "Grass",
          "Ground",
          "Poison",
          "Fairy",
          "Normal",
          "Flying",
          "Bug"
         ],
         "xaxis": "x",
         "y": [
          103.4,
          92.08695652173913,
          82.19148936170212,
          89.925,
          86.86206896551724,
          66.125,
          71.36666666666666,
          54.95348837209303,
          72.77777777777777,
          73.22727272727273,
          96.77777777777777,
          72.11940298507463,
          88,
          74.67857142857143,
          57.1875,
          72.08333333333333,
          50,
          70.97101449275362
         ],
         "yaxis": "y"
        },
        {
         "alignmentgroup": "True",
         "hovertemplate": "variable=Defense<br>Type=%{x}<br>Attack=%{y}<extra></extra>",
         "legendgroup": "Defense",
         "marker": {
          "color": "#00BF7D"
         },
         "name": "Defense",
         "offsetgroup": "Defense",
         "orientation": "v",
         "showlegend": true,
         "textposition": "auto",
         "type": "bar",
         "x": [
          "Dragon",
          "Steel",
          "Fire",
          "Rock",
          "Dark",
          "Electric",
          "Ghost",
          "Psychic",
          "Water",
          "Ice",
          "Fighting",
          "Grass",
          "Ground",
          "Poison",
          "Fairy",
          "Normal",
          "Flying",
          "Bug"
         ],
         "xaxis": "x",
         "y": [
          78.15,
          126.65217391304348,
          64.53191489361703,
          97.125,
          68.6896551724138,
          65.425,
          79.26666666666667,
          61,
          71.99074074074075,
          68.81818181818181,
          65.92592592592592,
          70.28358208955224,
          79.82142857142857,
          68.82142857142857,
          63.875,
          58.697916666666664,
          57.5,
          70.72463768115942
         ],
         "yaxis": "y"
        },
        {
         "alignmentgroup": "True",
         "hovertemplate": "variable=Sp. Atk<br>Type=%{x}<br>Attack=%{y}<extra></extra>",
         "legendgroup": "Sp. Atk",
         "marker": {
          "color": "#00B0F6"
         },
         "name": "Sp. Atk",
         "offsetgroup": "Sp. Atk",
         "orientation": "v",
         "showlegend": true,
         "textposition": "auto",
         "type": "bar",
         "x": [
          "Dragon",
          "Steel",
          "Fire",
          "Rock",
          "Dark",
          "Electric",
          "Ghost",
          "Psychic",
          "Water",
          "Ice",
          "Fighting",
          "Grass",
          "Ground",
          "Poison",
          "Fairy",
          "Normal",
          "Flying",
          "Bug"
         ],
         "xaxis": "x",
         "y": [
          72.9,
          61.21739130434783,
          86,
          60.125,
          70.62068965517241,
          86.275,
          77.3,
          88.30232558139535,
          72.30555555555556,
          75.72727272727273,
          53.111111111111114,
          76.34328358208955,
          47.75,
          60.42857142857143,
          75.25,
          54.895833333333336,
          71,
          53.869565217391305
         ],
         "yaxis": "y"
        },
        {
         "alignmentgroup": "True",
         "hovertemplate": "variable=Sp. Def<br>Type=%{x}<br>Attack=%{y}<extra></extra>",
         "legendgroup": "Sp. Def",
         "marker": {
          "color": "#E76BF3"
         },
         "name": "Sp. Def",
         "offsetgroup": "Sp. Def",
         "orientation": "v",
         "showlegend": true,
         "textposition": "auto",
         "type": "bar",
         "x": [
          "Dragon",
          "Steel",
          "Fire",
          "Rock",
          "Dark",
          "Electric",
          "Ghost",
          "Psychic",
          "Water",
          "Ice",
          "Fighting",
          "Grass",
          "Ground",
          "Poison",
          "Fairy",
          "Normal",
          "Flying",
          "Bug"
         ],
         "xaxis": "x",
         "y": [
          77.4,
          76.30434782608695,
          69.04255319148936,
          71.775,
          67.82758620689656,
          72.325,
          74.23333333333333,
          80.67441860465117,
          68.17592592592592,
          68.45454545454545,
          64.70370370370371,
          69.04477611940298,
          59.57142857142857,
          64.39285714285714,
          83.875,
          62.65625,
          60,
          64.79710144927536
         ],
         "yaxis": "y"
        },
        {
         "alignmentgroup": "True",
         "hovertemplate": "variable=Speed<br>Type=%{x}<br>Attack=%{y}<extra></extra>",
         "legendgroup": "Speed",
         "marker": {
          "color": "#F8766D"
         },
         "name": "Speed",
         "offsetgroup": "Speed",
         "orientation": "v",
         "showlegend": true,
         "textposition": "auto",
         "type": "bar",
         "x": [
          "Dragon",
          "Steel",
          "Fire",
          "Rock",
          "Dark",
          "Electric",
          "Ghost",
          "Psychic",
          "Water",
          "Ice",
          "Fighting",
          "Grass",
          "Ground",
          "Poison",
          "Fairy",
          "Normal",
          "Flying",
          "Bug"
         ],
         "xaxis": "x",
         "y": [
          72.35,
          49.73913043478261,
          73.27659574468085,
          53.55,
          73.6896551724138,
          82.275,
          62.63333333333333,
          70.34883720930233,
          65.02777777777777,
          63.09090909090909,
          66.07407407407408,
          59.701492537313435,
          59.75,
          63.57142857142857,
          45.4375,
          70.75,
          89,
          61.68115942028985
         ],
         "yaxis": "y"
        }
       ],
       "layout": {
        "barmode": "group",
        "legend": {
         "title": {
          "text": "variable"
         },
         "tracegroupgap": 0
        },
        "template": {
         "data": {
          "bar": [
           {
            "error_x": {
             "color": "rgb(51,51,51)"
            },
            "error_y": {
             "color": "rgb(51,51,51)"
            },
            "marker": {
             "line": {
              "color": "rgb(237,237,237)",
              "width": 0.5
             }
            },
            "type": "bar"
           }
          ],
          "barpolar": [
           {
            "marker": {
             "line": {
              "color": "rgb(237,237,237)",
              "width": 0.5
             }
            },
            "type": "barpolar"
           }
          ],
          "carpet": [
           {
            "aaxis": {
             "endlinecolor": "rgb(51,51,51)",
             "gridcolor": "white",
             "linecolor": "white",
             "minorgridcolor": "white",
             "startlinecolor": "rgb(51,51,51)"
            },
            "baxis": {
             "endlinecolor": "rgb(51,51,51)",
             "gridcolor": "white",
             "linecolor": "white",
             "minorgridcolor": "white",
             "startlinecolor": "rgb(51,51,51)"
            },
            "type": "carpet"
           }
          ],
          "choropleth": [
           {
            "colorbar": {
             "outlinewidth": 0,
             "tickcolor": "rgb(237,237,237)",
             "ticklen": 6,
             "ticks": "inside"
            },
            "type": "choropleth"
           }
          ],
          "contour": [
           {
            "colorbar": {
             "outlinewidth": 0,
             "tickcolor": "rgb(237,237,237)",
             "ticklen": 6,
             "ticks": "inside"
            },
            "colorscale": [
             [
              0,
              "rgb(20,44,66)"
             ],
             [
              1,
              "rgb(90,179,244)"
             ]
            ],
            "type": "contour"
           }
          ],
          "contourcarpet": [
           {
            "colorbar": {
             "outlinewidth": 0,
             "tickcolor": "rgb(237,237,237)",
             "ticklen": 6,
             "ticks": "inside"
            },
            "type": "contourcarpet"
           }
          ],
          "heatmap": [
           {
            "colorbar": {
             "outlinewidth": 0,
             "tickcolor": "rgb(237,237,237)",
             "ticklen": 6,
             "ticks": "inside"
            },
            "colorscale": [
             [
              0,
              "rgb(20,44,66)"
             ],
             [
              1,
              "rgb(90,179,244)"
             ]
            ],
            "type": "heatmap"
           }
          ],
          "heatmapgl": [
           {
            "colorbar": {
             "outlinewidth": 0,
             "tickcolor": "rgb(237,237,237)",
             "ticklen": 6,
             "ticks": "inside"
            },
            "colorscale": [
             [
              0,
              "rgb(20,44,66)"
             ],
             [
              1,
              "rgb(90,179,244)"
             ]
            ],
            "type": "heatmapgl"
           }
          ],
          "histogram": [
           {
            "marker": {
             "colorbar": {
              "outlinewidth": 0,
              "tickcolor": "rgb(237,237,237)",
              "ticklen": 6,
              "ticks": "inside"
             }
            },
            "type": "histogram"
           }
          ],
          "histogram2d": [
           {
            "colorbar": {
             "outlinewidth": 0,
             "tickcolor": "rgb(237,237,237)",
             "ticklen": 6,
             "ticks": "inside"
            },
            "colorscale": [
             [
              0,
              "rgb(20,44,66)"
             ],
             [
              1,
              "rgb(90,179,244)"
             ]
            ],
            "type": "histogram2d"
           }
          ],
          "histogram2dcontour": [
           {
            "colorbar": {
             "outlinewidth": 0,
             "tickcolor": "rgb(237,237,237)",
             "ticklen": 6,
             "ticks": "inside"
            },
            "colorscale": [
             [
              0,
              "rgb(20,44,66)"
             ],
             [
              1,
              "rgb(90,179,244)"
             ]
            ],
            "type": "histogram2dcontour"
           }
          ],
          "mesh3d": [
           {
            "colorbar": {
             "outlinewidth": 0,
             "tickcolor": "rgb(237,237,237)",
             "ticklen": 6,
             "ticks": "inside"
            },
            "type": "mesh3d"
           }
          ],
          "parcoords": [
           {
            "line": {
             "colorbar": {
              "outlinewidth": 0,
              "tickcolor": "rgb(237,237,237)",
              "ticklen": 6,
              "ticks": "inside"
             }
            },
            "type": "parcoords"
           }
          ],
          "pie": [
           {
            "automargin": true,
            "type": "pie"
           }
          ],
          "scatter": [
           {
            "marker": {
             "colorbar": {
              "outlinewidth": 0,
              "tickcolor": "rgb(237,237,237)",
              "ticklen": 6,
              "ticks": "inside"
             }
            },
            "type": "scatter"
           }
          ],
          "scatter3d": [
           {
            "line": {
             "colorbar": {
              "outlinewidth": 0,
              "tickcolor": "rgb(237,237,237)",
              "ticklen": 6,
              "ticks": "inside"
             }
            },
            "marker": {
             "colorbar": {
              "outlinewidth": 0,
              "tickcolor": "rgb(237,237,237)",
              "ticklen": 6,
              "ticks": "inside"
             }
            },
            "type": "scatter3d"
           }
          ],
          "scattercarpet": [
           {
            "marker": {
             "colorbar": {
              "outlinewidth": 0,
              "tickcolor": "rgb(237,237,237)",
              "ticklen": 6,
              "ticks": "inside"
             }
            },
            "type": "scattercarpet"
           }
          ],
          "scattergeo": [
           {
            "marker": {
             "colorbar": {
              "outlinewidth": 0,
              "tickcolor": "rgb(237,237,237)",
              "ticklen": 6,
              "ticks": "inside"
             }
            },
            "type": "scattergeo"
           }
          ],
          "scattergl": [
           {
            "marker": {
             "colorbar": {
              "outlinewidth": 0,
              "tickcolor": "rgb(237,237,237)",
              "ticklen": 6,
              "ticks": "inside"
             }
            },
            "type": "scattergl"
           }
          ],
          "scattermapbox": [
           {
            "marker": {
             "colorbar": {
              "outlinewidth": 0,
              "tickcolor": "rgb(237,237,237)",
              "ticklen": 6,
              "ticks": "inside"
             }
            },
            "type": "scattermapbox"
           }
          ],
          "scatterpolar": [
           {
            "marker": {
             "colorbar": {
              "outlinewidth": 0,
              "tickcolor": "rgb(237,237,237)",
              "ticklen": 6,
              "ticks": "inside"
             }
            },
            "type": "scatterpolar"
           }
          ],
          "scatterpolargl": [
           {
            "marker": {
             "colorbar": {
              "outlinewidth": 0,
              "tickcolor": "rgb(237,237,237)",
              "ticklen": 6,
              "ticks": "inside"
             }
            },
            "type": "scatterpolargl"
           }
          ],
          "scatterternary": [
           {
            "marker": {
             "colorbar": {
              "outlinewidth": 0,
              "tickcolor": "rgb(237,237,237)",
              "ticklen": 6,
              "ticks": "inside"
             }
            },
            "type": "scatterternary"
           }
          ],
          "surface": [
           {
            "colorbar": {
             "outlinewidth": 0,
             "tickcolor": "rgb(237,237,237)",
             "ticklen": 6,
             "ticks": "inside"
            },
            "colorscale": [
             [
              0,
              "rgb(20,44,66)"
             ],
             [
              1,
              "rgb(90,179,244)"
             ]
            ],
            "type": "surface"
           }
          ],
          "table": [
           {
            "cells": {
             "fill": {
              "color": "rgb(237,237,237)"
             },
             "line": {
              "color": "white"
             }
            },
            "header": {
             "fill": {
              "color": "rgb(217,217,217)"
             },
             "line": {
              "color": "white"
             }
            },
            "type": "table"
           }
          ]
         },
         "layout": {
          "annotationdefaults": {
           "arrowhead": 0,
           "arrowwidth": 1
          },
          "coloraxis": {
           "colorbar": {
            "outlinewidth": 0,
            "tickcolor": "rgb(237,237,237)",
            "ticklen": 6,
            "ticks": "inside"
           }
          },
          "colorscale": {
           "sequential": [
            [
             0,
             "rgb(20,44,66)"
            ],
            [
             1,
             "rgb(90,179,244)"
            ]
           ],
           "sequentialminus": [
            [
             0,
             "rgb(20,44,66)"
            ],
            [
             1,
             "rgb(90,179,244)"
            ]
           ]
          },
          "colorway": [
           "#F8766D",
           "#A3A500",
           "#00BF7D",
           "#00B0F6",
           "#E76BF3"
          ],
          "font": {
           "color": "rgb(51,51,51)"
          },
          "geo": {
           "bgcolor": "white",
           "lakecolor": "white",
           "landcolor": "rgb(237,237,237)",
           "showlakes": true,
           "showland": true,
           "subunitcolor": "white"
          },
          "hoverlabel": {
           "align": "left"
          },
          "hovermode": "closest",
          "paper_bgcolor": "white",
          "plot_bgcolor": "rgb(237,237,237)",
          "polar": {
           "angularaxis": {
            "gridcolor": "white",
            "linecolor": "white",
            "showgrid": true,
            "tickcolor": "rgb(51,51,51)",
            "ticks": "outside"
           },
           "bgcolor": "rgb(237,237,237)",
           "radialaxis": {
            "gridcolor": "white",
            "linecolor": "white",
            "showgrid": true,
            "tickcolor": "rgb(51,51,51)",
            "ticks": "outside"
           }
          },
          "scene": {
           "xaxis": {
            "backgroundcolor": "rgb(237,237,237)",
            "gridcolor": "white",
            "gridwidth": 2,
            "linecolor": "white",
            "showbackground": true,
            "showgrid": true,
            "tickcolor": "rgb(51,51,51)",
            "ticks": "outside",
            "zerolinecolor": "white"
           },
           "yaxis": {
            "backgroundcolor": "rgb(237,237,237)",
            "gridcolor": "white",
            "gridwidth": 2,
            "linecolor": "white",
            "showbackground": true,
            "showgrid": true,
            "tickcolor": "rgb(51,51,51)",
            "ticks": "outside",
            "zerolinecolor": "white"
           },
           "zaxis": {
            "backgroundcolor": "rgb(237,237,237)",
            "gridcolor": "white",
            "gridwidth": 2,
            "linecolor": "white",
            "showbackground": true,
            "showgrid": true,
            "tickcolor": "rgb(51,51,51)",
            "ticks": "outside",
            "zerolinecolor": "white"
           }
          },
          "shapedefaults": {
           "fillcolor": "black",
           "line": {
            "width": 0
           },
           "opacity": 0.3
          },
          "ternary": {
           "aaxis": {
            "gridcolor": "white",
            "linecolor": "white",
            "showgrid": true,
            "tickcolor": "rgb(51,51,51)",
            "ticks": "outside"
           },
           "baxis": {
            "gridcolor": "white",
            "linecolor": "white",
            "showgrid": true,
            "tickcolor": "rgb(51,51,51)",
            "ticks": "outside"
           },
           "bgcolor": "rgb(237,237,237)",
           "caxis": {
            "gridcolor": "white",
            "linecolor": "white",
            "showgrid": true,
            "tickcolor": "rgb(51,51,51)",
            "ticks": "outside"
           }
          },
          "xaxis": {
           "automargin": true,
           "gridcolor": "white",
           "linecolor": "white",
           "showgrid": true,
           "tickcolor": "rgb(51,51,51)",
           "ticks": "outside",
           "title": {
            "standoff": 15
           },
           "zerolinecolor": "white"
          },
          "yaxis": {
           "automargin": true,
           "gridcolor": "white",
           "linecolor": "white",
           "showgrid": true,
           "tickcolor": "rgb(51,51,51)",
           "ticks": "outside",
           "title": {
            "standoff": 15
           },
           "zerolinecolor": "white"
          }
         }
        },
        "title": {
         "text": "Average value for each attribute grouped by type"
        },
        "xaxis": {
         "anchor": "y",
         "domain": [
          0,
          1
         ],
         "title": {
          "text": "Type"
         }
        },
        "yaxis": {
         "anchor": "x",
         "domain": [
          0,
          1
         ],
         "title": {
          "text": "Attack"
         }
        }
       }
      },
      "text/html": [
       "<div>                            <div id=\"b9cd44e1-32d9-4a0a-b7fd-da5f431e91ca\" class=\"plotly-graph-div\" style=\"height:525px; width:100%;\"></div>            <script type=\"text/javascript\">                require([\"plotly\"], function(Plotly) {                    window.PLOTLYENV=window.PLOTLYENV || {};                                    if (document.getElementById(\"b9cd44e1-32d9-4a0a-b7fd-da5f431e91ca\")) {                    Plotly.newPlot(                        \"b9cd44e1-32d9-4a0a-b7fd-da5f431e91ca\",                        [{\"alignmentgroup\": \"True\", \"hovertemplate\": \"variable=HP<br>Type=%{x}<br>Attack=%{y}<extra></extra>\", \"legendgroup\": \"HP\", \"marker\": {\"color\": \"#F8766D\"}, \"name\": \"HP\", \"offsetgroup\": \"HP\", \"orientation\": \"v\", \"showlegend\": true, \"textposition\": \"auto\", \"type\": \"bar\", \"x\": [\"Dragon\", \"Steel\", \"Fire\", \"Rock\", \"Dark\", \"Electric\", \"Ghost\", \"Psychic\", \"Water\", \"Ice\", \"Fighting\", \"Grass\", \"Ground\", \"Poison\", \"Fairy\", \"Normal\", \"Flying\", \"Bug\"], \"xaxis\": \"x\", \"y\": [72.65, 60.43478260869565, 67.08510638297872, 65.125, 64.65517241379311, 57.325, 58.733333333333334, 67.72093023255815, 71.12037037037037, 70.81818181818181, 69.85185185185185, 65.94029850746269, 70.82142857142857, 67.25, 70.875, 76.48958333333333, 62.5, 56.88405797101449], \"yaxis\": \"y\"}, {\"alignmentgroup\": \"True\", \"hovertemplate\": \"variable=Attack<br>Type=%{x}<br>Attack=%{y}<extra></extra>\", \"legendgroup\": \"Attack\", \"marker\": {\"color\": \"#A3A500\"}, \"name\": \"Attack\", \"offsetgroup\": \"Attack\", \"orientation\": \"v\", \"showlegend\": true, \"textposition\": \"auto\", \"type\": \"bar\", \"x\": [\"Dragon\", \"Steel\", \"Fire\", \"Rock\", \"Dark\", \"Electric\", \"Ghost\", \"Psychic\", \"Water\", \"Ice\", \"Fighting\", \"Grass\", \"Ground\", \"Poison\", \"Fairy\", \"Normal\", \"Flying\", \"Bug\"], \"xaxis\": \"x\", \"y\": [103.4, 92.08695652173913, 82.19148936170212, 89.925, 86.86206896551724, 66.125, 71.36666666666666, 54.95348837209303, 72.77777777777777, 73.22727272727273, 96.77777777777777, 72.11940298507463, 88.0, 74.67857142857143, 57.1875, 72.08333333333333, 50.0, 70.97101449275362], \"yaxis\": \"y\"}, {\"alignmentgroup\": \"True\", \"hovertemplate\": \"variable=Defense<br>Type=%{x}<br>Attack=%{y}<extra></extra>\", \"legendgroup\": \"Defense\", \"marker\": {\"color\": \"#00BF7D\"}, \"name\": \"Defense\", \"offsetgroup\": \"Defense\", \"orientation\": \"v\", \"showlegend\": true, \"textposition\": \"auto\", \"type\": \"bar\", \"x\": [\"Dragon\", \"Steel\", \"Fire\", \"Rock\", \"Dark\", \"Electric\", \"Ghost\", \"Psychic\", \"Water\", \"Ice\", \"Fighting\", \"Grass\", \"Ground\", \"Poison\", \"Fairy\", \"Normal\", \"Flying\", \"Bug\"], \"xaxis\": \"x\", \"y\": [78.15, 126.65217391304348, 64.53191489361703, 97.125, 68.6896551724138, 65.425, 79.26666666666667, 61.0, 71.99074074074075, 68.81818181818181, 65.92592592592592, 70.28358208955224, 79.82142857142857, 68.82142857142857, 63.875, 58.697916666666664, 57.5, 70.72463768115942], \"yaxis\": \"y\"}, {\"alignmentgroup\": \"True\", \"hovertemplate\": \"variable=Sp. Atk<br>Type=%{x}<br>Attack=%{y}<extra></extra>\", \"legendgroup\": \"Sp. Atk\", \"marker\": {\"color\": \"#00B0F6\"}, \"name\": \"Sp. Atk\", \"offsetgroup\": \"Sp. Atk\", \"orientation\": \"v\", \"showlegend\": true, \"textposition\": \"auto\", \"type\": \"bar\", \"x\": [\"Dragon\", \"Steel\", \"Fire\", \"Rock\", \"Dark\", \"Electric\", \"Ghost\", \"Psychic\", \"Water\", \"Ice\", \"Fighting\", \"Grass\", \"Ground\", \"Poison\", \"Fairy\", \"Normal\", \"Flying\", \"Bug\"], \"xaxis\": \"x\", \"y\": [72.9, 61.21739130434783, 86.0, 60.125, 70.62068965517241, 86.275, 77.3, 88.30232558139535, 72.30555555555556, 75.72727272727273, 53.111111111111114, 76.34328358208955, 47.75, 60.42857142857143, 75.25, 54.895833333333336, 71.0, 53.869565217391305], \"yaxis\": \"y\"}, {\"alignmentgroup\": \"True\", \"hovertemplate\": \"variable=Sp. Def<br>Type=%{x}<br>Attack=%{y}<extra></extra>\", \"legendgroup\": \"Sp. Def\", \"marker\": {\"color\": \"#E76BF3\"}, \"name\": \"Sp. Def\", \"offsetgroup\": \"Sp. Def\", \"orientation\": \"v\", \"showlegend\": true, \"textposition\": \"auto\", \"type\": \"bar\", \"x\": [\"Dragon\", \"Steel\", \"Fire\", \"Rock\", \"Dark\", \"Electric\", \"Ghost\", \"Psychic\", \"Water\", \"Ice\", \"Fighting\", \"Grass\", \"Ground\", \"Poison\", \"Fairy\", \"Normal\", \"Flying\", \"Bug\"], \"xaxis\": \"x\", \"y\": [77.4, 76.30434782608695, 69.04255319148936, 71.775, 67.82758620689656, 72.325, 74.23333333333333, 80.67441860465117, 68.17592592592592, 68.45454545454545, 64.70370370370371, 69.04477611940298, 59.57142857142857, 64.39285714285714, 83.875, 62.65625, 60.0, 64.79710144927536], \"yaxis\": \"y\"}, {\"alignmentgroup\": \"True\", \"hovertemplate\": \"variable=Speed<br>Type=%{x}<br>Attack=%{y}<extra></extra>\", \"legendgroup\": \"Speed\", \"marker\": {\"color\": \"#F8766D\"}, \"name\": \"Speed\", \"offsetgroup\": \"Speed\", \"orientation\": \"v\", \"showlegend\": true, \"textposition\": \"auto\", \"type\": \"bar\", \"x\": [\"Dragon\", \"Steel\", \"Fire\", \"Rock\", \"Dark\", \"Electric\", \"Ghost\", \"Psychic\", \"Water\", \"Ice\", \"Fighting\", \"Grass\", \"Ground\", \"Poison\", \"Fairy\", \"Normal\", \"Flying\", \"Bug\"], \"xaxis\": \"x\", \"y\": [72.35, 49.73913043478261, 73.27659574468085, 53.55, 73.6896551724138, 82.275, 62.63333333333333, 70.34883720930233, 65.02777777777777, 63.09090909090909, 66.07407407407408, 59.701492537313435, 59.75, 63.57142857142857, 45.4375, 70.75, 89.0, 61.68115942028985], \"yaxis\": \"y\"}],                        {\"barmode\": \"group\", \"legend\": {\"title\": {\"text\": \"variable\"}, \"tracegroupgap\": 0}, \"template\": {\"data\": {\"bar\": [{\"error_x\": {\"color\": \"rgb(51,51,51)\"}, \"error_y\": {\"color\": \"rgb(51,51,51)\"}, \"marker\": {\"line\": {\"color\": \"rgb(237,237,237)\", \"width\": 0.5}}, \"type\": \"bar\"}], \"barpolar\": [{\"marker\": {\"line\": {\"color\": \"rgb(237,237,237)\", \"width\": 0.5}}, \"type\": \"barpolar\"}], \"carpet\": [{\"aaxis\": {\"endlinecolor\": \"rgb(51,51,51)\", \"gridcolor\": \"white\", \"linecolor\": \"white\", \"minorgridcolor\": \"white\", \"startlinecolor\": \"rgb(51,51,51)\"}, \"baxis\": {\"endlinecolor\": \"rgb(51,51,51)\", \"gridcolor\": \"white\", \"linecolor\": \"white\", \"minorgridcolor\": \"white\", \"startlinecolor\": \"rgb(51,51,51)\"}, \"type\": \"carpet\"}], \"choropleth\": [{\"colorbar\": {\"outlinewidth\": 0, \"tickcolor\": \"rgb(237,237,237)\", \"ticklen\": 6, \"ticks\": \"inside\"}, \"type\": \"choropleth\"}], \"contour\": [{\"colorbar\": {\"outlinewidth\": 0, \"tickcolor\": \"rgb(237,237,237)\", \"ticklen\": 6, \"ticks\": \"inside\"}, \"colorscale\": [[0, \"rgb(20,44,66)\"], [1, \"rgb(90,179,244)\"]], \"type\": \"contour\"}], \"contourcarpet\": [{\"colorbar\": {\"outlinewidth\": 0, \"tickcolor\": \"rgb(237,237,237)\", \"ticklen\": 6, \"ticks\": \"inside\"}, \"type\": \"contourcarpet\"}], \"heatmap\": [{\"colorbar\": {\"outlinewidth\": 0, \"tickcolor\": \"rgb(237,237,237)\", \"ticklen\": 6, \"ticks\": \"inside\"}, \"colorscale\": [[0, \"rgb(20,44,66)\"], [1, \"rgb(90,179,244)\"]], \"type\": \"heatmap\"}], \"heatmapgl\": [{\"colorbar\": {\"outlinewidth\": 0, \"tickcolor\": \"rgb(237,237,237)\", \"ticklen\": 6, \"ticks\": \"inside\"}, \"colorscale\": [[0, \"rgb(20,44,66)\"], [1, \"rgb(90,179,244)\"]], \"type\": \"heatmapgl\"}], \"histogram\": [{\"marker\": {\"colorbar\": {\"outlinewidth\": 0, \"tickcolor\": \"rgb(237,237,237)\", \"ticklen\": 6, \"ticks\": \"inside\"}}, \"type\": \"histogram\"}], \"histogram2d\": [{\"colorbar\": {\"outlinewidth\": 0, \"tickcolor\": \"rgb(237,237,237)\", \"ticklen\": 6, \"ticks\": \"inside\"}, \"colorscale\": [[0, \"rgb(20,44,66)\"], [1, \"rgb(90,179,244)\"]], \"type\": \"histogram2d\"}], \"histogram2dcontour\": [{\"colorbar\": {\"outlinewidth\": 0, \"tickcolor\": \"rgb(237,237,237)\", \"ticklen\": 6, \"ticks\": \"inside\"}, \"colorscale\": [[0, \"rgb(20,44,66)\"], [1, \"rgb(90,179,244)\"]], \"type\": \"histogram2dcontour\"}], \"mesh3d\": [{\"colorbar\": {\"outlinewidth\": 0, \"tickcolor\": \"rgb(237,237,237)\", \"ticklen\": 6, \"ticks\": \"inside\"}, \"type\": \"mesh3d\"}], \"parcoords\": [{\"line\": {\"colorbar\": {\"outlinewidth\": 0, \"tickcolor\": \"rgb(237,237,237)\", \"ticklen\": 6, \"ticks\": \"inside\"}}, \"type\": \"parcoords\"}], \"pie\": [{\"automargin\": true, \"type\": \"pie\"}], \"scatter\": [{\"marker\": {\"colorbar\": {\"outlinewidth\": 0, \"tickcolor\": \"rgb(237,237,237)\", \"ticklen\": 6, \"ticks\": \"inside\"}}, \"type\": \"scatter\"}], \"scatter3d\": [{\"line\": {\"colorbar\": {\"outlinewidth\": 0, \"tickcolor\": \"rgb(237,237,237)\", \"ticklen\": 6, \"ticks\": \"inside\"}}, \"marker\": {\"colorbar\": {\"outlinewidth\": 0, \"tickcolor\": \"rgb(237,237,237)\", \"ticklen\": 6, \"ticks\": \"inside\"}}, \"type\": \"scatter3d\"}], \"scattercarpet\": [{\"marker\": {\"colorbar\": {\"outlinewidth\": 0, \"tickcolor\": \"rgb(237,237,237)\", \"ticklen\": 6, \"ticks\": \"inside\"}}, \"type\": \"scattercarpet\"}], \"scattergeo\": [{\"marker\": {\"colorbar\": {\"outlinewidth\": 0, \"tickcolor\": \"rgb(237,237,237)\", \"ticklen\": 6, \"ticks\": \"inside\"}}, \"type\": \"scattergeo\"}], \"scattergl\": [{\"marker\": {\"colorbar\": {\"outlinewidth\": 0, \"tickcolor\": \"rgb(237,237,237)\", \"ticklen\": 6, \"ticks\": \"inside\"}}, \"type\": \"scattergl\"}], \"scattermapbox\": [{\"marker\": {\"colorbar\": {\"outlinewidth\": 0, \"tickcolor\": \"rgb(237,237,237)\", \"ticklen\": 6, \"ticks\": \"inside\"}}, \"type\": \"scattermapbox\"}], \"scatterpolar\": [{\"marker\": {\"colorbar\": {\"outlinewidth\": 0, \"tickcolor\": \"rgb(237,237,237)\", \"ticklen\": 6, \"ticks\": \"inside\"}}, \"type\": \"scatterpolar\"}], \"scatterpolargl\": [{\"marker\": {\"colorbar\": {\"outlinewidth\": 0, \"tickcolor\": \"rgb(237,237,237)\", \"ticklen\": 6, \"ticks\": \"inside\"}}, \"type\": \"scatterpolargl\"}], \"scatterternary\": [{\"marker\": {\"colorbar\": {\"outlinewidth\": 0, \"tickcolor\": \"rgb(237,237,237)\", \"ticklen\": 6, \"ticks\": \"inside\"}}, \"type\": \"scatterternary\"}], \"surface\": [{\"colorbar\": {\"outlinewidth\": 0, \"tickcolor\": \"rgb(237,237,237)\", \"ticklen\": 6, \"ticks\": \"inside\"}, \"colorscale\": [[0, \"rgb(20,44,66)\"], [1, \"rgb(90,179,244)\"]], \"type\": \"surface\"}], \"table\": [{\"cells\": {\"fill\": {\"color\": \"rgb(237,237,237)\"}, \"line\": {\"color\": \"white\"}}, \"header\": {\"fill\": {\"color\": \"rgb(217,217,217)\"}, \"line\": {\"color\": \"white\"}}, \"type\": \"table\"}]}, \"layout\": {\"annotationdefaults\": {\"arrowhead\": 0, \"arrowwidth\": 1}, \"coloraxis\": {\"colorbar\": {\"outlinewidth\": 0, \"tickcolor\": \"rgb(237,237,237)\", \"ticklen\": 6, \"ticks\": \"inside\"}}, \"colorscale\": {\"sequential\": [[0, \"rgb(20,44,66)\"], [1, \"rgb(90,179,244)\"]], \"sequentialminus\": [[0, \"rgb(20,44,66)\"], [1, \"rgb(90,179,244)\"]]}, \"colorway\": [\"#F8766D\", \"#A3A500\", \"#00BF7D\", \"#00B0F6\", \"#E76BF3\"], \"font\": {\"color\": \"rgb(51,51,51)\"}, \"geo\": {\"bgcolor\": \"white\", \"lakecolor\": \"white\", \"landcolor\": \"rgb(237,237,237)\", \"showlakes\": true, \"showland\": true, \"subunitcolor\": \"white\"}, \"hoverlabel\": {\"align\": \"left\"}, \"hovermode\": \"closest\", \"paper_bgcolor\": \"white\", \"plot_bgcolor\": \"rgb(237,237,237)\", \"polar\": {\"angularaxis\": {\"gridcolor\": \"white\", \"linecolor\": \"white\", \"showgrid\": true, \"tickcolor\": \"rgb(51,51,51)\", \"ticks\": \"outside\"}, \"bgcolor\": \"rgb(237,237,237)\", \"radialaxis\": {\"gridcolor\": \"white\", \"linecolor\": \"white\", \"showgrid\": true, \"tickcolor\": \"rgb(51,51,51)\", \"ticks\": \"outside\"}}, \"scene\": {\"xaxis\": {\"backgroundcolor\": \"rgb(237,237,237)\", \"gridcolor\": \"white\", \"gridwidth\": 2, \"linecolor\": \"white\", \"showbackground\": true, \"showgrid\": true, \"tickcolor\": \"rgb(51,51,51)\", \"ticks\": \"outside\", \"zerolinecolor\": \"white\"}, \"yaxis\": {\"backgroundcolor\": \"rgb(237,237,237)\", \"gridcolor\": \"white\", \"gridwidth\": 2, \"linecolor\": \"white\", \"showbackground\": true, \"showgrid\": true, \"tickcolor\": \"rgb(51,51,51)\", \"ticks\": \"outside\", \"zerolinecolor\": \"white\"}, \"zaxis\": {\"backgroundcolor\": \"rgb(237,237,237)\", \"gridcolor\": \"white\", \"gridwidth\": 2, \"linecolor\": \"white\", \"showbackground\": true, \"showgrid\": true, \"tickcolor\": \"rgb(51,51,51)\", \"ticks\": \"outside\", \"zerolinecolor\": \"white\"}}, \"shapedefaults\": {\"fillcolor\": \"black\", \"line\": {\"width\": 0}, \"opacity\": 0.3}, \"ternary\": {\"aaxis\": {\"gridcolor\": \"white\", \"linecolor\": \"white\", \"showgrid\": true, \"tickcolor\": \"rgb(51,51,51)\", \"ticks\": \"outside\"}, \"baxis\": {\"gridcolor\": \"white\", \"linecolor\": \"white\", \"showgrid\": true, \"tickcolor\": \"rgb(51,51,51)\", \"ticks\": \"outside\"}, \"bgcolor\": \"rgb(237,237,237)\", \"caxis\": {\"gridcolor\": \"white\", \"linecolor\": \"white\", \"showgrid\": true, \"tickcolor\": \"rgb(51,51,51)\", \"ticks\": \"outside\"}}, \"xaxis\": {\"automargin\": true, \"gridcolor\": \"white\", \"linecolor\": \"white\", \"showgrid\": true, \"tickcolor\": \"rgb(51,51,51)\", \"ticks\": \"outside\", \"title\": {\"standoff\": 15}, \"zerolinecolor\": \"white\"}, \"yaxis\": {\"automargin\": true, \"gridcolor\": \"white\", \"linecolor\": \"white\", \"showgrid\": true, \"tickcolor\": \"rgb(51,51,51)\", \"ticks\": \"outside\", \"title\": {\"standoff\": 15}, \"zerolinecolor\": \"white\"}}}, \"title\": {\"text\": \"Average value for each attribute grouped by type\"}, \"xaxis\": {\"anchor\": \"y\", \"domain\": [0.0, 1.0], \"title\": {\"text\": \"Type\"}}, \"yaxis\": {\"anchor\": \"x\", \"domain\": [0.0, 1.0], \"title\": {\"text\": \"Attack\"}}},                        {\"responsive\": true}                    ).then(function(){\n",
       "                            \n",
       "var gd = document.getElementById('b9cd44e1-32d9-4a0a-b7fd-da5f431e91ca');\n",
       "var x = new MutationObserver(function (mutations, observer) {{\n",
       "        var display = window.getComputedStyle(gd).display;\n",
       "        if (!display || display === 'none') {{\n",
       "            console.log([gd, 'removed!']);\n",
       "            Plotly.purge(gd);\n",
       "            observer.disconnect();\n",
       "        }}\n",
       "}});\n",
       "\n",
       "// Listen for the removal of the full notebook cells\n",
       "var notebookContainer = gd.closest('#notebook-container');\n",
       "if (notebookContainer) {{\n",
       "    x.observe(notebookContainer, {childList: true});\n",
       "}}\n",
       "\n",
       "// Listen for the clearing of the current output cell\n",
       "var outputEl = gd.closest('.output');\n",
       "if (outputEl) {{\n",
       "    x.observe(outputEl, {childList: true});\n",
       "}}\n",
       "\n",
       "                        })                };                });            </script>        </div>"
      ]
     },
     "metadata": {},
     "output_type": "display_data"
    }
   ],
   "source": [
    "# plot pokemon_type_average_sorted\n",
    "\n",
    "type_average_bar = px.bar(\n",
    "    pokemon_type_average_sorted.drop(columns=[\"Total\"]),\n",
    "    template=\"ggplot2\",\n",
    "    barmode=\"group\",\n",
    "    labels={\n",
    "        \"value\":\"Attack\",\"Type 1\":\"Type\"\n",
    "    },\n",
    "    title=\"Average value for each attribute grouped by type\"    \n",
    ")\n",
    "type_average_bar.show()"
   ]
  },
  {
   "cell_type": "code",
   "execution_count": 79,
   "metadata": {},
   "outputs": [
    {
     "data": {
      "text/plain": [
       "Type 1\n",
       "Water         9.194870\n",
       "Ice          19.080785\n",
       "Poison       24.543197\n",
       "Grass        32.214896\n",
       "Bug          49.760442\n",
       "Dark         61.586524\n",
       "Ghost        67.614963\n",
       "Normal       71.474801\n",
       "Fire         74.615241\n",
       "Electric    120.343000\n",
       "Dragon      143.808750\n",
       "Psychic     152.026339\n",
       "Flying      184.900000\n",
       "Fairy       186.758854\n",
       "Fighting    212.052126\n",
       "Ground      219.200340\n",
       "Rock        295.206437\n",
       "Steel       791.362571\n",
       "dtype: float64"
      ]
     },
     "execution_count": 79,
     "metadata": {},
     "output_type": "execute_result"
    }
   ],
   "source": [
    "# The variance of different attributes of each type\n",
    "\n",
    "type_cleaned_df = pokemon_type_average_sorted.drop(columns=[\"Total\"])\n",
    "type_variance = type_cleaned_df.var(axis=1)\n",
    "type_variance_sorted = type_variance.sort_values()\n",
    "type_variance_sorted\n",
    "# We can notice the diffence in variance of different types"
   ]
  },
  {
   "cell_type": "markdown",
   "metadata": {},
   "source": [
    "# 各项属性关联"
   ]
  },
  {
   "cell_type": "code",
   "execution_count": 104,
   "metadata": {},
   "outputs": [
    {
     "data": {
      "text/html": [
       "<div>\n",
       "<style scoped>\n",
       "    .dataframe tbody tr th:only-of-type {\n",
       "        vertical-align: middle;\n",
       "    }\n",
       "\n",
       "    .dataframe tbody tr th {\n",
       "        vertical-align: top;\n",
       "    }\n",
       "\n",
       "    .dataframe thead th {\n",
       "        text-align: right;\n",
       "    }\n",
       "</style>\n",
       "<table border=\"1\" class=\"dataframe\">\n",
       "  <thead>\n",
       "    <tr style=\"text-align: right;\">\n",
       "      <th></th>\n",
       "      <th>Total</th>\n",
       "      <th>HP</th>\n",
       "      <th>Attack</th>\n",
       "      <th>Defense</th>\n",
       "      <th>Sp. Atk</th>\n",
       "      <th>Sp. Def</th>\n",
       "      <th>Speed</th>\n",
       "    </tr>\n",
       "  </thead>\n",
       "  <tbody>\n",
       "    <tr>\n",
       "      <th>Total</th>\n",
       "      <td>1.000000</td>\n",
       "      <td>0.586473</td>\n",
       "      <td>0.699817</td>\n",
       "      <td>0.608721</td>\n",
       "      <td>0.685697</td>\n",
       "      <td>0.698582</td>\n",
       "      <td>0.520161</td>\n",
       "    </tr>\n",
       "    <tr>\n",
       "      <th>HP</th>\n",
       "      <td>0.586473</td>\n",
       "      <td>1.000000</td>\n",
       "      <td>0.377668</td>\n",
       "      <td>0.192426</td>\n",
       "      <td>0.299471</td>\n",
       "      <td>0.337606</td>\n",
       "      <td>0.109847</td>\n",
       "    </tr>\n",
       "    <tr>\n",
       "      <th>Attack</th>\n",
       "      <td>0.699817</td>\n",
       "      <td>0.377668</td>\n",
       "      <td>1.000000</td>\n",
       "      <td>0.437192</td>\n",
       "      <td>0.261879</td>\n",
       "      <td>0.211872</td>\n",
       "      <td>0.305346</td>\n",
       "    </tr>\n",
       "    <tr>\n",
       "      <th>Defense</th>\n",
       "      <td>0.608721</td>\n",
       "      <td>0.192426</td>\n",
       "      <td>0.437192</td>\n",
       "      <td>1.000000</td>\n",
       "      <td>0.186030</td>\n",
       "      <td>0.475241</td>\n",
       "      <td>-0.040796</td>\n",
       "    </tr>\n",
       "    <tr>\n",
       "      <th>Sp. Atk</th>\n",
       "      <td>0.685697</td>\n",
       "      <td>0.299471</td>\n",
       "      <td>0.261879</td>\n",
       "      <td>0.186030</td>\n",
       "      <td>1.000000</td>\n",
       "      <td>0.471164</td>\n",
       "      <td>0.393205</td>\n",
       "    </tr>\n",
       "    <tr>\n",
       "      <th>Sp. Def</th>\n",
       "      <td>0.698582</td>\n",
       "      <td>0.337606</td>\n",
       "      <td>0.211872</td>\n",
       "      <td>0.475241</td>\n",
       "      <td>0.471164</td>\n",
       "      <td>1.000000</td>\n",
       "      <td>0.212542</td>\n",
       "    </tr>\n",
       "    <tr>\n",
       "      <th>Speed</th>\n",
       "      <td>0.520161</td>\n",
       "      <td>0.109847</td>\n",
       "      <td>0.305346</td>\n",
       "      <td>-0.040796</td>\n",
       "      <td>0.393205</td>\n",
       "      <td>0.212542</td>\n",
       "      <td>1.000000</td>\n",
       "    </tr>\n",
       "  </tbody>\n",
       "</table>\n",
       "</div>"
      ],
      "text/plain": [
       "            Total        HP    Attack   Defense   Sp. Atk   Sp. Def     Speed\n",
       "Total    1.000000  0.586473  0.699817  0.608721  0.685697  0.698582  0.520161\n",
       "HP       0.586473  1.000000  0.377668  0.192426  0.299471  0.337606  0.109847\n",
       "Attack   0.699817  0.377668  1.000000  0.437192  0.261879  0.211872  0.305346\n",
       "Defense  0.608721  0.192426  0.437192  1.000000  0.186030  0.475241 -0.040796\n",
       "Sp. Atk  0.685697  0.299471  0.261879  0.186030  1.000000  0.471164  0.393205\n",
       "Sp. Def  0.698582  0.337606  0.211872  0.475241  0.471164  1.000000  0.212542\n",
       "Speed    0.520161  0.109847  0.305346 -0.040796  0.393205  0.212542  1.000000"
      ]
     },
     "execution_count": 104,
     "metadata": {},
     "output_type": "execute_result"
    }
   ],
   "source": [
    "# Correlation between attributes\n",
    "df_corr = df_non_legendary.drop(columns=[\"#\",\"Legendary\",\"Generation\"]).corr()\n",
    "df_corr"
   ]
  },
  {
   "cell_type": "code",
   "execution_count": 105,
   "metadata": {},
   "outputs": [
    {
     "data": {
      "application/vnd.plotly.v1+json": {
       "config": {
        "plotlyServerURL": "https://plot.ly"
       },
       "data": [
        {
         "coloraxis": "coloraxis",
         "hovertemplate": "x: %{x}<br>y: %{y}<br>color: %{z}<extra></extra>",
         "type": "heatmap",
         "x": [
          "Total",
          "HP",
          "Attack",
          "Defense",
          "Sp. Atk",
          "Sp. Def",
          "Speed"
         ],
         "y": [
          "Total",
          "HP",
          "Attack",
          "Defense",
          "Sp. Atk",
          "Sp. Def",
          "Speed"
         ],
         "z": [
          [
           1,
           0.5864725318051398,
           0.6998172028648327,
           0.6087208067837684,
           0.685697063946217,
           0.698582298038904,
           0.5201606589761987
          ],
          [
           0.5864725318051398,
           1,
           0.3776677167324941,
           0.19242633575933127,
           0.29947104734209173,
           0.3376062650229829,
           0.10984708500870374
          ],
          [
           0.6998172028648327,
           0.3776677167324941,
           1,
           0.4371924204599779,
           0.26187897817045785,
           0.21187212442637177,
           0.30534648057864927
          ],
          [
           0.6087208067837684,
           0.19242633575933127,
           0.4371924204599779,
           1,
           0.1860300693723115,
           0.4752405976456132,
           -0.040795711389963574
          ],
          [
           0.685697063946217,
           0.29947104734209173,
           0.26187897817045785,
           0.1860300693723115,
           1,
           0.4711644338929734,
           0.393205427078688
          ],
          [
           0.698582298038904,
           0.3376062650229829,
           0.21187212442637177,
           0.4752405976456132,
           0.4711644338929734,
           1,
           0.2125416843063766
          ],
          [
           0.5201606589761987,
           0.10984708500870374,
           0.30534648057864927,
           -0.040795711389963574,
           0.393205427078688,
           0.2125416843063766,
           1
          ]
         ]
        }
       ],
       "layout": {
        "coloraxis": {
         "colorscale": [
          [
           0,
           "#0d0887"
          ],
          [
           0.1111111111111111,
           "#46039f"
          ],
          [
           0.2222222222222222,
           "#7201a8"
          ],
          [
           0.3333333333333333,
           "#9c179e"
          ],
          [
           0.4444444444444444,
           "#bd3786"
          ],
          [
           0.5555555555555556,
           "#d8576b"
          ],
          [
           0.6666666666666666,
           "#ed7953"
          ],
          [
           0.7777777777777778,
           "#fb9f3a"
          ],
          [
           0.8888888888888888,
           "#fdca26"
          ],
          [
           1,
           "#f0f921"
          ]
         ]
        },
        "margin": {
         "t": 60
        },
        "template": {
         "data": {
          "bar": [
           {
            "error_x": {
             "color": "#2a3f5f"
            },
            "error_y": {
             "color": "#2a3f5f"
            },
            "marker": {
             "line": {
              "color": "#E5ECF6",
              "width": 0.5
             }
            },
            "type": "bar"
           }
          ],
          "barpolar": [
           {
            "marker": {
             "line": {
              "color": "#E5ECF6",
              "width": 0.5
             }
            },
            "type": "barpolar"
           }
          ],
          "carpet": [
           {
            "aaxis": {
             "endlinecolor": "#2a3f5f",
             "gridcolor": "white",
             "linecolor": "white",
             "minorgridcolor": "white",
             "startlinecolor": "#2a3f5f"
            },
            "baxis": {
             "endlinecolor": "#2a3f5f",
             "gridcolor": "white",
             "linecolor": "white",
             "minorgridcolor": "white",
             "startlinecolor": "#2a3f5f"
            },
            "type": "carpet"
           }
          ],
          "choropleth": [
           {
            "colorbar": {
             "outlinewidth": 0,
             "ticks": ""
            },
            "type": "choropleth"
           }
          ],
          "contour": [
           {
            "colorbar": {
             "outlinewidth": 0,
             "ticks": ""
            },
            "colorscale": [
             [
              0,
              "#0d0887"
             ],
             [
              0.1111111111111111,
              "#46039f"
             ],
             [
              0.2222222222222222,
              "#7201a8"
             ],
             [
              0.3333333333333333,
              "#9c179e"
             ],
             [
              0.4444444444444444,
              "#bd3786"
             ],
             [
              0.5555555555555556,
              "#d8576b"
             ],
             [
              0.6666666666666666,
              "#ed7953"
             ],
             [
              0.7777777777777778,
              "#fb9f3a"
             ],
             [
              0.8888888888888888,
              "#fdca26"
             ],
             [
              1,
              "#f0f921"
             ]
            ],
            "type": "contour"
           }
          ],
          "contourcarpet": [
           {
            "colorbar": {
             "outlinewidth": 0,
             "ticks": ""
            },
            "type": "contourcarpet"
           }
          ],
          "heatmap": [
           {
            "colorbar": {
             "outlinewidth": 0,
             "ticks": ""
            },
            "colorscale": [
             [
              0,
              "#0d0887"
             ],
             [
              0.1111111111111111,
              "#46039f"
             ],
             [
              0.2222222222222222,
              "#7201a8"
             ],
             [
              0.3333333333333333,
              "#9c179e"
             ],
             [
              0.4444444444444444,
              "#bd3786"
             ],
             [
              0.5555555555555556,
              "#d8576b"
             ],
             [
              0.6666666666666666,
              "#ed7953"
             ],
             [
              0.7777777777777778,
              "#fb9f3a"
             ],
             [
              0.8888888888888888,
              "#fdca26"
             ],
             [
              1,
              "#f0f921"
             ]
            ],
            "type": "heatmap"
           }
          ],
          "heatmapgl": [
           {
            "colorbar": {
             "outlinewidth": 0,
             "ticks": ""
            },
            "colorscale": [
             [
              0,
              "#0d0887"
             ],
             [
              0.1111111111111111,
              "#46039f"
             ],
             [
              0.2222222222222222,
              "#7201a8"
             ],
             [
              0.3333333333333333,
              "#9c179e"
             ],
             [
              0.4444444444444444,
              "#bd3786"
             ],
             [
              0.5555555555555556,
              "#d8576b"
             ],
             [
              0.6666666666666666,
              "#ed7953"
             ],
             [
              0.7777777777777778,
              "#fb9f3a"
             ],
             [
              0.8888888888888888,
              "#fdca26"
             ],
             [
              1,
              "#f0f921"
             ]
            ],
            "type": "heatmapgl"
           }
          ],
          "histogram": [
           {
            "marker": {
             "colorbar": {
              "outlinewidth": 0,
              "ticks": ""
             }
            },
            "type": "histogram"
           }
          ],
          "histogram2d": [
           {
            "colorbar": {
             "outlinewidth": 0,
             "ticks": ""
            },
            "colorscale": [
             [
              0,
              "#0d0887"
             ],
             [
              0.1111111111111111,
              "#46039f"
             ],
             [
              0.2222222222222222,
              "#7201a8"
             ],
             [
              0.3333333333333333,
              "#9c179e"
             ],
             [
              0.4444444444444444,
              "#bd3786"
             ],
             [
              0.5555555555555556,
              "#d8576b"
             ],
             [
              0.6666666666666666,
              "#ed7953"
             ],
             [
              0.7777777777777778,
              "#fb9f3a"
             ],
             [
              0.8888888888888888,
              "#fdca26"
             ],
             [
              1,
              "#f0f921"
             ]
            ],
            "type": "histogram2d"
           }
          ],
          "histogram2dcontour": [
           {
            "colorbar": {
             "outlinewidth": 0,
             "ticks": ""
            },
            "colorscale": [
             [
              0,
              "#0d0887"
             ],
             [
              0.1111111111111111,
              "#46039f"
             ],
             [
              0.2222222222222222,
              "#7201a8"
             ],
             [
              0.3333333333333333,
              "#9c179e"
             ],
             [
              0.4444444444444444,
              "#bd3786"
             ],
             [
              0.5555555555555556,
              "#d8576b"
             ],
             [
              0.6666666666666666,
              "#ed7953"
             ],
             [
              0.7777777777777778,
              "#fb9f3a"
             ],
             [
              0.8888888888888888,
              "#fdca26"
             ],
             [
              1,
              "#f0f921"
             ]
            ],
            "type": "histogram2dcontour"
           }
          ],
          "mesh3d": [
           {
            "colorbar": {
             "outlinewidth": 0,
             "ticks": ""
            },
            "type": "mesh3d"
           }
          ],
          "parcoords": [
           {
            "line": {
             "colorbar": {
              "outlinewidth": 0,
              "ticks": ""
             }
            },
            "type": "parcoords"
           }
          ],
          "pie": [
           {
            "automargin": true,
            "type": "pie"
           }
          ],
          "scatter": [
           {
            "marker": {
             "colorbar": {
              "outlinewidth": 0,
              "ticks": ""
             }
            },
            "type": "scatter"
           }
          ],
          "scatter3d": [
           {
            "line": {
             "colorbar": {
              "outlinewidth": 0,
              "ticks": ""
             }
            },
            "marker": {
             "colorbar": {
              "outlinewidth": 0,
              "ticks": ""
             }
            },
            "type": "scatter3d"
           }
          ],
          "scattercarpet": [
           {
            "marker": {
             "colorbar": {
              "outlinewidth": 0,
              "ticks": ""
             }
            },
            "type": "scattercarpet"
           }
          ],
          "scattergeo": [
           {
            "marker": {
             "colorbar": {
              "outlinewidth": 0,
              "ticks": ""
             }
            },
            "type": "scattergeo"
           }
          ],
          "scattergl": [
           {
            "marker": {
             "colorbar": {
              "outlinewidth": 0,
              "ticks": ""
             }
            },
            "type": "scattergl"
           }
          ],
          "scattermapbox": [
           {
            "marker": {
             "colorbar": {
              "outlinewidth": 0,
              "ticks": ""
             }
            },
            "type": "scattermapbox"
           }
          ],
          "scatterpolar": [
           {
            "marker": {
             "colorbar": {
              "outlinewidth": 0,
              "ticks": ""
             }
            },
            "type": "scatterpolar"
           }
          ],
          "scatterpolargl": [
           {
            "marker": {
             "colorbar": {
              "outlinewidth": 0,
              "ticks": ""
             }
            },
            "type": "scatterpolargl"
           }
          ],
          "scatterternary": [
           {
            "marker": {
             "colorbar": {
              "outlinewidth": 0,
              "ticks": ""
             }
            },
            "type": "scatterternary"
           }
          ],
          "surface": [
           {
            "colorbar": {
             "outlinewidth": 0,
             "ticks": ""
            },
            "colorscale": [
             [
              0,
              "#0d0887"
             ],
             [
              0.1111111111111111,
              "#46039f"
             ],
             [
              0.2222222222222222,
              "#7201a8"
             ],
             [
              0.3333333333333333,
              "#9c179e"
             ],
             [
              0.4444444444444444,
              "#bd3786"
             ],
             [
              0.5555555555555556,
              "#d8576b"
             ],
             [
              0.6666666666666666,
              "#ed7953"
             ],
             [
              0.7777777777777778,
              "#fb9f3a"
             ],
             [
              0.8888888888888888,
              "#fdca26"
             ],
             [
              1,
              "#f0f921"
             ]
            ],
            "type": "surface"
           }
          ],
          "table": [
           {
            "cells": {
             "fill": {
              "color": "#EBF0F8"
             },
             "line": {
              "color": "white"
             }
            },
            "header": {
             "fill": {
              "color": "#C8D4E3"
             },
             "line": {
              "color": "white"
             }
            },
            "type": "table"
           }
          ]
         },
         "layout": {
          "annotationdefaults": {
           "arrowcolor": "#2a3f5f",
           "arrowhead": 0,
           "arrowwidth": 1
          },
          "coloraxis": {
           "colorbar": {
            "outlinewidth": 0,
            "ticks": ""
           }
          },
          "colorscale": {
           "diverging": [
            [
             0,
             "#8e0152"
            ],
            [
             0.1,
             "#c51b7d"
            ],
            [
             0.2,
             "#de77ae"
            ],
            [
             0.3,
             "#f1b6da"
            ],
            [
             0.4,
             "#fde0ef"
            ],
            [
             0.5,
             "#f7f7f7"
            ],
            [
             0.6,
             "#e6f5d0"
            ],
            [
             0.7,
             "#b8e186"
            ],
            [
             0.8,
             "#7fbc41"
            ],
            [
             0.9,
             "#4d9221"
            ],
            [
             1,
             "#276419"
            ]
           ],
           "sequential": [
            [
             0,
             "#0d0887"
            ],
            [
             0.1111111111111111,
             "#46039f"
            ],
            [
             0.2222222222222222,
             "#7201a8"
            ],
            [
             0.3333333333333333,
             "#9c179e"
            ],
            [
             0.4444444444444444,
             "#bd3786"
            ],
            [
             0.5555555555555556,
             "#d8576b"
            ],
            [
             0.6666666666666666,
             "#ed7953"
            ],
            [
             0.7777777777777778,
             "#fb9f3a"
            ],
            [
             0.8888888888888888,
             "#fdca26"
            ],
            [
             1,
             "#f0f921"
            ]
           ],
           "sequentialminus": [
            [
             0,
             "#0d0887"
            ],
            [
             0.1111111111111111,
             "#46039f"
            ],
            [
             0.2222222222222222,
             "#7201a8"
            ],
            [
             0.3333333333333333,
             "#9c179e"
            ],
            [
             0.4444444444444444,
             "#bd3786"
            ],
            [
             0.5555555555555556,
             "#d8576b"
            ],
            [
             0.6666666666666666,
             "#ed7953"
            ],
            [
             0.7777777777777778,
             "#fb9f3a"
            ],
            [
             0.8888888888888888,
             "#fdca26"
            ],
            [
             1,
             "#f0f921"
            ]
           ]
          },
          "colorway": [
           "#636efa",
           "#EF553B",
           "#00cc96",
           "#ab63fa",
           "#FFA15A",
           "#19d3f3",
           "#FF6692",
           "#B6E880",
           "#FF97FF",
           "#FECB52"
          ],
          "font": {
           "color": "#2a3f5f"
          },
          "geo": {
           "bgcolor": "white",
           "lakecolor": "white",
           "landcolor": "#E5ECF6",
           "showlakes": true,
           "showland": true,
           "subunitcolor": "white"
          },
          "hoverlabel": {
           "align": "left"
          },
          "hovermode": "closest",
          "mapbox": {
           "style": "light"
          },
          "paper_bgcolor": "white",
          "plot_bgcolor": "#E5ECF6",
          "polar": {
           "angularaxis": {
            "gridcolor": "white",
            "linecolor": "white",
            "ticks": ""
           },
           "bgcolor": "#E5ECF6",
           "radialaxis": {
            "gridcolor": "white",
            "linecolor": "white",
            "ticks": ""
           }
          },
          "scene": {
           "xaxis": {
            "backgroundcolor": "#E5ECF6",
            "gridcolor": "white",
            "gridwidth": 2,
            "linecolor": "white",
            "showbackground": true,
            "ticks": "",
            "zerolinecolor": "white"
           },
           "yaxis": {
            "backgroundcolor": "#E5ECF6",
            "gridcolor": "white",
            "gridwidth": 2,
            "linecolor": "white",
            "showbackground": true,
            "ticks": "",
            "zerolinecolor": "white"
           },
           "zaxis": {
            "backgroundcolor": "#E5ECF6",
            "gridcolor": "white",
            "gridwidth": 2,
            "linecolor": "white",
            "showbackground": true,
            "ticks": "",
            "zerolinecolor": "white"
           }
          },
          "shapedefaults": {
           "line": {
            "color": "#2a3f5f"
           }
          },
          "ternary": {
           "aaxis": {
            "gridcolor": "white",
            "linecolor": "white",
            "ticks": ""
           },
           "baxis": {
            "gridcolor": "white",
            "linecolor": "white",
            "ticks": ""
           },
           "bgcolor": "#E5ECF6",
           "caxis": {
            "gridcolor": "white",
            "linecolor": "white",
            "ticks": ""
           }
          },
          "title": {
           "x": 0.05
          },
          "xaxis": {
           "automargin": true,
           "gridcolor": "white",
           "linecolor": "white",
           "ticks": "",
           "title": {
            "standoff": 15
           },
           "zerolinecolor": "white",
           "zerolinewidth": 2
          },
          "yaxis": {
           "automargin": true,
           "gridcolor": "white",
           "linecolor": "white",
           "ticks": "",
           "title": {
            "standoff": 15
           },
           "zerolinecolor": "white",
           "zerolinewidth": 2
          }
         }
        },
        "xaxis": {
         "constrain": "domain",
         "scaleanchor": "y"
        },
        "yaxis": {
         "autorange": "reversed",
         "constrain": "domain"
        }
       }
      },
      "text/html": [
       "<div>                            <div id=\"c4fdc8b5-6822-431d-896b-601a6223fdb7\" class=\"plotly-graph-div\" style=\"height:525px; width:100%;\"></div>            <script type=\"text/javascript\">                require([\"plotly\"], function(Plotly) {                    window.PLOTLYENV=window.PLOTLYENV || {};                                    if (document.getElementById(\"c4fdc8b5-6822-431d-896b-601a6223fdb7\")) {                    Plotly.newPlot(                        \"c4fdc8b5-6822-431d-896b-601a6223fdb7\",                        [{\"coloraxis\": \"coloraxis\", \"hovertemplate\": \"x: %{x}<br>y: %{y}<br>color: %{z}<extra></extra>\", \"type\": \"heatmap\", \"x\": [\"Total\", \"HP\", \"Attack\", \"Defense\", \"Sp. Atk\", \"Sp. Def\", \"Speed\"], \"y\": [\"Total\", \"HP\", \"Attack\", \"Defense\", \"Sp. Atk\", \"Sp. Def\", \"Speed\"], \"z\": [[1.0, 0.5864725318051398, 0.6998172028648327, 0.6087208067837684, 0.685697063946217, 0.698582298038904, 0.5201606589761987], [0.5864725318051398, 1.0, 0.3776677167324941, 0.19242633575933127, 0.29947104734209173, 0.3376062650229829, 0.10984708500870374], [0.6998172028648327, 0.3776677167324941, 1.0, 0.4371924204599779, 0.26187897817045785, 0.21187212442637177, 0.30534648057864927], [0.6087208067837684, 0.19242633575933127, 0.4371924204599779, 1.0, 0.1860300693723115, 0.4752405976456132, -0.040795711389963574], [0.685697063946217, 0.29947104734209173, 0.26187897817045785, 0.1860300693723115, 1.0, 0.4711644338929734, 0.393205427078688], [0.698582298038904, 0.3376062650229829, 0.21187212442637177, 0.4752405976456132, 0.4711644338929734, 1.0, 0.2125416843063766], [0.5201606589761987, 0.10984708500870374, 0.30534648057864927, -0.040795711389963574, 0.393205427078688, 0.2125416843063766, 1.0]]}],                        {\"coloraxis\": {\"colorscale\": [[0.0, \"#0d0887\"], [0.1111111111111111, \"#46039f\"], [0.2222222222222222, \"#7201a8\"], [0.3333333333333333, \"#9c179e\"], [0.4444444444444444, \"#bd3786\"], [0.5555555555555556, \"#d8576b\"], [0.6666666666666666, \"#ed7953\"], [0.7777777777777778, \"#fb9f3a\"], [0.8888888888888888, \"#fdca26\"], [1.0, \"#f0f921\"]]}, \"margin\": {\"t\": 60}, \"template\": {\"data\": {\"bar\": [{\"error_x\": {\"color\": \"#2a3f5f\"}, \"error_y\": {\"color\": \"#2a3f5f\"}, \"marker\": {\"line\": {\"color\": \"#E5ECF6\", \"width\": 0.5}}, \"type\": \"bar\"}], \"barpolar\": [{\"marker\": {\"line\": {\"color\": \"#E5ECF6\", \"width\": 0.5}}, \"type\": \"barpolar\"}], \"carpet\": [{\"aaxis\": {\"endlinecolor\": \"#2a3f5f\", \"gridcolor\": \"white\", \"linecolor\": \"white\", \"minorgridcolor\": \"white\", \"startlinecolor\": \"#2a3f5f\"}, \"baxis\": {\"endlinecolor\": \"#2a3f5f\", \"gridcolor\": \"white\", \"linecolor\": \"white\", \"minorgridcolor\": \"white\", \"startlinecolor\": \"#2a3f5f\"}, \"type\": \"carpet\"}], \"choropleth\": [{\"colorbar\": {\"outlinewidth\": 0, \"ticks\": \"\"}, \"type\": \"choropleth\"}], \"contour\": [{\"colorbar\": {\"outlinewidth\": 0, \"ticks\": \"\"}, \"colorscale\": [[0.0, \"#0d0887\"], [0.1111111111111111, \"#46039f\"], [0.2222222222222222, \"#7201a8\"], [0.3333333333333333, \"#9c179e\"], [0.4444444444444444, \"#bd3786\"], [0.5555555555555556, \"#d8576b\"], [0.6666666666666666, \"#ed7953\"], [0.7777777777777778, \"#fb9f3a\"], [0.8888888888888888, \"#fdca26\"], [1.0, \"#f0f921\"]], \"type\": \"contour\"}], \"contourcarpet\": [{\"colorbar\": {\"outlinewidth\": 0, \"ticks\": \"\"}, \"type\": \"contourcarpet\"}], \"heatmap\": [{\"colorbar\": {\"outlinewidth\": 0, \"ticks\": \"\"}, \"colorscale\": [[0.0, \"#0d0887\"], [0.1111111111111111, \"#46039f\"], [0.2222222222222222, \"#7201a8\"], [0.3333333333333333, \"#9c179e\"], [0.4444444444444444, \"#bd3786\"], [0.5555555555555556, \"#d8576b\"], [0.6666666666666666, \"#ed7953\"], [0.7777777777777778, \"#fb9f3a\"], [0.8888888888888888, \"#fdca26\"], [1.0, \"#f0f921\"]], \"type\": \"heatmap\"}], \"heatmapgl\": [{\"colorbar\": {\"outlinewidth\": 0, \"ticks\": \"\"}, \"colorscale\": [[0.0, \"#0d0887\"], [0.1111111111111111, \"#46039f\"], [0.2222222222222222, \"#7201a8\"], [0.3333333333333333, \"#9c179e\"], [0.4444444444444444, \"#bd3786\"], [0.5555555555555556, \"#d8576b\"], [0.6666666666666666, \"#ed7953\"], [0.7777777777777778, \"#fb9f3a\"], [0.8888888888888888, \"#fdca26\"], [1.0, \"#f0f921\"]], \"type\": \"heatmapgl\"}], \"histogram\": [{\"marker\": {\"colorbar\": {\"outlinewidth\": 0, \"ticks\": \"\"}}, \"type\": \"histogram\"}], \"histogram2d\": [{\"colorbar\": {\"outlinewidth\": 0, \"ticks\": \"\"}, \"colorscale\": [[0.0, \"#0d0887\"], [0.1111111111111111, \"#46039f\"], [0.2222222222222222, \"#7201a8\"], [0.3333333333333333, \"#9c179e\"], [0.4444444444444444, \"#bd3786\"], [0.5555555555555556, \"#d8576b\"], [0.6666666666666666, \"#ed7953\"], [0.7777777777777778, \"#fb9f3a\"], [0.8888888888888888, \"#fdca26\"], [1.0, \"#f0f921\"]], \"type\": \"histogram2d\"}], \"histogram2dcontour\": [{\"colorbar\": {\"outlinewidth\": 0, \"ticks\": \"\"}, \"colorscale\": [[0.0, \"#0d0887\"], [0.1111111111111111, \"#46039f\"], [0.2222222222222222, \"#7201a8\"], [0.3333333333333333, \"#9c179e\"], [0.4444444444444444, \"#bd3786\"], [0.5555555555555556, \"#d8576b\"], [0.6666666666666666, \"#ed7953\"], [0.7777777777777778, \"#fb9f3a\"], [0.8888888888888888, \"#fdca26\"], [1.0, \"#f0f921\"]], \"type\": \"histogram2dcontour\"}], \"mesh3d\": [{\"colorbar\": {\"outlinewidth\": 0, \"ticks\": \"\"}, \"type\": \"mesh3d\"}], \"parcoords\": [{\"line\": {\"colorbar\": {\"outlinewidth\": 0, \"ticks\": \"\"}}, \"type\": \"parcoords\"}], \"pie\": [{\"automargin\": true, \"type\": \"pie\"}], \"scatter\": [{\"marker\": {\"colorbar\": {\"outlinewidth\": 0, \"ticks\": \"\"}}, \"type\": \"scatter\"}], \"scatter3d\": [{\"line\": {\"colorbar\": {\"outlinewidth\": 0, \"ticks\": \"\"}}, \"marker\": {\"colorbar\": {\"outlinewidth\": 0, \"ticks\": \"\"}}, \"type\": \"scatter3d\"}], \"scattercarpet\": [{\"marker\": {\"colorbar\": {\"outlinewidth\": 0, \"ticks\": \"\"}}, \"type\": \"scattercarpet\"}], \"scattergeo\": [{\"marker\": {\"colorbar\": {\"outlinewidth\": 0, \"ticks\": \"\"}}, \"type\": \"scattergeo\"}], \"scattergl\": [{\"marker\": {\"colorbar\": {\"outlinewidth\": 0, \"ticks\": \"\"}}, \"type\": \"scattergl\"}], \"scattermapbox\": [{\"marker\": {\"colorbar\": {\"outlinewidth\": 0, \"ticks\": \"\"}}, \"type\": \"scattermapbox\"}], \"scatterpolar\": [{\"marker\": {\"colorbar\": {\"outlinewidth\": 0, \"ticks\": \"\"}}, \"type\": \"scatterpolar\"}], \"scatterpolargl\": [{\"marker\": {\"colorbar\": {\"outlinewidth\": 0, \"ticks\": \"\"}}, \"type\": \"scatterpolargl\"}], \"scatterternary\": [{\"marker\": {\"colorbar\": {\"outlinewidth\": 0, \"ticks\": \"\"}}, \"type\": \"scatterternary\"}], \"surface\": [{\"colorbar\": {\"outlinewidth\": 0, \"ticks\": \"\"}, \"colorscale\": [[0.0, \"#0d0887\"], [0.1111111111111111, \"#46039f\"], [0.2222222222222222, \"#7201a8\"], [0.3333333333333333, \"#9c179e\"], [0.4444444444444444, \"#bd3786\"], [0.5555555555555556, \"#d8576b\"], [0.6666666666666666, \"#ed7953\"], [0.7777777777777778, \"#fb9f3a\"], [0.8888888888888888, \"#fdca26\"], [1.0, \"#f0f921\"]], \"type\": \"surface\"}], \"table\": [{\"cells\": {\"fill\": {\"color\": \"#EBF0F8\"}, \"line\": {\"color\": \"white\"}}, \"header\": {\"fill\": {\"color\": \"#C8D4E3\"}, \"line\": {\"color\": \"white\"}}, \"type\": \"table\"}]}, \"layout\": {\"annotationdefaults\": {\"arrowcolor\": \"#2a3f5f\", \"arrowhead\": 0, \"arrowwidth\": 1}, \"coloraxis\": {\"colorbar\": {\"outlinewidth\": 0, \"ticks\": \"\"}}, \"colorscale\": {\"diverging\": [[0, \"#8e0152\"], [0.1, \"#c51b7d\"], [0.2, \"#de77ae\"], [0.3, \"#f1b6da\"], [0.4, \"#fde0ef\"], [0.5, \"#f7f7f7\"], [0.6, \"#e6f5d0\"], [0.7, \"#b8e186\"], [0.8, \"#7fbc41\"], [0.9, \"#4d9221\"], [1, \"#276419\"]], \"sequential\": [[0.0, \"#0d0887\"], [0.1111111111111111, \"#46039f\"], [0.2222222222222222, \"#7201a8\"], [0.3333333333333333, \"#9c179e\"], [0.4444444444444444, \"#bd3786\"], [0.5555555555555556, \"#d8576b\"], [0.6666666666666666, \"#ed7953\"], [0.7777777777777778, \"#fb9f3a\"], [0.8888888888888888, \"#fdca26\"], [1.0, \"#f0f921\"]], \"sequentialminus\": [[0.0, \"#0d0887\"], [0.1111111111111111, \"#46039f\"], [0.2222222222222222, \"#7201a8\"], [0.3333333333333333, \"#9c179e\"], [0.4444444444444444, \"#bd3786\"], [0.5555555555555556, \"#d8576b\"], [0.6666666666666666, \"#ed7953\"], [0.7777777777777778, \"#fb9f3a\"], [0.8888888888888888, \"#fdca26\"], [1.0, \"#f0f921\"]]}, \"colorway\": [\"#636efa\", \"#EF553B\", \"#00cc96\", \"#ab63fa\", \"#FFA15A\", \"#19d3f3\", \"#FF6692\", \"#B6E880\", \"#FF97FF\", \"#FECB52\"], \"font\": {\"color\": \"#2a3f5f\"}, \"geo\": {\"bgcolor\": \"white\", \"lakecolor\": \"white\", \"landcolor\": \"#E5ECF6\", \"showlakes\": true, \"showland\": true, \"subunitcolor\": \"white\"}, \"hoverlabel\": {\"align\": \"left\"}, \"hovermode\": \"closest\", \"mapbox\": {\"style\": \"light\"}, \"paper_bgcolor\": \"white\", \"plot_bgcolor\": \"#E5ECF6\", \"polar\": {\"angularaxis\": {\"gridcolor\": \"white\", \"linecolor\": \"white\", \"ticks\": \"\"}, \"bgcolor\": \"#E5ECF6\", \"radialaxis\": {\"gridcolor\": \"white\", \"linecolor\": \"white\", \"ticks\": \"\"}}, \"scene\": {\"xaxis\": {\"backgroundcolor\": \"#E5ECF6\", \"gridcolor\": \"white\", \"gridwidth\": 2, \"linecolor\": \"white\", \"showbackground\": true, \"ticks\": \"\", \"zerolinecolor\": \"white\"}, \"yaxis\": {\"backgroundcolor\": \"#E5ECF6\", \"gridcolor\": \"white\", \"gridwidth\": 2, \"linecolor\": \"white\", \"showbackground\": true, \"ticks\": \"\", \"zerolinecolor\": \"white\"}, \"zaxis\": {\"backgroundcolor\": \"#E5ECF6\", \"gridcolor\": \"white\", \"gridwidth\": 2, \"linecolor\": \"white\", \"showbackground\": true, \"ticks\": \"\", \"zerolinecolor\": \"white\"}}, \"shapedefaults\": {\"line\": {\"color\": \"#2a3f5f\"}}, \"ternary\": {\"aaxis\": {\"gridcolor\": \"white\", \"linecolor\": \"white\", \"ticks\": \"\"}, \"baxis\": {\"gridcolor\": \"white\", \"linecolor\": \"white\", \"ticks\": \"\"}, \"bgcolor\": \"#E5ECF6\", \"caxis\": {\"gridcolor\": \"white\", \"linecolor\": \"white\", \"ticks\": \"\"}}, \"title\": {\"x\": 0.05}, \"xaxis\": {\"automargin\": true, \"gridcolor\": \"white\", \"linecolor\": \"white\", \"ticks\": \"\", \"title\": {\"standoff\": 15}, \"zerolinecolor\": \"white\", \"zerolinewidth\": 2}, \"yaxis\": {\"automargin\": true, \"gridcolor\": \"white\", \"linecolor\": \"white\", \"ticks\": \"\", \"title\": {\"standoff\": 15}, \"zerolinecolor\": \"white\", \"zerolinewidth\": 2}}}, \"xaxis\": {\"constrain\": \"domain\", \"scaleanchor\": \"y\"}, \"yaxis\": {\"autorange\": \"reversed\", \"constrain\": \"domain\"}},                        {\"responsive\": true}                    ).then(function(){\n",
       "                            \n",
       "var gd = document.getElementById('c4fdc8b5-6822-431d-896b-601a6223fdb7');\n",
       "var x = new MutationObserver(function (mutations, observer) {{\n",
       "        var display = window.getComputedStyle(gd).display;\n",
       "        if (!display || display === 'none') {{\n",
       "            console.log([gd, 'removed!']);\n",
       "            Plotly.purge(gd);\n",
       "            observer.disconnect();\n",
       "        }}\n",
       "}});\n",
       "\n",
       "// Listen for the removal of the full notebook cells\n",
       "var notebookContainer = gd.closest('#notebook-container');\n",
       "if (notebookContainer) {{\n",
       "    x.observe(notebookContainer, {childList: true});\n",
       "}}\n",
       "\n",
       "// Listen for the clearing of the current output cell\n",
       "var outputEl = gd.closest('.output');\n",
       "if (outputEl) {{\n",
       "    x.observe(outputEl, {childList: true});\n",
       "}}\n",
       "\n",
       "                        })                };                });            </script>        </div>"
      ]
     },
     "metadata": {},
     "output_type": "display_data"
    }
   ],
   "source": [
    "heat_corr = px.imshow(df_corr)\n",
    "heat_corr.show()"
   ]
  },
  {
   "cell_type": "code",
   "execution_count": 126,
   "metadata": {},
   "outputs": [
    {
     "data": {
      "application/vnd.plotly.v1+json": {
       "config": {
        "plotlyServerURL": "https://plot.ly"
       },
       "data": [
        {
         "hovertemplate": "<b>%{hovertext}</b><br><br>Type 1=Grass<br>Attack=%{x}<br>Sp. Atk=%{y}<br>HP=%{z}<br>size=%{marker.size}<extra></extra>",
         "hovertext": [
          "Bulbasaur",
          "Ivysaur",
          "Venusaur",
          "VenusaurMega Venusaur",
          "Oddish",
          "Gloom",
          "Vileplume",
          "Bellsprout",
          "Weepinbell",
          "Victreebel",
          "Exeggcute",
          "Exeggutor",
          "Tangela",
          "Chikorita",
          "Bayleef",
          "Meganium",
          "Bellossom",
          "Hoppip",
          "Skiploom",
          "Jumpluff",
          "Sunkern",
          "Sunflora",
          "Treecko",
          "Grovyle",
          "Sceptile",
          "SceptileMega Sceptile",
          "Seedot",
          "Nuzleaf",
          "Shiftry",
          "Shroomish",
          "Breloom",
          "Roselia",
          "Cacnea",
          "Cacturne",
          "Tropius",
          "Turtwig",
          "Grotle",
          "Torterra",
          "Budew",
          "Roserade",
          "Cherubi",
          "Cherrim",
          "Carnivine",
          "Snover",
          "Abomasnow",
          "AbomasnowMega Abomasnow",
          "Tangrowth",
          "Leafeon",
          "Snivy",
          "Servine",
          "Serperior",
          "Pansage",
          "Simisage",
          "Cottonee",
          "Whimsicott",
          "Petilil",
          "Lilligant",
          "Maractus",
          "Foongus",
          "Amoonguss",
          "Ferroseed",
          "Ferrothorn",
          "Chespin",
          "Quilladin",
          "Chesnaught",
          "Skiddo",
          "Gogoat"
         ],
         "legendgroup": "Grass",
         "marker": {
          "color": "#636efa",
          "size": [
           1,
           1,
           1,
           1,
           1,
           1,
           1,
           1,
           1,
           1,
           1,
           1,
           1,
           1,
           1,
           1,
           1,
           1,
           1,
           1,
           1,
           1,
           1,
           1,
           1,
           1,
           1,
           1,
           1,
           1,
           1,
           1,
           1,
           1,
           1,
           1,
           1,
           1,
           1,
           1,
           1,
           1,
           1,
           1,
           1,
           1,
           1,
           1,
           1,
           1,
           1,
           1,
           1,
           1,
           1,
           1,
           1,
           1,
           1,
           1,
           1,
           1,
           1,
           1,
           1,
           1,
           1
          ],
          "sizemode": "area",
          "sizeref": 0.04,
          "symbol": "circle"
         },
         "mode": "markers",
         "name": "Grass",
         "scene": "scene",
         "showlegend": true,
         "type": "scatter3d",
         "x": [
          49,
          62,
          82,
          100,
          50,
          65,
          80,
          75,
          90,
          105,
          40,
          95,
          55,
          49,
          62,
          82,
          80,
          35,
          45,
          55,
          30,
          75,
          45,
          65,
          85,
          110,
          40,
          70,
          100,
          40,
          130,
          60,
          85,
          115,
          68,
          68,
          89,
          109,
          30,
          70,
          35,
          60,
          100,
          62,
          92,
          132,
          100,
          110,
          45,
          60,
          75,
          53,
          98,
          27,
          67,
          35,
          60,
          86,
          55,
          85,
          50,
          94,
          61,
          78,
          107,
          65,
          100
         ],
         "y": [
          65,
          80,
          100,
          122,
          75,
          85,
          110,
          70,
          85,
          100,
          60,
          125,
          100,
          49,
          63,
          83,
          90,
          35,
          45,
          55,
          30,
          105,
          65,
          85,
          105,
          145,
          30,
          60,
          90,
          40,
          60,
          100,
          85,
          115,
          72,
          45,
          55,
          75,
          50,
          125,
          62,
          87,
          90,
          62,
          92,
          132,
          110,
          60,
          45,
          60,
          75,
          53,
          98,
          37,
          77,
          70,
          110,
          106,
          55,
          85,
          24,
          54,
          48,
          56,
          74,
          62,
          97
         ],
         "z": [
          45,
          60,
          80,
          80,
          45,
          60,
          75,
          50,
          65,
          80,
          60,
          95,
          65,
          45,
          60,
          80,
          75,
          35,
          55,
          75,
          30,
          75,
          40,
          50,
          70,
          70,
          40,
          70,
          90,
          60,
          60,
          50,
          50,
          70,
          99,
          55,
          75,
          95,
          40,
          60,
          45,
          70,
          74,
          60,
          90,
          90,
          100,
          65,
          45,
          60,
          75,
          50,
          75,
          40,
          60,
          45,
          70,
          75,
          69,
          114,
          44,
          74,
          56,
          61,
          88,
          66,
          123
         ]
        },
        {
         "hovertemplate": "<b>%{hovertext}</b><br><br>Type 1=Fire<br>Attack=%{x}<br>Sp. Atk=%{y}<br>HP=%{z}<br>size=%{marker.size}<extra></extra>",
         "hovertext": [
          "Charmander",
          "Charmeleon",
          "Charizard",
          "CharizardMega Charizard X",
          "CharizardMega Charizard Y",
          "Vulpix",
          "Ninetales",
          "Growlithe",
          "Arcanine",
          "Ponyta",
          "Rapidash",
          "Magmar",
          "Flareon",
          "Cyndaquil",
          "Quilava",
          "Typhlosion",
          "Slugma",
          "Magcargo",
          "Magby",
          "Torchic",
          "Combusken",
          "Blaziken",
          "BlazikenMega Blaziken",
          "Numel",
          "Camerupt",
          "CameruptMega Camerupt",
          "Torkoal",
          "Chimchar",
          "Monferno",
          "Infernape",
          "Magmortar",
          "Tepig",
          "Pignite",
          "Emboar",
          "Pansear",
          "Simisear",
          "Darumaka",
          "DarmanitanStandard Mode",
          "DarmanitanZen Mode",
          "Heatmor",
          "Fennekin",
          "Braixen",
          "Delphox",
          "Fletchinder",
          "Talonflame",
          "Litleo",
          "Pyroar"
         ],
         "legendgroup": "Fire",
         "marker": {
          "color": "#EF553B",
          "size": [
           1,
           1,
           1,
           1,
           1,
           1,
           1,
           1,
           1,
           1,
           1,
           1,
           1,
           1,
           1,
           1,
           1,
           1,
           1,
           1,
           1,
           1,
           1,
           1,
           1,
           1,
           1,
           1,
           1,
           1,
           1,
           1,
           1,
           1,
           1,
           1,
           1,
           1,
           1,
           1,
           1,
           1,
           1,
           1,
           1,
           1,
           1
          ],
          "sizemode": "area",
          "sizeref": 0.04,
          "symbol": "circle"
         },
         "mode": "markers",
         "name": "Fire",
         "scene": "scene",
         "showlegend": true,
         "type": "scatter3d",
         "x": [
          52,
          64,
          84,
          130,
          104,
          41,
          76,
          70,
          110,
          85,
          100,
          95,
          130,
          52,
          64,
          84,
          40,
          50,
          75,
          60,
          85,
          120,
          160,
          60,
          100,
          120,
          85,
          58,
          78,
          104,
          95,
          63,
          93,
          123,
          53,
          98,
          90,
          140,
          30,
          97,
          45,
          59,
          69,
          73,
          81,
          50,
          68
         ],
         "y": [
          60,
          80,
          109,
          130,
          159,
          50,
          81,
          70,
          100,
          65,
          80,
          100,
          95,
          60,
          80,
          109,
          70,
          80,
          70,
          70,
          85,
          110,
          130,
          65,
          105,
          145,
          85,
          58,
          78,
          104,
          125,
          45,
          70,
          100,
          53,
          98,
          15,
          30,
          140,
          105,
          62,
          90,
          114,
          56,
          74,
          73,
          109
         ],
         "z": [
          39,
          58,
          78,
          78,
          78,
          38,
          73,
          55,
          90,
          50,
          65,
          65,
          65,
          39,
          58,
          78,
          40,
          50,
          45,
          45,
          60,
          80,
          80,
          60,
          70,
          70,
          70,
          44,
          64,
          76,
          75,
          65,
          90,
          110,
          50,
          75,
          70,
          105,
          105,
          85,
          40,
          59,
          75,
          62,
          78,
          62,
          86
         ]
        },
        {
         "hovertemplate": "<b>%{hovertext}</b><br><br>Type 1=Water<br>Attack=%{x}<br>Sp. Atk=%{y}<br>HP=%{z}<br>size=%{marker.size}<extra></extra>",
         "hovertext": [
          "Squirtle",
          "Wartortle",
          "Blastoise",
          "BlastoiseMega Blastoise",
          "Psyduck",
          "Golduck",
          "Poliwag",
          "Poliwhirl",
          "Poliwrath",
          "Tentacool",
          "Tentacruel",
          "Slowpoke",
          "Slowbro",
          "SlowbroMega Slowbro",
          "Seel",
          "Dewgong",
          "Shellder",
          "Cloyster",
          "Krabby",
          "Kingler",
          "Horsea",
          "Seadra",
          "Goldeen",
          "Seaking",
          "Staryu",
          "Starmie",
          "Magikarp",
          "Gyarados",
          "GyaradosMega Gyarados",
          "Lapras",
          "Vaporeon",
          "Totodile",
          "Croconaw",
          "Feraligatr",
          "Chinchou",
          "Lanturn",
          "Marill",
          "Azumarill",
          "Politoed",
          "Wooper",
          "Quagsire",
          "Slowking",
          "Qwilfish",
          "Corsola",
          "Remoraid",
          "Octillery",
          "Mantine",
          "Kingdra",
          "Mudkip",
          "Marshtomp",
          "Swampert",
          "SwampertMega Swampert",
          "Lotad",
          "Lombre",
          "Ludicolo",
          "Wingull",
          "Pelipper",
          "Carvanha",
          "Sharpedo",
          "SharpedoMega Sharpedo",
          "Wailmer",
          "Wailord",
          "Barboach",
          "Whiscash",
          "Corphish",
          "Crawdaunt",
          "Feebas",
          "Milotic",
          "Clamperl",
          "Huntail",
          "Gorebyss",
          "Relicanth",
          "Luvdisc",
          "Piplup",
          "Prinplup",
          "Empoleon",
          "Buizel",
          "Floatzel",
          "Shellos",
          "Gastrodon",
          "Finneon",
          "Lumineon",
          "Mantyke",
          "Phione",
          "Manaphy",
          "Oshawott",
          "Dewott",
          "Samurott",
          "Panpour",
          "Simipour",
          "Tympole",
          "Palpitoad",
          "Seismitoad",
          "Basculin",
          "Tirtouga",
          "Carracosta",
          "Ducklett",
          "Swanna",
          "Frillish",
          "Jellicent",
          "Alomomola",
          "KeldeoOrdinary Forme",
          "KeldeoResolute Forme",
          "Froakie",
          "Frogadier",
          "Greninja",
          "Clauncher",
          "Clawitzer"
         ],
         "legendgroup": "Water",
         "marker": {
          "color": "#00cc96",
          "size": [
           1,
           1,
           1,
           1,
           1,
           1,
           1,
           1,
           1,
           1,
           1,
           1,
           1,
           1,
           1,
           1,
           1,
           1,
           1,
           1,
           1,
           1,
           1,
           1,
           1,
           1,
           1,
           1,
           1,
           1,
           1,
           1,
           1,
           1,
           1,
           1,
           1,
           1,
           1,
           1,
           1,
           1,
           1,
           1,
           1,
           1,
           1,
           1,
           1,
           1,
           1,
           1,
           1,
           1,
           1,
           1,
           1,
           1,
           1,
           1,
           1,
           1,
           1,
           1,
           1,
           1,
           1,
           1,
           1,
           1,
           1,
           1,
           1,
           1,
           1,
           1,
           1,
           1,
           1,
           1,
           1,
           1,
           1,
           1,
           1,
           1,
           1,
           1,
           1,
           1,
           1,
           1,
           1,
           1,
           1,
           1,
           1,
           1,
           1,
           1,
           1,
           1,
           1,
           1,
           1,
           1,
           1,
           1
          ],
          "sizemode": "area",
          "sizeref": 0.04,
          "symbol": "circle"
         },
         "mode": "markers",
         "name": "Water",
         "scene": "scene",
         "showlegend": true,
         "type": "scatter3d",
         "x": [
          48,
          63,
          83,
          103,
          52,
          82,
          50,
          65,
          95,
          40,
          70,
          65,
          75,
          75,
          45,
          70,
          65,
          95,
          105,
          130,
          40,
          65,
          67,
          92,
          45,
          75,
          10,
          125,
          155,
          85,
          65,
          65,
          80,
          105,
          38,
          58,
          20,
          50,
          75,
          45,
          85,
          75,
          95,
          55,
          65,
          105,
          40,
          95,
          70,
          85,
          110,
          150,
          30,
          50,
          70,
          30,
          50,
          90,
          120,
          140,
          70,
          90,
          48,
          78,
          80,
          120,
          15,
          60,
          64,
          104,
          84,
          90,
          30,
          51,
          66,
          86,
          65,
          105,
          48,
          83,
          49,
          69,
          20,
          80,
          100,
          55,
          75,
          100,
          53,
          98,
          50,
          65,
          95,
          92,
          78,
          108,
          44,
          87,
          40,
          60,
          75,
          72,
          72,
          56,
          63,
          95,
          53,
          73
         ],
         "y": [
          50,
          65,
          85,
          135,
          65,
          95,
          40,
          50,
          70,
          50,
          80,
          40,
          100,
          130,
          45,
          70,
          45,
          85,
          25,
          50,
          70,
          95,
          35,
          65,
          70,
          100,
          15,
          60,
          70,
          85,
          110,
          44,
          59,
          79,
          56,
          76,
          20,
          60,
          90,
          25,
          65,
          100,
          55,
          65,
          65,
          105,
          80,
          95,
          50,
          60,
          85,
          95,
          40,
          60,
          90,
          55,
          85,
          65,
          95,
          110,
          70,
          90,
          46,
          76,
          50,
          90,
          10,
          100,
          74,
          94,
          114,
          45,
          40,
          61,
          81,
          111,
          60,
          85,
          57,
          92,
          49,
          69,
          60,
          80,
          100,
          63,
          83,
          108,
          53,
          98,
          50,
          65,
          85,
          80,
          53,
          83,
          44,
          87,
          65,
          85,
          40,
          129,
          129,
          62,
          83,
          103,
          58,
          120
         ],
         "z": [
          44,
          59,
          79,
          79,
          50,
          80,
          40,
          65,
          90,
          40,
          80,
          90,
          95,
          95,
          65,
          90,
          30,
          50,
          30,
          55,
          30,
          55,
          45,
          80,
          30,
          60,
          20,
          95,
          95,
          130,
          130,
          50,
          65,
          85,
          75,
          125,
          70,
          100,
          90,
          55,
          95,
          95,
          65,
          55,
          35,
          75,
          65,
          75,
          50,
          70,
          100,
          100,
          40,
          60,
          80,
          40,
          60,
          45,
          70,
          70,
          130,
          170,
          50,
          110,
          43,
          63,
          20,
          95,
          35,
          55,
          55,
          100,
          43,
          53,
          64,
          84,
          55,
          85,
          76,
          111,
          49,
          69,
          45,
          80,
          100,
          55,
          75,
          95,
          50,
          75,
          50,
          75,
          105,
          70,
          54,
          74,
          62,
          75,
          55,
          100,
          165,
          91,
          91,
          41,
          54,
          72,
          50,
          71
         ]
        },
        {
         "hovertemplate": "<b>%{hovertext}</b><br><br>Type 1=Bug<br>Attack=%{x}<br>Sp. Atk=%{y}<br>HP=%{z}<br>size=%{marker.size}<extra></extra>",
         "hovertext": [
          "Caterpie",
          "Metapod",
          "Butterfree",
          "Weedle",
          "Kakuna",
          "Beedrill",
          "BeedrillMega Beedrill",
          "Paras",
          "Parasect",
          "Venonat",
          "Venomoth",
          "Scyther",
          "Pinsir",
          "PinsirMega Pinsir",
          "Ledyba",
          "Ledian",
          "Spinarak",
          "Ariados",
          "Yanma",
          "Pineco",
          "Forretress",
          "Scizor",
          "ScizorMega Scizor",
          "Shuckle",
          "Heracross",
          "HeracrossMega Heracross",
          "Wurmple",
          "Silcoon",
          "Beautifly",
          "Cascoon",
          "Dustox",
          "Surskit",
          "Masquerain",
          "Nincada",
          "Ninjask",
          "Shedinja",
          "Volbeat",
          "Illumise",
          "Kricketot",
          "Kricketune",
          "Burmy",
          "WormadamPlant Cloak",
          "WormadamSandy Cloak",
          "WormadamTrash Cloak",
          "Mothim",
          "Combee",
          "Vespiquen",
          "Yanmega",
          "Sewaddle",
          "Swadloon",
          "Leavanny",
          "Venipede",
          "Whirlipede",
          "Scolipede",
          "Dwebble",
          "Crustle",
          "Karrablast",
          "Escavalier",
          "Joltik",
          "Galvantula",
          "Shelmet",
          "Accelgor",
          "Durant",
          "Larvesta",
          "Volcarona",
          "Genesect",
          "Scatterbug",
          "Spewpa",
          "Vivillon"
         ],
         "legendgroup": "Bug",
         "marker": {
          "color": "#ab63fa",
          "size": [
           1,
           1,
           1,
           1,
           1,
           1,
           1,
           1,
           1,
           1,
           1,
           1,
           1,
           1,
           1,
           1,
           1,
           1,
           1,
           1,
           1,
           1,
           1,
           1,
           1,
           1,
           1,
           1,
           1,
           1,
           1,
           1,
           1,
           1,
           1,
           1,
           1,
           1,
           1,
           1,
           1,
           1,
           1,
           1,
           1,
           1,
           1,
           1,
           1,
           1,
           1,
           1,
           1,
           1,
           1,
           1,
           1,
           1,
           1,
           1,
           1,
           1,
           1,
           1,
           1,
           1,
           1,
           1,
           1
          ],
          "sizemode": "area",
          "sizeref": 0.04,
          "symbol": "circle"
         },
         "mode": "markers",
         "name": "Bug",
         "scene": "scene",
         "showlegend": true,
         "type": "scatter3d",
         "x": [
          30,
          20,
          45,
          35,
          25,
          90,
          150,
          70,
          95,
          55,
          65,
          110,
          125,
          155,
          20,
          35,
          60,
          90,
          65,
          65,
          90,
          130,
          150,
          10,
          125,
          185,
          45,
          35,
          70,
          35,
          50,
          30,
          60,
          45,
          90,
          90,
          73,
          47,
          25,
          85,
          29,
          59,
          79,
          69,
          94,
          30,
          80,
          76,
          53,
          63,
          103,
          45,
          55,
          100,
          65,
          95,
          75,
          135,
          47,
          77,
          40,
          70,
          109,
          85,
          60,
          120,
          35,
          22,
          52
         ],
         "y": [
          20,
          25,
          90,
          20,
          25,
          45,
          15,
          45,
          60,
          40,
          90,
          55,
          55,
          65,
          40,
          55,
          40,
          60,
          75,
          35,
          60,
          55,
          65,
          10,
          40,
          40,
          20,
          25,
          100,
          25,
          50,
          50,
          80,
          30,
          50,
          30,
          47,
          73,
          25,
          55,
          29,
          79,
          59,
          69,
          94,
          30,
          80,
          116,
          40,
          50,
          70,
          30,
          40,
          55,
          35,
          65,
          40,
          60,
          57,
          97,
          40,
          100,
          48,
          50,
          135,
          120,
          27,
          27,
          90
         ],
         "z": [
          45,
          50,
          60,
          40,
          45,
          65,
          65,
          35,
          60,
          60,
          70,
          70,
          65,
          65,
          40,
          55,
          40,
          70,
          65,
          50,
          75,
          70,
          70,
          20,
          80,
          80,
          45,
          50,
          60,
          50,
          60,
          40,
          70,
          31,
          61,
          1,
          65,
          65,
          37,
          77,
          40,
          60,
          60,
          60,
          70,
          30,
          70,
          86,
          45,
          55,
          75,
          30,
          40,
          60,
          50,
          70,
          50,
          70,
          50,
          70,
          50,
          80,
          58,
          55,
          85,
          71,
          38,
          45,
          80
         ]
        },
        {
         "hovertemplate": "<b>%{hovertext}</b><br><br>Type 1=Normal<br>Attack=%{x}<br>Sp. Atk=%{y}<br>HP=%{z}<br>size=%{marker.size}<extra></extra>",
         "hovertext": [
          "Pidgey",
          "Pidgeotto",
          "Pidgeot",
          "PidgeotMega Pidgeot",
          "Rattata",
          "Raticate",
          "Spearow",
          "Fearow",
          "Jigglypuff",
          "Wigglytuff",
          "Meowth",
          "Persian",
          "Farfetch'd",
          "Doduo",
          "Dodrio",
          "Lickitung",
          "Chansey",
          "Kangaskhan",
          "KangaskhanMega Kangaskhan",
          "Tauros",
          "Ditto",
          "Eevee",
          "Porygon",
          "Snorlax",
          "Sentret",
          "Furret",
          "Hoothoot",
          "Noctowl",
          "Igglybuff",
          "Aipom",
          "Girafarig",
          "Dunsparce",
          "Teddiursa",
          "Ursaring",
          "Porygon2",
          "Stantler",
          "Smeargle",
          "Miltank",
          "Blissey",
          "Zigzagoon",
          "Linoone",
          "Taillow",
          "Swellow",
          "Slakoth",
          "Vigoroth",
          "Slaking",
          "Whismur",
          "Loudred",
          "Exploud",
          "Azurill",
          "Skitty",
          "Delcatty",
          "Spinda",
          "Swablu",
          "Zangoose",
          "Castform",
          "Kecleon",
          "Starly",
          "Staravia",
          "Staraptor",
          "Bidoof",
          "Bibarel",
          "Ambipom",
          "Buneary",
          "Lopunny",
          "LopunnyMega Lopunny",
          "Glameow",
          "Purugly",
          "Happiny",
          "Chatot",
          "Munchlax",
          "Lickilicky",
          "Porygon-Z",
          "Patrat",
          "Watchog",
          "Lillipup",
          "Herdier",
          "Stoutland",
          "Pidove",
          "Tranquill",
          "Unfezant",
          "Audino",
          "AudinoMega Audino",
          "Minccino",
          "Cinccino",
          "Deerling",
          "Sawsbuck",
          "Bouffalant",
          "Rufflet",
          "Braviary",
          "MeloettaAria Forme",
          "MeloettaPirouette Forme",
          "Bunnelby",
          "Diggersby",
          "Fletchling",
          "Furfrou"
         ],
         "legendgroup": "Normal",
         "marker": {
          "color": "#FFA15A",
          "size": [
           1,
           1,
           1,
           1,
           1,
           1,
           1,
           1,
           1,
           1,
           1,
           1,
           1,
           1,
           1,
           1,
           1,
           1,
           1,
           1,
           1,
           1,
           1,
           1,
           1,
           1,
           1,
           1,
           1,
           1,
           1,
           1,
           1,
           1,
           1,
           1,
           1,
           1,
           1,
           1,
           1,
           1,
           1,
           1,
           1,
           1,
           1,
           1,
           1,
           1,
           1,
           1,
           1,
           1,
           1,
           1,
           1,
           1,
           1,
           1,
           1,
           1,
           1,
           1,
           1,
           1,
           1,
           1,
           1,
           1,
           1,
           1,
           1,
           1,
           1,
           1,
           1,
           1,
           1,
           1,
           1,
           1,
           1,
           1,
           1,
           1,
           1,
           1,
           1,
           1,
           1,
           1,
           1,
           1,
           1,
           1
          ],
          "sizemode": "area",
          "sizeref": 0.04,
          "symbol": "circle"
         },
         "mode": "markers",
         "name": "Normal",
         "scene": "scene",
         "showlegend": true,
         "type": "scatter3d",
         "x": [
          45,
          60,
          80,
          80,
          56,
          81,
          60,
          90,
          45,
          70,
          45,
          70,
          65,
          85,
          110,
          55,
          5,
          95,
          125,
          100,
          48,
          55,
          60,
          110,
          46,
          76,
          30,
          50,
          30,
          70,
          80,
          70,
          80,
          130,
          80,
          95,
          20,
          80,
          10,
          30,
          70,
          55,
          85,
          60,
          80,
          160,
          51,
          71,
          91,
          20,
          45,
          65,
          60,
          40,
          115,
          70,
          90,
          55,
          75,
          120,
          45,
          85,
          100,
          66,
          76,
          136,
          55,
          82,
          5,
          65,
          85,
          85,
          80,
          55,
          85,
          60,
          80,
          110,
          55,
          77,
          115,
          60,
          60,
          50,
          95,
          60,
          100,
          110,
          83,
          123,
          77,
          128,
          36,
          56,
          50,
          80
         ],
         "y": [
          35,
          50,
          70,
          135,
          25,
          50,
          31,
          61,
          45,
          85,
          40,
          65,
          58,
          35,
          60,
          60,
          35,
          40,
          60,
          40,
          48,
          45,
          85,
          65,
          35,
          45,
          36,
          76,
          40,
          40,
          90,
          65,
          50,
          75,
          105,
          85,
          20,
          40,
          75,
          30,
          50,
          30,
          50,
          35,
          55,
          95,
          51,
          71,
          91,
          20,
          35,
          55,
          60,
          40,
          60,
          70,
          60,
          30,
          40,
          50,
          35,
          55,
          60,
          44,
          54,
          54,
          42,
          64,
          15,
          92,
          40,
          80,
          135,
          35,
          60,
          25,
          35,
          45,
          36,
          50,
          65,
          60,
          80,
          40,
          65,
          40,
          60,
          40,
          37,
          57,
          128,
          77,
          32,
          50,
          40,
          65
         ],
         "z": [
          40,
          63,
          83,
          83,
          30,
          55,
          40,
          65,
          115,
          140,
          40,
          65,
          52,
          35,
          60,
          90,
          250,
          105,
          105,
          75,
          48,
          55,
          65,
          160,
          35,
          85,
          60,
          100,
          90,
          55,
          70,
          100,
          60,
          90,
          85,
          73,
          55,
          95,
          255,
          38,
          78,
          40,
          60,
          60,
          80,
          150,
          64,
          84,
          104,
          50,
          50,
          70,
          60,
          45,
          73,
          70,
          60,
          40,
          55,
          85,
          59,
          79,
          75,
          55,
          65,
          65,
          49,
          71,
          100,
          76,
          135,
          110,
          85,
          45,
          60,
          45,
          65,
          85,
          50,
          62,
          80,
          103,
          103,
          55,
          75,
          60,
          80,
          95,
          70,
          100,
          100,
          100,
          38,
          85,
          45,
          75
         ]
        },
        {
         "hovertemplate": "<b>%{hovertext}</b><br><br>Type 1=Poison<br>Attack=%{x}<br>Sp. Atk=%{y}<br>HP=%{z}<br>size=%{marker.size}<extra></extra>",
         "hovertext": [
          "Ekans",
          "Arbok",
          "Nidoran♀",
          "Nidorina",
          "Nidoqueen",
          "Nidoran♂",
          "Nidorino",
          "Nidoking",
          "Zubat",
          "Golbat",
          "Grimer",
          "Muk",
          "Koffing",
          "Weezing",
          "Crobat",
          "Gulpin",
          "Swalot",
          "Seviper",
          "Stunky",
          "Skuntank",
          "Skorupi",
          "Drapion",
          "Croagunk",
          "Toxicroak",
          "Trubbish",
          "Garbodor",
          "Skrelp",
          "Dragalge"
         ],
         "legendgroup": "Poison",
         "marker": {
          "color": "#19d3f3",
          "size": [
           1,
           1,
           1,
           1,
           1,
           1,
           1,
           1,
           1,
           1,
           1,
           1,
           1,
           1,
           1,
           1,
           1,
           1,
           1,
           1,
           1,
           1,
           1,
           1,
           1,
           1,
           1,
           1
          ],
          "sizemode": "area",
          "sizeref": 0.04,
          "symbol": "circle"
         },
         "mode": "markers",
         "name": "Poison",
         "scene": "scene",
         "showlegend": true,
         "type": "scatter3d",
         "x": [
          60,
          85,
          47,
          62,
          92,
          57,
          72,
          102,
          45,
          80,
          80,
          105,
          65,
          90,
          90,
          43,
          73,
          100,
          63,
          93,
          50,
          90,
          61,
          106,
          50,
          95,
          60,
          75
         ],
         "y": [
          40,
          65,
          40,
          55,
          75,
          40,
          55,
          85,
          30,
          65,
          40,
          65,
          60,
          85,
          70,
          43,
          73,
          100,
          41,
          71,
          30,
          60,
          61,
          86,
          40,
          60,
          60,
          97
         ],
         "z": [
          35,
          60,
          55,
          70,
          90,
          46,
          61,
          81,
          40,
          75,
          80,
          105,
          40,
          65,
          85,
          70,
          100,
          73,
          63,
          103,
          40,
          70,
          48,
          83,
          50,
          80,
          50,
          65
         ]
        },
        {
         "hovertemplate": "<b>%{hovertext}</b><br><br>Type 1=Electric<br>Attack=%{x}<br>Sp. Atk=%{y}<br>HP=%{z}<br>size=%{marker.size}<extra></extra>",
         "hovertext": [
          "Pikachu",
          "Raichu",
          "Magnemite",
          "Magneton",
          "Voltorb",
          "Electrode",
          "Electabuzz",
          "Jolteon",
          "Pichu",
          "Mareep",
          "Flaaffy",
          "Ampharos",
          "AmpharosMega Ampharos",
          "Elekid",
          "Electrike",
          "Manectric",
          "ManectricMega Manectric",
          "Plusle",
          "Minun",
          "Shinx",
          "Luxio",
          "Luxray",
          "Pachirisu",
          "Magnezone",
          "Electivire",
          "Rotom",
          "RotomHeat Rotom",
          "RotomWash Rotom",
          "RotomFrost Rotom",
          "RotomFan Rotom",
          "RotomMow Rotom",
          "Blitzle",
          "Zebstrika",
          "Emolga",
          "Tynamo",
          "Eelektrik",
          "Eelektross",
          "Helioptile",
          "Heliolisk",
          "Dedenne"
         ],
         "legendgroup": "Electric",
         "marker": {
          "color": "#FF6692",
          "size": [
           1,
           1,
           1,
           1,
           1,
           1,
           1,
           1,
           1,
           1,
           1,
           1,
           1,
           1,
           1,
           1,
           1,
           1,
           1,
           1,
           1,
           1,
           1,
           1,
           1,
           1,
           1,
           1,
           1,
           1,
           1,
           1,
           1,
           1,
           1,
           1,
           1,
           1,
           1,
           1
          ],
          "sizemode": "area",
          "sizeref": 0.04,
          "symbol": "circle"
         },
         "mode": "markers",
         "name": "Electric",
         "scene": "scene",
         "showlegend": true,
         "type": "scatter3d",
         "x": [
          55,
          90,
          35,
          60,
          30,
          50,
          83,
          65,
          40,
          40,
          55,
          75,
          95,
          63,
          45,
          75,
          75,
          50,
          40,
          65,
          85,
          120,
          45,
          70,
          123,
          50,
          65,
          65,
          65,
          65,
          65,
          60,
          100,
          75,
          55,
          85,
          115,
          38,
          55,
          58
         ],
         "y": [
          50,
          90,
          95,
          120,
          55,
          80,
          95,
          110,
          35,
          65,
          80,
          115,
          165,
          65,
          65,
          105,
          135,
          85,
          75,
          40,
          60,
          95,
          45,
          130,
          95,
          95,
          105,
          105,
          105,
          105,
          105,
          50,
          80,
          75,
          45,
          75,
          105,
          61,
          109,
          81
         ],
         "z": [
          35,
          60,
          25,
          50,
          40,
          60,
          65,
          65,
          20,
          55,
          70,
          90,
          90,
          45,
          40,
          70,
          70,
          60,
          60,
          45,
          60,
          80,
          60,
          70,
          75,
          50,
          50,
          50,
          50,
          50,
          50,
          45,
          75,
          55,
          35,
          65,
          85,
          44,
          62,
          67
         ]
        },
        {
         "hovertemplate": "<b>%{hovertext}</b><br><br>Type 1=Ground<br>Attack=%{x}<br>Sp. Atk=%{y}<br>HP=%{z}<br>size=%{marker.size}<extra></extra>",
         "hovertext": [
          "Sandshrew",
          "Sandslash",
          "Diglett",
          "Dugtrio",
          "Cubone",
          "Marowak",
          "Rhyhorn",
          "Rhydon",
          "Gligar",
          "Phanpy",
          "Donphan",
          "Trapinch",
          "Vibrava",
          "Flygon",
          "Baltoy",
          "Claydol",
          "Hippopotas",
          "Hippowdon",
          "Rhyperior",
          "Gliscor",
          "Drilbur",
          "Excadrill",
          "Sandile",
          "Krokorok",
          "Krookodile",
          "Stunfisk",
          "Golett",
          "Golurk"
         ],
         "legendgroup": "Ground",
         "marker": {
          "color": "#B6E880",
          "size": [
           1,
           1,
           1,
           1,
           1,
           1,
           1,
           1,
           1,
           1,
           1,
           1,
           1,
           1,
           1,
           1,
           1,
           1,
           1,
           1,
           1,
           1,
           1,
           1,
           1,
           1,
           1,
           1
          ],
          "sizemode": "area",
          "sizeref": 0.04,
          "symbol": "circle"
         },
         "mode": "markers",
         "name": "Ground",
         "scene": "scene",
         "showlegend": true,
         "type": "scatter3d",
         "x": [
          75,
          100,
          55,
          80,
          50,
          80,
          85,
          130,
          75,
          60,
          120,
          100,
          70,
          100,
          40,
          70,
          72,
          112,
          140,
          95,
          85,
          135,
          72,
          82,
          117,
          66,
          74,
          124
         ],
         "y": [
          20,
          45,
          35,
          50,
          40,
          50,
          30,
          45,
          35,
          40,
          60,
          45,
          50,
          80,
          40,
          70,
          38,
          68,
          55,
          45,
          30,
          50,
          35,
          45,
          65,
          81,
          35,
          55
         ],
         "z": [
          50,
          75,
          10,
          35,
          50,
          60,
          80,
          105,
          65,
          90,
          90,
          45,
          50,
          80,
          40,
          60,
          68,
          108,
          115,
          75,
          60,
          110,
          50,
          60,
          95,
          109,
          59,
          89
         ]
        },
        {
         "hovertemplate": "<b>%{hovertext}</b><br><br>Type 1=Fairy<br>Attack=%{x}<br>Sp. Atk=%{y}<br>HP=%{z}<br>size=%{marker.size}<extra></extra>",
         "hovertext": [
          "Clefairy",
          "Clefable",
          "Cleffa",
          "Togepi",
          "Togetic",
          "Snubbull",
          "Granbull",
          "Togekiss",
          "Flabébé",
          "Floette",
          "Florges",
          "Spritzee",
          "Aromatisse",
          "Swirlix",
          "Slurpuff",
          "Sylveon"
         ],
         "legendgroup": "Fairy",
         "marker": {
          "color": "#FF97FF",
          "size": [
           1,
           1,
           1,
           1,
           1,
           1,
           1,
           1,
           1,
           1,
           1,
           1,
           1,
           1,
           1,
           1
          ],
          "sizemode": "area",
          "sizeref": 0.04,
          "symbol": "circle"
         },
         "mode": "markers",
         "name": "Fairy",
         "scene": "scene",
         "showlegend": true,
         "type": "scatter3d",
         "x": [
          45,
          70,
          25,
          20,
          40,
          80,
          120,
          50,
          38,
          45,
          65,
          52,
          72,
          48,
          80,
          65
         ],
         "y": [
          60,
          95,
          45,
          40,
          80,
          40,
          60,
          120,
          61,
          75,
          112,
          63,
          99,
          59,
          85,
          110
         ],
         "z": [
          70,
          95,
          50,
          35,
          55,
          60,
          90,
          85,
          44,
          54,
          78,
          78,
          101,
          62,
          82,
          95
         ]
        },
        {
         "hovertemplate": "<b>%{hovertext}</b><br><br>Type 1=Fighting<br>Attack=%{x}<br>Sp. Atk=%{y}<br>HP=%{z}<br>size=%{marker.size}<extra></extra>",
         "hovertext": [
          "Mankey",
          "Primeape",
          "Machop",
          "Machoke",
          "Machamp",
          "Hitmonlee",
          "Hitmonchan",
          "Tyrogue",
          "Hitmontop",
          "Makuhita",
          "Hariyama",
          "Meditite",
          "Medicham",
          "MedichamMega Medicham",
          "Riolu",
          "Lucario",
          "LucarioMega Lucario",
          "Timburr",
          "Gurdurr",
          "Conkeldurr",
          "Throh",
          "Sawk",
          "Mienfoo",
          "Mienshao",
          "Pancham",
          "Pangoro",
          "Hawlucha"
         ],
         "legendgroup": "Fighting",
         "marker": {
          "color": "#FECB52",
          "size": [
           1,
           1,
           1,
           1,
           1,
           1,
           1,
           1,
           1,
           1,
           1,
           1,
           1,
           1,
           1,
           1,
           1,
           1,
           1,
           1,
           1,
           1,
           1,
           1,
           1,
           1,
           1
          ],
          "sizemode": "area",
          "sizeref": 0.04,
          "symbol": "circle"
         },
         "mode": "markers",
         "name": "Fighting",
         "scene": "scene",
         "showlegend": true,
         "type": "scatter3d",
         "x": [
          80,
          105,
          80,
          100,
          130,
          120,
          105,
          35,
          95,
          60,
          120,
          40,
          60,
          100,
          70,
          110,
          145,
          80,
          105,
          140,
          100,
          125,
          85,
          125,
          82,
          124,
          92
         ],
         "y": [
          35,
          60,
          35,
          50,
          65,
          35,
          35,
          35,
          35,
          20,
          40,
          40,
          60,
          80,
          35,
          115,
          140,
          25,
          40,
          55,
          30,
          30,
          55,
          95,
          46,
          69,
          74
         ],
         "z": [
          40,
          65,
          70,
          80,
          90,
          50,
          50,
          35,
          50,
          72,
          144,
          30,
          60,
          60,
          40,
          70,
          70,
          75,
          85,
          105,
          120,
          75,
          45,
          65,
          67,
          95,
          78
         ]
        },
        {
         "hovertemplate": "<b>%{hovertext}</b><br><br>Type 1=Psychic<br>Attack=%{x}<br>Sp. Atk=%{y}<br>HP=%{z}<br>size=%{marker.size}<extra></extra>",
         "hovertext": [
          "Abra",
          "Kadabra",
          "Alakazam",
          "AlakazamMega Alakazam",
          "Drowzee",
          "Hypno",
          "Mr. Mime",
          "Mew",
          "Natu",
          "Xatu",
          "Espeon",
          "Unown",
          "Wobbuffet",
          "Celebi",
          "Ralts",
          "Kirlia",
          "Gardevoir",
          "GardevoirMega Gardevoir",
          "Spoink",
          "Grumpig",
          "Chimecho",
          "Wynaut",
          "Chingling",
          "Mime Jr.",
          "Gallade",
          "GalladeMega Gallade",
          "Cresselia",
          "Munna",
          "Musharna",
          "Woobat",
          "Swoobat",
          "Sigilyph",
          "Gothita",
          "Gothorita",
          "Gothitelle",
          "Solosis",
          "Duosion",
          "Reuniclus",
          "Elgyem",
          "Beheeyem",
          "Espurr",
          "MeowsticMale",
          "MeowsticFemale"
         ],
         "legendgroup": "Psychic",
         "marker": {
          "color": "#636efa",
          "size": [
           1,
           1,
           1,
           1,
           1,
           1,
           1,
           1,
           1,
           1,
           1,
           1,
           1,
           1,
           1,
           1,
           1,
           1,
           1,
           1,
           1,
           1,
           1,
           1,
           1,
           1,
           1,
           1,
           1,
           1,
           1,
           1,
           1,
           1,
           1,
           1,
           1,
           1,
           1,
           1,
           1,
           1,
           1
          ],
          "sizemode": "area",
          "sizeref": 0.04,
          "symbol": "circle"
         },
         "mode": "markers",
         "name": "Psychic",
         "scene": "scene",
         "showlegend": true,
         "type": "scatter3d",
         "x": [
          20,
          35,
          50,
          50,
          48,
          73,
          45,
          100,
          50,
          75,
          65,
          72,
          33,
          100,
          25,
          35,
          65,
          85,
          25,
          45,
          50,
          23,
          30,
          25,
          125,
          165,
          70,
          25,
          55,
          45,
          57,
          58,
          30,
          45,
          55,
          30,
          40,
          65,
          55,
          75,
          48,
          48,
          48
         ],
         "y": [
          105,
          120,
          135,
          175,
          43,
          73,
          100,
          100,
          70,
          95,
          130,
          72,
          33,
          100,
          45,
          65,
          125,
          165,
          70,
          90,
          95,
          23,
          65,
          70,
          65,
          65,
          75,
          67,
          107,
          55,
          77,
          103,
          55,
          75,
          95,
          105,
          125,
          125,
          85,
          125,
          63,
          83,
          83
         ],
         "z": [
          25,
          40,
          55,
          55,
          60,
          85,
          40,
          100,
          40,
          65,
          65,
          48,
          190,
          100,
          28,
          38,
          68,
          68,
          60,
          80,
          65,
          95,
          45,
          20,
          68,
          68,
          120,
          76,
          116,
          55,
          67,
          72,
          45,
          60,
          70,
          45,
          65,
          110,
          55,
          75,
          62,
          74,
          74
         ]
        },
        {
         "hovertemplate": "<b>%{hovertext}</b><br><br>Type 1=Rock<br>Attack=%{x}<br>Sp. Atk=%{y}<br>HP=%{z}<br>size=%{marker.size}<extra></extra>",
         "hovertext": [
          "Geodude",
          "Graveler",
          "Golem",
          "Onix",
          "Omanyte",
          "Omastar",
          "Kabuto",
          "Kabutops",
          "Aerodactyl",
          "AerodactylMega Aerodactyl",
          "Sudowoodo",
          "Larvitar",
          "Pupitar",
          "Tyranitar",
          "TyranitarMega Tyranitar",
          "Nosepass",
          "Lunatone",
          "Solrock",
          "Lileep",
          "Cradily",
          "Anorith",
          "Armaldo",
          "Cranidos",
          "Rampardos",
          "Shieldon",
          "Bastiodon",
          "Bonsly",
          "Probopass",
          "Roggenrola",
          "Boldore",
          "Gigalith",
          "Archen",
          "Archeops",
          "Binacle",
          "Barbaracle",
          "Tyrunt",
          "Tyrantrum",
          "Amaura",
          "Aurorus",
          "Carbink"
         ],
         "legendgroup": "Rock",
         "marker": {
          "color": "#EF553B",
          "size": [
           1,
           1,
           1,
           1,
           1,
           1,
           1,
           1,
           1,
           1,
           1,
           1,
           1,
           1,
           1,
           1,
           1,
           1,
           1,
           1,
           1,
           1,
           1,
           1,
           1,
           1,
           1,
           1,
           1,
           1,
           1,
           1,
           1,
           1,
           1,
           1,
           1,
           1,
           1,
           1
          ],
          "sizemode": "area",
          "sizeref": 0.04,
          "symbol": "circle"
         },
         "mode": "markers",
         "name": "Rock",
         "scene": "scene",
         "showlegend": true,
         "type": "scatter3d",
         "x": [
          80,
          95,
          120,
          45,
          40,
          60,
          80,
          115,
          105,
          135,
          100,
          64,
          84,
          134,
          164,
          45,
          55,
          95,
          41,
          81,
          95,
          125,
          125,
          165,
          42,
          52,
          80,
          55,
          75,
          105,
          135,
          112,
          140,
          52,
          105,
          89,
          121,
          59,
          77,
          50
         ],
         "y": [
          30,
          45,
          55,
          30,
          90,
          115,
          55,
          65,
          60,
          70,
          30,
          45,
          65,
          95,
          95,
          45,
          95,
          55,
          61,
          81,
          40,
          70,
          30,
          65,
          42,
          47,
          10,
          75,
          25,
          50,
          60,
          74,
          112,
          39,
          54,
          45,
          69,
          67,
          99,
          50
         ],
         "z": [
          40,
          55,
          80,
          35,
          35,
          70,
          30,
          60,
          80,
          80,
          70,
          50,
          70,
          100,
          100,
          30,
          70,
          70,
          66,
          86,
          45,
          75,
          67,
          97,
          30,
          60,
          50,
          60,
          55,
          70,
          85,
          55,
          75,
          42,
          72,
          58,
          82,
          77,
          123,
          50
         ]
        },
        {
         "hovertemplate": "<b>%{hovertext}</b><br><br>Type 1=Ghost<br>Attack=%{x}<br>Sp. Atk=%{y}<br>HP=%{z}<br>size=%{marker.size}<extra></extra>",
         "hovertext": [
          "Gastly",
          "Haunter",
          "Gengar",
          "GengarMega Gengar",
          "Misdreavus",
          "Shuppet",
          "Banette",
          "BanetteMega Banette",
          "Duskull",
          "Dusclops",
          "Drifloon",
          "Drifblim",
          "Mismagius",
          "Spiritomb",
          "Dusknoir",
          "Yamask",
          "Cofagrigus",
          "Litwick",
          "Lampent",
          "Chandelure",
          "Phantump",
          "Trevenant",
          "PumpkabooAverage Size",
          "PumpkabooSmall Size",
          "PumpkabooLarge Size",
          "PumpkabooSuper Size",
          "GourgeistAverage Size",
          "GourgeistSmall Size",
          "GourgeistLarge Size",
          "GourgeistSuper Size"
         ],
         "legendgroup": "Ghost",
         "marker": {
          "color": "#00cc96",
          "size": [
           1,
           1,
           1,
           1,
           1,
           1,
           1,
           1,
           1,
           1,
           1,
           1,
           1,
           1,
           1,
           1,
           1,
           1,
           1,
           1,
           1,
           1,
           1,
           1,
           1,
           1,
           1,
           1,
           1,
           1
          ],
          "sizemode": "area",
          "sizeref": 0.04,
          "symbol": "circle"
         },
         "mode": "markers",
         "name": "Ghost",
         "scene": "scene",
         "showlegend": true,
         "type": "scatter3d",
         "x": [
          35,
          50,
          65,
          65,
          60,
          75,
          115,
          165,
          40,
          70,
          50,
          80,
          60,
          92,
          100,
          30,
          50,
          30,
          40,
          55,
          70,
          110,
          66,
          66,
          66,
          66,
          90,
          85,
          95,
          100
         ],
         "y": [
          100,
          115,
          130,
          170,
          85,
          63,
          83,
          93,
          30,
          60,
          60,
          90,
          105,
          92,
          65,
          55,
          95,
          65,
          95,
          145,
          50,
          65,
          44,
          44,
          44,
          44,
          58,
          58,
          58,
          58
         ],
         "z": [
          30,
          45,
          60,
          60,
          60,
          44,
          64,
          64,
          20,
          40,
          90,
          150,
          60,
          50,
          45,
          38,
          58,
          50,
          60,
          60,
          43,
          85,
          49,
          44,
          54,
          59,
          65,
          55,
          75,
          85
         ]
        },
        {
         "hovertemplate": "<b>%{hovertext}</b><br><br>Type 1=Ice<br>Attack=%{x}<br>Sp. Atk=%{y}<br>HP=%{z}<br>size=%{marker.size}<extra></extra>",
         "hovertext": [
          "Jynx",
          "Swinub",
          "Piloswine",
          "Delibird",
          "Smoochum",
          "Snorunt",
          "Glalie",
          "GlalieMega Glalie",
          "Spheal",
          "Sealeo",
          "Walrein",
          "Glaceon",
          "Mamoswine",
          "Froslass",
          "Vanillite",
          "Vanillish",
          "Vanilluxe",
          "Cubchoo",
          "Beartic",
          "Cryogonal",
          "Bergmite",
          "Avalugg"
         ],
         "legendgroup": "Ice",
         "marker": {
          "color": "#ab63fa",
          "size": [
           1,
           1,
           1,
           1,
           1,
           1,
           1,
           1,
           1,
           1,
           1,
           1,
           1,
           1,
           1,
           1,
           1,
           1,
           1,
           1,
           1,
           1
          ],
          "sizemode": "area",
          "sizeref": 0.04,
          "symbol": "circle"
         },
         "mode": "markers",
         "name": "Ice",
         "scene": "scene",
         "showlegend": true,
         "type": "scatter3d",
         "x": [
          50,
          50,
          100,
          55,
          30,
          50,
          80,
          120,
          40,
          60,
          80,
          60,
          130,
          80,
          50,
          65,
          95,
          70,
          110,
          50,
          69,
          117
         ],
         "y": [
          115,
          30,
          60,
          65,
          85,
          50,
          80,
          120,
          55,
          75,
          95,
          130,
          70,
          80,
          65,
          80,
          110,
          60,
          70,
          95,
          32,
          44
         ],
         "z": [
          65,
          50,
          100,
          45,
          45,
          50,
          80,
          80,
          70,
          90,
          110,
          65,
          110,
          70,
          36,
          51,
          71,
          55,
          95,
          70,
          55,
          95
         ]
        },
        {
         "hovertemplate": "<b>%{hovertext}</b><br><br>Type 1=Dragon<br>Attack=%{x}<br>Sp. Atk=%{y}<br>HP=%{z}<br>size=%{marker.size}<extra></extra>",
         "hovertext": [
          "Dratini",
          "Dragonair",
          "Dragonite",
          "Altaria",
          "AltariaMega Altaria",
          "Bagon",
          "Shelgon",
          "Salamence",
          "SalamenceMega Salamence",
          "Gible",
          "Gabite",
          "Garchomp",
          "GarchompMega Garchomp",
          "Axew",
          "Fraxure",
          "Haxorus",
          "Druddigon",
          "Goomy",
          "Sliggoo",
          "Goodra"
         ],
         "legendgroup": "Dragon",
         "marker": {
          "color": "#FFA15A",
          "size": [
           1,
           1,
           1,
           1,
           1,
           1,
           1,
           1,
           1,
           1,
           1,
           1,
           1,
           1,
           1,
           1,
           1,
           1,
           1,
           1
          ],
          "sizemode": "area",
          "sizeref": 0.04,
          "symbol": "circle"
         },
         "mode": "markers",
         "name": "Dragon",
         "scene": "scene",
         "showlegend": true,
         "type": "scatter3d",
         "x": [
          64,
          84,
          134,
          70,
          110,
          75,
          95,
          135,
          145,
          70,
          90,
          130,
          170,
          87,
          117,
          147,
          120,
          50,
          75,
          100
         ],
         "y": [
          50,
          70,
          100,
          70,
          110,
          40,
          60,
          110,
          120,
          40,
          50,
          80,
          120,
          30,
          40,
          60,
          60,
          55,
          83,
          110
         ],
         "z": [
          41,
          61,
          91,
          75,
          75,
          45,
          65,
          95,
          95,
          58,
          68,
          108,
          108,
          46,
          66,
          76,
          77,
          45,
          68,
          90
         ]
        },
        {
         "hovertemplate": "<b>%{hovertext}</b><br><br>Type 1=Dark<br>Attack=%{x}<br>Sp. Atk=%{y}<br>HP=%{z}<br>size=%{marker.size}<extra></extra>",
         "hovertext": [
          "Umbreon",
          "Murkrow",
          "Sneasel",
          "Houndour",
          "Houndoom",
          "HoundoomMega Houndoom",
          "Poochyena",
          "Mightyena",
          "Sableye",
          "SableyeMega Sableye",
          "Absol",
          "AbsolMega Absol",
          "Honchkrow",
          "Weavile",
          "Purrloin",
          "Liepard",
          "Scraggy",
          "Scrafty",
          "Zorua",
          "Zoroark",
          "Pawniard",
          "Bisharp",
          "Vullaby",
          "Mandibuzz",
          "Deino",
          "Zweilous",
          "Hydreigon",
          "Inkay",
          "Malamar"
         ],
         "legendgroup": "Dark",
         "marker": {
          "color": "#19d3f3",
          "size": [
           1,
           1,
           1,
           1,
           1,
           1,
           1,
           1,
           1,
           1,
           1,
           1,
           1,
           1,
           1,
           1,
           1,
           1,
           1,
           1,
           1,
           1,
           1,
           1,
           1,
           1,
           1,
           1,
           1
          ],
          "sizemode": "area",
          "sizeref": 0.04,
          "symbol": "circle"
         },
         "mode": "markers",
         "name": "Dark",
         "scene": "scene",
         "showlegend": true,
         "type": "scatter3d",
         "x": [
          65,
          85,
          95,
          60,
          90,
          90,
          55,
          90,
          75,
          85,
          130,
          150,
          125,
          120,
          50,
          88,
          75,
          90,
          65,
          105,
          85,
          125,
          55,
          65,
          65,
          85,
          105,
          54,
          92
         ],
         "y": [
          60,
          85,
          35,
          80,
          110,
          140,
          30,
          60,
          65,
          85,
          75,
          115,
          105,
          45,
          50,
          88,
          35,
          45,
          80,
          120,
          40,
          60,
          45,
          55,
          45,
          65,
          125,
          37,
          68
         ],
         "z": [
          95,
          60,
          55,
          45,
          75,
          75,
          35,
          70,
          50,
          50,
          65,
          65,
          100,
          70,
          41,
          64,
          50,
          65,
          40,
          60,
          45,
          65,
          70,
          110,
          52,
          72,
          92,
          53,
          86
         ]
        },
        {
         "hovertemplate": "<b>%{hovertext}</b><br><br>Type 1=Steel<br>Attack=%{x}<br>Sp. Atk=%{y}<br>HP=%{z}<br>size=%{marker.size}<extra></extra>",
         "hovertext": [
          "Steelix",
          "SteelixMega Steelix",
          "Skarmory",
          "Mawile",
          "MawileMega Mawile",
          "Aron",
          "Lairon",
          "Aggron",
          "AggronMega Aggron",
          "Beldum",
          "Metang",
          "Metagross",
          "MetagrossMega Metagross",
          "Bronzor",
          "Bronzong",
          "Klink",
          "Klang",
          "Klinklang",
          "Honedge",
          "Doublade",
          "AegislashBlade Forme",
          "AegislashShield Forme",
          "Klefki"
         ],
         "legendgroup": "Steel",
         "marker": {
          "color": "#FF6692",
          "size": [
           1,
           1,
           1,
           1,
           1,
           1,
           1,
           1,
           1,
           1,
           1,
           1,
           1,
           1,
           1,
           1,
           1,
           1,
           1,
           1,
           1,
           1,
           1
          ],
          "sizemode": "area",
          "sizeref": 0.04,
          "symbol": "circle"
         },
         "mode": "markers",
         "name": "Steel",
         "scene": "scene",
         "showlegend": true,
         "type": "scatter3d",
         "x": [
          85,
          125,
          80,
          85,
          105,
          70,
          90,
          110,
          140,
          55,
          75,
          135,
          145,
          24,
          89,
          55,
          80,
          100,
          80,
          110,
          150,
          50,
          80
         ],
         "y": [
          55,
          55,
          40,
          55,
          55,
          40,
          50,
          60,
          60,
          35,
          55,
          95,
          105,
          24,
          79,
          45,
          70,
          70,
          35,
          45,
          150,
          50,
          80
         ],
         "z": [
          75,
          75,
          65,
          50,
          50,
          50,
          60,
          70,
          70,
          40,
          60,
          80,
          80,
          57,
          67,
          40,
          60,
          60,
          45,
          59,
          60,
          60,
          57
         ]
        },
        {
         "hovertemplate": "<b>%{hovertext}</b><br><br>Type 1=Flying<br>Attack=%{x}<br>Sp. Atk=%{y}<br>HP=%{z}<br>size=%{marker.size}<extra></extra>",
         "hovertext": [
          "Noibat",
          "Noivern"
         ],
         "legendgroup": "Flying",
         "marker": {
          "color": "#B6E880",
          "size": [
           1,
           1
          ],
          "sizemode": "area",
          "sizeref": 0.04,
          "symbol": "circle"
         },
         "mode": "markers",
         "name": "Flying",
         "scene": "scene",
         "showlegend": true,
         "type": "scatter3d",
         "x": [
          30,
          70
         ],
         "y": [
          45,
          97
         ],
         "z": [
          40,
          85
         ]
        }
       ],
       "layout": {
        "legend": {
         "itemsizing": "constant",
         "title": {
          "text": "Type 1"
         },
         "tracegroupgap": 0
        },
        "margin": {
         "t": 60
        },
        "scene": {
         "domain": {
          "x": [
           0,
           1
          ],
          "y": [
           0,
           1
          ]
         },
         "xaxis": {
          "title": {
           "text": "Attack"
          }
         },
         "yaxis": {
          "title": {
           "text": "Sp. Atk"
          }
         },
         "zaxis": {
          "title": {
           "text": "HP"
          }
         }
        },
        "template": {
         "data": {
          "bar": [
           {
            "error_x": {
             "color": "#2a3f5f"
            },
            "error_y": {
             "color": "#2a3f5f"
            },
            "marker": {
             "line": {
              "color": "#E5ECF6",
              "width": 0.5
             }
            },
            "type": "bar"
           }
          ],
          "barpolar": [
           {
            "marker": {
             "line": {
              "color": "#E5ECF6",
              "width": 0.5
             }
            },
            "type": "barpolar"
           }
          ],
          "carpet": [
           {
            "aaxis": {
             "endlinecolor": "#2a3f5f",
             "gridcolor": "white",
             "linecolor": "white",
             "minorgridcolor": "white",
             "startlinecolor": "#2a3f5f"
            },
            "baxis": {
             "endlinecolor": "#2a3f5f",
             "gridcolor": "white",
             "linecolor": "white",
             "minorgridcolor": "white",
             "startlinecolor": "#2a3f5f"
            },
            "type": "carpet"
           }
          ],
          "choropleth": [
           {
            "colorbar": {
             "outlinewidth": 0,
             "ticks": ""
            },
            "type": "choropleth"
           }
          ],
          "contour": [
           {
            "colorbar": {
             "outlinewidth": 0,
             "ticks": ""
            },
            "colorscale": [
             [
              0,
              "#0d0887"
             ],
             [
              0.1111111111111111,
              "#46039f"
             ],
             [
              0.2222222222222222,
              "#7201a8"
             ],
             [
              0.3333333333333333,
              "#9c179e"
             ],
             [
              0.4444444444444444,
              "#bd3786"
             ],
             [
              0.5555555555555556,
              "#d8576b"
             ],
             [
              0.6666666666666666,
              "#ed7953"
             ],
             [
              0.7777777777777778,
              "#fb9f3a"
             ],
             [
              0.8888888888888888,
              "#fdca26"
             ],
             [
              1,
              "#f0f921"
             ]
            ],
            "type": "contour"
           }
          ],
          "contourcarpet": [
           {
            "colorbar": {
             "outlinewidth": 0,
             "ticks": ""
            },
            "type": "contourcarpet"
           }
          ],
          "heatmap": [
           {
            "colorbar": {
             "outlinewidth": 0,
             "ticks": ""
            },
            "colorscale": [
             [
              0,
              "#0d0887"
             ],
             [
              0.1111111111111111,
              "#46039f"
             ],
             [
              0.2222222222222222,
              "#7201a8"
             ],
             [
              0.3333333333333333,
              "#9c179e"
             ],
             [
              0.4444444444444444,
              "#bd3786"
             ],
             [
              0.5555555555555556,
              "#d8576b"
             ],
             [
              0.6666666666666666,
              "#ed7953"
             ],
             [
              0.7777777777777778,
              "#fb9f3a"
             ],
             [
              0.8888888888888888,
              "#fdca26"
             ],
             [
              1,
              "#f0f921"
             ]
            ],
            "type": "heatmap"
           }
          ],
          "heatmapgl": [
           {
            "colorbar": {
             "outlinewidth": 0,
             "ticks": ""
            },
            "colorscale": [
             [
              0,
              "#0d0887"
             ],
             [
              0.1111111111111111,
              "#46039f"
             ],
             [
              0.2222222222222222,
              "#7201a8"
             ],
             [
              0.3333333333333333,
              "#9c179e"
             ],
             [
              0.4444444444444444,
              "#bd3786"
             ],
             [
              0.5555555555555556,
              "#d8576b"
             ],
             [
              0.6666666666666666,
              "#ed7953"
             ],
             [
              0.7777777777777778,
              "#fb9f3a"
             ],
             [
              0.8888888888888888,
              "#fdca26"
             ],
             [
              1,
              "#f0f921"
             ]
            ],
            "type": "heatmapgl"
           }
          ],
          "histogram": [
           {
            "marker": {
             "colorbar": {
              "outlinewidth": 0,
              "ticks": ""
             }
            },
            "type": "histogram"
           }
          ],
          "histogram2d": [
           {
            "colorbar": {
             "outlinewidth": 0,
             "ticks": ""
            },
            "colorscale": [
             [
              0,
              "#0d0887"
             ],
             [
              0.1111111111111111,
              "#46039f"
             ],
             [
              0.2222222222222222,
              "#7201a8"
             ],
             [
              0.3333333333333333,
              "#9c179e"
             ],
             [
              0.4444444444444444,
              "#bd3786"
             ],
             [
              0.5555555555555556,
              "#d8576b"
             ],
             [
              0.6666666666666666,
              "#ed7953"
             ],
             [
              0.7777777777777778,
              "#fb9f3a"
             ],
             [
              0.8888888888888888,
              "#fdca26"
             ],
             [
              1,
              "#f0f921"
             ]
            ],
            "type": "histogram2d"
           }
          ],
          "histogram2dcontour": [
           {
            "colorbar": {
             "outlinewidth": 0,
             "ticks": ""
            },
            "colorscale": [
             [
              0,
              "#0d0887"
             ],
             [
              0.1111111111111111,
              "#46039f"
             ],
             [
              0.2222222222222222,
              "#7201a8"
             ],
             [
              0.3333333333333333,
              "#9c179e"
             ],
             [
              0.4444444444444444,
              "#bd3786"
             ],
             [
              0.5555555555555556,
              "#d8576b"
             ],
             [
              0.6666666666666666,
              "#ed7953"
             ],
             [
              0.7777777777777778,
              "#fb9f3a"
             ],
             [
              0.8888888888888888,
              "#fdca26"
             ],
             [
              1,
              "#f0f921"
             ]
            ],
            "type": "histogram2dcontour"
           }
          ],
          "mesh3d": [
           {
            "colorbar": {
             "outlinewidth": 0,
             "ticks": ""
            },
            "type": "mesh3d"
           }
          ],
          "parcoords": [
           {
            "line": {
             "colorbar": {
              "outlinewidth": 0,
              "ticks": ""
             }
            },
            "type": "parcoords"
           }
          ],
          "pie": [
           {
            "automargin": true,
            "type": "pie"
           }
          ],
          "scatter": [
           {
            "marker": {
             "colorbar": {
              "outlinewidth": 0,
              "ticks": ""
             }
            },
            "type": "scatter"
           }
          ],
          "scatter3d": [
           {
            "line": {
             "colorbar": {
              "outlinewidth": 0,
              "ticks": ""
             }
            },
            "marker": {
             "colorbar": {
              "outlinewidth": 0,
              "ticks": ""
             }
            },
            "type": "scatter3d"
           }
          ],
          "scattercarpet": [
           {
            "marker": {
             "colorbar": {
              "outlinewidth": 0,
              "ticks": ""
             }
            },
            "type": "scattercarpet"
           }
          ],
          "scattergeo": [
           {
            "marker": {
             "colorbar": {
              "outlinewidth": 0,
              "ticks": ""
             }
            },
            "type": "scattergeo"
           }
          ],
          "scattergl": [
           {
            "marker": {
             "colorbar": {
              "outlinewidth": 0,
              "ticks": ""
             }
            },
            "type": "scattergl"
           }
          ],
          "scattermapbox": [
           {
            "marker": {
             "colorbar": {
              "outlinewidth": 0,
              "ticks": ""
             }
            },
            "type": "scattermapbox"
           }
          ],
          "scatterpolar": [
           {
            "marker": {
             "colorbar": {
              "outlinewidth": 0,
              "ticks": ""
             }
            },
            "type": "scatterpolar"
           }
          ],
          "scatterpolargl": [
           {
            "marker": {
             "colorbar": {
              "outlinewidth": 0,
              "ticks": ""
             }
            },
            "type": "scatterpolargl"
           }
          ],
          "scatterternary": [
           {
            "marker": {
             "colorbar": {
              "outlinewidth": 0,
              "ticks": ""
             }
            },
            "type": "scatterternary"
           }
          ],
          "surface": [
           {
            "colorbar": {
             "outlinewidth": 0,
             "ticks": ""
            },
            "colorscale": [
             [
              0,
              "#0d0887"
             ],
             [
              0.1111111111111111,
              "#46039f"
             ],
             [
              0.2222222222222222,
              "#7201a8"
             ],
             [
              0.3333333333333333,
              "#9c179e"
             ],
             [
              0.4444444444444444,
              "#bd3786"
             ],
             [
              0.5555555555555556,
              "#d8576b"
             ],
             [
              0.6666666666666666,
              "#ed7953"
             ],
             [
              0.7777777777777778,
              "#fb9f3a"
             ],
             [
              0.8888888888888888,
              "#fdca26"
             ],
             [
              1,
              "#f0f921"
             ]
            ],
            "type": "surface"
           }
          ],
          "table": [
           {
            "cells": {
             "fill": {
              "color": "#EBF0F8"
             },
             "line": {
              "color": "white"
             }
            },
            "header": {
             "fill": {
              "color": "#C8D4E3"
             },
             "line": {
              "color": "white"
             }
            },
            "type": "table"
           }
          ]
         },
         "layout": {
          "annotationdefaults": {
           "arrowcolor": "#2a3f5f",
           "arrowhead": 0,
           "arrowwidth": 1
          },
          "coloraxis": {
           "colorbar": {
            "outlinewidth": 0,
            "ticks": ""
           }
          },
          "colorscale": {
           "diverging": [
            [
             0,
             "#8e0152"
            ],
            [
             0.1,
             "#c51b7d"
            ],
            [
             0.2,
             "#de77ae"
            ],
            [
             0.3,
             "#f1b6da"
            ],
            [
             0.4,
             "#fde0ef"
            ],
            [
             0.5,
             "#f7f7f7"
            ],
            [
             0.6,
             "#e6f5d0"
            ],
            [
             0.7,
             "#b8e186"
            ],
            [
             0.8,
             "#7fbc41"
            ],
            [
             0.9,
             "#4d9221"
            ],
            [
             1,
             "#276419"
            ]
           ],
           "sequential": [
            [
             0,
             "#0d0887"
            ],
            [
             0.1111111111111111,
             "#46039f"
            ],
            [
             0.2222222222222222,
             "#7201a8"
            ],
            [
             0.3333333333333333,
             "#9c179e"
            ],
            [
             0.4444444444444444,
             "#bd3786"
            ],
            [
             0.5555555555555556,
             "#d8576b"
            ],
            [
             0.6666666666666666,
             "#ed7953"
            ],
            [
             0.7777777777777778,
             "#fb9f3a"
            ],
            [
             0.8888888888888888,
             "#fdca26"
            ],
            [
             1,
             "#f0f921"
            ]
           ],
           "sequentialminus": [
            [
             0,
             "#0d0887"
            ],
            [
             0.1111111111111111,
             "#46039f"
            ],
            [
             0.2222222222222222,
             "#7201a8"
            ],
            [
             0.3333333333333333,
             "#9c179e"
            ],
            [
             0.4444444444444444,
             "#bd3786"
            ],
            [
             0.5555555555555556,
             "#d8576b"
            ],
            [
             0.6666666666666666,
             "#ed7953"
            ],
            [
             0.7777777777777778,
             "#fb9f3a"
            ],
            [
             0.8888888888888888,
             "#fdca26"
            ],
            [
             1,
             "#f0f921"
            ]
           ]
          },
          "colorway": [
           "#636efa",
           "#EF553B",
           "#00cc96",
           "#ab63fa",
           "#FFA15A",
           "#19d3f3",
           "#FF6692",
           "#B6E880",
           "#FF97FF",
           "#FECB52"
          ],
          "font": {
           "color": "#2a3f5f"
          },
          "geo": {
           "bgcolor": "white",
           "lakecolor": "white",
           "landcolor": "#E5ECF6",
           "showlakes": true,
           "showland": true,
           "subunitcolor": "white"
          },
          "hoverlabel": {
           "align": "left"
          },
          "hovermode": "closest",
          "mapbox": {
           "style": "light"
          },
          "paper_bgcolor": "white",
          "plot_bgcolor": "#E5ECF6",
          "polar": {
           "angularaxis": {
            "gridcolor": "white",
            "linecolor": "white",
            "ticks": ""
           },
           "bgcolor": "#E5ECF6",
           "radialaxis": {
            "gridcolor": "white",
            "linecolor": "white",
            "ticks": ""
           }
          },
          "scene": {
           "xaxis": {
            "backgroundcolor": "#E5ECF6",
            "gridcolor": "white",
            "gridwidth": 2,
            "linecolor": "white",
            "showbackground": true,
            "ticks": "",
            "zerolinecolor": "white"
           },
           "yaxis": {
            "backgroundcolor": "#E5ECF6",
            "gridcolor": "white",
            "gridwidth": 2,
            "linecolor": "white",
            "showbackground": true,
            "ticks": "",
            "zerolinecolor": "white"
           },
           "zaxis": {
            "backgroundcolor": "#E5ECF6",
            "gridcolor": "white",
            "gridwidth": 2,
            "linecolor": "white",
            "showbackground": true,
            "ticks": "",
            "zerolinecolor": "white"
           }
          },
          "shapedefaults": {
           "line": {
            "color": "#2a3f5f"
           }
          },
          "ternary": {
           "aaxis": {
            "gridcolor": "white",
            "linecolor": "white",
            "ticks": ""
           },
           "baxis": {
            "gridcolor": "white",
            "linecolor": "white",
            "ticks": ""
           },
           "bgcolor": "#E5ECF6",
           "caxis": {
            "gridcolor": "white",
            "linecolor": "white",
            "ticks": ""
           }
          },
          "title": {
           "x": 0.05
          },
          "xaxis": {
           "automargin": true,
           "gridcolor": "white",
           "linecolor": "white",
           "ticks": "",
           "title": {
            "standoff": 15
           },
           "zerolinecolor": "white",
           "zerolinewidth": 2
          },
          "yaxis": {
           "automargin": true,
           "gridcolor": "white",
           "linecolor": "white",
           "ticks": "",
           "title": {
            "standoff": 15
           },
           "zerolinecolor": "white",
           "zerolinewidth": 2
          }
         }
        }
       }
      },
      "text/html": [
       "<div>                            <div id=\"ad3bee47-03d7-4c2b-b1ab-969f366f314e\" class=\"plotly-graph-div\" style=\"height:525px; width:100%;\"></div>            <script type=\"text/javascript\">                require([\"plotly\"], function(Plotly) {                    window.PLOTLYENV=window.PLOTLYENV || {};                                    if (document.getElementById(\"ad3bee47-03d7-4c2b-b1ab-969f366f314e\")) {                    Plotly.newPlot(                        \"ad3bee47-03d7-4c2b-b1ab-969f366f314e\",                        [{\"hovertemplate\": \"<b>%{hovertext}</b><br><br>Type 1=Grass<br>Attack=%{x}<br>Sp. Atk=%{y}<br>HP=%{z}<br>size=%{marker.size}<extra></extra>\", \"hovertext\": [\"Bulbasaur\", \"Ivysaur\", \"Venusaur\", \"VenusaurMega Venusaur\", \"Oddish\", \"Gloom\", \"Vileplume\", \"Bellsprout\", \"Weepinbell\", \"Victreebel\", \"Exeggcute\", \"Exeggutor\", \"Tangela\", \"Chikorita\", \"Bayleef\", \"Meganium\", \"Bellossom\", \"Hoppip\", \"Skiploom\", \"Jumpluff\", \"Sunkern\", \"Sunflora\", \"Treecko\", \"Grovyle\", \"Sceptile\", \"SceptileMega Sceptile\", \"Seedot\", \"Nuzleaf\", \"Shiftry\", \"Shroomish\", \"Breloom\", \"Roselia\", \"Cacnea\", \"Cacturne\", \"Tropius\", \"Turtwig\", \"Grotle\", \"Torterra\", \"Budew\", \"Roserade\", \"Cherubi\", \"Cherrim\", \"Carnivine\", \"Snover\", \"Abomasnow\", \"AbomasnowMega Abomasnow\", \"Tangrowth\", \"Leafeon\", \"Snivy\", \"Servine\", \"Serperior\", \"Pansage\", \"Simisage\", \"Cottonee\", \"Whimsicott\", \"Petilil\", \"Lilligant\", \"Maractus\", \"Foongus\", \"Amoonguss\", \"Ferroseed\", \"Ferrothorn\", \"Chespin\", \"Quilladin\", \"Chesnaught\", \"Skiddo\", \"Gogoat\"], \"legendgroup\": \"Grass\", \"marker\": {\"color\": \"#636efa\", \"size\": [1, 1, 1, 1, 1, 1, 1, 1, 1, 1, 1, 1, 1, 1, 1, 1, 1, 1, 1, 1, 1, 1, 1, 1, 1, 1, 1, 1, 1, 1, 1, 1, 1, 1, 1, 1, 1, 1, 1, 1, 1, 1, 1, 1, 1, 1, 1, 1, 1, 1, 1, 1, 1, 1, 1, 1, 1, 1, 1, 1, 1, 1, 1, 1, 1, 1, 1], \"sizemode\": \"area\", \"sizeref\": 0.04, \"symbol\": \"circle\"}, \"mode\": \"markers\", \"name\": \"Grass\", \"scene\": \"scene\", \"showlegend\": true, \"type\": \"scatter3d\", \"x\": [49, 62, 82, 100, 50, 65, 80, 75, 90, 105, 40, 95, 55, 49, 62, 82, 80, 35, 45, 55, 30, 75, 45, 65, 85, 110, 40, 70, 100, 40, 130, 60, 85, 115, 68, 68, 89, 109, 30, 70, 35, 60, 100, 62, 92, 132, 100, 110, 45, 60, 75, 53, 98, 27, 67, 35, 60, 86, 55, 85, 50, 94, 61, 78, 107, 65, 100], \"y\": [65, 80, 100, 122, 75, 85, 110, 70, 85, 100, 60, 125, 100, 49, 63, 83, 90, 35, 45, 55, 30, 105, 65, 85, 105, 145, 30, 60, 90, 40, 60, 100, 85, 115, 72, 45, 55, 75, 50, 125, 62, 87, 90, 62, 92, 132, 110, 60, 45, 60, 75, 53, 98, 37, 77, 70, 110, 106, 55, 85, 24, 54, 48, 56, 74, 62, 97], \"z\": [45, 60, 80, 80, 45, 60, 75, 50, 65, 80, 60, 95, 65, 45, 60, 80, 75, 35, 55, 75, 30, 75, 40, 50, 70, 70, 40, 70, 90, 60, 60, 50, 50, 70, 99, 55, 75, 95, 40, 60, 45, 70, 74, 60, 90, 90, 100, 65, 45, 60, 75, 50, 75, 40, 60, 45, 70, 75, 69, 114, 44, 74, 56, 61, 88, 66, 123]}, {\"hovertemplate\": \"<b>%{hovertext}</b><br><br>Type 1=Fire<br>Attack=%{x}<br>Sp. Atk=%{y}<br>HP=%{z}<br>size=%{marker.size}<extra></extra>\", \"hovertext\": [\"Charmander\", \"Charmeleon\", \"Charizard\", \"CharizardMega Charizard X\", \"CharizardMega Charizard Y\", \"Vulpix\", \"Ninetales\", \"Growlithe\", \"Arcanine\", \"Ponyta\", \"Rapidash\", \"Magmar\", \"Flareon\", \"Cyndaquil\", \"Quilava\", \"Typhlosion\", \"Slugma\", \"Magcargo\", \"Magby\", \"Torchic\", \"Combusken\", \"Blaziken\", \"BlazikenMega Blaziken\", \"Numel\", \"Camerupt\", \"CameruptMega Camerupt\", \"Torkoal\", \"Chimchar\", \"Monferno\", \"Infernape\", \"Magmortar\", \"Tepig\", \"Pignite\", \"Emboar\", \"Pansear\", \"Simisear\", \"Darumaka\", \"DarmanitanStandard Mode\", \"DarmanitanZen Mode\", \"Heatmor\", \"Fennekin\", \"Braixen\", \"Delphox\", \"Fletchinder\", \"Talonflame\", \"Litleo\", \"Pyroar\"], \"legendgroup\": \"Fire\", \"marker\": {\"color\": \"#EF553B\", \"size\": [1, 1, 1, 1, 1, 1, 1, 1, 1, 1, 1, 1, 1, 1, 1, 1, 1, 1, 1, 1, 1, 1, 1, 1, 1, 1, 1, 1, 1, 1, 1, 1, 1, 1, 1, 1, 1, 1, 1, 1, 1, 1, 1, 1, 1, 1, 1], \"sizemode\": \"area\", \"sizeref\": 0.04, \"symbol\": \"circle\"}, \"mode\": \"markers\", \"name\": \"Fire\", \"scene\": \"scene\", \"showlegend\": true, \"type\": \"scatter3d\", \"x\": [52, 64, 84, 130, 104, 41, 76, 70, 110, 85, 100, 95, 130, 52, 64, 84, 40, 50, 75, 60, 85, 120, 160, 60, 100, 120, 85, 58, 78, 104, 95, 63, 93, 123, 53, 98, 90, 140, 30, 97, 45, 59, 69, 73, 81, 50, 68], \"y\": [60, 80, 109, 130, 159, 50, 81, 70, 100, 65, 80, 100, 95, 60, 80, 109, 70, 80, 70, 70, 85, 110, 130, 65, 105, 145, 85, 58, 78, 104, 125, 45, 70, 100, 53, 98, 15, 30, 140, 105, 62, 90, 114, 56, 74, 73, 109], \"z\": [39, 58, 78, 78, 78, 38, 73, 55, 90, 50, 65, 65, 65, 39, 58, 78, 40, 50, 45, 45, 60, 80, 80, 60, 70, 70, 70, 44, 64, 76, 75, 65, 90, 110, 50, 75, 70, 105, 105, 85, 40, 59, 75, 62, 78, 62, 86]}, {\"hovertemplate\": \"<b>%{hovertext}</b><br><br>Type 1=Water<br>Attack=%{x}<br>Sp. Atk=%{y}<br>HP=%{z}<br>size=%{marker.size}<extra></extra>\", \"hovertext\": [\"Squirtle\", \"Wartortle\", \"Blastoise\", \"BlastoiseMega Blastoise\", \"Psyduck\", \"Golduck\", \"Poliwag\", \"Poliwhirl\", \"Poliwrath\", \"Tentacool\", \"Tentacruel\", \"Slowpoke\", \"Slowbro\", \"SlowbroMega Slowbro\", \"Seel\", \"Dewgong\", \"Shellder\", \"Cloyster\", \"Krabby\", \"Kingler\", \"Horsea\", \"Seadra\", \"Goldeen\", \"Seaking\", \"Staryu\", \"Starmie\", \"Magikarp\", \"Gyarados\", \"GyaradosMega Gyarados\", \"Lapras\", \"Vaporeon\", \"Totodile\", \"Croconaw\", \"Feraligatr\", \"Chinchou\", \"Lanturn\", \"Marill\", \"Azumarill\", \"Politoed\", \"Wooper\", \"Quagsire\", \"Slowking\", \"Qwilfish\", \"Corsola\", \"Remoraid\", \"Octillery\", \"Mantine\", \"Kingdra\", \"Mudkip\", \"Marshtomp\", \"Swampert\", \"SwampertMega Swampert\", \"Lotad\", \"Lombre\", \"Ludicolo\", \"Wingull\", \"Pelipper\", \"Carvanha\", \"Sharpedo\", \"SharpedoMega Sharpedo\", \"Wailmer\", \"Wailord\", \"Barboach\", \"Whiscash\", \"Corphish\", \"Crawdaunt\", \"Feebas\", \"Milotic\", \"Clamperl\", \"Huntail\", \"Gorebyss\", \"Relicanth\", \"Luvdisc\", \"Piplup\", \"Prinplup\", \"Empoleon\", \"Buizel\", \"Floatzel\", \"Shellos\", \"Gastrodon\", \"Finneon\", \"Lumineon\", \"Mantyke\", \"Phione\", \"Manaphy\", \"Oshawott\", \"Dewott\", \"Samurott\", \"Panpour\", \"Simipour\", \"Tympole\", \"Palpitoad\", \"Seismitoad\", \"Basculin\", \"Tirtouga\", \"Carracosta\", \"Ducklett\", \"Swanna\", \"Frillish\", \"Jellicent\", \"Alomomola\", \"KeldeoOrdinary Forme\", \"KeldeoResolute Forme\", \"Froakie\", \"Frogadier\", \"Greninja\", \"Clauncher\", \"Clawitzer\"], \"legendgroup\": \"Water\", \"marker\": {\"color\": \"#00cc96\", \"size\": [1, 1, 1, 1, 1, 1, 1, 1, 1, 1, 1, 1, 1, 1, 1, 1, 1, 1, 1, 1, 1, 1, 1, 1, 1, 1, 1, 1, 1, 1, 1, 1, 1, 1, 1, 1, 1, 1, 1, 1, 1, 1, 1, 1, 1, 1, 1, 1, 1, 1, 1, 1, 1, 1, 1, 1, 1, 1, 1, 1, 1, 1, 1, 1, 1, 1, 1, 1, 1, 1, 1, 1, 1, 1, 1, 1, 1, 1, 1, 1, 1, 1, 1, 1, 1, 1, 1, 1, 1, 1, 1, 1, 1, 1, 1, 1, 1, 1, 1, 1, 1, 1, 1, 1, 1, 1, 1, 1], \"sizemode\": \"area\", \"sizeref\": 0.04, \"symbol\": \"circle\"}, \"mode\": \"markers\", \"name\": \"Water\", \"scene\": \"scene\", \"showlegend\": true, \"type\": \"scatter3d\", \"x\": [48, 63, 83, 103, 52, 82, 50, 65, 95, 40, 70, 65, 75, 75, 45, 70, 65, 95, 105, 130, 40, 65, 67, 92, 45, 75, 10, 125, 155, 85, 65, 65, 80, 105, 38, 58, 20, 50, 75, 45, 85, 75, 95, 55, 65, 105, 40, 95, 70, 85, 110, 150, 30, 50, 70, 30, 50, 90, 120, 140, 70, 90, 48, 78, 80, 120, 15, 60, 64, 104, 84, 90, 30, 51, 66, 86, 65, 105, 48, 83, 49, 69, 20, 80, 100, 55, 75, 100, 53, 98, 50, 65, 95, 92, 78, 108, 44, 87, 40, 60, 75, 72, 72, 56, 63, 95, 53, 73], \"y\": [50, 65, 85, 135, 65, 95, 40, 50, 70, 50, 80, 40, 100, 130, 45, 70, 45, 85, 25, 50, 70, 95, 35, 65, 70, 100, 15, 60, 70, 85, 110, 44, 59, 79, 56, 76, 20, 60, 90, 25, 65, 100, 55, 65, 65, 105, 80, 95, 50, 60, 85, 95, 40, 60, 90, 55, 85, 65, 95, 110, 70, 90, 46, 76, 50, 90, 10, 100, 74, 94, 114, 45, 40, 61, 81, 111, 60, 85, 57, 92, 49, 69, 60, 80, 100, 63, 83, 108, 53, 98, 50, 65, 85, 80, 53, 83, 44, 87, 65, 85, 40, 129, 129, 62, 83, 103, 58, 120], \"z\": [44, 59, 79, 79, 50, 80, 40, 65, 90, 40, 80, 90, 95, 95, 65, 90, 30, 50, 30, 55, 30, 55, 45, 80, 30, 60, 20, 95, 95, 130, 130, 50, 65, 85, 75, 125, 70, 100, 90, 55, 95, 95, 65, 55, 35, 75, 65, 75, 50, 70, 100, 100, 40, 60, 80, 40, 60, 45, 70, 70, 130, 170, 50, 110, 43, 63, 20, 95, 35, 55, 55, 100, 43, 53, 64, 84, 55, 85, 76, 111, 49, 69, 45, 80, 100, 55, 75, 95, 50, 75, 50, 75, 105, 70, 54, 74, 62, 75, 55, 100, 165, 91, 91, 41, 54, 72, 50, 71]}, {\"hovertemplate\": \"<b>%{hovertext}</b><br><br>Type 1=Bug<br>Attack=%{x}<br>Sp. Atk=%{y}<br>HP=%{z}<br>size=%{marker.size}<extra></extra>\", \"hovertext\": [\"Caterpie\", \"Metapod\", \"Butterfree\", \"Weedle\", \"Kakuna\", \"Beedrill\", \"BeedrillMega Beedrill\", \"Paras\", \"Parasect\", \"Venonat\", \"Venomoth\", \"Scyther\", \"Pinsir\", \"PinsirMega Pinsir\", \"Ledyba\", \"Ledian\", \"Spinarak\", \"Ariados\", \"Yanma\", \"Pineco\", \"Forretress\", \"Scizor\", \"ScizorMega Scizor\", \"Shuckle\", \"Heracross\", \"HeracrossMega Heracross\", \"Wurmple\", \"Silcoon\", \"Beautifly\", \"Cascoon\", \"Dustox\", \"Surskit\", \"Masquerain\", \"Nincada\", \"Ninjask\", \"Shedinja\", \"Volbeat\", \"Illumise\", \"Kricketot\", \"Kricketune\", \"Burmy\", \"WormadamPlant Cloak\", \"WormadamSandy Cloak\", \"WormadamTrash Cloak\", \"Mothim\", \"Combee\", \"Vespiquen\", \"Yanmega\", \"Sewaddle\", \"Swadloon\", \"Leavanny\", \"Venipede\", \"Whirlipede\", \"Scolipede\", \"Dwebble\", \"Crustle\", \"Karrablast\", \"Escavalier\", \"Joltik\", \"Galvantula\", \"Shelmet\", \"Accelgor\", \"Durant\", \"Larvesta\", \"Volcarona\", \"Genesect\", \"Scatterbug\", \"Spewpa\", \"Vivillon\"], \"legendgroup\": \"Bug\", \"marker\": {\"color\": \"#ab63fa\", \"size\": [1, 1, 1, 1, 1, 1, 1, 1, 1, 1, 1, 1, 1, 1, 1, 1, 1, 1, 1, 1, 1, 1, 1, 1, 1, 1, 1, 1, 1, 1, 1, 1, 1, 1, 1, 1, 1, 1, 1, 1, 1, 1, 1, 1, 1, 1, 1, 1, 1, 1, 1, 1, 1, 1, 1, 1, 1, 1, 1, 1, 1, 1, 1, 1, 1, 1, 1, 1, 1], \"sizemode\": \"area\", \"sizeref\": 0.04, \"symbol\": \"circle\"}, \"mode\": \"markers\", \"name\": \"Bug\", \"scene\": \"scene\", \"showlegend\": true, \"type\": \"scatter3d\", \"x\": [30, 20, 45, 35, 25, 90, 150, 70, 95, 55, 65, 110, 125, 155, 20, 35, 60, 90, 65, 65, 90, 130, 150, 10, 125, 185, 45, 35, 70, 35, 50, 30, 60, 45, 90, 90, 73, 47, 25, 85, 29, 59, 79, 69, 94, 30, 80, 76, 53, 63, 103, 45, 55, 100, 65, 95, 75, 135, 47, 77, 40, 70, 109, 85, 60, 120, 35, 22, 52], \"y\": [20, 25, 90, 20, 25, 45, 15, 45, 60, 40, 90, 55, 55, 65, 40, 55, 40, 60, 75, 35, 60, 55, 65, 10, 40, 40, 20, 25, 100, 25, 50, 50, 80, 30, 50, 30, 47, 73, 25, 55, 29, 79, 59, 69, 94, 30, 80, 116, 40, 50, 70, 30, 40, 55, 35, 65, 40, 60, 57, 97, 40, 100, 48, 50, 135, 120, 27, 27, 90], \"z\": [45, 50, 60, 40, 45, 65, 65, 35, 60, 60, 70, 70, 65, 65, 40, 55, 40, 70, 65, 50, 75, 70, 70, 20, 80, 80, 45, 50, 60, 50, 60, 40, 70, 31, 61, 1, 65, 65, 37, 77, 40, 60, 60, 60, 70, 30, 70, 86, 45, 55, 75, 30, 40, 60, 50, 70, 50, 70, 50, 70, 50, 80, 58, 55, 85, 71, 38, 45, 80]}, {\"hovertemplate\": \"<b>%{hovertext}</b><br><br>Type 1=Normal<br>Attack=%{x}<br>Sp. Atk=%{y}<br>HP=%{z}<br>size=%{marker.size}<extra></extra>\", \"hovertext\": [\"Pidgey\", \"Pidgeotto\", \"Pidgeot\", \"PidgeotMega Pidgeot\", \"Rattata\", \"Raticate\", \"Spearow\", \"Fearow\", \"Jigglypuff\", \"Wigglytuff\", \"Meowth\", \"Persian\", \"Farfetch'd\", \"Doduo\", \"Dodrio\", \"Lickitung\", \"Chansey\", \"Kangaskhan\", \"KangaskhanMega Kangaskhan\", \"Tauros\", \"Ditto\", \"Eevee\", \"Porygon\", \"Snorlax\", \"Sentret\", \"Furret\", \"Hoothoot\", \"Noctowl\", \"Igglybuff\", \"Aipom\", \"Girafarig\", \"Dunsparce\", \"Teddiursa\", \"Ursaring\", \"Porygon2\", \"Stantler\", \"Smeargle\", \"Miltank\", \"Blissey\", \"Zigzagoon\", \"Linoone\", \"Taillow\", \"Swellow\", \"Slakoth\", \"Vigoroth\", \"Slaking\", \"Whismur\", \"Loudred\", \"Exploud\", \"Azurill\", \"Skitty\", \"Delcatty\", \"Spinda\", \"Swablu\", \"Zangoose\", \"Castform\", \"Kecleon\", \"Starly\", \"Staravia\", \"Staraptor\", \"Bidoof\", \"Bibarel\", \"Ambipom\", \"Buneary\", \"Lopunny\", \"LopunnyMega Lopunny\", \"Glameow\", \"Purugly\", \"Happiny\", \"Chatot\", \"Munchlax\", \"Lickilicky\", \"Porygon-Z\", \"Patrat\", \"Watchog\", \"Lillipup\", \"Herdier\", \"Stoutland\", \"Pidove\", \"Tranquill\", \"Unfezant\", \"Audino\", \"AudinoMega Audino\", \"Minccino\", \"Cinccino\", \"Deerling\", \"Sawsbuck\", \"Bouffalant\", \"Rufflet\", \"Braviary\", \"MeloettaAria Forme\", \"MeloettaPirouette Forme\", \"Bunnelby\", \"Diggersby\", \"Fletchling\", \"Furfrou\"], \"legendgroup\": \"Normal\", \"marker\": {\"color\": \"#FFA15A\", \"size\": [1, 1, 1, 1, 1, 1, 1, 1, 1, 1, 1, 1, 1, 1, 1, 1, 1, 1, 1, 1, 1, 1, 1, 1, 1, 1, 1, 1, 1, 1, 1, 1, 1, 1, 1, 1, 1, 1, 1, 1, 1, 1, 1, 1, 1, 1, 1, 1, 1, 1, 1, 1, 1, 1, 1, 1, 1, 1, 1, 1, 1, 1, 1, 1, 1, 1, 1, 1, 1, 1, 1, 1, 1, 1, 1, 1, 1, 1, 1, 1, 1, 1, 1, 1, 1, 1, 1, 1, 1, 1, 1, 1, 1, 1, 1, 1], \"sizemode\": \"area\", \"sizeref\": 0.04, \"symbol\": \"circle\"}, \"mode\": \"markers\", \"name\": \"Normal\", \"scene\": \"scene\", \"showlegend\": true, \"type\": \"scatter3d\", \"x\": [45, 60, 80, 80, 56, 81, 60, 90, 45, 70, 45, 70, 65, 85, 110, 55, 5, 95, 125, 100, 48, 55, 60, 110, 46, 76, 30, 50, 30, 70, 80, 70, 80, 130, 80, 95, 20, 80, 10, 30, 70, 55, 85, 60, 80, 160, 51, 71, 91, 20, 45, 65, 60, 40, 115, 70, 90, 55, 75, 120, 45, 85, 100, 66, 76, 136, 55, 82, 5, 65, 85, 85, 80, 55, 85, 60, 80, 110, 55, 77, 115, 60, 60, 50, 95, 60, 100, 110, 83, 123, 77, 128, 36, 56, 50, 80], \"y\": [35, 50, 70, 135, 25, 50, 31, 61, 45, 85, 40, 65, 58, 35, 60, 60, 35, 40, 60, 40, 48, 45, 85, 65, 35, 45, 36, 76, 40, 40, 90, 65, 50, 75, 105, 85, 20, 40, 75, 30, 50, 30, 50, 35, 55, 95, 51, 71, 91, 20, 35, 55, 60, 40, 60, 70, 60, 30, 40, 50, 35, 55, 60, 44, 54, 54, 42, 64, 15, 92, 40, 80, 135, 35, 60, 25, 35, 45, 36, 50, 65, 60, 80, 40, 65, 40, 60, 40, 37, 57, 128, 77, 32, 50, 40, 65], \"z\": [40, 63, 83, 83, 30, 55, 40, 65, 115, 140, 40, 65, 52, 35, 60, 90, 250, 105, 105, 75, 48, 55, 65, 160, 35, 85, 60, 100, 90, 55, 70, 100, 60, 90, 85, 73, 55, 95, 255, 38, 78, 40, 60, 60, 80, 150, 64, 84, 104, 50, 50, 70, 60, 45, 73, 70, 60, 40, 55, 85, 59, 79, 75, 55, 65, 65, 49, 71, 100, 76, 135, 110, 85, 45, 60, 45, 65, 85, 50, 62, 80, 103, 103, 55, 75, 60, 80, 95, 70, 100, 100, 100, 38, 85, 45, 75]}, {\"hovertemplate\": \"<b>%{hovertext}</b><br><br>Type 1=Poison<br>Attack=%{x}<br>Sp. Atk=%{y}<br>HP=%{z}<br>size=%{marker.size}<extra></extra>\", \"hovertext\": [\"Ekans\", \"Arbok\", \"Nidoran\\u2640\", \"Nidorina\", \"Nidoqueen\", \"Nidoran\\u2642\", \"Nidorino\", \"Nidoking\", \"Zubat\", \"Golbat\", \"Grimer\", \"Muk\", \"Koffing\", \"Weezing\", \"Crobat\", \"Gulpin\", \"Swalot\", \"Seviper\", \"Stunky\", \"Skuntank\", \"Skorupi\", \"Drapion\", \"Croagunk\", \"Toxicroak\", \"Trubbish\", \"Garbodor\", \"Skrelp\", \"Dragalge\"], \"legendgroup\": \"Poison\", \"marker\": {\"color\": \"#19d3f3\", \"size\": [1, 1, 1, 1, 1, 1, 1, 1, 1, 1, 1, 1, 1, 1, 1, 1, 1, 1, 1, 1, 1, 1, 1, 1, 1, 1, 1, 1], \"sizemode\": \"area\", \"sizeref\": 0.04, \"symbol\": \"circle\"}, \"mode\": \"markers\", \"name\": \"Poison\", \"scene\": \"scene\", \"showlegend\": true, \"type\": \"scatter3d\", \"x\": [60, 85, 47, 62, 92, 57, 72, 102, 45, 80, 80, 105, 65, 90, 90, 43, 73, 100, 63, 93, 50, 90, 61, 106, 50, 95, 60, 75], \"y\": [40, 65, 40, 55, 75, 40, 55, 85, 30, 65, 40, 65, 60, 85, 70, 43, 73, 100, 41, 71, 30, 60, 61, 86, 40, 60, 60, 97], \"z\": [35, 60, 55, 70, 90, 46, 61, 81, 40, 75, 80, 105, 40, 65, 85, 70, 100, 73, 63, 103, 40, 70, 48, 83, 50, 80, 50, 65]}, {\"hovertemplate\": \"<b>%{hovertext}</b><br><br>Type 1=Electric<br>Attack=%{x}<br>Sp. Atk=%{y}<br>HP=%{z}<br>size=%{marker.size}<extra></extra>\", \"hovertext\": [\"Pikachu\", \"Raichu\", \"Magnemite\", \"Magneton\", \"Voltorb\", \"Electrode\", \"Electabuzz\", \"Jolteon\", \"Pichu\", \"Mareep\", \"Flaaffy\", \"Ampharos\", \"AmpharosMega Ampharos\", \"Elekid\", \"Electrike\", \"Manectric\", \"ManectricMega Manectric\", \"Plusle\", \"Minun\", \"Shinx\", \"Luxio\", \"Luxray\", \"Pachirisu\", \"Magnezone\", \"Electivire\", \"Rotom\", \"RotomHeat Rotom\", \"RotomWash Rotom\", \"RotomFrost Rotom\", \"RotomFan Rotom\", \"RotomMow Rotom\", \"Blitzle\", \"Zebstrika\", \"Emolga\", \"Tynamo\", \"Eelektrik\", \"Eelektross\", \"Helioptile\", \"Heliolisk\", \"Dedenne\"], \"legendgroup\": \"Electric\", \"marker\": {\"color\": \"#FF6692\", \"size\": [1, 1, 1, 1, 1, 1, 1, 1, 1, 1, 1, 1, 1, 1, 1, 1, 1, 1, 1, 1, 1, 1, 1, 1, 1, 1, 1, 1, 1, 1, 1, 1, 1, 1, 1, 1, 1, 1, 1, 1], \"sizemode\": \"area\", \"sizeref\": 0.04, \"symbol\": \"circle\"}, \"mode\": \"markers\", \"name\": \"Electric\", \"scene\": \"scene\", \"showlegend\": true, \"type\": \"scatter3d\", \"x\": [55, 90, 35, 60, 30, 50, 83, 65, 40, 40, 55, 75, 95, 63, 45, 75, 75, 50, 40, 65, 85, 120, 45, 70, 123, 50, 65, 65, 65, 65, 65, 60, 100, 75, 55, 85, 115, 38, 55, 58], \"y\": [50, 90, 95, 120, 55, 80, 95, 110, 35, 65, 80, 115, 165, 65, 65, 105, 135, 85, 75, 40, 60, 95, 45, 130, 95, 95, 105, 105, 105, 105, 105, 50, 80, 75, 45, 75, 105, 61, 109, 81], \"z\": [35, 60, 25, 50, 40, 60, 65, 65, 20, 55, 70, 90, 90, 45, 40, 70, 70, 60, 60, 45, 60, 80, 60, 70, 75, 50, 50, 50, 50, 50, 50, 45, 75, 55, 35, 65, 85, 44, 62, 67]}, {\"hovertemplate\": \"<b>%{hovertext}</b><br><br>Type 1=Ground<br>Attack=%{x}<br>Sp. Atk=%{y}<br>HP=%{z}<br>size=%{marker.size}<extra></extra>\", \"hovertext\": [\"Sandshrew\", \"Sandslash\", \"Diglett\", \"Dugtrio\", \"Cubone\", \"Marowak\", \"Rhyhorn\", \"Rhydon\", \"Gligar\", \"Phanpy\", \"Donphan\", \"Trapinch\", \"Vibrava\", \"Flygon\", \"Baltoy\", \"Claydol\", \"Hippopotas\", \"Hippowdon\", \"Rhyperior\", \"Gliscor\", \"Drilbur\", \"Excadrill\", \"Sandile\", \"Krokorok\", \"Krookodile\", \"Stunfisk\", \"Golett\", \"Golurk\"], \"legendgroup\": \"Ground\", \"marker\": {\"color\": \"#B6E880\", \"size\": [1, 1, 1, 1, 1, 1, 1, 1, 1, 1, 1, 1, 1, 1, 1, 1, 1, 1, 1, 1, 1, 1, 1, 1, 1, 1, 1, 1], \"sizemode\": \"area\", \"sizeref\": 0.04, \"symbol\": \"circle\"}, \"mode\": \"markers\", \"name\": \"Ground\", \"scene\": \"scene\", \"showlegend\": true, \"type\": \"scatter3d\", \"x\": [75, 100, 55, 80, 50, 80, 85, 130, 75, 60, 120, 100, 70, 100, 40, 70, 72, 112, 140, 95, 85, 135, 72, 82, 117, 66, 74, 124], \"y\": [20, 45, 35, 50, 40, 50, 30, 45, 35, 40, 60, 45, 50, 80, 40, 70, 38, 68, 55, 45, 30, 50, 35, 45, 65, 81, 35, 55], \"z\": [50, 75, 10, 35, 50, 60, 80, 105, 65, 90, 90, 45, 50, 80, 40, 60, 68, 108, 115, 75, 60, 110, 50, 60, 95, 109, 59, 89]}, {\"hovertemplate\": \"<b>%{hovertext}</b><br><br>Type 1=Fairy<br>Attack=%{x}<br>Sp. Atk=%{y}<br>HP=%{z}<br>size=%{marker.size}<extra></extra>\", \"hovertext\": [\"Clefairy\", \"Clefable\", \"Cleffa\", \"Togepi\", \"Togetic\", \"Snubbull\", \"Granbull\", \"Togekiss\", \"Flab\\u00e9b\\u00e9\", \"Floette\", \"Florges\", \"Spritzee\", \"Aromatisse\", \"Swirlix\", \"Slurpuff\", \"Sylveon\"], \"legendgroup\": \"Fairy\", \"marker\": {\"color\": \"#FF97FF\", \"size\": [1, 1, 1, 1, 1, 1, 1, 1, 1, 1, 1, 1, 1, 1, 1, 1], \"sizemode\": \"area\", \"sizeref\": 0.04, \"symbol\": \"circle\"}, \"mode\": \"markers\", \"name\": \"Fairy\", \"scene\": \"scene\", \"showlegend\": true, \"type\": \"scatter3d\", \"x\": [45, 70, 25, 20, 40, 80, 120, 50, 38, 45, 65, 52, 72, 48, 80, 65], \"y\": [60, 95, 45, 40, 80, 40, 60, 120, 61, 75, 112, 63, 99, 59, 85, 110], \"z\": [70, 95, 50, 35, 55, 60, 90, 85, 44, 54, 78, 78, 101, 62, 82, 95]}, {\"hovertemplate\": \"<b>%{hovertext}</b><br><br>Type 1=Fighting<br>Attack=%{x}<br>Sp. Atk=%{y}<br>HP=%{z}<br>size=%{marker.size}<extra></extra>\", \"hovertext\": [\"Mankey\", \"Primeape\", \"Machop\", \"Machoke\", \"Machamp\", \"Hitmonlee\", \"Hitmonchan\", \"Tyrogue\", \"Hitmontop\", \"Makuhita\", \"Hariyama\", \"Meditite\", \"Medicham\", \"MedichamMega Medicham\", \"Riolu\", \"Lucario\", \"LucarioMega Lucario\", \"Timburr\", \"Gurdurr\", \"Conkeldurr\", \"Throh\", \"Sawk\", \"Mienfoo\", \"Mienshao\", \"Pancham\", \"Pangoro\", \"Hawlucha\"], \"legendgroup\": \"Fighting\", \"marker\": {\"color\": \"#FECB52\", \"size\": [1, 1, 1, 1, 1, 1, 1, 1, 1, 1, 1, 1, 1, 1, 1, 1, 1, 1, 1, 1, 1, 1, 1, 1, 1, 1, 1], \"sizemode\": \"area\", \"sizeref\": 0.04, \"symbol\": \"circle\"}, \"mode\": \"markers\", \"name\": \"Fighting\", \"scene\": \"scene\", \"showlegend\": true, \"type\": \"scatter3d\", \"x\": [80, 105, 80, 100, 130, 120, 105, 35, 95, 60, 120, 40, 60, 100, 70, 110, 145, 80, 105, 140, 100, 125, 85, 125, 82, 124, 92], \"y\": [35, 60, 35, 50, 65, 35, 35, 35, 35, 20, 40, 40, 60, 80, 35, 115, 140, 25, 40, 55, 30, 30, 55, 95, 46, 69, 74], \"z\": [40, 65, 70, 80, 90, 50, 50, 35, 50, 72, 144, 30, 60, 60, 40, 70, 70, 75, 85, 105, 120, 75, 45, 65, 67, 95, 78]}, {\"hovertemplate\": \"<b>%{hovertext}</b><br><br>Type 1=Psychic<br>Attack=%{x}<br>Sp. Atk=%{y}<br>HP=%{z}<br>size=%{marker.size}<extra></extra>\", \"hovertext\": [\"Abra\", \"Kadabra\", \"Alakazam\", \"AlakazamMega Alakazam\", \"Drowzee\", \"Hypno\", \"Mr. Mime\", \"Mew\", \"Natu\", \"Xatu\", \"Espeon\", \"Unown\", \"Wobbuffet\", \"Celebi\", \"Ralts\", \"Kirlia\", \"Gardevoir\", \"GardevoirMega Gardevoir\", \"Spoink\", \"Grumpig\", \"Chimecho\", \"Wynaut\", \"Chingling\", \"Mime Jr.\", \"Gallade\", \"GalladeMega Gallade\", \"Cresselia\", \"Munna\", \"Musharna\", \"Woobat\", \"Swoobat\", \"Sigilyph\", \"Gothita\", \"Gothorita\", \"Gothitelle\", \"Solosis\", \"Duosion\", \"Reuniclus\", \"Elgyem\", \"Beheeyem\", \"Espurr\", \"MeowsticMale\", \"MeowsticFemale\"], \"legendgroup\": \"Psychic\", \"marker\": {\"color\": \"#636efa\", \"size\": [1, 1, 1, 1, 1, 1, 1, 1, 1, 1, 1, 1, 1, 1, 1, 1, 1, 1, 1, 1, 1, 1, 1, 1, 1, 1, 1, 1, 1, 1, 1, 1, 1, 1, 1, 1, 1, 1, 1, 1, 1, 1, 1], \"sizemode\": \"area\", \"sizeref\": 0.04, \"symbol\": \"circle\"}, \"mode\": \"markers\", \"name\": \"Psychic\", \"scene\": \"scene\", \"showlegend\": true, \"type\": \"scatter3d\", \"x\": [20, 35, 50, 50, 48, 73, 45, 100, 50, 75, 65, 72, 33, 100, 25, 35, 65, 85, 25, 45, 50, 23, 30, 25, 125, 165, 70, 25, 55, 45, 57, 58, 30, 45, 55, 30, 40, 65, 55, 75, 48, 48, 48], \"y\": [105, 120, 135, 175, 43, 73, 100, 100, 70, 95, 130, 72, 33, 100, 45, 65, 125, 165, 70, 90, 95, 23, 65, 70, 65, 65, 75, 67, 107, 55, 77, 103, 55, 75, 95, 105, 125, 125, 85, 125, 63, 83, 83], \"z\": [25, 40, 55, 55, 60, 85, 40, 100, 40, 65, 65, 48, 190, 100, 28, 38, 68, 68, 60, 80, 65, 95, 45, 20, 68, 68, 120, 76, 116, 55, 67, 72, 45, 60, 70, 45, 65, 110, 55, 75, 62, 74, 74]}, {\"hovertemplate\": \"<b>%{hovertext}</b><br><br>Type 1=Rock<br>Attack=%{x}<br>Sp. Atk=%{y}<br>HP=%{z}<br>size=%{marker.size}<extra></extra>\", \"hovertext\": [\"Geodude\", \"Graveler\", \"Golem\", \"Onix\", \"Omanyte\", \"Omastar\", \"Kabuto\", \"Kabutops\", \"Aerodactyl\", \"AerodactylMega Aerodactyl\", \"Sudowoodo\", \"Larvitar\", \"Pupitar\", \"Tyranitar\", \"TyranitarMega Tyranitar\", \"Nosepass\", \"Lunatone\", \"Solrock\", \"Lileep\", \"Cradily\", \"Anorith\", \"Armaldo\", \"Cranidos\", \"Rampardos\", \"Shieldon\", \"Bastiodon\", \"Bonsly\", \"Probopass\", \"Roggenrola\", \"Boldore\", \"Gigalith\", \"Archen\", \"Archeops\", \"Binacle\", \"Barbaracle\", \"Tyrunt\", \"Tyrantrum\", \"Amaura\", \"Aurorus\", \"Carbink\"], \"legendgroup\": \"Rock\", \"marker\": {\"color\": \"#EF553B\", \"size\": [1, 1, 1, 1, 1, 1, 1, 1, 1, 1, 1, 1, 1, 1, 1, 1, 1, 1, 1, 1, 1, 1, 1, 1, 1, 1, 1, 1, 1, 1, 1, 1, 1, 1, 1, 1, 1, 1, 1, 1], \"sizemode\": \"area\", \"sizeref\": 0.04, \"symbol\": \"circle\"}, \"mode\": \"markers\", \"name\": \"Rock\", \"scene\": \"scene\", \"showlegend\": true, \"type\": \"scatter3d\", \"x\": [80, 95, 120, 45, 40, 60, 80, 115, 105, 135, 100, 64, 84, 134, 164, 45, 55, 95, 41, 81, 95, 125, 125, 165, 42, 52, 80, 55, 75, 105, 135, 112, 140, 52, 105, 89, 121, 59, 77, 50], \"y\": [30, 45, 55, 30, 90, 115, 55, 65, 60, 70, 30, 45, 65, 95, 95, 45, 95, 55, 61, 81, 40, 70, 30, 65, 42, 47, 10, 75, 25, 50, 60, 74, 112, 39, 54, 45, 69, 67, 99, 50], \"z\": [40, 55, 80, 35, 35, 70, 30, 60, 80, 80, 70, 50, 70, 100, 100, 30, 70, 70, 66, 86, 45, 75, 67, 97, 30, 60, 50, 60, 55, 70, 85, 55, 75, 42, 72, 58, 82, 77, 123, 50]}, {\"hovertemplate\": \"<b>%{hovertext}</b><br><br>Type 1=Ghost<br>Attack=%{x}<br>Sp. Atk=%{y}<br>HP=%{z}<br>size=%{marker.size}<extra></extra>\", \"hovertext\": [\"Gastly\", \"Haunter\", \"Gengar\", \"GengarMega Gengar\", \"Misdreavus\", \"Shuppet\", \"Banette\", \"BanetteMega Banette\", \"Duskull\", \"Dusclops\", \"Drifloon\", \"Drifblim\", \"Mismagius\", \"Spiritomb\", \"Dusknoir\", \"Yamask\", \"Cofagrigus\", \"Litwick\", \"Lampent\", \"Chandelure\", \"Phantump\", \"Trevenant\", \"PumpkabooAverage Size\", \"PumpkabooSmall Size\", \"PumpkabooLarge Size\", \"PumpkabooSuper Size\", \"GourgeistAverage Size\", \"GourgeistSmall Size\", \"GourgeistLarge Size\", \"GourgeistSuper Size\"], \"legendgroup\": \"Ghost\", \"marker\": {\"color\": \"#00cc96\", \"size\": [1, 1, 1, 1, 1, 1, 1, 1, 1, 1, 1, 1, 1, 1, 1, 1, 1, 1, 1, 1, 1, 1, 1, 1, 1, 1, 1, 1, 1, 1], \"sizemode\": \"area\", \"sizeref\": 0.04, \"symbol\": \"circle\"}, \"mode\": \"markers\", \"name\": \"Ghost\", \"scene\": \"scene\", \"showlegend\": true, \"type\": \"scatter3d\", \"x\": [35, 50, 65, 65, 60, 75, 115, 165, 40, 70, 50, 80, 60, 92, 100, 30, 50, 30, 40, 55, 70, 110, 66, 66, 66, 66, 90, 85, 95, 100], \"y\": [100, 115, 130, 170, 85, 63, 83, 93, 30, 60, 60, 90, 105, 92, 65, 55, 95, 65, 95, 145, 50, 65, 44, 44, 44, 44, 58, 58, 58, 58], \"z\": [30, 45, 60, 60, 60, 44, 64, 64, 20, 40, 90, 150, 60, 50, 45, 38, 58, 50, 60, 60, 43, 85, 49, 44, 54, 59, 65, 55, 75, 85]}, {\"hovertemplate\": \"<b>%{hovertext}</b><br><br>Type 1=Ice<br>Attack=%{x}<br>Sp. Atk=%{y}<br>HP=%{z}<br>size=%{marker.size}<extra></extra>\", \"hovertext\": [\"Jynx\", \"Swinub\", \"Piloswine\", \"Delibird\", \"Smoochum\", \"Snorunt\", \"Glalie\", \"GlalieMega Glalie\", \"Spheal\", \"Sealeo\", \"Walrein\", \"Glaceon\", \"Mamoswine\", \"Froslass\", \"Vanillite\", \"Vanillish\", \"Vanilluxe\", \"Cubchoo\", \"Beartic\", \"Cryogonal\", \"Bergmite\", \"Avalugg\"], \"legendgroup\": \"Ice\", \"marker\": {\"color\": \"#ab63fa\", \"size\": [1, 1, 1, 1, 1, 1, 1, 1, 1, 1, 1, 1, 1, 1, 1, 1, 1, 1, 1, 1, 1, 1], \"sizemode\": \"area\", \"sizeref\": 0.04, \"symbol\": \"circle\"}, \"mode\": \"markers\", \"name\": \"Ice\", \"scene\": \"scene\", \"showlegend\": true, \"type\": \"scatter3d\", \"x\": [50, 50, 100, 55, 30, 50, 80, 120, 40, 60, 80, 60, 130, 80, 50, 65, 95, 70, 110, 50, 69, 117], \"y\": [115, 30, 60, 65, 85, 50, 80, 120, 55, 75, 95, 130, 70, 80, 65, 80, 110, 60, 70, 95, 32, 44], \"z\": [65, 50, 100, 45, 45, 50, 80, 80, 70, 90, 110, 65, 110, 70, 36, 51, 71, 55, 95, 70, 55, 95]}, {\"hovertemplate\": \"<b>%{hovertext}</b><br><br>Type 1=Dragon<br>Attack=%{x}<br>Sp. Atk=%{y}<br>HP=%{z}<br>size=%{marker.size}<extra></extra>\", \"hovertext\": [\"Dratini\", \"Dragonair\", \"Dragonite\", \"Altaria\", \"AltariaMega Altaria\", \"Bagon\", \"Shelgon\", \"Salamence\", \"SalamenceMega Salamence\", \"Gible\", \"Gabite\", \"Garchomp\", \"GarchompMega Garchomp\", \"Axew\", \"Fraxure\", \"Haxorus\", \"Druddigon\", \"Goomy\", \"Sliggoo\", \"Goodra\"], \"legendgroup\": \"Dragon\", \"marker\": {\"color\": \"#FFA15A\", \"size\": [1, 1, 1, 1, 1, 1, 1, 1, 1, 1, 1, 1, 1, 1, 1, 1, 1, 1, 1, 1], \"sizemode\": \"area\", \"sizeref\": 0.04, \"symbol\": \"circle\"}, \"mode\": \"markers\", \"name\": \"Dragon\", \"scene\": \"scene\", \"showlegend\": true, \"type\": \"scatter3d\", \"x\": [64, 84, 134, 70, 110, 75, 95, 135, 145, 70, 90, 130, 170, 87, 117, 147, 120, 50, 75, 100], \"y\": [50, 70, 100, 70, 110, 40, 60, 110, 120, 40, 50, 80, 120, 30, 40, 60, 60, 55, 83, 110], \"z\": [41, 61, 91, 75, 75, 45, 65, 95, 95, 58, 68, 108, 108, 46, 66, 76, 77, 45, 68, 90]}, {\"hovertemplate\": \"<b>%{hovertext}</b><br><br>Type 1=Dark<br>Attack=%{x}<br>Sp. Atk=%{y}<br>HP=%{z}<br>size=%{marker.size}<extra></extra>\", \"hovertext\": [\"Umbreon\", \"Murkrow\", \"Sneasel\", \"Houndour\", \"Houndoom\", \"HoundoomMega Houndoom\", \"Poochyena\", \"Mightyena\", \"Sableye\", \"SableyeMega Sableye\", \"Absol\", \"AbsolMega Absol\", \"Honchkrow\", \"Weavile\", \"Purrloin\", \"Liepard\", \"Scraggy\", \"Scrafty\", \"Zorua\", \"Zoroark\", \"Pawniard\", \"Bisharp\", \"Vullaby\", \"Mandibuzz\", \"Deino\", \"Zweilous\", \"Hydreigon\", \"Inkay\", \"Malamar\"], \"legendgroup\": \"Dark\", \"marker\": {\"color\": \"#19d3f3\", \"size\": [1, 1, 1, 1, 1, 1, 1, 1, 1, 1, 1, 1, 1, 1, 1, 1, 1, 1, 1, 1, 1, 1, 1, 1, 1, 1, 1, 1, 1], \"sizemode\": \"area\", \"sizeref\": 0.04, \"symbol\": \"circle\"}, \"mode\": \"markers\", \"name\": \"Dark\", \"scene\": \"scene\", \"showlegend\": true, \"type\": \"scatter3d\", \"x\": [65, 85, 95, 60, 90, 90, 55, 90, 75, 85, 130, 150, 125, 120, 50, 88, 75, 90, 65, 105, 85, 125, 55, 65, 65, 85, 105, 54, 92], \"y\": [60, 85, 35, 80, 110, 140, 30, 60, 65, 85, 75, 115, 105, 45, 50, 88, 35, 45, 80, 120, 40, 60, 45, 55, 45, 65, 125, 37, 68], \"z\": [95, 60, 55, 45, 75, 75, 35, 70, 50, 50, 65, 65, 100, 70, 41, 64, 50, 65, 40, 60, 45, 65, 70, 110, 52, 72, 92, 53, 86]}, {\"hovertemplate\": \"<b>%{hovertext}</b><br><br>Type 1=Steel<br>Attack=%{x}<br>Sp. Atk=%{y}<br>HP=%{z}<br>size=%{marker.size}<extra></extra>\", \"hovertext\": [\"Steelix\", \"SteelixMega Steelix\", \"Skarmory\", \"Mawile\", \"MawileMega Mawile\", \"Aron\", \"Lairon\", \"Aggron\", \"AggronMega Aggron\", \"Beldum\", \"Metang\", \"Metagross\", \"MetagrossMega Metagross\", \"Bronzor\", \"Bronzong\", \"Klink\", \"Klang\", \"Klinklang\", \"Honedge\", \"Doublade\", \"AegislashBlade Forme\", \"AegislashShield Forme\", \"Klefki\"], \"legendgroup\": \"Steel\", \"marker\": {\"color\": \"#FF6692\", \"size\": [1, 1, 1, 1, 1, 1, 1, 1, 1, 1, 1, 1, 1, 1, 1, 1, 1, 1, 1, 1, 1, 1, 1], \"sizemode\": \"area\", \"sizeref\": 0.04, \"symbol\": \"circle\"}, \"mode\": \"markers\", \"name\": \"Steel\", \"scene\": \"scene\", \"showlegend\": true, \"type\": \"scatter3d\", \"x\": [85, 125, 80, 85, 105, 70, 90, 110, 140, 55, 75, 135, 145, 24, 89, 55, 80, 100, 80, 110, 150, 50, 80], \"y\": [55, 55, 40, 55, 55, 40, 50, 60, 60, 35, 55, 95, 105, 24, 79, 45, 70, 70, 35, 45, 150, 50, 80], \"z\": [75, 75, 65, 50, 50, 50, 60, 70, 70, 40, 60, 80, 80, 57, 67, 40, 60, 60, 45, 59, 60, 60, 57]}, {\"hovertemplate\": \"<b>%{hovertext}</b><br><br>Type 1=Flying<br>Attack=%{x}<br>Sp. Atk=%{y}<br>HP=%{z}<br>size=%{marker.size}<extra></extra>\", \"hovertext\": [\"Noibat\", \"Noivern\"], \"legendgroup\": \"Flying\", \"marker\": {\"color\": \"#B6E880\", \"size\": [1, 1], \"sizemode\": \"area\", \"sizeref\": 0.04, \"symbol\": \"circle\"}, \"mode\": \"markers\", \"name\": \"Flying\", \"scene\": \"scene\", \"showlegend\": true, \"type\": \"scatter3d\", \"x\": [30, 70], \"y\": [45, 97], \"z\": [40, 85]}],                        {\"legend\": {\"itemsizing\": \"constant\", \"title\": {\"text\": \"Type 1\"}, \"tracegroupgap\": 0}, \"margin\": {\"t\": 60}, \"scene\": {\"domain\": {\"x\": [0.0, 1.0], \"y\": [0.0, 1.0]}, \"xaxis\": {\"title\": {\"text\": \"Attack\"}}, \"yaxis\": {\"title\": {\"text\": \"Sp. Atk\"}}, \"zaxis\": {\"title\": {\"text\": \"HP\"}}}, \"template\": {\"data\": {\"bar\": [{\"error_x\": {\"color\": \"#2a3f5f\"}, \"error_y\": {\"color\": \"#2a3f5f\"}, \"marker\": {\"line\": {\"color\": \"#E5ECF6\", \"width\": 0.5}}, \"type\": \"bar\"}], \"barpolar\": [{\"marker\": {\"line\": {\"color\": \"#E5ECF6\", \"width\": 0.5}}, \"type\": \"barpolar\"}], \"carpet\": [{\"aaxis\": {\"endlinecolor\": \"#2a3f5f\", \"gridcolor\": \"white\", \"linecolor\": \"white\", \"minorgridcolor\": \"white\", \"startlinecolor\": \"#2a3f5f\"}, \"baxis\": {\"endlinecolor\": \"#2a3f5f\", \"gridcolor\": \"white\", \"linecolor\": \"white\", \"minorgridcolor\": \"white\", \"startlinecolor\": \"#2a3f5f\"}, \"type\": \"carpet\"}], \"choropleth\": [{\"colorbar\": {\"outlinewidth\": 0, \"ticks\": \"\"}, \"type\": \"choropleth\"}], \"contour\": [{\"colorbar\": {\"outlinewidth\": 0, \"ticks\": \"\"}, \"colorscale\": [[0.0, \"#0d0887\"], [0.1111111111111111, \"#46039f\"], [0.2222222222222222, \"#7201a8\"], [0.3333333333333333, \"#9c179e\"], [0.4444444444444444, \"#bd3786\"], [0.5555555555555556, \"#d8576b\"], [0.6666666666666666, \"#ed7953\"], [0.7777777777777778, \"#fb9f3a\"], [0.8888888888888888, \"#fdca26\"], [1.0, \"#f0f921\"]], \"type\": \"contour\"}], \"contourcarpet\": [{\"colorbar\": {\"outlinewidth\": 0, \"ticks\": \"\"}, \"type\": \"contourcarpet\"}], \"heatmap\": [{\"colorbar\": {\"outlinewidth\": 0, \"ticks\": \"\"}, \"colorscale\": [[0.0, \"#0d0887\"], [0.1111111111111111, \"#46039f\"], [0.2222222222222222, \"#7201a8\"], [0.3333333333333333, \"#9c179e\"], [0.4444444444444444, \"#bd3786\"], [0.5555555555555556, \"#d8576b\"], [0.6666666666666666, \"#ed7953\"], [0.7777777777777778, \"#fb9f3a\"], [0.8888888888888888, \"#fdca26\"], [1.0, \"#f0f921\"]], \"type\": \"heatmap\"}], \"heatmapgl\": [{\"colorbar\": {\"outlinewidth\": 0, \"ticks\": \"\"}, \"colorscale\": [[0.0, \"#0d0887\"], [0.1111111111111111, \"#46039f\"], [0.2222222222222222, \"#7201a8\"], [0.3333333333333333, \"#9c179e\"], [0.4444444444444444, \"#bd3786\"], [0.5555555555555556, \"#d8576b\"], [0.6666666666666666, \"#ed7953\"], [0.7777777777777778, \"#fb9f3a\"], [0.8888888888888888, \"#fdca26\"], [1.0, \"#f0f921\"]], \"type\": \"heatmapgl\"}], \"histogram\": [{\"marker\": {\"colorbar\": {\"outlinewidth\": 0, \"ticks\": \"\"}}, \"type\": \"histogram\"}], \"histogram2d\": [{\"colorbar\": {\"outlinewidth\": 0, \"ticks\": \"\"}, \"colorscale\": [[0.0, \"#0d0887\"], [0.1111111111111111, \"#46039f\"], [0.2222222222222222, \"#7201a8\"], [0.3333333333333333, \"#9c179e\"], [0.4444444444444444, \"#bd3786\"], [0.5555555555555556, \"#d8576b\"], [0.6666666666666666, \"#ed7953\"], [0.7777777777777778, \"#fb9f3a\"], [0.8888888888888888, \"#fdca26\"], [1.0, \"#f0f921\"]], \"type\": \"histogram2d\"}], \"histogram2dcontour\": [{\"colorbar\": {\"outlinewidth\": 0, \"ticks\": \"\"}, \"colorscale\": [[0.0, \"#0d0887\"], [0.1111111111111111, \"#46039f\"], [0.2222222222222222, \"#7201a8\"], [0.3333333333333333, \"#9c179e\"], [0.4444444444444444, \"#bd3786\"], [0.5555555555555556, \"#d8576b\"], [0.6666666666666666, \"#ed7953\"], [0.7777777777777778, \"#fb9f3a\"], [0.8888888888888888, \"#fdca26\"], [1.0, \"#f0f921\"]], \"type\": \"histogram2dcontour\"}], \"mesh3d\": [{\"colorbar\": {\"outlinewidth\": 0, \"ticks\": \"\"}, \"type\": \"mesh3d\"}], \"parcoords\": [{\"line\": {\"colorbar\": {\"outlinewidth\": 0, \"ticks\": \"\"}}, \"type\": \"parcoords\"}], \"pie\": [{\"automargin\": true, \"type\": \"pie\"}], \"scatter\": [{\"marker\": {\"colorbar\": {\"outlinewidth\": 0, \"ticks\": \"\"}}, \"type\": \"scatter\"}], \"scatter3d\": [{\"line\": {\"colorbar\": {\"outlinewidth\": 0, \"ticks\": \"\"}}, \"marker\": {\"colorbar\": {\"outlinewidth\": 0, \"ticks\": \"\"}}, \"type\": \"scatter3d\"}], \"scattercarpet\": [{\"marker\": {\"colorbar\": {\"outlinewidth\": 0, \"ticks\": \"\"}}, \"type\": \"scattercarpet\"}], \"scattergeo\": [{\"marker\": {\"colorbar\": {\"outlinewidth\": 0, \"ticks\": \"\"}}, \"type\": \"scattergeo\"}], \"scattergl\": [{\"marker\": {\"colorbar\": {\"outlinewidth\": 0, \"ticks\": \"\"}}, \"type\": \"scattergl\"}], \"scattermapbox\": [{\"marker\": {\"colorbar\": {\"outlinewidth\": 0, \"ticks\": \"\"}}, \"type\": \"scattermapbox\"}], \"scatterpolar\": [{\"marker\": {\"colorbar\": {\"outlinewidth\": 0, \"ticks\": \"\"}}, \"type\": \"scatterpolar\"}], \"scatterpolargl\": [{\"marker\": {\"colorbar\": {\"outlinewidth\": 0, \"ticks\": \"\"}}, \"type\": \"scatterpolargl\"}], \"scatterternary\": [{\"marker\": {\"colorbar\": {\"outlinewidth\": 0, \"ticks\": \"\"}}, \"type\": \"scatterternary\"}], \"surface\": [{\"colorbar\": {\"outlinewidth\": 0, \"ticks\": \"\"}, \"colorscale\": [[0.0, \"#0d0887\"], [0.1111111111111111, \"#46039f\"], [0.2222222222222222, \"#7201a8\"], [0.3333333333333333, \"#9c179e\"], [0.4444444444444444, \"#bd3786\"], [0.5555555555555556, \"#d8576b\"], [0.6666666666666666, \"#ed7953\"], [0.7777777777777778, \"#fb9f3a\"], [0.8888888888888888, \"#fdca26\"], [1.0, \"#f0f921\"]], \"type\": \"surface\"}], \"table\": [{\"cells\": {\"fill\": {\"color\": \"#EBF0F8\"}, \"line\": {\"color\": \"white\"}}, \"header\": {\"fill\": {\"color\": \"#C8D4E3\"}, \"line\": {\"color\": \"white\"}}, \"type\": \"table\"}]}, \"layout\": {\"annotationdefaults\": {\"arrowcolor\": \"#2a3f5f\", \"arrowhead\": 0, \"arrowwidth\": 1}, \"coloraxis\": {\"colorbar\": {\"outlinewidth\": 0, \"ticks\": \"\"}}, \"colorscale\": {\"diverging\": [[0, \"#8e0152\"], [0.1, \"#c51b7d\"], [0.2, \"#de77ae\"], [0.3, \"#f1b6da\"], [0.4, \"#fde0ef\"], [0.5, \"#f7f7f7\"], [0.6, \"#e6f5d0\"], [0.7, \"#b8e186\"], [0.8, \"#7fbc41\"], [0.9, \"#4d9221\"], [1, \"#276419\"]], \"sequential\": [[0.0, \"#0d0887\"], [0.1111111111111111, \"#46039f\"], [0.2222222222222222, \"#7201a8\"], [0.3333333333333333, \"#9c179e\"], [0.4444444444444444, \"#bd3786\"], [0.5555555555555556, \"#d8576b\"], [0.6666666666666666, \"#ed7953\"], [0.7777777777777778, \"#fb9f3a\"], [0.8888888888888888, \"#fdca26\"], [1.0, \"#f0f921\"]], \"sequentialminus\": [[0.0, \"#0d0887\"], [0.1111111111111111, \"#46039f\"], [0.2222222222222222, \"#7201a8\"], [0.3333333333333333, \"#9c179e\"], [0.4444444444444444, \"#bd3786\"], [0.5555555555555556, \"#d8576b\"], [0.6666666666666666, \"#ed7953\"], [0.7777777777777778, \"#fb9f3a\"], [0.8888888888888888, \"#fdca26\"], [1.0, \"#f0f921\"]]}, \"colorway\": [\"#636efa\", \"#EF553B\", \"#00cc96\", \"#ab63fa\", \"#FFA15A\", \"#19d3f3\", \"#FF6692\", \"#B6E880\", \"#FF97FF\", \"#FECB52\"], \"font\": {\"color\": \"#2a3f5f\"}, \"geo\": {\"bgcolor\": \"white\", \"lakecolor\": \"white\", \"landcolor\": \"#E5ECF6\", \"showlakes\": true, \"showland\": true, \"subunitcolor\": \"white\"}, \"hoverlabel\": {\"align\": \"left\"}, \"hovermode\": \"closest\", \"mapbox\": {\"style\": \"light\"}, \"paper_bgcolor\": \"white\", \"plot_bgcolor\": \"#E5ECF6\", \"polar\": {\"angularaxis\": {\"gridcolor\": \"white\", \"linecolor\": \"white\", \"ticks\": \"\"}, \"bgcolor\": \"#E5ECF6\", \"radialaxis\": {\"gridcolor\": \"white\", \"linecolor\": \"white\", \"ticks\": \"\"}}, \"scene\": {\"xaxis\": {\"backgroundcolor\": \"#E5ECF6\", \"gridcolor\": \"white\", \"gridwidth\": 2, \"linecolor\": \"white\", \"showbackground\": true, \"ticks\": \"\", \"zerolinecolor\": \"white\"}, \"yaxis\": {\"backgroundcolor\": \"#E5ECF6\", \"gridcolor\": \"white\", \"gridwidth\": 2, \"linecolor\": \"white\", \"showbackground\": true, \"ticks\": \"\", \"zerolinecolor\": \"white\"}, \"zaxis\": {\"backgroundcolor\": \"#E5ECF6\", \"gridcolor\": \"white\", \"gridwidth\": 2, \"linecolor\": \"white\", \"showbackground\": true, \"ticks\": \"\", \"zerolinecolor\": \"white\"}}, \"shapedefaults\": {\"line\": {\"color\": \"#2a3f5f\"}}, \"ternary\": {\"aaxis\": {\"gridcolor\": \"white\", \"linecolor\": \"white\", \"ticks\": \"\"}, \"baxis\": {\"gridcolor\": \"white\", \"linecolor\": \"white\", \"ticks\": \"\"}, \"bgcolor\": \"#E5ECF6\", \"caxis\": {\"gridcolor\": \"white\", \"linecolor\": \"white\", \"ticks\": \"\"}}, \"title\": {\"x\": 0.05}, \"xaxis\": {\"automargin\": true, \"gridcolor\": \"white\", \"linecolor\": \"white\", \"ticks\": \"\", \"title\": {\"standoff\": 15}, \"zerolinecolor\": \"white\", \"zerolinewidth\": 2}, \"yaxis\": {\"automargin\": true, \"gridcolor\": \"white\", \"linecolor\": \"white\", \"ticks\": \"\", \"title\": {\"standoff\": 15}, \"zerolinecolor\": \"white\", \"zerolinewidth\": 2}}}},                        {\"responsive\": true}                    ).then(function(){\n",
       "                            \n",
       "var gd = document.getElementById('ad3bee47-03d7-4c2b-b1ab-969f366f314e');\n",
       "var x = new MutationObserver(function (mutations, observer) {{\n",
       "        var display = window.getComputedStyle(gd).display;\n",
       "        if (!display || display === 'none') {{\n",
       "            console.log([gd, 'removed!']);\n",
       "            Plotly.purge(gd);\n",
       "            observer.disconnect();\n",
       "        }}\n",
       "}});\n",
       "\n",
       "// Listen for the removal of the full notebook cells\n",
       "var notebookContainer = gd.closest('#notebook-container');\n",
       "if (notebookContainer) {{\n",
       "    x.observe(notebookContainer, {childList: true});\n",
       "}}\n",
       "\n",
       "// Listen for the clearing of the current output cell\n",
       "var outputEl = gd.closest('.output');\n",
       "if (outputEl) {{\n",
       "    x.observe(outputEl, {childList: true});\n",
       "}}\n",
       "\n",
       "                        })                };                });            </script>        </div>"
      ]
     },
     "metadata": {},
     "output_type": "display_data"
    }
   ],
   "source": [
    "# 3D scatter plot of Attack, Sp. Atk, and HP\n",
    "\n",
    "df_3d_ash = df_non_legendary[[\"Name\",\"Type 1\",\"HP\",\"Attack\",\"Sp. Atk\"]]\n",
    "ash_3d_plot = px.scatter_3d(\n",
    "    df_3d_ash, \n",
    "    x='Attack', \n",
    "    y='Sp. Atk', \n",
    "    z='HP',\n",
    "    color='Type 1',\n",
    "    hover_name='Name',\n",
    "    size=[1 for s in df_non_legendary[\"Name\"].tolist()],\n",
    "    size_max=5)\n",
    "ash_3d_plot.show()"
   ]
  },
  {
   "cell_type": "code",
   "execution_count": 140,
   "metadata": {},
   "outputs": [
    {
     "data": {
      "application/vnd.plotly.v1+json": {
       "config": {
        "plotlyServerURL": "https://plot.ly"
       },
       "data": [
        {
         "hovertemplate": "<b>%{hovertext}</b><br><br>Type 1=Grass<br>Attack=%{x}<br>Sp. Atk=%{y}<br>Speed=%{z}<br>HP=%{marker.size}<extra></extra>",
         "hovertext": [
          "Bulbasaur",
          "Ivysaur",
          "Venusaur",
          "VenusaurMega Venusaur",
          "Oddish",
          "Gloom",
          "Vileplume",
          "Bellsprout",
          "Weepinbell",
          "Victreebel",
          "Exeggcute",
          "Exeggutor",
          "Tangela",
          "Chikorita",
          "Bayleef",
          "Meganium",
          "Bellossom",
          "Hoppip",
          "Skiploom",
          "Jumpluff",
          "Sunkern",
          "Sunflora",
          "Treecko",
          "Grovyle",
          "Sceptile",
          "SceptileMega Sceptile",
          "Seedot",
          "Nuzleaf",
          "Shiftry",
          "Shroomish",
          "Breloom",
          "Roselia",
          "Cacnea",
          "Cacturne",
          "Tropius",
          "Turtwig",
          "Grotle",
          "Torterra",
          "Budew",
          "Roserade",
          "Cherubi",
          "Cherrim",
          "Carnivine",
          "Snover",
          "Abomasnow",
          "AbomasnowMega Abomasnow",
          "Tangrowth",
          "Leafeon",
          "Snivy",
          "Servine",
          "Serperior",
          "Pansage",
          "Simisage",
          "Cottonee",
          "Whimsicott",
          "Petilil",
          "Lilligant",
          "Maractus",
          "Foongus",
          "Amoonguss",
          "Ferroseed",
          "Ferrothorn",
          "Chespin",
          "Quilladin",
          "Chesnaught",
          "Skiddo",
          "Gogoat"
         ],
         "legendgroup": "Grass",
         "marker": {
          "color": "green",
          "size": [
           45,
           60,
           80,
           80,
           45,
           60,
           75,
           50,
           65,
           80,
           60,
           95,
           65,
           45,
           60,
           80,
           75,
           35,
           55,
           75,
           30,
           75,
           40,
           50,
           70,
           70,
           40,
           70,
           90,
           60,
           60,
           50,
           50,
           70,
           99,
           55,
           75,
           95,
           40,
           60,
           45,
           70,
           74,
           60,
           90,
           90,
           100,
           65,
           45,
           60,
           75,
           50,
           75,
           40,
           60,
           45,
           70,
           75,
           69,
           114,
           44,
           74,
           56,
           61,
           88,
           66,
           123
          ],
          "sizemode": "area",
          "sizeref": 1.1333333333333333,
          "symbol": "circle"
         },
         "mode": "markers",
         "name": "Grass",
         "scene": "scene",
         "showlegend": true,
         "type": "scatter3d",
         "x": [
          49,
          62,
          82,
          100,
          50,
          65,
          80,
          75,
          90,
          105,
          40,
          95,
          55,
          49,
          62,
          82,
          80,
          35,
          45,
          55,
          30,
          75,
          45,
          65,
          85,
          110,
          40,
          70,
          100,
          40,
          130,
          60,
          85,
          115,
          68,
          68,
          89,
          109,
          30,
          70,
          35,
          60,
          100,
          62,
          92,
          132,
          100,
          110,
          45,
          60,
          75,
          53,
          98,
          27,
          67,
          35,
          60,
          86,
          55,
          85,
          50,
          94,
          61,
          78,
          107,
          65,
          100
         ],
         "y": [
          65,
          80,
          100,
          122,
          75,
          85,
          110,
          70,
          85,
          100,
          60,
          125,
          100,
          49,
          63,
          83,
          90,
          35,
          45,
          55,
          30,
          105,
          65,
          85,
          105,
          145,
          30,
          60,
          90,
          40,
          60,
          100,
          85,
          115,
          72,
          45,
          55,
          75,
          50,
          125,
          62,
          87,
          90,
          62,
          92,
          132,
          110,
          60,
          45,
          60,
          75,
          53,
          98,
          37,
          77,
          70,
          110,
          106,
          55,
          85,
          24,
          54,
          48,
          56,
          74,
          62,
          97
         ],
         "z": [
          45,
          60,
          80,
          80,
          30,
          40,
          50,
          40,
          55,
          70,
          40,
          55,
          60,
          45,
          60,
          80,
          50,
          50,
          80,
          110,
          30,
          30,
          70,
          95,
          120,
          145,
          30,
          60,
          80,
          35,
          70,
          65,
          35,
          55,
          51,
          31,
          36,
          56,
          55,
          90,
          35,
          85,
          46,
          40,
          60,
          30,
          50,
          95,
          63,
          83,
          113,
          64,
          101,
          66,
          116,
          30,
          90,
          60,
          15,
          30,
          10,
          20,
          38,
          57,
          64,
          52,
          68
         ]
        },
        {
         "hovertemplate": "<b>%{hovertext}</b><br><br>Type 1=Fire<br>Attack=%{x}<br>Sp. Atk=%{y}<br>Speed=%{z}<br>HP=%{marker.size}<extra></extra>",
         "hovertext": [
          "Charmander",
          "Charmeleon",
          "Charizard",
          "CharizardMega Charizard X",
          "CharizardMega Charizard Y",
          "Vulpix",
          "Ninetales",
          "Growlithe",
          "Arcanine",
          "Ponyta",
          "Rapidash",
          "Magmar",
          "Flareon",
          "Cyndaquil",
          "Quilava",
          "Typhlosion",
          "Slugma",
          "Magcargo",
          "Magby",
          "Torchic",
          "Combusken",
          "Blaziken",
          "BlazikenMega Blaziken",
          "Numel",
          "Camerupt",
          "CameruptMega Camerupt",
          "Torkoal",
          "Chimchar",
          "Monferno",
          "Infernape",
          "Magmortar",
          "Tepig",
          "Pignite",
          "Emboar",
          "Pansear",
          "Simisear",
          "Darumaka",
          "DarmanitanStandard Mode",
          "DarmanitanZen Mode",
          "Heatmor",
          "Fennekin",
          "Braixen",
          "Delphox",
          "Fletchinder",
          "Talonflame",
          "Litleo",
          "Pyroar"
         ],
         "legendgroup": "Fire",
         "marker": {
          "color": "red",
          "size": [
           39,
           58,
           78,
           78,
           78,
           38,
           73,
           55,
           90,
           50,
           65,
           65,
           65,
           39,
           58,
           78,
           40,
           50,
           45,
           45,
           60,
           80,
           80,
           60,
           70,
           70,
           70,
           44,
           64,
           76,
           75,
           65,
           90,
           110,
           50,
           75,
           70,
           105,
           105,
           85,
           40,
           59,
           75,
           62,
           78,
           62,
           86
          ],
          "sizemode": "area",
          "sizeref": 1.1333333333333333,
          "symbol": "circle"
         },
         "mode": "markers",
         "name": "Fire",
         "scene": "scene",
         "showlegend": true,
         "type": "scatter3d",
         "x": [
          52,
          64,
          84,
          130,
          104,
          41,
          76,
          70,
          110,
          85,
          100,
          95,
          130,
          52,
          64,
          84,
          40,
          50,
          75,
          60,
          85,
          120,
          160,
          60,
          100,
          120,
          85,
          58,
          78,
          104,
          95,
          63,
          93,
          123,
          53,
          98,
          90,
          140,
          30,
          97,
          45,
          59,
          69,
          73,
          81,
          50,
          68
         ],
         "y": [
          60,
          80,
          109,
          130,
          159,
          50,
          81,
          70,
          100,
          65,
          80,
          100,
          95,
          60,
          80,
          109,
          70,
          80,
          70,
          70,
          85,
          110,
          130,
          65,
          105,
          145,
          85,
          58,
          78,
          104,
          125,
          45,
          70,
          100,
          53,
          98,
          15,
          30,
          140,
          105,
          62,
          90,
          114,
          56,
          74,
          73,
          109
         ],
         "z": [
          65,
          80,
          100,
          100,
          100,
          65,
          100,
          60,
          95,
          90,
          105,
          93,
          65,
          65,
          80,
          100,
          20,
          30,
          83,
          45,
          55,
          80,
          100,
          35,
          40,
          20,
          20,
          61,
          81,
          108,
          83,
          45,
          55,
          65,
          64,
          101,
          50,
          95,
          55,
          65,
          60,
          73,
          104,
          84,
          126,
          72,
          106
         ]
        },
        {
         "hovertemplate": "<b>%{hovertext}</b><br><br>Type 1=Water<br>Attack=%{x}<br>Sp. Atk=%{y}<br>Speed=%{z}<br>HP=%{marker.size}<extra></extra>",
         "hovertext": [
          "Squirtle",
          "Wartortle",
          "Blastoise",
          "BlastoiseMega Blastoise",
          "Psyduck",
          "Golduck",
          "Poliwag",
          "Poliwhirl",
          "Poliwrath",
          "Tentacool",
          "Tentacruel",
          "Slowpoke",
          "Slowbro",
          "SlowbroMega Slowbro",
          "Seel",
          "Dewgong",
          "Shellder",
          "Cloyster",
          "Krabby",
          "Kingler",
          "Horsea",
          "Seadra",
          "Goldeen",
          "Seaking",
          "Staryu",
          "Starmie",
          "Magikarp",
          "Gyarados",
          "GyaradosMega Gyarados",
          "Lapras",
          "Vaporeon",
          "Totodile",
          "Croconaw",
          "Feraligatr",
          "Chinchou",
          "Lanturn",
          "Marill",
          "Azumarill",
          "Politoed",
          "Wooper",
          "Quagsire",
          "Slowking",
          "Qwilfish",
          "Corsola",
          "Remoraid",
          "Octillery",
          "Mantine",
          "Kingdra",
          "Mudkip",
          "Marshtomp",
          "Swampert",
          "SwampertMega Swampert",
          "Lotad",
          "Lombre",
          "Ludicolo",
          "Wingull",
          "Pelipper",
          "Carvanha",
          "Sharpedo",
          "SharpedoMega Sharpedo",
          "Wailmer",
          "Wailord",
          "Barboach",
          "Whiscash",
          "Corphish",
          "Crawdaunt",
          "Feebas",
          "Milotic",
          "Clamperl",
          "Huntail",
          "Gorebyss",
          "Relicanth",
          "Luvdisc",
          "Piplup",
          "Prinplup",
          "Empoleon",
          "Buizel",
          "Floatzel",
          "Shellos",
          "Gastrodon",
          "Finneon",
          "Lumineon",
          "Mantyke",
          "Phione",
          "Manaphy",
          "Oshawott",
          "Dewott",
          "Samurott",
          "Panpour",
          "Simipour",
          "Tympole",
          "Palpitoad",
          "Seismitoad",
          "Basculin",
          "Tirtouga",
          "Carracosta",
          "Ducklett",
          "Swanna",
          "Frillish",
          "Jellicent",
          "Alomomola",
          "KeldeoOrdinary Forme",
          "KeldeoResolute Forme",
          "Froakie",
          "Frogadier",
          "Greninja",
          "Clauncher",
          "Clawitzer"
         ],
         "legendgroup": "Water",
         "marker": {
          "color": "blue",
          "size": [
           44,
           59,
           79,
           79,
           50,
           80,
           40,
           65,
           90,
           40,
           80,
           90,
           95,
           95,
           65,
           90,
           30,
           50,
           30,
           55,
           30,
           55,
           45,
           80,
           30,
           60,
           20,
           95,
           95,
           130,
           130,
           50,
           65,
           85,
           75,
           125,
           70,
           100,
           90,
           55,
           95,
           95,
           65,
           55,
           35,
           75,
           65,
           75,
           50,
           70,
           100,
           100,
           40,
           60,
           80,
           40,
           60,
           45,
           70,
           70,
           130,
           170,
           50,
           110,
           43,
           63,
           20,
           95,
           35,
           55,
           55,
           100,
           43,
           53,
           64,
           84,
           55,
           85,
           76,
           111,
           49,
           69,
           45,
           80,
           100,
           55,
           75,
           95,
           50,
           75,
           50,
           75,
           105,
           70,
           54,
           74,
           62,
           75,
           55,
           100,
           165,
           91,
           91,
           41,
           54,
           72,
           50,
           71
          ],
          "sizemode": "area",
          "sizeref": 1.1333333333333333,
          "symbol": "circle"
         },
         "mode": "markers",
         "name": "Water",
         "scene": "scene",
         "showlegend": true,
         "type": "scatter3d",
         "x": [
          48,
          63,
          83,
          103,
          52,
          82,
          50,
          65,
          95,
          40,
          70,
          65,
          75,
          75,
          45,
          70,
          65,
          95,
          105,
          130,
          40,
          65,
          67,
          92,
          45,
          75,
          10,
          125,
          155,
          85,
          65,
          65,
          80,
          105,
          38,
          58,
          20,
          50,
          75,
          45,
          85,
          75,
          95,
          55,
          65,
          105,
          40,
          95,
          70,
          85,
          110,
          150,
          30,
          50,
          70,
          30,
          50,
          90,
          120,
          140,
          70,
          90,
          48,
          78,
          80,
          120,
          15,
          60,
          64,
          104,
          84,
          90,
          30,
          51,
          66,
          86,
          65,
          105,
          48,
          83,
          49,
          69,
          20,
          80,
          100,
          55,
          75,
          100,
          53,
          98,
          50,
          65,
          95,
          92,
          78,
          108,
          44,
          87,
          40,
          60,
          75,
          72,
          72,
          56,
          63,
          95,
          53,
          73
         ],
         "y": [
          50,
          65,
          85,
          135,
          65,
          95,
          40,
          50,
          70,
          50,
          80,
          40,
          100,
          130,
          45,
          70,
          45,
          85,
          25,
          50,
          70,
          95,
          35,
          65,
          70,
          100,
          15,
          60,
          70,
          85,
          110,
          44,
          59,
          79,
          56,
          76,
          20,
          60,
          90,
          25,
          65,
          100,
          55,
          65,
          65,
          105,
          80,
          95,
          50,
          60,
          85,
          95,
          40,
          60,
          90,
          55,
          85,
          65,
          95,
          110,
          70,
          90,
          46,
          76,
          50,
          90,
          10,
          100,
          74,
          94,
          114,
          45,
          40,
          61,
          81,
          111,
          60,
          85,
          57,
          92,
          49,
          69,
          60,
          80,
          100,
          63,
          83,
          108,
          53,
          98,
          50,
          65,
          85,
          80,
          53,
          83,
          44,
          87,
          65,
          85,
          40,
          129,
          129,
          62,
          83,
          103,
          58,
          120
         ],
         "z": [
          43,
          58,
          78,
          78,
          55,
          85,
          90,
          90,
          70,
          70,
          100,
          15,
          30,
          30,
          45,
          70,
          40,
          70,
          50,
          75,
          60,
          85,
          63,
          68,
          85,
          115,
          80,
          81,
          81,
          60,
          65,
          43,
          58,
          78,
          67,
          67,
          40,
          50,
          70,
          15,
          35,
          30,
          85,
          35,
          65,
          45,
          70,
          85,
          40,
          50,
          60,
          70,
          30,
          50,
          70,
          85,
          65,
          65,
          95,
          105,
          60,
          60,
          60,
          60,
          35,
          55,
          80,
          81,
          32,
          52,
          52,
          55,
          97,
          40,
          50,
          60,
          85,
          115,
          34,
          39,
          66,
          91,
          50,
          80,
          100,
          45,
          60,
          70,
          64,
          101,
          64,
          69,
          74,
          98,
          22,
          32,
          55,
          98,
          40,
          60,
          65,
          108,
          108,
          71,
          97,
          122,
          44,
          59
         ]
        },
        {
         "hovertemplate": "<b>%{hovertext}</b><br><br>Type 1=Bug<br>Attack=%{x}<br>Sp. Atk=%{y}<br>Speed=%{z}<br>HP=%{marker.size}<extra></extra>",
         "hovertext": [
          "Caterpie",
          "Metapod",
          "Butterfree",
          "Weedle",
          "Kakuna",
          "Beedrill",
          "BeedrillMega Beedrill",
          "Paras",
          "Parasect",
          "Venonat",
          "Venomoth",
          "Scyther",
          "Pinsir",
          "PinsirMega Pinsir",
          "Ledyba",
          "Ledian",
          "Spinarak",
          "Ariados",
          "Yanma",
          "Pineco",
          "Forretress",
          "Scizor",
          "ScizorMega Scizor",
          "Shuckle",
          "Heracross",
          "HeracrossMega Heracross",
          "Wurmple",
          "Silcoon",
          "Beautifly",
          "Cascoon",
          "Dustox",
          "Surskit",
          "Masquerain",
          "Nincada",
          "Ninjask",
          "Shedinja",
          "Volbeat",
          "Illumise",
          "Kricketot",
          "Kricketune",
          "Burmy",
          "WormadamPlant Cloak",
          "WormadamSandy Cloak",
          "WormadamTrash Cloak",
          "Mothim",
          "Combee",
          "Vespiquen",
          "Yanmega",
          "Sewaddle",
          "Swadloon",
          "Leavanny",
          "Venipede",
          "Whirlipede",
          "Scolipede",
          "Dwebble",
          "Crustle",
          "Karrablast",
          "Escavalier",
          "Joltik",
          "Galvantula",
          "Shelmet",
          "Accelgor",
          "Durant",
          "Larvesta",
          "Volcarona",
          "Genesect",
          "Scatterbug",
          "Spewpa",
          "Vivillon"
         ],
         "legendgroup": "Bug",
         "marker": {
          "color": "#DEB887",
          "size": [
           45,
           50,
           60,
           40,
           45,
           65,
           65,
           35,
           60,
           60,
           70,
           70,
           65,
           65,
           40,
           55,
           40,
           70,
           65,
           50,
           75,
           70,
           70,
           20,
           80,
           80,
           45,
           50,
           60,
           50,
           60,
           40,
           70,
           31,
           61,
           1,
           65,
           65,
           37,
           77,
           40,
           60,
           60,
           60,
           70,
           30,
           70,
           86,
           45,
           55,
           75,
           30,
           40,
           60,
           50,
           70,
           50,
           70,
           50,
           70,
           50,
           80,
           58,
           55,
           85,
           71,
           38,
           45,
           80
          ],
          "sizemode": "area",
          "sizeref": 1.1333333333333333,
          "symbol": "circle"
         },
         "mode": "markers",
         "name": "Bug",
         "scene": "scene",
         "showlegend": true,
         "type": "scatter3d",
         "x": [
          30,
          20,
          45,
          35,
          25,
          90,
          150,
          70,
          95,
          55,
          65,
          110,
          125,
          155,
          20,
          35,
          60,
          90,
          65,
          65,
          90,
          130,
          150,
          10,
          125,
          185,
          45,
          35,
          70,
          35,
          50,
          30,
          60,
          45,
          90,
          90,
          73,
          47,
          25,
          85,
          29,
          59,
          79,
          69,
          94,
          30,
          80,
          76,
          53,
          63,
          103,
          45,
          55,
          100,
          65,
          95,
          75,
          135,
          47,
          77,
          40,
          70,
          109,
          85,
          60,
          120,
          35,
          22,
          52
         ],
         "y": [
          20,
          25,
          90,
          20,
          25,
          45,
          15,
          45,
          60,
          40,
          90,
          55,
          55,
          65,
          40,
          55,
          40,
          60,
          75,
          35,
          60,
          55,
          65,
          10,
          40,
          40,
          20,
          25,
          100,
          25,
          50,
          50,
          80,
          30,
          50,
          30,
          47,
          73,
          25,
          55,
          29,
          79,
          59,
          69,
          94,
          30,
          80,
          116,
          40,
          50,
          70,
          30,
          40,
          55,
          35,
          65,
          40,
          60,
          57,
          97,
          40,
          100,
          48,
          50,
          135,
          120,
          27,
          27,
          90
         ],
         "z": [
          45,
          30,
          70,
          50,
          35,
          75,
          145,
          25,
          30,
          45,
          90,
          105,
          85,
          105,
          55,
          85,
          30,
          40,
          95,
          15,
          40,
          65,
          75,
          5,
          85,
          75,
          20,
          15,
          65,
          15,
          65,
          65,
          60,
          40,
          160,
          40,
          85,
          85,
          25,
          65,
          36,
          36,
          36,
          36,
          66,
          70,
          40,
          95,
          42,
          42,
          92,
          57,
          47,
          112,
          55,
          45,
          60,
          20,
          65,
          108,
          25,
          145,
          109,
          60,
          100,
          99,
          35,
          29,
          89
         ]
        },
        {
         "hovertemplate": "<b>%{hovertext}</b><br><br>Type 1=Normal<br>Attack=%{x}<br>Sp. Atk=%{y}<br>Speed=%{z}<br>HP=%{marker.size}<extra></extra>",
         "hovertext": [
          "Pidgey",
          "Pidgeotto",
          "Pidgeot",
          "PidgeotMega Pidgeot",
          "Rattata",
          "Raticate",
          "Spearow",
          "Fearow",
          "Jigglypuff",
          "Wigglytuff",
          "Meowth",
          "Persian",
          "Farfetch'd",
          "Doduo",
          "Dodrio",
          "Lickitung",
          "Chansey",
          "Kangaskhan",
          "KangaskhanMega Kangaskhan",
          "Tauros",
          "Ditto",
          "Eevee",
          "Porygon",
          "Snorlax",
          "Sentret",
          "Furret",
          "Hoothoot",
          "Noctowl",
          "Igglybuff",
          "Aipom",
          "Girafarig",
          "Dunsparce",
          "Teddiursa",
          "Ursaring",
          "Porygon2",
          "Stantler",
          "Smeargle",
          "Miltank",
          "Blissey",
          "Zigzagoon",
          "Linoone",
          "Taillow",
          "Swellow",
          "Slakoth",
          "Vigoroth",
          "Slaking",
          "Whismur",
          "Loudred",
          "Exploud",
          "Azurill",
          "Skitty",
          "Delcatty",
          "Spinda",
          "Swablu",
          "Zangoose",
          "Castform",
          "Kecleon",
          "Starly",
          "Staravia",
          "Staraptor",
          "Bidoof",
          "Bibarel",
          "Ambipom",
          "Buneary",
          "Lopunny",
          "LopunnyMega Lopunny",
          "Glameow",
          "Purugly",
          "Happiny",
          "Chatot",
          "Munchlax",
          "Lickilicky",
          "Porygon-Z",
          "Patrat",
          "Watchog",
          "Lillipup",
          "Herdier",
          "Stoutland",
          "Pidove",
          "Tranquill",
          "Unfezant",
          "Audino",
          "AudinoMega Audino",
          "Minccino",
          "Cinccino",
          "Deerling",
          "Sawsbuck",
          "Bouffalant",
          "Rufflet",
          "Braviary",
          "MeloettaAria Forme",
          "MeloettaPirouette Forme",
          "Bunnelby",
          "Diggersby",
          "Fletchling",
          "Furfrou"
         ],
         "legendgroup": "Normal",
         "marker": {
          "color": "grey",
          "size": [
           40,
           63,
           83,
           83,
           30,
           55,
           40,
           65,
           115,
           140,
           40,
           65,
           52,
           35,
           60,
           90,
           250,
           105,
           105,
           75,
           48,
           55,
           65,
           160,
           35,
           85,
           60,
           100,
           90,
           55,
           70,
           100,
           60,
           90,
           85,
           73,
           55,
           95,
           255,
           38,
           78,
           40,
           60,
           60,
           80,
           150,
           64,
           84,
           104,
           50,
           50,
           70,
           60,
           45,
           73,
           70,
           60,
           40,
           55,
           85,
           59,
           79,
           75,
           55,
           65,
           65,
           49,
           71,
           100,
           76,
           135,
           110,
           85,
           45,
           60,
           45,
           65,
           85,
           50,
           62,
           80,
           103,
           103,
           55,
           75,
           60,
           80,
           95,
           70,
           100,
           100,
           100,
           38,
           85,
           45,
           75
          ],
          "sizemode": "area",
          "sizeref": 1.1333333333333333,
          "symbol": "circle"
         },
         "mode": "markers",
         "name": "Normal",
         "scene": "scene",
         "showlegend": true,
         "type": "scatter3d",
         "x": [
          45,
          60,
          80,
          80,
          56,
          81,
          60,
          90,
          45,
          70,
          45,
          70,
          65,
          85,
          110,
          55,
          5,
          95,
          125,
          100,
          48,
          55,
          60,
          110,
          46,
          76,
          30,
          50,
          30,
          70,
          80,
          70,
          80,
          130,
          80,
          95,
          20,
          80,
          10,
          30,
          70,
          55,
          85,
          60,
          80,
          160,
          51,
          71,
          91,
          20,
          45,
          65,
          60,
          40,
          115,
          70,
          90,
          55,
          75,
          120,
          45,
          85,
          100,
          66,
          76,
          136,
          55,
          82,
          5,
          65,
          85,
          85,
          80,
          55,
          85,
          60,
          80,
          110,
          55,
          77,
          115,
          60,
          60,
          50,
          95,
          60,
          100,
          110,
          83,
          123,
          77,
          128,
          36,
          56,
          50,
          80
         ],
         "y": [
          35,
          50,
          70,
          135,
          25,
          50,
          31,
          61,
          45,
          85,
          40,
          65,
          58,
          35,
          60,
          60,
          35,
          40,
          60,
          40,
          48,
          45,
          85,
          65,
          35,
          45,
          36,
          76,
          40,
          40,
          90,
          65,
          50,
          75,
          105,
          85,
          20,
          40,
          75,
          30,
          50,
          30,
          50,
          35,
          55,
          95,
          51,
          71,
          91,
          20,
          35,
          55,
          60,
          40,
          60,
          70,
          60,
          30,
          40,
          50,
          35,
          55,
          60,
          44,
          54,
          54,
          42,
          64,
          15,
          92,
          40,
          80,
          135,
          35,
          60,
          25,
          35,
          45,
          36,
          50,
          65,
          60,
          80,
          40,
          65,
          40,
          60,
          40,
          37,
          57,
          128,
          77,
          32,
          50,
          40,
          65
         ],
         "z": [
          56,
          71,
          101,
          121,
          72,
          97,
          70,
          100,
          20,
          45,
          90,
          115,
          60,
          75,
          100,
          30,
          50,
          90,
          100,
          110,
          48,
          55,
          40,
          30,
          20,
          90,
          50,
          70,
          15,
          85,
          85,
          45,
          40,
          55,
          60,
          85,
          75,
          100,
          55,
          60,
          100,
          85,
          125,
          30,
          90,
          100,
          28,
          48,
          68,
          20,
          50,
          70,
          60,
          50,
          90,
          70,
          40,
          60,
          80,
          100,
          31,
          71,
          115,
          85,
          105,
          135,
          85,
          112,
          30,
          91,
          5,
          50,
          90,
          42,
          77,
          55,
          60,
          80,
          43,
          65,
          93,
          50,
          50,
          75,
          115,
          75,
          95,
          55,
          60,
          80,
          90,
          128,
          57,
          78,
          62,
          102
         ]
        },
        {
         "hovertemplate": "<b>%{hovertext}</b><br><br>Type 1=Poison<br>Attack=%{x}<br>Sp. Atk=%{y}<br>Speed=%{z}<br>HP=%{marker.size}<extra></extra>",
         "hovertext": [
          "Ekans",
          "Arbok",
          "Nidoran♀",
          "Nidorina",
          "Nidoqueen",
          "Nidoran♂",
          "Nidorino",
          "Nidoking",
          "Zubat",
          "Golbat",
          "Grimer",
          "Muk",
          "Koffing",
          "Weezing",
          "Crobat",
          "Gulpin",
          "Swalot",
          "Seviper",
          "Stunky",
          "Skuntank",
          "Skorupi",
          "Drapion",
          "Croagunk",
          "Toxicroak",
          "Trubbish",
          "Garbodor",
          "Skrelp",
          "Dragalge"
         ],
         "legendgroup": "Poison",
         "marker": {
          "color": "#8B008B",
          "size": [
           35,
           60,
           55,
           70,
           90,
           46,
           61,
           81,
           40,
           75,
           80,
           105,
           40,
           65,
           85,
           70,
           100,
           73,
           63,
           103,
           40,
           70,
           48,
           83,
           50,
           80,
           50,
           65
          ],
          "sizemode": "area",
          "sizeref": 1.1333333333333333,
          "symbol": "circle"
         },
         "mode": "markers",
         "name": "Poison",
         "scene": "scene",
         "showlegend": true,
         "type": "scatter3d",
         "x": [
          60,
          85,
          47,
          62,
          92,
          57,
          72,
          102,
          45,
          80,
          80,
          105,
          65,
          90,
          90,
          43,
          73,
          100,
          63,
          93,
          50,
          90,
          61,
          106,
          50,
          95,
          60,
          75
         ],
         "y": [
          40,
          65,
          40,
          55,
          75,
          40,
          55,
          85,
          30,
          65,
          40,
          65,
          60,
          85,
          70,
          43,
          73,
          100,
          41,
          71,
          30,
          60,
          61,
          86,
          40,
          60,
          60,
          97
         ],
         "z": [
          55,
          80,
          41,
          56,
          76,
          50,
          65,
          85,
          55,
          90,
          25,
          50,
          35,
          60,
          130,
          40,
          55,
          65,
          74,
          84,
          65,
          95,
          50,
          85,
          65,
          75,
          30,
          44
         ]
        },
        {
         "hovertemplate": "<b>%{hovertext}</b><br><br>Type 1=Electric<br>Attack=%{x}<br>Sp. Atk=%{y}<br>Speed=%{z}<br>HP=%{marker.size}<extra></extra>",
         "hovertext": [
          "Pikachu",
          "Raichu",
          "Magnemite",
          "Magneton",
          "Voltorb",
          "Electrode",
          "Electabuzz",
          "Jolteon",
          "Pichu",
          "Mareep",
          "Flaaffy",
          "Ampharos",
          "AmpharosMega Ampharos",
          "Elekid",
          "Electrike",
          "Manectric",
          "ManectricMega Manectric",
          "Plusle",
          "Minun",
          "Shinx",
          "Luxio",
          "Luxray",
          "Pachirisu",
          "Magnezone",
          "Electivire",
          "Rotom",
          "RotomHeat Rotom",
          "RotomWash Rotom",
          "RotomFrost Rotom",
          "RotomFan Rotom",
          "RotomMow Rotom",
          "Blitzle",
          "Zebstrika",
          "Emolga",
          "Tynamo",
          "Eelektrik",
          "Eelektross",
          "Helioptile",
          "Heliolisk",
          "Dedenne"
         ],
         "legendgroup": "Electric",
         "marker": {
          "color": "gold",
          "size": [
           35,
           60,
           25,
           50,
           40,
           60,
           65,
           65,
           20,
           55,
           70,
           90,
           90,
           45,
           40,
           70,
           70,
           60,
           60,
           45,
           60,
           80,
           60,
           70,
           75,
           50,
           50,
           50,
           50,
           50,
           50,
           45,
           75,
           55,
           35,
           65,
           85,
           44,
           62,
           67
          ],
          "sizemode": "area",
          "sizeref": 1.1333333333333333,
          "symbol": "circle"
         },
         "mode": "markers",
         "name": "Electric",
         "scene": "scene",
         "showlegend": true,
         "type": "scatter3d",
         "x": [
          55,
          90,
          35,
          60,
          30,
          50,
          83,
          65,
          40,
          40,
          55,
          75,
          95,
          63,
          45,
          75,
          75,
          50,
          40,
          65,
          85,
          120,
          45,
          70,
          123,
          50,
          65,
          65,
          65,
          65,
          65,
          60,
          100,
          75,
          55,
          85,
          115,
          38,
          55,
          58
         ],
         "y": [
          50,
          90,
          95,
          120,
          55,
          80,
          95,
          110,
          35,
          65,
          80,
          115,
          165,
          65,
          65,
          105,
          135,
          85,
          75,
          40,
          60,
          95,
          45,
          130,
          95,
          95,
          105,
          105,
          105,
          105,
          105,
          50,
          80,
          75,
          45,
          75,
          105,
          61,
          109,
          81
         ],
         "z": [
          90,
          110,
          45,
          70,
          100,
          140,
          105,
          130,
          60,
          35,
          45,
          55,
          45,
          95,
          65,
          105,
          135,
          95,
          95,
          45,
          60,
          70,
          95,
          60,
          95,
          91,
          86,
          86,
          86,
          86,
          86,
          76,
          116,
          103,
          60,
          40,
          50,
          70,
          109,
          101
         ]
        },
        {
         "hovertemplate": "<b>%{hovertext}</b><br><br>Type 1=Ground<br>Attack=%{x}<br>Sp. Atk=%{y}<br>Speed=%{z}<br>HP=%{marker.size}<extra></extra>",
         "hovertext": [
          "Sandshrew",
          "Sandslash",
          "Diglett",
          "Dugtrio",
          "Cubone",
          "Marowak",
          "Rhyhorn",
          "Rhydon",
          "Gligar",
          "Phanpy",
          "Donphan",
          "Trapinch",
          "Vibrava",
          "Flygon",
          "Baltoy",
          "Claydol",
          "Hippopotas",
          "Hippowdon",
          "Rhyperior",
          "Gliscor",
          "Drilbur",
          "Excadrill",
          "Sandile",
          "Krokorok",
          "Krookodile",
          "Stunfisk",
          "Golett",
          "Golurk"
         ],
         "legendgroup": "Ground",
         "marker": {
          "color": "olive",
          "size": [
           50,
           75,
           10,
           35,
           50,
           60,
           80,
           105,
           65,
           90,
           90,
           45,
           50,
           80,
           40,
           60,
           68,
           108,
           115,
           75,
           60,
           110,
           50,
           60,
           95,
           109,
           59,
           89
          ],
          "sizemode": "area",
          "sizeref": 1.1333333333333333,
          "symbol": "circle"
         },
         "mode": "markers",
         "name": "Ground",
         "scene": "scene",
         "showlegend": true,
         "type": "scatter3d",
         "x": [
          75,
          100,
          55,
          80,
          50,
          80,
          85,
          130,
          75,
          60,
          120,
          100,
          70,
          100,
          40,
          70,
          72,
          112,
          140,
          95,
          85,
          135,
          72,
          82,
          117,
          66,
          74,
          124
         ],
         "y": [
          20,
          45,
          35,
          50,
          40,
          50,
          30,
          45,
          35,
          40,
          60,
          45,
          50,
          80,
          40,
          70,
          38,
          68,
          55,
          45,
          30,
          50,
          35,
          45,
          65,
          81,
          35,
          55
         ],
         "z": [
          40,
          65,
          95,
          120,
          35,
          45,
          25,
          40,
          85,
          40,
          50,
          10,
          70,
          100,
          55,
          75,
          32,
          47,
          40,
          95,
          68,
          88,
          65,
          74,
          92,
          32,
          35,
          55
         ]
        },
        {
         "hovertemplate": "<b>%{hovertext}</b><br><br>Type 1=Fairy<br>Attack=%{x}<br>Sp. Atk=%{y}<br>Speed=%{z}<br>HP=%{marker.size}<extra></extra>",
         "hovertext": [
          "Clefairy",
          "Clefable",
          "Cleffa",
          "Togepi",
          "Togetic",
          "Snubbull",
          "Granbull",
          "Togekiss",
          "Flabébé",
          "Floette",
          "Florges",
          "Spritzee",
          "Aromatisse",
          "Swirlix",
          "Slurpuff",
          "Sylveon"
         ],
         "legendgroup": "Fairy",
         "marker": {
          "color": "#C71585",
          "size": [
           70,
           95,
           50,
           35,
           55,
           60,
           90,
           85,
           44,
           54,
           78,
           78,
           101,
           62,
           82,
           95
          ],
          "sizemode": "area",
          "sizeref": 1.1333333333333333,
          "symbol": "circle"
         },
         "mode": "markers",
         "name": "Fairy",
         "scene": "scene",
         "showlegend": true,
         "type": "scatter3d",
         "x": [
          45,
          70,
          25,
          20,
          40,
          80,
          120,
          50,
          38,
          45,
          65,
          52,
          72,
          48,
          80,
          65
         ],
         "y": [
          60,
          95,
          45,
          40,
          80,
          40,
          60,
          120,
          61,
          75,
          112,
          63,
          99,
          59,
          85,
          110
         ],
         "z": [
          35,
          60,
          15,
          20,
          40,
          30,
          45,
          80,
          42,
          52,
          75,
          23,
          29,
          49,
          72,
          60
         ]
        },
        {
         "hovertemplate": "<b>%{hovertext}</b><br><br>Type 1=Fighting<br>Attack=%{x}<br>Sp. Atk=%{y}<br>Speed=%{z}<br>HP=%{marker.size}<extra></extra>",
         "hovertext": [
          "Mankey",
          "Primeape",
          "Machop",
          "Machoke",
          "Machamp",
          "Hitmonlee",
          "Hitmonchan",
          "Tyrogue",
          "Hitmontop",
          "Makuhita",
          "Hariyama",
          "Meditite",
          "Medicham",
          "MedichamMega Medicham",
          "Riolu",
          "Lucario",
          "LucarioMega Lucario",
          "Timburr",
          "Gurdurr",
          "Conkeldurr",
          "Throh",
          "Sawk",
          "Mienfoo",
          "Mienshao",
          "Pancham",
          "Pangoro",
          "Hawlucha"
         ],
         "legendgroup": "Fighting",
         "marker": {
          "color": "brown",
          "size": [
           40,
           65,
           70,
           80,
           90,
           50,
           50,
           35,
           50,
           72,
           144,
           30,
           60,
           60,
           40,
           70,
           70,
           75,
           85,
           105,
           120,
           75,
           45,
           65,
           67,
           95,
           78
          ],
          "sizemode": "area",
          "sizeref": 1.1333333333333333,
          "symbol": "circle"
         },
         "mode": "markers",
         "name": "Fighting",
         "scene": "scene",
         "showlegend": true,
         "type": "scatter3d",
         "x": [
          80,
          105,
          80,
          100,
          130,
          120,
          105,
          35,
          95,
          60,
          120,
          40,
          60,
          100,
          70,
          110,
          145,
          80,
          105,
          140,
          100,
          125,
          85,
          125,
          82,
          124,
          92
         ],
         "y": [
          35,
          60,
          35,
          50,
          65,
          35,
          35,
          35,
          35,
          20,
          40,
          40,
          60,
          80,
          35,
          115,
          140,
          25,
          40,
          55,
          30,
          30,
          55,
          95,
          46,
          69,
          74
         ],
         "z": [
          70,
          95,
          35,
          45,
          55,
          87,
          76,
          35,
          70,
          25,
          50,
          60,
          80,
          100,
          60,
          90,
          112,
          35,
          40,
          45,
          45,
          85,
          65,
          105,
          43,
          58,
          118
         ]
        },
        {
         "hovertemplate": "<b>%{hovertext}</b><br><br>Type 1=Psychic<br>Attack=%{x}<br>Sp. Atk=%{y}<br>Speed=%{z}<br>HP=%{marker.size}<extra></extra>",
         "hovertext": [
          "Abra",
          "Kadabra",
          "Alakazam",
          "AlakazamMega Alakazam",
          "Drowzee",
          "Hypno",
          "Mr. Mime",
          "Mew",
          "Natu",
          "Xatu",
          "Espeon",
          "Unown",
          "Wobbuffet",
          "Celebi",
          "Ralts",
          "Kirlia",
          "Gardevoir",
          "GardevoirMega Gardevoir",
          "Spoink",
          "Grumpig",
          "Chimecho",
          "Wynaut",
          "Chingling",
          "Mime Jr.",
          "Gallade",
          "GalladeMega Gallade",
          "Cresselia",
          "Munna",
          "Musharna",
          "Woobat",
          "Swoobat",
          "Sigilyph",
          "Gothita",
          "Gothorita",
          "Gothitelle",
          "Solosis",
          "Duosion",
          "Reuniclus",
          "Elgyem",
          "Beheeyem",
          "Espurr",
          "MeowsticMale",
          "MeowsticFemale"
         ],
         "legendgroup": "Psychic",
         "marker": {
          "color": "crimson",
          "size": [
           25,
           40,
           55,
           55,
           60,
           85,
           40,
           100,
           40,
           65,
           65,
           48,
           190,
           100,
           28,
           38,
           68,
           68,
           60,
           80,
           65,
           95,
           45,
           20,
           68,
           68,
           120,
           76,
           116,
           55,
           67,
           72,
           45,
           60,
           70,
           45,
           65,
           110,
           55,
           75,
           62,
           74,
           74
          ],
          "sizemode": "area",
          "sizeref": 1.1333333333333333,
          "symbol": "circle"
         },
         "mode": "markers",
         "name": "Psychic",
         "scene": "scene",
         "showlegend": true,
         "type": "scatter3d",
         "x": [
          20,
          35,
          50,
          50,
          48,
          73,
          45,
          100,
          50,
          75,
          65,
          72,
          33,
          100,
          25,
          35,
          65,
          85,
          25,
          45,
          50,
          23,
          30,
          25,
          125,
          165,
          70,
          25,
          55,
          45,
          57,
          58,
          30,
          45,
          55,
          30,
          40,
          65,
          55,
          75,
          48,
          48,
          48
         ],
         "y": [
          105,
          120,
          135,
          175,
          43,
          73,
          100,
          100,
          70,
          95,
          130,
          72,
          33,
          100,
          45,
          65,
          125,
          165,
          70,
          90,
          95,
          23,
          65,
          70,
          65,
          65,
          75,
          67,
          107,
          55,
          77,
          103,
          55,
          75,
          95,
          105,
          125,
          125,
          85,
          125,
          63,
          83,
          83
         ],
         "z": [
          90,
          105,
          120,
          150,
          42,
          67,
          90,
          100,
          70,
          95,
          110,
          48,
          33,
          100,
          40,
          50,
          80,
          100,
          60,
          80,
          65,
          23,
          45,
          60,
          80,
          110,
          85,
          24,
          29,
          72,
          114,
          97,
          45,
          55,
          65,
          20,
          30,
          30,
          30,
          40,
          68,
          104,
          104
         ]
        },
        {
         "hovertemplate": "<b>%{hovertext}</b><br><br>Type 1=Rock<br>Attack=%{x}<br>Sp. Atk=%{y}<br>Speed=%{z}<br>HP=%{marker.size}<extra></extra>",
         "hovertext": [
          "Geodude",
          "Graveler",
          "Golem",
          "Onix",
          "Omanyte",
          "Omastar",
          "Kabuto",
          "Kabutops",
          "Aerodactyl",
          "AerodactylMega Aerodactyl",
          "Sudowoodo",
          "Larvitar",
          "Pupitar",
          "Tyranitar",
          "TyranitarMega Tyranitar",
          "Nosepass",
          "Lunatone",
          "Solrock",
          "Lileep",
          "Cradily",
          "Anorith",
          "Armaldo",
          "Cranidos",
          "Rampardos",
          "Shieldon",
          "Bastiodon",
          "Bonsly",
          "Probopass",
          "Roggenrola",
          "Boldore",
          "Gigalith",
          "Archen",
          "Archeops",
          "Binacle",
          "Barbaracle",
          "Tyrunt",
          "Tyrantrum",
          "Amaura",
          "Aurorus",
          "Carbink"
         ],
         "legendgroup": "Rock",
         "marker": {
          "color": "#B8860B",
          "size": [
           40,
           55,
           80,
           35,
           35,
           70,
           30,
           60,
           80,
           80,
           70,
           50,
           70,
           100,
           100,
           30,
           70,
           70,
           66,
           86,
           45,
           75,
           67,
           97,
           30,
           60,
           50,
           60,
           55,
           70,
           85,
           55,
           75,
           42,
           72,
           58,
           82,
           77,
           123,
           50
          ],
          "sizemode": "area",
          "sizeref": 1.1333333333333333,
          "symbol": "circle"
         },
         "mode": "markers",
         "name": "Rock",
         "scene": "scene",
         "showlegend": true,
         "type": "scatter3d",
         "x": [
          80,
          95,
          120,
          45,
          40,
          60,
          80,
          115,
          105,
          135,
          100,
          64,
          84,
          134,
          164,
          45,
          55,
          95,
          41,
          81,
          95,
          125,
          125,
          165,
          42,
          52,
          80,
          55,
          75,
          105,
          135,
          112,
          140,
          52,
          105,
          89,
          121,
          59,
          77,
          50
         ],
         "y": [
          30,
          45,
          55,
          30,
          90,
          115,
          55,
          65,
          60,
          70,
          30,
          45,
          65,
          95,
          95,
          45,
          95,
          55,
          61,
          81,
          40,
          70,
          30,
          65,
          42,
          47,
          10,
          75,
          25,
          50,
          60,
          74,
          112,
          39,
          54,
          45,
          69,
          67,
          99,
          50
         ],
         "z": [
          20,
          35,
          45,
          70,
          35,
          55,
          55,
          80,
          130,
          150,
          30,
          41,
          51,
          61,
          71,
          30,
          70,
          70,
          23,
          43,
          75,
          45,
          58,
          58,
          30,
          30,
          10,
          40,
          15,
          20,
          25,
          70,
          110,
          50,
          68,
          48,
          71,
          46,
          58,
          50
         ]
        },
        {
         "hovertemplate": "<b>%{hovertext}</b><br><br>Type 1=Ghost<br>Attack=%{x}<br>Sp. Atk=%{y}<br>Speed=%{z}<br>HP=%{marker.size}<extra></extra>",
         "hovertext": [
          "Gastly",
          "Haunter",
          "Gengar",
          "GengarMega Gengar",
          "Misdreavus",
          "Shuppet",
          "Banette",
          "BanetteMega Banette",
          "Duskull",
          "Dusclops",
          "Drifloon",
          "Drifblim",
          "Mismagius",
          "Spiritomb",
          "Dusknoir",
          "Yamask",
          "Cofagrigus",
          "Litwick",
          "Lampent",
          "Chandelure",
          "Phantump",
          "Trevenant",
          "PumpkabooAverage Size",
          "PumpkabooSmall Size",
          "PumpkabooLarge Size",
          "PumpkabooSuper Size",
          "GourgeistAverage Size",
          "GourgeistSmall Size",
          "GourgeistLarge Size",
          "GourgeistSuper Size"
         ],
         "legendgroup": "Ghost",
         "marker": {
          "color": "indigo",
          "size": [
           30,
           45,
           60,
           60,
           60,
           44,
           64,
           64,
           20,
           40,
           90,
           150,
           60,
           50,
           45,
           38,
           58,
           50,
           60,
           60,
           43,
           85,
           49,
           44,
           54,
           59,
           65,
           55,
           75,
           85
          ],
          "sizemode": "area",
          "sizeref": 1.1333333333333333,
          "symbol": "circle"
         },
         "mode": "markers",
         "name": "Ghost",
         "scene": "scene",
         "showlegend": true,
         "type": "scatter3d",
         "x": [
          35,
          50,
          65,
          65,
          60,
          75,
          115,
          165,
          40,
          70,
          50,
          80,
          60,
          92,
          100,
          30,
          50,
          30,
          40,
          55,
          70,
          110,
          66,
          66,
          66,
          66,
          90,
          85,
          95,
          100
         ],
         "y": [
          100,
          115,
          130,
          170,
          85,
          63,
          83,
          93,
          30,
          60,
          60,
          90,
          105,
          92,
          65,
          55,
          95,
          65,
          95,
          145,
          50,
          65,
          44,
          44,
          44,
          44,
          58,
          58,
          58,
          58
         ],
         "z": [
          80,
          95,
          110,
          130,
          85,
          45,
          65,
          75,
          25,
          25,
          70,
          80,
          105,
          35,
          45,
          30,
          30,
          20,
          55,
          80,
          38,
          56,
          51,
          56,
          46,
          41,
          84,
          99,
          69,
          54
         ]
        },
        {
         "hovertemplate": "<b>%{hovertext}</b><br><br>Type 1=Ice<br>Attack=%{x}<br>Sp. Atk=%{y}<br>Speed=%{z}<br>HP=%{marker.size}<extra></extra>",
         "hovertext": [
          "Jynx",
          "Swinub",
          "Piloswine",
          "Delibird",
          "Smoochum",
          "Snorunt",
          "Glalie",
          "GlalieMega Glalie",
          "Spheal",
          "Sealeo",
          "Walrein",
          "Glaceon",
          "Mamoswine",
          "Froslass",
          "Vanillite",
          "Vanillish",
          "Vanilluxe",
          "Cubchoo",
          "Beartic",
          "Cryogonal",
          "Bergmite",
          "Avalugg"
         ],
         "legendgroup": "Ice",
         "marker": {
          "color": "aqua",
          "size": [
           65,
           50,
           100,
           45,
           45,
           50,
           80,
           80,
           70,
           90,
           110,
           65,
           110,
           70,
           36,
           51,
           71,
           55,
           95,
           70,
           55,
           95
          ],
          "sizemode": "area",
          "sizeref": 1.1333333333333333,
          "symbol": "circle"
         },
         "mode": "markers",
         "name": "Ice",
         "scene": "scene",
         "showlegend": true,
         "type": "scatter3d",
         "x": [
          50,
          50,
          100,
          55,
          30,
          50,
          80,
          120,
          40,
          60,
          80,
          60,
          130,
          80,
          50,
          65,
          95,
          70,
          110,
          50,
          69,
          117
         ],
         "y": [
          115,
          30,
          60,
          65,
          85,
          50,
          80,
          120,
          55,
          75,
          95,
          130,
          70,
          80,
          65,
          80,
          110,
          60,
          70,
          95,
          32,
          44
         ],
         "z": [
          95,
          50,
          50,
          75,
          65,
          50,
          80,
          100,
          25,
          45,
          65,
          65,
          80,
          110,
          44,
          59,
          79,
          40,
          50,
          105,
          28,
          28
         ]
        },
        {
         "hovertemplate": "<b>%{hovertext}</b><br><br>Type 1=Dragon<br>Attack=%{x}<br>Sp. Atk=%{y}<br>Speed=%{z}<br>HP=%{marker.size}<extra></extra>",
         "hovertext": [
          "Dratini",
          "Dragonair",
          "Dragonite",
          "Altaria",
          "AltariaMega Altaria",
          "Bagon",
          "Shelgon",
          "Salamence",
          "SalamenceMega Salamence",
          "Gible",
          "Gabite",
          "Garchomp",
          "GarchompMega Garchomp",
          "Axew",
          "Fraxure",
          "Haxorus",
          "Druddigon",
          "Goomy",
          "Sliggoo",
          "Goodra"
         ],
         "legendgroup": "Dragon",
         "marker": {
          "color": "#000080",
          "size": [
           41,
           61,
           91,
           75,
           75,
           45,
           65,
           95,
           95,
           58,
           68,
           108,
           108,
           46,
           66,
           76,
           77,
           45,
           68,
           90
          ],
          "sizemode": "area",
          "sizeref": 1.1333333333333333,
          "symbol": "circle"
         },
         "mode": "markers",
         "name": "Dragon",
         "scene": "scene",
         "showlegend": true,
         "type": "scatter3d",
         "x": [
          64,
          84,
          134,
          70,
          110,
          75,
          95,
          135,
          145,
          70,
          90,
          130,
          170,
          87,
          117,
          147,
          120,
          50,
          75,
          100
         ],
         "y": [
          50,
          70,
          100,
          70,
          110,
          40,
          60,
          110,
          120,
          40,
          50,
          80,
          120,
          30,
          40,
          60,
          60,
          55,
          83,
          110
         ],
         "z": [
          50,
          70,
          80,
          80,
          80,
          50,
          50,
          100,
          120,
          42,
          82,
          102,
          92,
          57,
          67,
          97,
          48,
          40,
          60,
          80
         ]
        },
        {
         "hovertemplate": "<b>%{hovertext}</b><br><br>Type 1=Dark<br>Attack=%{x}<br>Sp. Atk=%{y}<br>Speed=%{z}<br>HP=%{marker.size}<extra></extra>",
         "hovertext": [
          "Umbreon",
          "Murkrow",
          "Sneasel",
          "Houndour",
          "Houndoom",
          "HoundoomMega Houndoom",
          "Poochyena",
          "Mightyena",
          "Sableye",
          "SableyeMega Sableye",
          "Absol",
          "AbsolMega Absol",
          "Honchkrow",
          "Weavile",
          "Purrloin",
          "Liepard",
          "Scraggy",
          "Scrafty",
          "Zorua",
          "Zoroark",
          "Pawniard",
          "Bisharp",
          "Vullaby",
          "Mandibuzz",
          "Deino",
          "Zweilous",
          "Hydreigon",
          "Inkay",
          "Malamar"
         ],
         "legendgroup": "Dark",
         "marker": {
          "color": "#2F4F4F",
          "size": [
           95,
           60,
           55,
           45,
           75,
           75,
           35,
           70,
           50,
           50,
           65,
           65,
           100,
           70,
           41,
           64,
           50,
           65,
           40,
           60,
           45,
           65,
           70,
           110,
           52,
           72,
           92,
           53,
           86
          ],
          "sizemode": "area",
          "sizeref": 1.1333333333333333,
          "symbol": "circle"
         },
         "mode": "markers",
         "name": "Dark",
         "scene": "scene",
         "showlegend": true,
         "type": "scatter3d",
         "x": [
          65,
          85,
          95,
          60,
          90,
          90,
          55,
          90,
          75,
          85,
          130,
          150,
          125,
          120,
          50,
          88,
          75,
          90,
          65,
          105,
          85,
          125,
          55,
          65,
          65,
          85,
          105,
          54,
          92
         ],
         "y": [
          60,
          85,
          35,
          80,
          110,
          140,
          30,
          60,
          65,
          85,
          75,
          115,
          105,
          45,
          50,
          88,
          35,
          45,
          80,
          120,
          40,
          60,
          45,
          55,
          45,
          65,
          125,
          37,
          68
         ],
         "z": [
          65,
          91,
          115,
          65,
          95,
          115,
          35,
          70,
          50,
          20,
          75,
          115,
          71,
          125,
          66,
          106,
          48,
          58,
          65,
          105,
          60,
          70,
          60,
          80,
          38,
          58,
          98,
          45,
          73
         ]
        },
        {
         "hovertemplate": "<b>%{hovertext}</b><br><br>Type 1=Steel<br>Attack=%{x}<br>Sp. Atk=%{y}<br>Speed=%{z}<br>HP=%{marker.size}<extra></extra>",
         "hovertext": [
          "Steelix",
          "SteelixMega Steelix",
          "Skarmory",
          "Mawile",
          "MawileMega Mawile",
          "Aron",
          "Lairon",
          "Aggron",
          "AggronMega Aggron",
          "Beldum",
          "Metang",
          "Metagross",
          "MetagrossMega Metagross",
          "Bronzor",
          "Bronzong",
          "Klink",
          "Klang",
          "Klinklang",
          "Honedge",
          "Doublade",
          "AegislashBlade Forme",
          "AegislashShield Forme",
          "Klefki"
         ],
         "legendgroup": "Steel",
         "marker": {
          "color": "#C0C0C0",
          "size": [
           75,
           75,
           65,
           50,
           50,
           50,
           60,
           70,
           70,
           40,
           60,
           80,
           80,
           57,
           67,
           40,
           60,
           60,
           45,
           59,
           60,
           60,
           57
          ],
          "sizemode": "area",
          "sizeref": 1.1333333333333333,
          "symbol": "circle"
         },
         "mode": "markers",
         "name": "Steel",
         "scene": "scene",
         "showlegend": true,
         "type": "scatter3d",
         "x": [
          85,
          125,
          80,
          85,
          105,
          70,
          90,
          110,
          140,
          55,
          75,
          135,
          145,
          24,
          89,
          55,
          80,
          100,
          80,
          110,
          150,
          50,
          80
         ],
         "y": [
          55,
          55,
          40,
          55,
          55,
          40,
          50,
          60,
          60,
          35,
          55,
          95,
          105,
          24,
          79,
          45,
          70,
          70,
          35,
          45,
          150,
          50,
          80
         ],
         "z": [
          30,
          30,
          70,
          50,
          50,
          30,
          40,
          50,
          50,
          30,
          50,
          70,
          110,
          23,
          33,
          30,
          50,
          90,
          28,
          35,
          60,
          60,
          75
         ]
        },
        {
         "hovertemplate": "<b>%{hovertext}</b><br><br>Type 1=Flying<br>Attack=%{x}<br>Sp. Atk=%{y}<br>Speed=%{z}<br>HP=%{marker.size}<extra></extra>",
         "hovertext": [
          "Noibat",
          "Noivern"
         ],
         "legendgroup": "Flying",
         "marker": {
          "color": "#D8BFD8",
          "size": [
           40,
           85
          ],
          "sizemode": "area",
          "sizeref": 1.1333333333333333,
          "symbol": "circle"
         },
         "mode": "markers",
         "name": "Flying",
         "scene": "scene",
         "showlegend": true,
         "type": "scatter3d",
         "x": [
          30,
          70
         ],
         "y": [
          45,
          97
         ],
         "z": [
          55,
          123
         ]
        }
       ],
       "layout": {
        "height": 1000,
        "legend": {
         "itemsizing": "constant",
         "title": {
          "text": "Type 1"
         },
         "tracegroupgap": 0
        },
        "scene": {
         "domain": {
          "x": [
           0,
           1
          ],
          "y": [
           0,
           1
          ]
         },
         "xaxis": {
          "title": {
           "text": "Attack"
          }
         },
         "yaxis": {
          "title": {
           "text": "Sp. Atk"
          }
         },
         "zaxis": {
          "title": {
           "text": "Speed"
          }
         }
        },
        "template": {
         "data": {
          "bar": [
           {
            "error_x": {
             "color": "#2a3f5f"
            },
            "error_y": {
             "color": "#2a3f5f"
            },
            "marker": {
             "line": {
              "color": "#E5ECF6",
              "width": 0.5
             }
            },
            "type": "bar"
           }
          ],
          "barpolar": [
           {
            "marker": {
             "line": {
              "color": "#E5ECF6",
              "width": 0.5
             }
            },
            "type": "barpolar"
           }
          ],
          "carpet": [
           {
            "aaxis": {
             "endlinecolor": "#2a3f5f",
             "gridcolor": "white",
             "linecolor": "white",
             "minorgridcolor": "white",
             "startlinecolor": "#2a3f5f"
            },
            "baxis": {
             "endlinecolor": "#2a3f5f",
             "gridcolor": "white",
             "linecolor": "white",
             "minorgridcolor": "white",
             "startlinecolor": "#2a3f5f"
            },
            "type": "carpet"
           }
          ],
          "choropleth": [
           {
            "colorbar": {
             "outlinewidth": 0,
             "ticks": ""
            },
            "type": "choropleth"
           }
          ],
          "contour": [
           {
            "colorbar": {
             "outlinewidth": 0,
             "ticks": ""
            },
            "colorscale": [
             [
              0,
              "#0d0887"
             ],
             [
              0.1111111111111111,
              "#46039f"
             ],
             [
              0.2222222222222222,
              "#7201a8"
             ],
             [
              0.3333333333333333,
              "#9c179e"
             ],
             [
              0.4444444444444444,
              "#bd3786"
             ],
             [
              0.5555555555555556,
              "#d8576b"
             ],
             [
              0.6666666666666666,
              "#ed7953"
             ],
             [
              0.7777777777777778,
              "#fb9f3a"
             ],
             [
              0.8888888888888888,
              "#fdca26"
             ],
             [
              1,
              "#f0f921"
             ]
            ],
            "type": "contour"
           }
          ],
          "contourcarpet": [
           {
            "colorbar": {
             "outlinewidth": 0,
             "ticks": ""
            },
            "type": "contourcarpet"
           }
          ],
          "heatmap": [
           {
            "colorbar": {
             "outlinewidth": 0,
             "ticks": ""
            },
            "colorscale": [
             [
              0,
              "#0d0887"
             ],
             [
              0.1111111111111111,
              "#46039f"
             ],
             [
              0.2222222222222222,
              "#7201a8"
             ],
             [
              0.3333333333333333,
              "#9c179e"
             ],
             [
              0.4444444444444444,
              "#bd3786"
             ],
             [
              0.5555555555555556,
              "#d8576b"
             ],
             [
              0.6666666666666666,
              "#ed7953"
             ],
             [
              0.7777777777777778,
              "#fb9f3a"
             ],
             [
              0.8888888888888888,
              "#fdca26"
             ],
             [
              1,
              "#f0f921"
             ]
            ],
            "type": "heatmap"
           }
          ],
          "heatmapgl": [
           {
            "colorbar": {
             "outlinewidth": 0,
             "ticks": ""
            },
            "colorscale": [
             [
              0,
              "#0d0887"
             ],
             [
              0.1111111111111111,
              "#46039f"
             ],
             [
              0.2222222222222222,
              "#7201a8"
             ],
             [
              0.3333333333333333,
              "#9c179e"
             ],
             [
              0.4444444444444444,
              "#bd3786"
             ],
             [
              0.5555555555555556,
              "#d8576b"
             ],
             [
              0.6666666666666666,
              "#ed7953"
             ],
             [
              0.7777777777777778,
              "#fb9f3a"
             ],
             [
              0.8888888888888888,
              "#fdca26"
             ],
             [
              1,
              "#f0f921"
             ]
            ],
            "type": "heatmapgl"
           }
          ],
          "histogram": [
           {
            "marker": {
             "colorbar": {
              "outlinewidth": 0,
              "ticks": ""
             }
            },
            "type": "histogram"
           }
          ],
          "histogram2d": [
           {
            "colorbar": {
             "outlinewidth": 0,
             "ticks": ""
            },
            "colorscale": [
             [
              0,
              "#0d0887"
             ],
             [
              0.1111111111111111,
              "#46039f"
             ],
             [
              0.2222222222222222,
              "#7201a8"
             ],
             [
              0.3333333333333333,
              "#9c179e"
             ],
             [
              0.4444444444444444,
              "#bd3786"
             ],
             [
              0.5555555555555556,
              "#d8576b"
             ],
             [
              0.6666666666666666,
              "#ed7953"
             ],
             [
              0.7777777777777778,
              "#fb9f3a"
             ],
             [
              0.8888888888888888,
              "#fdca26"
             ],
             [
              1,
              "#f0f921"
             ]
            ],
            "type": "histogram2d"
           }
          ],
          "histogram2dcontour": [
           {
            "colorbar": {
             "outlinewidth": 0,
             "ticks": ""
            },
            "colorscale": [
             [
              0,
              "#0d0887"
             ],
             [
              0.1111111111111111,
              "#46039f"
             ],
             [
              0.2222222222222222,
              "#7201a8"
             ],
             [
              0.3333333333333333,
              "#9c179e"
             ],
             [
              0.4444444444444444,
              "#bd3786"
             ],
             [
              0.5555555555555556,
              "#d8576b"
             ],
             [
              0.6666666666666666,
              "#ed7953"
             ],
             [
              0.7777777777777778,
              "#fb9f3a"
             ],
             [
              0.8888888888888888,
              "#fdca26"
             ],
             [
              1,
              "#f0f921"
             ]
            ],
            "type": "histogram2dcontour"
           }
          ],
          "mesh3d": [
           {
            "colorbar": {
             "outlinewidth": 0,
             "ticks": ""
            },
            "type": "mesh3d"
           }
          ],
          "parcoords": [
           {
            "line": {
             "colorbar": {
              "outlinewidth": 0,
              "ticks": ""
             }
            },
            "type": "parcoords"
           }
          ],
          "pie": [
           {
            "automargin": true,
            "type": "pie"
           }
          ],
          "scatter": [
           {
            "marker": {
             "colorbar": {
              "outlinewidth": 0,
              "ticks": ""
             }
            },
            "type": "scatter"
           }
          ],
          "scatter3d": [
           {
            "line": {
             "colorbar": {
              "outlinewidth": 0,
              "ticks": ""
             }
            },
            "marker": {
             "colorbar": {
              "outlinewidth": 0,
              "ticks": ""
             }
            },
            "type": "scatter3d"
           }
          ],
          "scattercarpet": [
           {
            "marker": {
             "colorbar": {
              "outlinewidth": 0,
              "ticks": ""
             }
            },
            "type": "scattercarpet"
           }
          ],
          "scattergeo": [
           {
            "marker": {
             "colorbar": {
              "outlinewidth": 0,
              "ticks": ""
             }
            },
            "type": "scattergeo"
           }
          ],
          "scattergl": [
           {
            "marker": {
             "colorbar": {
              "outlinewidth": 0,
              "ticks": ""
             }
            },
            "type": "scattergl"
           }
          ],
          "scattermapbox": [
           {
            "marker": {
             "colorbar": {
              "outlinewidth": 0,
              "ticks": ""
             }
            },
            "type": "scattermapbox"
           }
          ],
          "scatterpolar": [
           {
            "marker": {
             "colorbar": {
              "outlinewidth": 0,
              "ticks": ""
             }
            },
            "type": "scatterpolar"
           }
          ],
          "scatterpolargl": [
           {
            "marker": {
             "colorbar": {
              "outlinewidth": 0,
              "ticks": ""
             }
            },
            "type": "scatterpolargl"
           }
          ],
          "scatterternary": [
           {
            "marker": {
             "colorbar": {
              "outlinewidth": 0,
              "ticks": ""
             }
            },
            "type": "scatterternary"
           }
          ],
          "surface": [
           {
            "colorbar": {
             "outlinewidth": 0,
             "ticks": ""
            },
            "colorscale": [
             [
              0,
              "#0d0887"
             ],
             [
              0.1111111111111111,
              "#46039f"
             ],
             [
              0.2222222222222222,
              "#7201a8"
             ],
             [
              0.3333333333333333,
              "#9c179e"
             ],
             [
              0.4444444444444444,
              "#bd3786"
             ],
             [
              0.5555555555555556,
              "#d8576b"
             ],
             [
              0.6666666666666666,
              "#ed7953"
             ],
             [
              0.7777777777777778,
              "#fb9f3a"
             ],
             [
              0.8888888888888888,
              "#fdca26"
             ],
             [
              1,
              "#f0f921"
             ]
            ],
            "type": "surface"
           }
          ],
          "table": [
           {
            "cells": {
             "fill": {
              "color": "#EBF0F8"
             },
             "line": {
              "color": "white"
             }
            },
            "header": {
             "fill": {
              "color": "#C8D4E3"
             },
             "line": {
              "color": "white"
             }
            },
            "type": "table"
           }
          ]
         },
         "layout": {
          "annotationdefaults": {
           "arrowcolor": "#2a3f5f",
           "arrowhead": 0,
           "arrowwidth": 1
          },
          "coloraxis": {
           "colorbar": {
            "outlinewidth": 0,
            "ticks": ""
           }
          },
          "colorscale": {
           "diverging": [
            [
             0,
             "#8e0152"
            ],
            [
             0.1,
             "#c51b7d"
            ],
            [
             0.2,
             "#de77ae"
            ],
            [
             0.3,
             "#f1b6da"
            ],
            [
             0.4,
             "#fde0ef"
            ],
            [
             0.5,
             "#f7f7f7"
            ],
            [
             0.6,
             "#e6f5d0"
            ],
            [
             0.7,
             "#b8e186"
            ],
            [
             0.8,
             "#7fbc41"
            ],
            [
             0.9,
             "#4d9221"
            ],
            [
             1,
             "#276419"
            ]
           ],
           "sequential": [
            [
             0,
             "#0d0887"
            ],
            [
             0.1111111111111111,
             "#46039f"
            ],
            [
             0.2222222222222222,
             "#7201a8"
            ],
            [
             0.3333333333333333,
             "#9c179e"
            ],
            [
             0.4444444444444444,
             "#bd3786"
            ],
            [
             0.5555555555555556,
             "#d8576b"
            ],
            [
             0.6666666666666666,
             "#ed7953"
            ],
            [
             0.7777777777777778,
             "#fb9f3a"
            ],
            [
             0.8888888888888888,
             "#fdca26"
            ],
            [
             1,
             "#f0f921"
            ]
           ],
           "sequentialminus": [
            [
             0,
             "#0d0887"
            ],
            [
             0.1111111111111111,
             "#46039f"
            ],
            [
             0.2222222222222222,
             "#7201a8"
            ],
            [
             0.3333333333333333,
             "#9c179e"
            ],
            [
             0.4444444444444444,
             "#bd3786"
            ],
            [
             0.5555555555555556,
             "#d8576b"
            ],
            [
             0.6666666666666666,
             "#ed7953"
            ],
            [
             0.7777777777777778,
             "#fb9f3a"
            ],
            [
             0.8888888888888888,
             "#fdca26"
            ],
            [
             1,
             "#f0f921"
            ]
           ]
          },
          "colorway": [
           "#636efa",
           "#EF553B",
           "#00cc96",
           "#ab63fa",
           "#FFA15A",
           "#19d3f3",
           "#FF6692",
           "#B6E880",
           "#FF97FF",
           "#FECB52"
          ],
          "font": {
           "color": "#2a3f5f"
          },
          "geo": {
           "bgcolor": "white",
           "lakecolor": "white",
           "landcolor": "#E5ECF6",
           "showlakes": true,
           "showland": true,
           "subunitcolor": "white"
          },
          "hoverlabel": {
           "align": "left"
          },
          "hovermode": "closest",
          "mapbox": {
           "style": "light"
          },
          "paper_bgcolor": "white",
          "plot_bgcolor": "#E5ECF6",
          "polar": {
           "angularaxis": {
            "gridcolor": "white",
            "linecolor": "white",
            "ticks": ""
           },
           "bgcolor": "#E5ECF6",
           "radialaxis": {
            "gridcolor": "white",
            "linecolor": "white",
            "ticks": ""
           }
          },
          "scene": {
           "xaxis": {
            "backgroundcolor": "#E5ECF6",
            "gridcolor": "white",
            "gridwidth": 2,
            "linecolor": "white",
            "showbackground": true,
            "ticks": "",
            "zerolinecolor": "white"
           },
           "yaxis": {
            "backgroundcolor": "#E5ECF6",
            "gridcolor": "white",
            "gridwidth": 2,
            "linecolor": "white",
            "showbackground": true,
            "ticks": "",
            "zerolinecolor": "white"
           },
           "zaxis": {
            "backgroundcolor": "#E5ECF6",
            "gridcolor": "white",
            "gridwidth": 2,
            "linecolor": "white",
            "showbackground": true,
            "ticks": "",
            "zerolinecolor": "white"
           }
          },
          "shapedefaults": {
           "line": {
            "color": "#2a3f5f"
           }
          },
          "ternary": {
           "aaxis": {
            "gridcolor": "white",
            "linecolor": "white",
            "ticks": ""
           },
           "baxis": {
            "gridcolor": "white",
            "linecolor": "white",
            "ticks": ""
           },
           "bgcolor": "#E5ECF6",
           "caxis": {
            "gridcolor": "white",
            "linecolor": "white",
            "ticks": ""
           }
          },
          "title": {
           "x": 0.05
          },
          "xaxis": {
           "automargin": true,
           "gridcolor": "white",
           "linecolor": "white",
           "ticks": "",
           "title": {
            "standoff": 15
           },
           "zerolinecolor": "white",
           "zerolinewidth": 2
          },
          "yaxis": {
           "automargin": true,
           "gridcolor": "white",
           "linecolor": "white",
           "ticks": "",
           "title": {
            "standoff": 15
           },
           "zerolinecolor": "white",
           "zerolinewidth": 2
          }
         }
        },
        "title": {
         "text": "Pokemons"
        }
       }
      },
      "text/html": [
       "<div>                            <div id=\"f5a7cd8d-0b3d-457c-bcd1-864e86cc966d\" class=\"plotly-graph-div\" style=\"height:1000px; width:100%;\"></div>            <script type=\"text/javascript\">                require([\"plotly\"], function(Plotly) {                    window.PLOTLYENV=window.PLOTLYENV || {};                                    if (document.getElementById(\"f5a7cd8d-0b3d-457c-bcd1-864e86cc966d\")) {                    Plotly.newPlot(                        \"f5a7cd8d-0b3d-457c-bcd1-864e86cc966d\",                        [{\"hovertemplate\": \"<b>%{hovertext}</b><br><br>Type 1=Grass<br>Attack=%{x}<br>Sp. Atk=%{y}<br>Speed=%{z}<br>HP=%{marker.size}<extra></extra>\", \"hovertext\": [\"Bulbasaur\", \"Ivysaur\", \"Venusaur\", \"VenusaurMega Venusaur\", \"Oddish\", \"Gloom\", \"Vileplume\", \"Bellsprout\", \"Weepinbell\", \"Victreebel\", \"Exeggcute\", \"Exeggutor\", \"Tangela\", \"Chikorita\", \"Bayleef\", \"Meganium\", \"Bellossom\", \"Hoppip\", \"Skiploom\", \"Jumpluff\", \"Sunkern\", \"Sunflora\", \"Treecko\", \"Grovyle\", \"Sceptile\", \"SceptileMega Sceptile\", \"Seedot\", \"Nuzleaf\", \"Shiftry\", \"Shroomish\", \"Breloom\", \"Roselia\", \"Cacnea\", \"Cacturne\", \"Tropius\", \"Turtwig\", \"Grotle\", \"Torterra\", \"Budew\", \"Roserade\", \"Cherubi\", \"Cherrim\", \"Carnivine\", \"Snover\", \"Abomasnow\", \"AbomasnowMega Abomasnow\", \"Tangrowth\", \"Leafeon\", \"Snivy\", \"Servine\", \"Serperior\", \"Pansage\", \"Simisage\", \"Cottonee\", \"Whimsicott\", \"Petilil\", \"Lilligant\", \"Maractus\", \"Foongus\", \"Amoonguss\", \"Ferroseed\", \"Ferrothorn\", \"Chespin\", \"Quilladin\", \"Chesnaught\", \"Skiddo\", \"Gogoat\"], \"legendgroup\": \"Grass\", \"marker\": {\"color\": \"green\", \"size\": [45, 60, 80, 80, 45, 60, 75, 50, 65, 80, 60, 95, 65, 45, 60, 80, 75, 35, 55, 75, 30, 75, 40, 50, 70, 70, 40, 70, 90, 60, 60, 50, 50, 70, 99, 55, 75, 95, 40, 60, 45, 70, 74, 60, 90, 90, 100, 65, 45, 60, 75, 50, 75, 40, 60, 45, 70, 75, 69, 114, 44, 74, 56, 61, 88, 66, 123], \"sizemode\": \"area\", \"sizeref\": 1.1333333333333333, \"symbol\": \"circle\"}, \"mode\": \"markers\", \"name\": \"Grass\", \"scene\": \"scene\", \"showlegend\": true, \"type\": \"scatter3d\", \"x\": [49, 62, 82, 100, 50, 65, 80, 75, 90, 105, 40, 95, 55, 49, 62, 82, 80, 35, 45, 55, 30, 75, 45, 65, 85, 110, 40, 70, 100, 40, 130, 60, 85, 115, 68, 68, 89, 109, 30, 70, 35, 60, 100, 62, 92, 132, 100, 110, 45, 60, 75, 53, 98, 27, 67, 35, 60, 86, 55, 85, 50, 94, 61, 78, 107, 65, 100], \"y\": [65, 80, 100, 122, 75, 85, 110, 70, 85, 100, 60, 125, 100, 49, 63, 83, 90, 35, 45, 55, 30, 105, 65, 85, 105, 145, 30, 60, 90, 40, 60, 100, 85, 115, 72, 45, 55, 75, 50, 125, 62, 87, 90, 62, 92, 132, 110, 60, 45, 60, 75, 53, 98, 37, 77, 70, 110, 106, 55, 85, 24, 54, 48, 56, 74, 62, 97], \"z\": [45, 60, 80, 80, 30, 40, 50, 40, 55, 70, 40, 55, 60, 45, 60, 80, 50, 50, 80, 110, 30, 30, 70, 95, 120, 145, 30, 60, 80, 35, 70, 65, 35, 55, 51, 31, 36, 56, 55, 90, 35, 85, 46, 40, 60, 30, 50, 95, 63, 83, 113, 64, 101, 66, 116, 30, 90, 60, 15, 30, 10, 20, 38, 57, 64, 52, 68]}, {\"hovertemplate\": \"<b>%{hovertext}</b><br><br>Type 1=Fire<br>Attack=%{x}<br>Sp. Atk=%{y}<br>Speed=%{z}<br>HP=%{marker.size}<extra></extra>\", \"hovertext\": [\"Charmander\", \"Charmeleon\", \"Charizard\", \"CharizardMega Charizard X\", \"CharizardMega Charizard Y\", \"Vulpix\", \"Ninetales\", \"Growlithe\", \"Arcanine\", \"Ponyta\", \"Rapidash\", \"Magmar\", \"Flareon\", \"Cyndaquil\", \"Quilava\", \"Typhlosion\", \"Slugma\", \"Magcargo\", \"Magby\", \"Torchic\", \"Combusken\", \"Blaziken\", \"BlazikenMega Blaziken\", \"Numel\", \"Camerupt\", \"CameruptMega Camerupt\", \"Torkoal\", \"Chimchar\", \"Monferno\", \"Infernape\", \"Magmortar\", \"Tepig\", \"Pignite\", \"Emboar\", \"Pansear\", \"Simisear\", \"Darumaka\", \"DarmanitanStandard Mode\", \"DarmanitanZen Mode\", \"Heatmor\", \"Fennekin\", \"Braixen\", \"Delphox\", \"Fletchinder\", \"Talonflame\", \"Litleo\", \"Pyroar\"], \"legendgroup\": \"Fire\", \"marker\": {\"color\": \"red\", \"size\": [39, 58, 78, 78, 78, 38, 73, 55, 90, 50, 65, 65, 65, 39, 58, 78, 40, 50, 45, 45, 60, 80, 80, 60, 70, 70, 70, 44, 64, 76, 75, 65, 90, 110, 50, 75, 70, 105, 105, 85, 40, 59, 75, 62, 78, 62, 86], \"sizemode\": \"area\", \"sizeref\": 1.1333333333333333, \"symbol\": \"circle\"}, \"mode\": \"markers\", \"name\": \"Fire\", \"scene\": \"scene\", \"showlegend\": true, \"type\": \"scatter3d\", \"x\": [52, 64, 84, 130, 104, 41, 76, 70, 110, 85, 100, 95, 130, 52, 64, 84, 40, 50, 75, 60, 85, 120, 160, 60, 100, 120, 85, 58, 78, 104, 95, 63, 93, 123, 53, 98, 90, 140, 30, 97, 45, 59, 69, 73, 81, 50, 68], \"y\": [60, 80, 109, 130, 159, 50, 81, 70, 100, 65, 80, 100, 95, 60, 80, 109, 70, 80, 70, 70, 85, 110, 130, 65, 105, 145, 85, 58, 78, 104, 125, 45, 70, 100, 53, 98, 15, 30, 140, 105, 62, 90, 114, 56, 74, 73, 109], \"z\": [65, 80, 100, 100, 100, 65, 100, 60, 95, 90, 105, 93, 65, 65, 80, 100, 20, 30, 83, 45, 55, 80, 100, 35, 40, 20, 20, 61, 81, 108, 83, 45, 55, 65, 64, 101, 50, 95, 55, 65, 60, 73, 104, 84, 126, 72, 106]}, {\"hovertemplate\": \"<b>%{hovertext}</b><br><br>Type 1=Water<br>Attack=%{x}<br>Sp. Atk=%{y}<br>Speed=%{z}<br>HP=%{marker.size}<extra></extra>\", \"hovertext\": [\"Squirtle\", \"Wartortle\", \"Blastoise\", \"BlastoiseMega Blastoise\", \"Psyduck\", \"Golduck\", \"Poliwag\", \"Poliwhirl\", \"Poliwrath\", \"Tentacool\", \"Tentacruel\", \"Slowpoke\", \"Slowbro\", \"SlowbroMega Slowbro\", \"Seel\", \"Dewgong\", \"Shellder\", \"Cloyster\", \"Krabby\", \"Kingler\", \"Horsea\", \"Seadra\", \"Goldeen\", \"Seaking\", \"Staryu\", \"Starmie\", \"Magikarp\", \"Gyarados\", \"GyaradosMega Gyarados\", \"Lapras\", \"Vaporeon\", \"Totodile\", \"Croconaw\", \"Feraligatr\", \"Chinchou\", \"Lanturn\", \"Marill\", \"Azumarill\", \"Politoed\", \"Wooper\", \"Quagsire\", \"Slowking\", \"Qwilfish\", \"Corsola\", \"Remoraid\", \"Octillery\", \"Mantine\", \"Kingdra\", \"Mudkip\", \"Marshtomp\", \"Swampert\", \"SwampertMega Swampert\", \"Lotad\", \"Lombre\", \"Ludicolo\", \"Wingull\", \"Pelipper\", \"Carvanha\", \"Sharpedo\", \"SharpedoMega Sharpedo\", \"Wailmer\", \"Wailord\", \"Barboach\", \"Whiscash\", \"Corphish\", \"Crawdaunt\", \"Feebas\", \"Milotic\", \"Clamperl\", \"Huntail\", \"Gorebyss\", \"Relicanth\", \"Luvdisc\", \"Piplup\", \"Prinplup\", \"Empoleon\", \"Buizel\", \"Floatzel\", \"Shellos\", \"Gastrodon\", \"Finneon\", \"Lumineon\", \"Mantyke\", \"Phione\", \"Manaphy\", \"Oshawott\", \"Dewott\", \"Samurott\", \"Panpour\", \"Simipour\", \"Tympole\", \"Palpitoad\", \"Seismitoad\", \"Basculin\", \"Tirtouga\", \"Carracosta\", \"Ducklett\", \"Swanna\", \"Frillish\", \"Jellicent\", \"Alomomola\", \"KeldeoOrdinary Forme\", \"KeldeoResolute Forme\", \"Froakie\", \"Frogadier\", \"Greninja\", \"Clauncher\", \"Clawitzer\"], \"legendgroup\": \"Water\", \"marker\": {\"color\": \"blue\", \"size\": [44, 59, 79, 79, 50, 80, 40, 65, 90, 40, 80, 90, 95, 95, 65, 90, 30, 50, 30, 55, 30, 55, 45, 80, 30, 60, 20, 95, 95, 130, 130, 50, 65, 85, 75, 125, 70, 100, 90, 55, 95, 95, 65, 55, 35, 75, 65, 75, 50, 70, 100, 100, 40, 60, 80, 40, 60, 45, 70, 70, 130, 170, 50, 110, 43, 63, 20, 95, 35, 55, 55, 100, 43, 53, 64, 84, 55, 85, 76, 111, 49, 69, 45, 80, 100, 55, 75, 95, 50, 75, 50, 75, 105, 70, 54, 74, 62, 75, 55, 100, 165, 91, 91, 41, 54, 72, 50, 71], \"sizemode\": \"area\", \"sizeref\": 1.1333333333333333, \"symbol\": \"circle\"}, \"mode\": \"markers\", \"name\": \"Water\", \"scene\": \"scene\", \"showlegend\": true, \"type\": \"scatter3d\", \"x\": [48, 63, 83, 103, 52, 82, 50, 65, 95, 40, 70, 65, 75, 75, 45, 70, 65, 95, 105, 130, 40, 65, 67, 92, 45, 75, 10, 125, 155, 85, 65, 65, 80, 105, 38, 58, 20, 50, 75, 45, 85, 75, 95, 55, 65, 105, 40, 95, 70, 85, 110, 150, 30, 50, 70, 30, 50, 90, 120, 140, 70, 90, 48, 78, 80, 120, 15, 60, 64, 104, 84, 90, 30, 51, 66, 86, 65, 105, 48, 83, 49, 69, 20, 80, 100, 55, 75, 100, 53, 98, 50, 65, 95, 92, 78, 108, 44, 87, 40, 60, 75, 72, 72, 56, 63, 95, 53, 73], \"y\": [50, 65, 85, 135, 65, 95, 40, 50, 70, 50, 80, 40, 100, 130, 45, 70, 45, 85, 25, 50, 70, 95, 35, 65, 70, 100, 15, 60, 70, 85, 110, 44, 59, 79, 56, 76, 20, 60, 90, 25, 65, 100, 55, 65, 65, 105, 80, 95, 50, 60, 85, 95, 40, 60, 90, 55, 85, 65, 95, 110, 70, 90, 46, 76, 50, 90, 10, 100, 74, 94, 114, 45, 40, 61, 81, 111, 60, 85, 57, 92, 49, 69, 60, 80, 100, 63, 83, 108, 53, 98, 50, 65, 85, 80, 53, 83, 44, 87, 65, 85, 40, 129, 129, 62, 83, 103, 58, 120], \"z\": [43, 58, 78, 78, 55, 85, 90, 90, 70, 70, 100, 15, 30, 30, 45, 70, 40, 70, 50, 75, 60, 85, 63, 68, 85, 115, 80, 81, 81, 60, 65, 43, 58, 78, 67, 67, 40, 50, 70, 15, 35, 30, 85, 35, 65, 45, 70, 85, 40, 50, 60, 70, 30, 50, 70, 85, 65, 65, 95, 105, 60, 60, 60, 60, 35, 55, 80, 81, 32, 52, 52, 55, 97, 40, 50, 60, 85, 115, 34, 39, 66, 91, 50, 80, 100, 45, 60, 70, 64, 101, 64, 69, 74, 98, 22, 32, 55, 98, 40, 60, 65, 108, 108, 71, 97, 122, 44, 59]}, {\"hovertemplate\": \"<b>%{hovertext}</b><br><br>Type 1=Bug<br>Attack=%{x}<br>Sp. Atk=%{y}<br>Speed=%{z}<br>HP=%{marker.size}<extra></extra>\", \"hovertext\": [\"Caterpie\", \"Metapod\", \"Butterfree\", \"Weedle\", \"Kakuna\", \"Beedrill\", \"BeedrillMega Beedrill\", \"Paras\", \"Parasect\", \"Venonat\", \"Venomoth\", \"Scyther\", \"Pinsir\", \"PinsirMega Pinsir\", \"Ledyba\", \"Ledian\", \"Spinarak\", \"Ariados\", \"Yanma\", \"Pineco\", \"Forretress\", \"Scizor\", \"ScizorMega Scizor\", \"Shuckle\", \"Heracross\", \"HeracrossMega Heracross\", \"Wurmple\", \"Silcoon\", \"Beautifly\", \"Cascoon\", \"Dustox\", \"Surskit\", \"Masquerain\", \"Nincada\", \"Ninjask\", \"Shedinja\", \"Volbeat\", \"Illumise\", \"Kricketot\", \"Kricketune\", \"Burmy\", \"WormadamPlant Cloak\", \"WormadamSandy Cloak\", \"WormadamTrash Cloak\", \"Mothim\", \"Combee\", \"Vespiquen\", \"Yanmega\", \"Sewaddle\", \"Swadloon\", \"Leavanny\", \"Venipede\", \"Whirlipede\", \"Scolipede\", \"Dwebble\", \"Crustle\", \"Karrablast\", \"Escavalier\", \"Joltik\", \"Galvantula\", \"Shelmet\", \"Accelgor\", \"Durant\", \"Larvesta\", \"Volcarona\", \"Genesect\", \"Scatterbug\", \"Spewpa\", \"Vivillon\"], \"legendgroup\": \"Bug\", \"marker\": {\"color\": \"#DEB887\", \"size\": [45, 50, 60, 40, 45, 65, 65, 35, 60, 60, 70, 70, 65, 65, 40, 55, 40, 70, 65, 50, 75, 70, 70, 20, 80, 80, 45, 50, 60, 50, 60, 40, 70, 31, 61, 1, 65, 65, 37, 77, 40, 60, 60, 60, 70, 30, 70, 86, 45, 55, 75, 30, 40, 60, 50, 70, 50, 70, 50, 70, 50, 80, 58, 55, 85, 71, 38, 45, 80], \"sizemode\": \"area\", \"sizeref\": 1.1333333333333333, \"symbol\": \"circle\"}, \"mode\": \"markers\", \"name\": \"Bug\", \"scene\": \"scene\", \"showlegend\": true, \"type\": \"scatter3d\", \"x\": [30, 20, 45, 35, 25, 90, 150, 70, 95, 55, 65, 110, 125, 155, 20, 35, 60, 90, 65, 65, 90, 130, 150, 10, 125, 185, 45, 35, 70, 35, 50, 30, 60, 45, 90, 90, 73, 47, 25, 85, 29, 59, 79, 69, 94, 30, 80, 76, 53, 63, 103, 45, 55, 100, 65, 95, 75, 135, 47, 77, 40, 70, 109, 85, 60, 120, 35, 22, 52], \"y\": [20, 25, 90, 20, 25, 45, 15, 45, 60, 40, 90, 55, 55, 65, 40, 55, 40, 60, 75, 35, 60, 55, 65, 10, 40, 40, 20, 25, 100, 25, 50, 50, 80, 30, 50, 30, 47, 73, 25, 55, 29, 79, 59, 69, 94, 30, 80, 116, 40, 50, 70, 30, 40, 55, 35, 65, 40, 60, 57, 97, 40, 100, 48, 50, 135, 120, 27, 27, 90], \"z\": [45, 30, 70, 50, 35, 75, 145, 25, 30, 45, 90, 105, 85, 105, 55, 85, 30, 40, 95, 15, 40, 65, 75, 5, 85, 75, 20, 15, 65, 15, 65, 65, 60, 40, 160, 40, 85, 85, 25, 65, 36, 36, 36, 36, 66, 70, 40, 95, 42, 42, 92, 57, 47, 112, 55, 45, 60, 20, 65, 108, 25, 145, 109, 60, 100, 99, 35, 29, 89]}, {\"hovertemplate\": \"<b>%{hovertext}</b><br><br>Type 1=Normal<br>Attack=%{x}<br>Sp. Atk=%{y}<br>Speed=%{z}<br>HP=%{marker.size}<extra></extra>\", \"hovertext\": [\"Pidgey\", \"Pidgeotto\", \"Pidgeot\", \"PidgeotMega Pidgeot\", \"Rattata\", \"Raticate\", \"Spearow\", \"Fearow\", \"Jigglypuff\", \"Wigglytuff\", \"Meowth\", \"Persian\", \"Farfetch'd\", \"Doduo\", \"Dodrio\", \"Lickitung\", \"Chansey\", \"Kangaskhan\", \"KangaskhanMega Kangaskhan\", \"Tauros\", \"Ditto\", \"Eevee\", \"Porygon\", \"Snorlax\", \"Sentret\", \"Furret\", \"Hoothoot\", \"Noctowl\", \"Igglybuff\", \"Aipom\", \"Girafarig\", \"Dunsparce\", \"Teddiursa\", \"Ursaring\", \"Porygon2\", \"Stantler\", \"Smeargle\", \"Miltank\", \"Blissey\", \"Zigzagoon\", \"Linoone\", \"Taillow\", \"Swellow\", \"Slakoth\", \"Vigoroth\", \"Slaking\", \"Whismur\", \"Loudred\", \"Exploud\", \"Azurill\", \"Skitty\", \"Delcatty\", \"Spinda\", \"Swablu\", \"Zangoose\", \"Castform\", \"Kecleon\", \"Starly\", \"Staravia\", \"Staraptor\", \"Bidoof\", \"Bibarel\", \"Ambipom\", \"Buneary\", \"Lopunny\", \"LopunnyMega Lopunny\", \"Glameow\", \"Purugly\", \"Happiny\", \"Chatot\", \"Munchlax\", \"Lickilicky\", \"Porygon-Z\", \"Patrat\", \"Watchog\", \"Lillipup\", \"Herdier\", \"Stoutland\", \"Pidove\", \"Tranquill\", \"Unfezant\", \"Audino\", \"AudinoMega Audino\", \"Minccino\", \"Cinccino\", \"Deerling\", \"Sawsbuck\", \"Bouffalant\", \"Rufflet\", \"Braviary\", \"MeloettaAria Forme\", \"MeloettaPirouette Forme\", \"Bunnelby\", \"Diggersby\", \"Fletchling\", \"Furfrou\"], \"legendgroup\": \"Normal\", \"marker\": {\"color\": \"grey\", \"size\": [40, 63, 83, 83, 30, 55, 40, 65, 115, 140, 40, 65, 52, 35, 60, 90, 250, 105, 105, 75, 48, 55, 65, 160, 35, 85, 60, 100, 90, 55, 70, 100, 60, 90, 85, 73, 55, 95, 255, 38, 78, 40, 60, 60, 80, 150, 64, 84, 104, 50, 50, 70, 60, 45, 73, 70, 60, 40, 55, 85, 59, 79, 75, 55, 65, 65, 49, 71, 100, 76, 135, 110, 85, 45, 60, 45, 65, 85, 50, 62, 80, 103, 103, 55, 75, 60, 80, 95, 70, 100, 100, 100, 38, 85, 45, 75], \"sizemode\": \"area\", \"sizeref\": 1.1333333333333333, \"symbol\": \"circle\"}, \"mode\": \"markers\", \"name\": \"Normal\", \"scene\": \"scene\", \"showlegend\": true, \"type\": \"scatter3d\", \"x\": [45, 60, 80, 80, 56, 81, 60, 90, 45, 70, 45, 70, 65, 85, 110, 55, 5, 95, 125, 100, 48, 55, 60, 110, 46, 76, 30, 50, 30, 70, 80, 70, 80, 130, 80, 95, 20, 80, 10, 30, 70, 55, 85, 60, 80, 160, 51, 71, 91, 20, 45, 65, 60, 40, 115, 70, 90, 55, 75, 120, 45, 85, 100, 66, 76, 136, 55, 82, 5, 65, 85, 85, 80, 55, 85, 60, 80, 110, 55, 77, 115, 60, 60, 50, 95, 60, 100, 110, 83, 123, 77, 128, 36, 56, 50, 80], \"y\": [35, 50, 70, 135, 25, 50, 31, 61, 45, 85, 40, 65, 58, 35, 60, 60, 35, 40, 60, 40, 48, 45, 85, 65, 35, 45, 36, 76, 40, 40, 90, 65, 50, 75, 105, 85, 20, 40, 75, 30, 50, 30, 50, 35, 55, 95, 51, 71, 91, 20, 35, 55, 60, 40, 60, 70, 60, 30, 40, 50, 35, 55, 60, 44, 54, 54, 42, 64, 15, 92, 40, 80, 135, 35, 60, 25, 35, 45, 36, 50, 65, 60, 80, 40, 65, 40, 60, 40, 37, 57, 128, 77, 32, 50, 40, 65], \"z\": [56, 71, 101, 121, 72, 97, 70, 100, 20, 45, 90, 115, 60, 75, 100, 30, 50, 90, 100, 110, 48, 55, 40, 30, 20, 90, 50, 70, 15, 85, 85, 45, 40, 55, 60, 85, 75, 100, 55, 60, 100, 85, 125, 30, 90, 100, 28, 48, 68, 20, 50, 70, 60, 50, 90, 70, 40, 60, 80, 100, 31, 71, 115, 85, 105, 135, 85, 112, 30, 91, 5, 50, 90, 42, 77, 55, 60, 80, 43, 65, 93, 50, 50, 75, 115, 75, 95, 55, 60, 80, 90, 128, 57, 78, 62, 102]}, {\"hovertemplate\": \"<b>%{hovertext}</b><br><br>Type 1=Poison<br>Attack=%{x}<br>Sp. Atk=%{y}<br>Speed=%{z}<br>HP=%{marker.size}<extra></extra>\", \"hovertext\": [\"Ekans\", \"Arbok\", \"Nidoran\\u2640\", \"Nidorina\", \"Nidoqueen\", \"Nidoran\\u2642\", \"Nidorino\", \"Nidoking\", \"Zubat\", \"Golbat\", \"Grimer\", \"Muk\", \"Koffing\", \"Weezing\", \"Crobat\", \"Gulpin\", \"Swalot\", \"Seviper\", \"Stunky\", \"Skuntank\", \"Skorupi\", \"Drapion\", \"Croagunk\", \"Toxicroak\", \"Trubbish\", \"Garbodor\", \"Skrelp\", \"Dragalge\"], \"legendgroup\": \"Poison\", \"marker\": {\"color\": \"#8B008B\", \"size\": [35, 60, 55, 70, 90, 46, 61, 81, 40, 75, 80, 105, 40, 65, 85, 70, 100, 73, 63, 103, 40, 70, 48, 83, 50, 80, 50, 65], \"sizemode\": \"area\", \"sizeref\": 1.1333333333333333, \"symbol\": \"circle\"}, \"mode\": \"markers\", \"name\": \"Poison\", \"scene\": \"scene\", \"showlegend\": true, \"type\": \"scatter3d\", \"x\": [60, 85, 47, 62, 92, 57, 72, 102, 45, 80, 80, 105, 65, 90, 90, 43, 73, 100, 63, 93, 50, 90, 61, 106, 50, 95, 60, 75], \"y\": [40, 65, 40, 55, 75, 40, 55, 85, 30, 65, 40, 65, 60, 85, 70, 43, 73, 100, 41, 71, 30, 60, 61, 86, 40, 60, 60, 97], \"z\": [55, 80, 41, 56, 76, 50, 65, 85, 55, 90, 25, 50, 35, 60, 130, 40, 55, 65, 74, 84, 65, 95, 50, 85, 65, 75, 30, 44]}, {\"hovertemplate\": \"<b>%{hovertext}</b><br><br>Type 1=Electric<br>Attack=%{x}<br>Sp. Atk=%{y}<br>Speed=%{z}<br>HP=%{marker.size}<extra></extra>\", \"hovertext\": [\"Pikachu\", \"Raichu\", \"Magnemite\", \"Magneton\", \"Voltorb\", \"Electrode\", \"Electabuzz\", \"Jolteon\", \"Pichu\", \"Mareep\", \"Flaaffy\", \"Ampharos\", \"AmpharosMega Ampharos\", \"Elekid\", \"Electrike\", \"Manectric\", \"ManectricMega Manectric\", \"Plusle\", \"Minun\", \"Shinx\", \"Luxio\", \"Luxray\", \"Pachirisu\", \"Magnezone\", \"Electivire\", \"Rotom\", \"RotomHeat Rotom\", \"RotomWash Rotom\", \"RotomFrost Rotom\", \"RotomFan Rotom\", \"RotomMow Rotom\", \"Blitzle\", \"Zebstrika\", \"Emolga\", \"Tynamo\", \"Eelektrik\", \"Eelektross\", \"Helioptile\", \"Heliolisk\", \"Dedenne\"], \"legendgroup\": \"Electric\", \"marker\": {\"color\": \"gold\", \"size\": [35, 60, 25, 50, 40, 60, 65, 65, 20, 55, 70, 90, 90, 45, 40, 70, 70, 60, 60, 45, 60, 80, 60, 70, 75, 50, 50, 50, 50, 50, 50, 45, 75, 55, 35, 65, 85, 44, 62, 67], \"sizemode\": \"area\", \"sizeref\": 1.1333333333333333, \"symbol\": \"circle\"}, \"mode\": \"markers\", \"name\": \"Electric\", \"scene\": \"scene\", \"showlegend\": true, \"type\": \"scatter3d\", \"x\": [55, 90, 35, 60, 30, 50, 83, 65, 40, 40, 55, 75, 95, 63, 45, 75, 75, 50, 40, 65, 85, 120, 45, 70, 123, 50, 65, 65, 65, 65, 65, 60, 100, 75, 55, 85, 115, 38, 55, 58], \"y\": [50, 90, 95, 120, 55, 80, 95, 110, 35, 65, 80, 115, 165, 65, 65, 105, 135, 85, 75, 40, 60, 95, 45, 130, 95, 95, 105, 105, 105, 105, 105, 50, 80, 75, 45, 75, 105, 61, 109, 81], \"z\": [90, 110, 45, 70, 100, 140, 105, 130, 60, 35, 45, 55, 45, 95, 65, 105, 135, 95, 95, 45, 60, 70, 95, 60, 95, 91, 86, 86, 86, 86, 86, 76, 116, 103, 60, 40, 50, 70, 109, 101]}, {\"hovertemplate\": \"<b>%{hovertext}</b><br><br>Type 1=Ground<br>Attack=%{x}<br>Sp. Atk=%{y}<br>Speed=%{z}<br>HP=%{marker.size}<extra></extra>\", \"hovertext\": [\"Sandshrew\", \"Sandslash\", \"Diglett\", \"Dugtrio\", \"Cubone\", \"Marowak\", \"Rhyhorn\", \"Rhydon\", \"Gligar\", \"Phanpy\", \"Donphan\", \"Trapinch\", \"Vibrava\", \"Flygon\", \"Baltoy\", \"Claydol\", \"Hippopotas\", \"Hippowdon\", \"Rhyperior\", \"Gliscor\", \"Drilbur\", \"Excadrill\", \"Sandile\", \"Krokorok\", \"Krookodile\", \"Stunfisk\", \"Golett\", \"Golurk\"], \"legendgroup\": \"Ground\", \"marker\": {\"color\": \"olive\", \"size\": [50, 75, 10, 35, 50, 60, 80, 105, 65, 90, 90, 45, 50, 80, 40, 60, 68, 108, 115, 75, 60, 110, 50, 60, 95, 109, 59, 89], \"sizemode\": \"area\", \"sizeref\": 1.1333333333333333, \"symbol\": \"circle\"}, \"mode\": \"markers\", \"name\": \"Ground\", \"scene\": \"scene\", \"showlegend\": true, \"type\": \"scatter3d\", \"x\": [75, 100, 55, 80, 50, 80, 85, 130, 75, 60, 120, 100, 70, 100, 40, 70, 72, 112, 140, 95, 85, 135, 72, 82, 117, 66, 74, 124], \"y\": [20, 45, 35, 50, 40, 50, 30, 45, 35, 40, 60, 45, 50, 80, 40, 70, 38, 68, 55, 45, 30, 50, 35, 45, 65, 81, 35, 55], \"z\": [40, 65, 95, 120, 35, 45, 25, 40, 85, 40, 50, 10, 70, 100, 55, 75, 32, 47, 40, 95, 68, 88, 65, 74, 92, 32, 35, 55]}, {\"hovertemplate\": \"<b>%{hovertext}</b><br><br>Type 1=Fairy<br>Attack=%{x}<br>Sp. Atk=%{y}<br>Speed=%{z}<br>HP=%{marker.size}<extra></extra>\", \"hovertext\": [\"Clefairy\", \"Clefable\", \"Cleffa\", \"Togepi\", \"Togetic\", \"Snubbull\", \"Granbull\", \"Togekiss\", \"Flab\\u00e9b\\u00e9\", \"Floette\", \"Florges\", \"Spritzee\", \"Aromatisse\", \"Swirlix\", \"Slurpuff\", \"Sylveon\"], \"legendgroup\": \"Fairy\", \"marker\": {\"color\": \"#C71585\", \"size\": [70, 95, 50, 35, 55, 60, 90, 85, 44, 54, 78, 78, 101, 62, 82, 95], \"sizemode\": \"area\", \"sizeref\": 1.1333333333333333, \"symbol\": \"circle\"}, \"mode\": \"markers\", \"name\": \"Fairy\", \"scene\": \"scene\", \"showlegend\": true, \"type\": \"scatter3d\", \"x\": [45, 70, 25, 20, 40, 80, 120, 50, 38, 45, 65, 52, 72, 48, 80, 65], \"y\": [60, 95, 45, 40, 80, 40, 60, 120, 61, 75, 112, 63, 99, 59, 85, 110], \"z\": [35, 60, 15, 20, 40, 30, 45, 80, 42, 52, 75, 23, 29, 49, 72, 60]}, {\"hovertemplate\": \"<b>%{hovertext}</b><br><br>Type 1=Fighting<br>Attack=%{x}<br>Sp. Atk=%{y}<br>Speed=%{z}<br>HP=%{marker.size}<extra></extra>\", \"hovertext\": [\"Mankey\", \"Primeape\", \"Machop\", \"Machoke\", \"Machamp\", \"Hitmonlee\", \"Hitmonchan\", \"Tyrogue\", \"Hitmontop\", \"Makuhita\", \"Hariyama\", \"Meditite\", \"Medicham\", \"MedichamMega Medicham\", \"Riolu\", \"Lucario\", \"LucarioMega Lucario\", \"Timburr\", \"Gurdurr\", \"Conkeldurr\", \"Throh\", \"Sawk\", \"Mienfoo\", \"Mienshao\", \"Pancham\", \"Pangoro\", \"Hawlucha\"], \"legendgroup\": \"Fighting\", \"marker\": {\"color\": \"brown\", \"size\": [40, 65, 70, 80, 90, 50, 50, 35, 50, 72, 144, 30, 60, 60, 40, 70, 70, 75, 85, 105, 120, 75, 45, 65, 67, 95, 78], \"sizemode\": \"area\", \"sizeref\": 1.1333333333333333, \"symbol\": \"circle\"}, \"mode\": \"markers\", \"name\": \"Fighting\", \"scene\": \"scene\", \"showlegend\": true, \"type\": \"scatter3d\", \"x\": [80, 105, 80, 100, 130, 120, 105, 35, 95, 60, 120, 40, 60, 100, 70, 110, 145, 80, 105, 140, 100, 125, 85, 125, 82, 124, 92], \"y\": [35, 60, 35, 50, 65, 35, 35, 35, 35, 20, 40, 40, 60, 80, 35, 115, 140, 25, 40, 55, 30, 30, 55, 95, 46, 69, 74], \"z\": [70, 95, 35, 45, 55, 87, 76, 35, 70, 25, 50, 60, 80, 100, 60, 90, 112, 35, 40, 45, 45, 85, 65, 105, 43, 58, 118]}, {\"hovertemplate\": \"<b>%{hovertext}</b><br><br>Type 1=Psychic<br>Attack=%{x}<br>Sp. Atk=%{y}<br>Speed=%{z}<br>HP=%{marker.size}<extra></extra>\", \"hovertext\": [\"Abra\", \"Kadabra\", \"Alakazam\", \"AlakazamMega Alakazam\", \"Drowzee\", \"Hypno\", \"Mr. Mime\", \"Mew\", \"Natu\", \"Xatu\", \"Espeon\", \"Unown\", \"Wobbuffet\", \"Celebi\", \"Ralts\", \"Kirlia\", \"Gardevoir\", \"GardevoirMega Gardevoir\", \"Spoink\", \"Grumpig\", \"Chimecho\", \"Wynaut\", \"Chingling\", \"Mime Jr.\", \"Gallade\", \"GalladeMega Gallade\", \"Cresselia\", \"Munna\", \"Musharna\", \"Woobat\", \"Swoobat\", \"Sigilyph\", \"Gothita\", \"Gothorita\", \"Gothitelle\", \"Solosis\", \"Duosion\", \"Reuniclus\", \"Elgyem\", \"Beheeyem\", \"Espurr\", \"MeowsticMale\", \"MeowsticFemale\"], \"legendgroup\": \"Psychic\", \"marker\": {\"color\": \"crimson\", \"size\": [25, 40, 55, 55, 60, 85, 40, 100, 40, 65, 65, 48, 190, 100, 28, 38, 68, 68, 60, 80, 65, 95, 45, 20, 68, 68, 120, 76, 116, 55, 67, 72, 45, 60, 70, 45, 65, 110, 55, 75, 62, 74, 74], \"sizemode\": \"area\", \"sizeref\": 1.1333333333333333, \"symbol\": \"circle\"}, \"mode\": \"markers\", \"name\": \"Psychic\", \"scene\": \"scene\", \"showlegend\": true, \"type\": \"scatter3d\", \"x\": [20, 35, 50, 50, 48, 73, 45, 100, 50, 75, 65, 72, 33, 100, 25, 35, 65, 85, 25, 45, 50, 23, 30, 25, 125, 165, 70, 25, 55, 45, 57, 58, 30, 45, 55, 30, 40, 65, 55, 75, 48, 48, 48], \"y\": [105, 120, 135, 175, 43, 73, 100, 100, 70, 95, 130, 72, 33, 100, 45, 65, 125, 165, 70, 90, 95, 23, 65, 70, 65, 65, 75, 67, 107, 55, 77, 103, 55, 75, 95, 105, 125, 125, 85, 125, 63, 83, 83], \"z\": [90, 105, 120, 150, 42, 67, 90, 100, 70, 95, 110, 48, 33, 100, 40, 50, 80, 100, 60, 80, 65, 23, 45, 60, 80, 110, 85, 24, 29, 72, 114, 97, 45, 55, 65, 20, 30, 30, 30, 40, 68, 104, 104]}, {\"hovertemplate\": \"<b>%{hovertext}</b><br><br>Type 1=Rock<br>Attack=%{x}<br>Sp. Atk=%{y}<br>Speed=%{z}<br>HP=%{marker.size}<extra></extra>\", \"hovertext\": [\"Geodude\", \"Graveler\", \"Golem\", \"Onix\", \"Omanyte\", \"Omastar\", \"Kabuto\", \"Kabutops\", \"Aerodactyl\", \"AerodactylMega Aerodactyl\", \"Sudowoodo\", \"Larvitar\", \"Pupitar\", \"Tyranitar\", \"TyranitarMega Tyranitar\", \"Nosepass\", \"Lunatone\", \"Solrock\", \"Lileep\", \"Cradily\", \"Anorith\", \"Armaldo\", \"Cranidos\", \"Rampardos\", \"Shieldon\", \"Bastiodon\", \"Bonsly\", \"Probopass\", \"Roggenrola\", \"Boldore\", \"Gigalith\", \"Archen\", \"Archeops\", \"Binacle\", \"Barbaracle\", \"Tyrunt\", \"Tyrantrum\", \"Amaura\", \"Aurorus\", \"Carbink\"], \"legendgroup\": \"Rock\", \"marker\": {\"color\": \"#B8860B\", \"size\": [40, 55, 80, 35, 35, 70, 30, 60, 80, 80, 70, 50, 70, 100, 100, 30, 70, 70, 66, 86, 45, 75, 67, 97, 30, 60, 50, 60, 55, 70, 85, 55, 75, 42, 72, 58, 82, 77, 123, 50], \"sizemode\": \"area\", \"sizeref\": 1.1333333333333333, \"symbol\": \"circle\"}, \"mode\": \"markers\", \"name\": \"Rock\", \"scene\": \"scene\", \"showlegend\": true, \"type\": \"scatter3d\", \"x\": [80, 95, 120, 45, 40, 60, 80, 115, 105, 135, 100, 64, 84, 134, 164, 45, 55, 95, 41, 81, 95, 125, 125, 165, 42, 52, 80, 55, 75, 105, 135, 112, 140, 52, 105, 89, 121, 59, 77, 50], \"y\": [30, 45, 55, 30, 90, 115, 55, 65, 60, 70, 30, 45, 65, 95, 95, 45, 95, 55, 61, 81, 40, 70, 30, 65, 42, 47, 10, 75, 25, 50, 60, 74, 112, 39, 54, 45, 69, 67, 99, 50], \"z\": [20, 35, 45, 70, 35, 55, 55, 80, 130, 150, 30, 41, 51, 61, 71, 30, 70, 70, 23, 43, 75, 45, 58, 58, 30, 30, 10, 40, 15, 20, 25, 70, 110, 50, 68, 48, 71, 46, 58, 50]}, {\"hovertemplate\": \"<b>%{hovertext}</b><br><br>Type 1=Ghost<br>Attack=%{x}<br>Sp. Atk=%{y}<br>Speed=%{z}<br>HP=%{marker.size}<extra></extra>\", \"hovertext\": [\"Gastly\", \"Haunter\", \"Gengar\", \"GengarMega Gengar\", \"Misdreavus\", \"Shuppet\", \"Banette\", \"BanetteMega Banette\", \"Duskull\", \"Dusclops\", \"Drifloon\", \"Drifblim\", \"Mismagius\", \"Spiritomb\", \"Dusknoir\", \"Yamask\", \"Cofagrigus\", \"Litwick\", \"Lampent\", \"Chandelure\", \"Phantump\", \"Trevenant\", \"PumpkabooAverage Size\", \"PumpkabooSmall Size\", \"PumpkabooLarge Size\", \"PumpkabooSuper Size\", \"GourgeistAverage Size\", \"GourgeistSmall Size\", \"GourgeistLarge Size\", \"GourgeistSuper Size\"], \"legendgroup\": \"Ghost\", \"marker\": {\"color\": \"indigo\", \"size\": [30, 45, 60, 60, 60, 44, 64, 64, 20, 40, 90, 150, 60, 50, 45, 38, 58, 50, 60, 60, 43, 85, 49, 44, 54, 59, 65, 55, 75, 85], \"sizemode\": \"area\", \"sizeref\": 1.1333333333333333, \"symbol\": \"circle\"}, \"mode\": \"markers\", \"name\": \"Ghost\", \"scene\": \"scene\", \"showlegend\": true, \"type\": \"scatter3d\", \"x\": [35, 50, 65, 65, 60, 75, 115, 165, 40, 70, 50, 80, 60, 92, 100, 30, 50, 30, 40, 55, 70, 110, 66, 66, 66, 66, 90, 85, 95, 100], \"y\": [100, 115, 130, 170, 85, 63, 83, 93, 30, 60, 60, 90, 105, 92, 65, 55, 95, 65, 95, 145, 50, 65, 44, 44, 44, 44, 58, 58, 58, 58], \"z\": [80, 95, 110, 130, 85, 45, 65, 75, 25, 25, 70, 80, 105, 35, 45, 30, 30, 20, 55, 80, 38, 56, 51, 56, 46, 41, 84, 99, 69, 54]}, {\"hovertemplate\": \"<b>%{hovertext}</b><br><br>Type 1=Ice<br>Attack=%{x}<br>Sp. Atk=%{y}<br>Speed=%{z}<br>HP=%{marker.size}<extra></extra>\", \"hovertext\": [\"Jynx\", \"Swinub\", \"Piloswine\", \"Delibird\", \"Smoochum\", \"Snorunt\", \"Glalie\", \"GlalieMega Glalie\", \"Spheal\", \"Sealeo\", \"Walrein\", \"Glaceon\", \"Mamoswine\", \"Froslass\", \"Vanillite\", \"Vanillish\", \"Vanilluxe\", \"Cubchoo\", \"Beartic\", \"Cryogonal\", \"Bergmite\", \"Avalugg\"], \"legendgroup\": \"Ice\", \"marker\": {\"color\": \"aqua\", \"size\": [65, 50, 100, 45, 45, 50, 80, 80, 70, 90, 110, 65, 110, 70, 36, 51, 71, 55, 95, 70, 55, 95], \"sizemode\": \"area\", \"sizeref\": 1.1333333333333333, \"symbol\": \"circle\"}, \"mode\": \"markers\", \"name\": \"Ice\", \"scene\": \"scene\", \"showlegend\": true, \"type\": \"scatter3d\", \"x\": [50, 50, 100, 55, 30, 50, 80, 120, 40, 60, 80, 60, 130, 80, 50, 65, 95, 70, 110, 50, 69, 117], \"y\": [115, 30, 60, 65, 85, 50, 80, 120, 55, 75, 95, 130, 70, 80, 65, 80, 110, 60, 70, 95, 32, 44], \"z\": [95, 50, 50, 75, 65, 50, 80, 100, 25, 45, 65, 65, 80, 110, 44, 59, 79, 40, 50, 105, 28, 28]}, {\"hovertemplate\": \"<b>%{hovertext}</b><br><br>Type 1=Dragon<br>Attack=%{x}<br>Sp. Atk=%{y}<br>Speed=%{z}<br>HP=%{marker.size}<extra></extra>\", \"hovertext\": [\"Dratini\", \"Dragonair\", \"Dragonite\", \"Altaria\", \"AltariaMega Altaria\", \"Bagon\", \"Shelgon\", \"Salamence\", \"SalamenceMega Salamence\", \"Gible\", \"Gabite\", \"Garchomp\", \"GarchompMega Garchomp\", \"Axew\", \"Fraxure\", \"Haxorus\", \"Druddigon\", \"Goomy\", \"Sliggoo\", \"Goodra\"], \"legendgroup\": \"Dragon\", \"marker\": {\"color\": \"#000080\", \"size\": [41, 61, 91, 75, 75, 45, 65, 95, 95, 58, 68, 108, 108, 46, 66, 76, 77, 45, 68, 90], \"sizemode\": \"area\", \"sizeref\": 1.1333333333333333, \"symbol\": \"circle\"}, \"mode\": \"markers\", \"name\": \"Dragon\", \"scene\": \"scene\", \"showlegend\": true, \"type\": \"scatter3d\", \"x\": [64, 84, 134, 70, 110, 75, 95, 135, 145, 70, 90, 130, 170, 87, 117, 147, 120, 50, 75, 100], \"y\": [50, 70, 100, 70, 110, 40, 60, 110, 120, 40, 50, 80, 120, 30, 40, 60, 60, 55, 83, 110], \"z\": [50, 70, 80, 80, 80, 50, 50, 100, 120, 42, 82, 102, 92, 57, 67, 97, 48, 40, 60, 80]}, {\"hovertemplate\": \"<b>%{hovertext}</b><br><br>Type 1=Dark<br>Attack=%{x}<br>Sp. Atk=%{y}<br>Speed=%{z}<br>HP=%{marker.size}<extra></extra>\", \"hovertext\": [\"Umbreon\", \"Murkrow\", \"Sneasel\", \"Houndour\", \"Houndoom\", \"HoundoomMega Houndoom\", \"Poochyena\", \"Mightyena\", \"Sableye\", \"SableyeMega Sableye\", \"Absol\", \"AbsolMega Absol\", \"Honchkrow\", \"Weavile\", \"Purrloin\", \"Liepard\", \"Scraggy\", \"Scrafty\", \"Zorua\", \"Zoroark\", \"Pawniard\", \"Bisharp\", \"Vullaby\", \"Mandibuzz\", \"Deino\", \"Zweilous\", \"Hydreigon\", \"Inkay\", \"Malamar\"], \"legendgroup\": \"Dark\", \"marker\": {\"color\": \"#2F4F4F\", \"size\": [95, 60, 55, 45, 75, 75, 35, 70, 50, 50, 65, 65, 100, 70, 41, 64, 50, 65, 40, 60, 45, 65, 70, 110, 52, 72, 92, 53, 86], \"sizemode\": \"area\", \"sizeref\": 1.1333333333333333, \"symbol\": \"circle\"}, \"mode\": \"markers\", \"name\": \"Dark\", \"scene\": \"scene\", \"showlegend\": true, \"type\": \"scatter3d\", \"x\": [65, 85, 95, 60, 90, 90, 55, 90, 75, 85, 130, 150, 125, 120, 50, 88, 75, 90, 65, 105, 85, 125, 55, 65, 65, 85, 105, 54, 92], \"y\": [60, 85, 35, 80, 110, 140, 30, 60, 65, 85, 75, 115, 105, 45, 50, 88, 35, 45, 80, 120, 40, 60, 45, 55, 45, 65, 125, 37, 68], \"z\": [65, 91, 115, 65, 95, 115, 35, 70, 50, 20, 75, 115, 71, 125, 66, 106, 48, 58, 65, 105, 60, 70, 60, 80, 38, 58, 98, 45, 73]}, {\"hovertemplate\": \"<b>%{hovertext}</b><br><br>Type 1=Steel<br>Attack=%{x}<br>Sp. Atk=%{y}<br>Speed=%{z}<br>HP=%{marker.size}<extra></extra>\", \"hovertext\": [\"Steelix\", \"SteelixMega Steelix\", \"Skarmory\", \"Mawile\", \"MawileMega Mawile\", \"Aron\", \"Lairon\", \"Aggron\", \"AggronMega Aggron\", \"Beldum\", \"Metang\", \"Metagross\", \"MetagrossMega Metagross\", \"Bronzor\", \"Bronzong\", \"Klink\", \"Klang\", \"Klinklang\", \"Honedge\", \"Doublade\", \"AegislashBlade Forme\", \"AegislashShield Forme\", \"Klefki\"], \"legendgroup\": \"Steel\", \"marker\": {\"color\": \"#C0C0C0\", \"size\": [75, 75, 65, 50, 50, 50, 60, 70, 70, 40, 60, 80, 80, 57, 67, 40, 60, 60, 45, 59, 60, 60, 57], \"sizemode\": \"area\", \"sizeref\": 1.1333333333333333, \"symbol\": \"circle\"}, \"mode\": \"markers\", \"name\": \"Steel\", \"scene\": \"scene\", \"showlegend\": true, \"type\": \"scatter3d\", \"x\": [85, 125, 80, 85, 105, 70, 90, 110, 140, 55, 75, 135, 145, 24, 89, 55, 80, 100, 80, 110, 150, 50, 80], \"y\": [55, 55, 40, 55, 55, 40, 50, 60, 60, 35, 55, 95, 105, 24, 79, 45, 70, 70, 35, 45, 150, 50, 80], \"z\": [30, 30, 70, 50, 50, 30, 40, 50, 50, 30, 50, 70, 110, 23, 33, 30, 50, 90, 28, 35, 60, 60, 75]}, {\"hovertemplate\": \"<b>%{hovertext}</b><br><br>Type 1=Flying<br>Attack=%{x}<br>Sp. Atk=%{y}<br>Speed=%{z}<br>HP=%{marker.size}<extra></extra>\", \"hovertext\": [\"Noibat\", \"Noivern\"], \"legendgroup\": \"Flying\", \"marker\": {\"color\": \"#D8BFD8\", \"size\": [40, 85], \"sizemode\": \"area\", \"sizeref\": 1.1333333333333333, \"symbol\": \"circle\"}, \"mode\": \"markers\", \"name\": \"Flying\", \"scene\": \"scene\", \"showlegend\": true, \"type\": \"scatter3d\", \"x\": [30, 70], \"y\": [45, 97], \"z\": [55, 123]}],                        {\"height\": 1000, \"legend\": {\"itemsizing\": \"constant\", \"title\": {\"text\": \"Type 1\"}, \"tracegroupgap\": 0}, \"scene\": {\"domain\": {\"x\": [0.0, 1.0], \"y\": [0.0, 1.0]}, \"xaxis\": {\"title\": {\"text\": \"Attack\"}}, \"yaxis\": {\"title\": {\"text\": \"Sp. Atk\"}}, \"zaxis\": {\"title\": {\"text\": \"Speed\"}}}, \"template\": {\"data\": {\"bar\": [{\"error_x\": {\"color\": \"#2a3f5f\"}, \"error_y\": {\"color\": \"#2a3f5f\"}, \"marker\": {\"line\": {\"color\": \"#E5ECF6\", \"width\": 0.5}}, \"type\": \"bar\"}], \"barpolar\": [{\"marker\": {\"line\": {\"color\": \"#E5ECF6\", \"width\": 0.5}}, \"type\": \"barpolar\"}], \"carpet\": [{\"aaxis\": {\"endlinecolor\": \"#2a3f5f\", \"gridcolor\": \"white\", \"linecolor\": \"white\", \"minorgridcolor\": \"white\", \"startlinecolor\": \"#2a3f5f\"}, \"baxis\": {\"endlinecolor\": \"#2a3f5f\", \"gridcolor\": \"white\", \"linecolor\": \"white\", \"minorgridcolor\": \"white\", \"startlinecolor\": \"#2a3f5f\"}, \"type\": \"carpet\"}], \"choropleth\": [{\"colorbar\": {\"outlinewidth\": 0, \"ticks\": \"\"}, \"type\": \"choropleth\"}], \"contour\": [{\"colorbar\": {\"outlinewidth\": 0, \"ticks\": \"\"}, \"colorscale\": [[0.0, \"#0d0887\"], [0.1111111111111111, \"#46039f\"], [0.2222222222222222, \"#7201a8\"], [0.3333333333333333, \"#9c179e\"], [0.4444444444444444, \"#bd3786\"], [0.5555555555555556, \"#d8576b\"], [0.6666666666666666, \"#ed7953\"], [0.7777777777777778, \"#fb9f3a\"], [0.8888888888888888, \"#fdca26\"], [1.0, \"#f0f921\"]], \"type\": \"contour\"}], \"contourcarpet\": [{\"colorbar\": {\"outlinewidth\": 0, \"ticks\": \"\"}, \"type\": \"contourcarpet\"}], \"heatmap\": [{\"colorbar\": {\"outlinewidth\": 0, \"ticks\": \"\"}, \"colorscale\": [[0.0, \"#0d0887\"], [0.1111111111111111, \"#46039f\"], [0.2222222222222222, \"#7201a8\"], [0.3333333333333333, \"#9c179e\"], [0.4444444444444444, \"#bd3786\"], [0.5555555555555556, \"#d8576b\"], [0.6666666666666666, \"#ed7953\"], [0.7777777777777778, \"#fb9f3a\"], [0.8888888888888888, \"#fdca26\"], [1.0, \"#f0f921\"]], \"type\": \"heatmap\"}], \"heatmapgl\": [{\"colorbar\": {\"outlinewidth\": 0, \"ticks\": \"\"}, \"colorscale\": [[0.0, \"#0d0887\"], [0.1111111111111111, \"#46039f\"], [0.2222222222222222, \"#7201a8\"], [0.3333333333333333, \"#9c179e\"], [0.4444444444444444, \"#bd3786\"], [0.5555555555555556, \"#d8576b\"], [0.6666666666666666, \"#ed7953\"], [0.7777777777777778, \"#fb9f3a\"], [0.8888888888888888, \"#fdca26\"], [1.0, \"#f0f921\"]], \"type\": \"heatmapgl\"}], \"histogram\": [{\"marker\": {\"colorbar\": {\"outlinewidth\": 0, \"ticks\": \"\"}}, \"type\": \"histogram\"}], \"histogram2d\": [{\"colorbar\": {\"outlinewidth\": 0, \"ticks\": \"\"}, \"colorscale\": [[0.0, \"#0d0887\"], [0.1111111111111111, \"#46039f\"], [0.2222222222222222, \"#7201a8\"], [0.3333333333333333, \"#9c179e\"], [0.4444444444444444, \"#bd3786\"], [0.5555555555555556, \"#d8576b\"], [0.6666666666666666, \"#ed7953\"], [0.7777777777777778, \"#fb9f3a\"], [0.8888888888888888, \"#fdca26\"], [1.0, \"#f0f921\"]], \"type\": \"histogram2d\"}], \"histogram2dcontour\": [{\"colorbar\": {\"outlinewidth\": 0, \"ticks\": \"\"}, \"colorscale\": [[0.0, \"#0d0887\"], [0.1111111111111111, \"#46039f\"], [0.2222222222222222, \"#7201a8\"], [0.3333333333333333, \"#9c179e\"], [0.4444444444444444, \"#bd3786\"], [0.5555555555555556, \"#d8576b\"], [0.6666666666666666, \"#ed7953\"], [0.7777777777777778, \"#fb9f3a\"], [0.8888888888888888, \"#fdca26\"], [1.0, \"#f0f921\"]], \"type\": \"histogram2dcontour\"}], \"mesh3d\": [{\"colorbar\": {\"outlinewidth\": 0, \"ticks\": \"\"}, \"type\": \"mesh3d\"}], \"parcoords\": [{\"line\": {\"colorbar\": {\"outlinewidth\": 0, \"ticks\": \"\"}}, \"type\": \"parcoords\"}], \"pie\": [{\"automargin\": true, \"type\": \"pie\"}], \"scatter\": [{\"marker\": {\"colorbar\": {\"outlinewidth\": 0, \"ticks\": \"\"}}, \"type\": \"scatter\"}], \"scatter3d\": [{\"line\": {\"colorbar\": {\"outlinewidth\": 0, \"ticks\": \"\"}}, \"marker\": {\"colorbar\": {\"outlinewidth\": 0, \"ticks\": \"\"}}, \"type\": \"scatter3d\"}], \"scattercarpet\": [{\"marker\": {\"colorbar\": {\"outlinewidth\": 0, \"ticks\": \"\"}}, \"type\": \"scattercarpet\"}], \"scattergeo\": [{\"marker\": {\"colorbar\": {\"outlinewidth\": 0, \"ticks\": \"\"}}, \"type\": \"scattergeo\"}], \"scattergl\": [{\"marker\": {\"colorbar\": {\"outlinewidth\": 0, \"ticks\": \"\"}}, \"type\": \"scattergl\"}], \"scattermapbox\": [{\"marker\": {\"colorbar\": {\"outlinewidth\": 0, \"ticks\": \"\"}}, \"type\": \"scattermapbox\"}], \"scatterpolar\": [{\"marker\": {\"colorbar\": {\"outlinewidth\": 0, \"ticks\": \"\"}}, \"type\": \"scatterpolar\"}], \"scatterpolargl\": [{\"marker\": {\"colorbar\": {\"outlinewidth\": 0, \"ticks\": \"\"}}, \"type\": \"scatterpolargl\"}], \"scatterternary\": [{\"marker\": {\"colorbar\": {\"outlinewidth\": 0, \"ticks\": \"\"}}, \"type\": \"scatterternary\"}], \"surface\": [{\"colorbar\": {\"outlinewidth\": 0, \"ticks\": \"\"}, \"colorscale\": [[0.0, \"#0d0887\"], [0.1111111111111111, \"#46039f\"], [0.2222222222222222, \"#7201a8\"], [0.3333333333333333, \"#9c179e\"], [0.4444444444444444, \"#bd3786\"], [0.5555555555555556, \"#d8576b\"], [0.6666666666666666, \"#ed7953\"], [0.7777777777777778, \"#fb9f3a\"], [0.8888888888888888, \"#fdca26\"], [1.0, \"#f0f921\"]], \"type\": \"surface\"}], \"table\": [{\"cells\": {\"fill\": {\"color\": \"#EBF0F8\"}, \"line\": {\"color\": \"white\"}}, \"header\": {\"fill\": {\"color\": \"#C8D4E3\"}, \"line\": {\"color\": \"white\"}}, \"type\": \"table\"}]}, \"layout\": {\"annotationdefaults\": {\"arrowcolor\": \"#2a3f5f\", \"arrowhead\": 0, \"arrowwidth\": 1}, \"coloraxis\": {\"colorbar\": {\"outlinewidth\": 0, \"ticks\": \"\"}}, \"colorscale\": {\"diverging\": [[0, \"#8e0152\"], [0.1, \"#c51b7d\"], [0.2, \"#de77ae\"], [0.3, \"#f1b6da\"], [0.4, \"#fde0ef\"], [0.5, \"#f7f7f7\"], [0.6, \"#e6f5d0\"], [0.7, \"#b8e186\"], [0.8, \"#7fbc41\"], [0.9, \"#4d9221\"], [1, \"#276419\"]], \"sequential\": [[0.0, \"#0d0887\"], [0.1111111111111111, \"#46039f\"], [0.2222222222222222, \"#7201a8\"], [0.3333333333333333, \"#9c179e\"], [0.4444444444444444, \"#bd3786\"], [0.5555555555555556, \"#d8576b\"], [0.6666666666666666, \"#ed7953\"], [0.7777777777777778, \"#fb9f3a\"], [0.8888888888888888, \"#fdca26\"], [1.0, \"#f0f921\"]], \"sequentialminus\": [[0.0, \"#0d0887\"], [0.1111111111111111, \"#46039f\"], [0.2222222222222222, \"#7201a8\"], [0.3333333333333333, \"#9c179e\"], [0.4444444444444444, \"#bd3786\"], [0.5555555555555556, \"#d8576b\"], [0.6666666666666666, \"#ed7953\"], [0.7777777777777778, \"#fb9f3a\"], [0.8888888888888888, \"#fdca26\"], [1.0, \"#f0f921\"]]}, \"colorway\": [\"#636efa\", \"#EF553B\", \"#00cc96\", \"#ab63fa\", \"#FFA15A\", \"#19d3f3\", \"#FF6692\", \"#B6E880\", \"#FF97FF\", \"#FECB52\"], \"font\": {\"color\": \"#2a3f5f\"}, \"geo\": {\"bgcolor\": \"white\", \"lakecolor\": \"white\", \"landcolor\": \"#E5ECF6\", \"showlakes\": true, \"showland\": true, \"subunitcolor\": \"white\"}, \"hoverlabel\": {\"align\": \"left\"}, \"hovermode\": \"closest\", \"mapbox\": {\"style\": \"light\"}, \"paper_bgcolor\": \"white\", \"plot_bgcolor\": \"#E5ECF6\", \"polar\": {\"angularaxis\": {\"gridcolor\": \"white\", \"linecolor\": \"white\", \"ticks\": \"\"}, \"bgcolor\": \"#E5ECF6\", \"radialaxis\": {\"gridcolor\": \"white\", \"linecolor\": \"white\", \"ticks\": \"\"}}, \"scene\": {\"xaxis\": {\"backgroundcolor\": \"#E5ECF6\", \"gridcolor\": \"white\", \"gridwidth\": 2, \"linecolor\": \"white\", \"showbackground\": true, \"ticks\": \"\", \"zerolinecolor\": \"white\"}, \"yaxis\": {\"backgroundcolor\": \"#E5ECF6\", \"gridcolor\": \"white\", \"gridwidth\": 2, \"linecolor\": \"white\", \"showbackground\": true, \"ticks\": \"\", \"zerolinecolor\": \"white\"}, \"zaxis\": {\"backgroundcolor\": \"#E5ECF6\", \"gridcolor\": \"white\", \"gridwidth\": 2, \"linecolor\": \"white\", \"showbackground\": true, \"ticks\": \"\", \"zerolinecolor\": \"white\"}}, \"shapedefaults\": {\"line\": {\"color\": \"#2a3f5f\"}}, \"ternary\": {\"aaxis\": {\"gridcolor\": \"white\", \"linecolor\": \"white\", \"ticks\": \"\"}, \"baxis\": {\"gridcolor\": \"white\", \"linecolor\": \"white\", \"ticks\": \"\"}, \"bgcolor\": \"#E5ECF6\", \"caxis\": {\"gridcolor\": \"white\", \"linecolor\": \"white\", \"ticks\": \"\"}}, \"title\": {\"x\": 0.05}, \"xaxis\": {\"automargin\": true, \"gridcolor\": \"white\", \"linecolor\": \"white\", \"ticks\": \"\", \"title\": {\"standoff\": 15}, \"zerolinecolor\": \"white\", \"zerolinewidth\": 2}, \"yaxis\": {\"automargin\": true, \"gridcolor\": \"white\", \"linecolor\": \"white\", \"ticks\": \"\", \"title\": {\"standoff\": 15}, \"zerolinecolor\": \"white\", \"zerolinewidth\": 2}}}, \"title\": {\"text\": \"Pokemons\"}},                        {\"responsive\": true}                    ).then(function(){\n",
       "                            \n",
       "var gd = document.getElementById('f5a7cd8d-0b3d-457c-bcd1-864e86cc966d');\n",
       "var x = new MutationObserver(function (mutations, observer) {{\n",
       "        var display = window.getComputedStyle(gd).display;\n",
       "        if (!display || display === 'none') {{\n",
       "            console.log([gd, 'removed!']);\n",
       "            Plotly.purge(gd);\n",
       "            observer.disconnect();\n",
       "        }}\n",
       "}});\n",
       "\n",
       "// Listen for the removal of the full notebook cells\n",
       "var notebookContainer = gd.closest('#notebook-container');\n",
       "if (notebookContainer) {{\n",
       "    x.observe(notebookContainer, {childList: true});\n",
       "}}\n",
       "\n",
       "// Listen for the clearing of the current output cell\n",
       "var outputEl = gd.closest('.output');\n",
       "if (outputEl) {{\n",
       "    x.observe(outputEl, {childList: true});\n",
       "}}\n",
       "\n",
       "                        })                };                });            </script>        </div>"
      ]
     },
     "metadata": {},
     "output_type": "display_data"
    }
   ],
   "source": [
    "# A refined version\n",
    "# We take Atk, Sp. Atk, and Speed as x, y, z, and take HP as size, the fourth dimension.\n",
    "# What's more, we will map the color according to the color used in the game.\n",
    "\n",
    "df_4d_assh = df_non_legendary[[\"Name\",\"Type 1\",\"HP\",\"Attack\",\"Sp. Atk\",\"Speed\"]]\n",
    "assh_4d_plot = px.scatter_3d(\n",
    "    df_4d_assh,\n",
    "    title=\"Pokemons\",\n",
    "    x='Attack', \n",
    "    y='Sp. Atk', \n",
    "    z='Speed',\n",
    "    color='Type 1',\n",
    "    hover_name='Name',\n",
    "    size=\"HP\",\n",
    "    size_max=15,\n",
    "    height=1000,\n",
    "    color_discrete_sequence=[\n",
    "        \"green\",\n",
    "        \"red\",\n",
    "        \"blue\",\n",
    "        \"#DEB887\",\n",
    "        \"grey\",\n",
    "        \"#8B008B\",\n",
    "        \"gold\",\n",
    "        \"olive\",\n",
    "        \"#C71585\",\n",
    "        \"brown\",\n",
    "        \"crimson\",\n",
    "        \"#B8860B\",\n",
    "        \"indigo\",\n",
    "        \"aqua\",\n",
    "        \"#000080\",\n",
    "        \"#2F4F4F\",\n",
    "        \"#C0C0C0\",\n",
    "        \"#D8BFD8\"\n",
    "    ]\n",
    ")\n",
    "assh_4d_plot.show()\n",
    "\n",
    "\n",
    "# Can we add a filter on this plot?\n",
    "# Honestly, I have not yet found an api to add filter directly, but since plotly is embedded in dash, so we can use dash do add filters in any way!"
   ]
  },
  {
   "cell_type": "markdown",
   "metadata": {},
   "source": [
    "# 机器学习"
   ]
  },
  {
   "cell_type": "code",
   "execution_count": 146,
   "metadata": {},
   "outputs": [],
   "source": [
    "from sklearn.tree import DecisionTreeClassifier # Import Decision Tree Classifier\n",
    "from sklearn.model_selection import train_test_split # Import train_test_split function\n",
    "from sklearn import metrics #Import scikit-learn metrics module for accuracy calculation"
   ]
  },
  {
   "cell_type": "code",
   "execution_count": 192,
   "metadata": {},
   "outputs": [
    {
     "data": {
      "text/html": [
       "<div>\n",
       "<style scoped>\n",
       "    .dataframe tbody tr th:only-of-type {\n",
       "        vertical-align: middle;\n",
       "    }\n",
       "\n",
       "    .dataframe tbody tr th {\n",
       "        vertical-align: top;\n",
       "    }\n",
       "\n",
       "    .dataframe thead th {\n",
       "        text-align: right;\n",
       "    }\n",
       "</style>\n",
       "<table border=\"1\" class=\"dataframe\">\n",
       "  <thead>\n",
       "    <tr style=\"text-align: right;\">\n",
       "      <th></th>\n",
       "      <th>Name</th>\n",
       "      <th>Type 1</th>\n",
       "      <th>Type 2</th>\n",
       "      <th>Total</th>\n",
       "      <th>HP</th>\n",
       "      <th>Attack</th>\n",
       "      <th>Defense</th>\n",
       "      <th>Sp. Atk</th>\n",
       "      <th>Sp. Def</th>\n",
       "      <th>Speed</th>\n",
       "      <th>...</th>\n",
       "      <th>Ice_1</th>\n",
       "      <th>Ice_2</th>\n",
       "      <th>Dragon_1</th>\n",
       "      <th>Dragon_2</th>\n",
       "      <th>Dark_1</th>\n",
       "      <th>Dark_2</th>\n",
       "      <th>Steel_1</th>\n",
       "      <th>Steel_2</th>\n",
       "      <th>Flying_1</th>\n",
       "      <th>Flying_2</th>\n",
       "    </tr>\n",
       "  </thead>\n",
       "  <tbody>\n",
       "    <tr>\n",
       "      <th>0</th>\n",
       "      <td>Bulbasaur</td>\n",
       "      <td>Grass</td>\n",
       "      <td>Poison</td>\n",
       "      <td>318</td>\n",
       "      <td>45</td>\n",
       "      <td>49</td>\n",
       "      <td>49</td>\n",
       "      <td>65</td>\n",
       "      <td>65</td>\n",
       "      <td>45</td>\n",
       "      <td>...</td>\n",
       "      <td>0</td>\n",
       "      <td>0</td>\n",
       "      <td>0</td>\n",
       "      <td>0</td>\n",
       "      <td>0</td>\n",
       "      <td>0</td>\n",
       "      <td>0</td>\n",
       "      <td>0</td>\n",
       "      <td>0</td>\n",
       "      <td>0</td>\n",
       "    </tr>\n",
       "    <tr>\n",
       "      <th>1</th>\n",
       "      <td>Ivysaur</td>\n",
       "      <td>Grass</td>\n",
       "      <td>Poison</td>\n",
       "      <td>405</td>\n",
       "      <td>60</td>\n",
       "      <td>62</td>\n",
       "      <td>63</td>\n",
       "      <td>80</td>\n",
       "      <td>80</td>\n",
       "      <td>60</td>\n",
       "      <td>...</td>\n",
       "      <td>0</td>\n",
       "      <td>0</td>\n",
       "      <td>0</td>\n",
       "      <td>0</td>\n",
       "      <td>0</td>\n",
       "      <td>0</td>\n",
       "      <td>0</td>\n",
       "      <td>0</td>\n",
       "      <td>0</td>\n",
       "      <td>0</td>\n",
       "    </tr>\n",
       "    <tr>\n",
       "      <th>2</th>\n",
       "      <td>Venusaur</td>\n",
       "      <td>Grass</td>\n",
       "      <td>Poison</td>\n",
       "      <td>525</td>\n",
       "      <td>80</td>\n",
       "      <td>82</td>\n",
       "      <td>83</td>\n",
       "      <td>100</td>\n",
       "      <td>100</td>\n",
       "      <td>80</td>\n",
       "      <td>...</td>\n",
       "      <td>0</td>\n",
       "      <td>0</td>\n",
       "      <td>0</td>\n",
       "      <td>0</td>\n",
       "      <td>0</td>\n",
       "      <td>0</td>\n",
       "      <td>0</td>\n",
       "      <td>0</td>\n",
       "      <td>0</td>\n",
       "      <td>0</td>\n",
       "    </tr>\n",
       "    <tr>\n",
       "      <th>3</th>\n",
       "      <td>VenusaurMega Venusaur</td>\n",
       "      <td>Grass</td>\n",
       "      <td>Poison</td>\n",
       "      <td>625</td>\n",
       "      <td>80</td>\n",
       "      <td>100</td>\n",
       "      <td>123</td>\n",
       "      <td>122</td>\n",
       "      <td>120</td>\n",
       "      <td>80</td>\n",
       "      <td>...</td>\n",
       "      <td>0</td>\n",
       "      <td>0</td>\n",
       "      <td>0</td>\n",
       "      <td>0</td>\n",
       "      <td>0</td>\n",
       "      <td>0</td>\n",
       "      <td>0</td>\n",
       "      <td>0</td>\n",
       "      <td>0</td>\n",
       "      <td>0</td>\n",
       "    </tr>\n",
       "    <tr>\n",
       "      <th>4</th>\n",
       "      <td>Charmander</td>\n",
       "      <td>Fire</td>\n",
       "      <td>NaN</td>\n",
       "      <td>309</td>\n",
       "      <td>39</td>\n",
       "      <td>52</td>\n",
       "      <td>43</td>\n",
       "      <td>60</td>\n",
       "      <td>50</td>\n",
       "      <td>65</td>\n",
       "      <td>...</td>\n",
       "      <td>0</td>\n",
       "      <td>0</td>\n",
       "      <td>0</td>\n",
       "      <td>0</td>\n",
       "      <td>0</td>\n",
       "      <td>0</td>\n",
       "      <td>0</td>\n",
       "      <td>0</td>\n",
       "      <td>0</td>\n",
       "      <td>0</td>\n",
       "    </tr>\n",
       "    <tr>\n",
       "      <th>...</th>\n",
       "      <td>...</td>\n",
       "      <td>...</td>\n",
       "      <td>...</td>\n",
       "      <td>...</td>\n",
       "      <td>...</td>\n",
       "      <td>...</td>\n",
       "      <td>...</td>\n",
       "      <td>...</td>\n",
       "      <td>...</td>\n",
       "      <td>...</td>\n",
       "      <td>...</td>\n",
       "      <td>...</td>\n",
       "      <td>...</td>\n",
       "      <td>...</td>\n",
       "      <td>...</td>\n",
       "      <td>...</td>\n",
       "      <td>...</td>\n",
       "      <td>...</td>\n",
       "      <td>...</td>\n",
       "      <td>...</td>\n",
       "      <td>...</td>\n",
       "    </tr>\n",
       "    <tr>\n",
       "      <th>795</th>\n",
       "      <td>Diancie</td>\n",
       "      <td>Rock</td>\n",
       "      <td>Fairy</td>\n",
       "      <td>600</td>\n",
       "      <td>50</td>\n",
       "      <td>100</td>\n",
       "      <td>150</td>\n",
       "      <td>100</td>\n",
       "      <td>150</td>\n",
       "      <td>50</td>\n",
       "      <td>...</td>\n",
       "      <td>0</td>\n",
       "      <td>0</td>\n",
       "      <td>0</td>\n",
       "      <td>0</td>\n",
       "      <td>0</td>\n",
       "      <td>0</td>\n",
       "      <td>0</td>\n",
       "      <td>0</td>\n",
       "      <td>0</td>\n",
       "      <td>0</td>\n",
       "    </tr>\n",
       "    <tr>\n",
       "      <th>796</th>\n",
       "      <td>DiancieMega Diancie</td>\n",
       "      <td>Rock</td>\n",
       "      <td>Fairy</td>\n",
       "      <td>700</td>\n",
       "      <td>50</td>\n",
       "      <td>160</td>\n",
       "      <td>110</td>\n",
       "      <td>160</td>\n",
       "      <td>110</td>\n",
       "      <td>110</td>\n",
       "      <td>...</td>\n",
       "      <td>0</td>\n",
       "      <td>0</td>\n",
       "      <td>0</td>\n",
       "      <td>0</td>\n",
       "      <td>0</td>\n",
       "      <td>0</td>\n",
       "      <td>0</td>\n",
       "      <td>0</td>\n",
       "      <td>0</td>\n",
       "      <td>0</td>\n",
       "    </tr>\n",
       "    <tr>\n",
       "      <th>797</th>\n",
       "      <td>HoopaHoopa Confined</td>\n",
       "      <td>Psychic</td>\n",
       "      <td>Ghost</td>\n",
       "      <td>600</td>\n",
       "      <td>80</td>\n",
       "      <td>110</td>\n",
       "      <td>60</td>\n",
       "      <td>150</td>\n",
       "      <td>130</td>\n",
       "      <td>70</td>\n",
       "      <td>...</td>\n",
       "      <td>0</td>\n",
       "      <td>0</td>\n",
       "      <td>0</td>\n",
       "      <td>0</td>\n",
       "      <td>0</td>\n",
       "      <td>0</td>\n",
       "      <td>0</td>\n",
       "      <td>0</td>\n",
       "      <td>0</td>\n",
       "      <td>0</td>\n",
       "    </tr>\n",
       "    <tr>\n",
       "      <th>798</th>\n",
       "      <td>HoopaHoopa Unbound</td>\n",
       "      <td>Psychic</td>\n",
       "      <td>Dark</td>\n",
       "      <td>680</td>\n",
       "      <td>80</td>\n",
       "      <td>160</td>\n",
       "      <td>60</td>\n",
       "      <td>170</td>\n",
       "      <td>130</td>\n",
       "      <td>80</td>\n",
       "      <td>...</td>\n",
       "      <td>0</td>\n",
       "      <td>0</td>\n",
       "      <td>0</td>\n",
       "      <td>0</td>\n",
       "      <td>0</td>\n",
       "      <td>1</td>\n",
       "      <td>0</td>\n",
       "      <td>0</td>\n",
       "      <td>0</td>\n",
       "      <td>0</td>\n",
       "    </tr>\n",
       "    <tr>\n",
       "      <th>799</th>\n",
       "      <td>Volcanion</td>\n",
       "      <td>Fire</td>\n",
       "      <td>Water</td>\n",
       "      <td>600</td>\n",
       "      <td>80</td>\n",
       "      <td>110</td>\n",
       "      <td>120</td>\n",
       "      <td>130</td>\n",
       "      <td>90</td>\n",
       "      <td>70</td>\n",
       "      <td>...</td>\n",
       "      <td>0</td>\n",
       "      <td>0</td>\n",
       "      <td>0</td>\n",
       "      <td>0</td>\n",
       "      <td>0</td>\n",
       "      <td>0</td>\n",
       "      <td>0</td>\n",
       "      <td>0</td>\n",
       "      <td>0</td>\n",
       "      <td>0</td>\n",
       "    </tr>\n",
       "  </tbody>\n",
       "</table>\n",
       "<p>800 rows × 47 columns</p>\n",
       "</div>"
      ],
      "text/plain": [
       "                      Name   Type 1  Type 2  Total  HP  Attack  Defense  \\\n",
       "0                Bulbasaur    Grass  Poison    318  45      49       49   \n",
       "1                  Ivysaur    Grass  Poison    405  60      62       63   \n",
       "2                 Venusaur    Grass  Poison    525  80      82       83   \n",
       "3    VenusaurMega Venusaur    Grass  Poison    625  80     100      123   \n",
       "4               Charmander     Fire     NaN    309  39      52       43   \n",
       "..                     ...      ...     ...    ...  ..     ...      ...   \n",
       "795                Diancie     Rock   Fairy    600  50     100      150   \n",
       "796    DiancieMega Diancie     Rock   Fairy    700  50     160      110   \n",
       "797    HoopaHoopa Confined  Psychic   Ghost    600  80     110       60   \n",
       "798     HoopaHoopa Unbound  Psychic    Dark    680  80     160       60   \n",
       "799              Volcanion     Fire   Water    600  80     110      120   \n",
       "\n",
       "     Sp. Atk  Sp. Def  Speed  ...  Ice_1  Ice_2  Dragon_1  Dragon_2  Dark_1  \\\n",
       "0         65       65     45  ...      0      0         0         0       0   \n",
       "1         80       80     60  ...      0      0         0         0       0   \n",
       "2        100      100     80  ...      0      0         0         0       0   \n",
       "3        122      120     80  ...      0      0         0         0       0   \n",
       "4         60       50     65  ...      0      0         0         0       0   \n",
       "..       ...      ...    ...  ...    ...    ...       ...       ...     ...   \n",
       "795      100      150     50  ...      0      0         0         0       0   \n",
       "796      160      110    110  ...      0      0         0         0       0   \n",
       "797      150      130     70  ...      0      0         0         0       0   \n",
       "798      170      130     80  ...      0      0         0         0       0   \n",
       "799      130       90     70  ...      0      0         0         0       0   \n",
       "\n",
       "     Dark_2  Steel_1  Steel_2  Flying_1  Flying_2  \n",
       "0         0        0        0         0         0  \n",
       "1         0        0        0         0         0  \n",
       "2         0        0        0         0         0  \n",
       "3         0        0        0         0         0  \n",
       "4         0        0        0         0         0  \n",
       "..      ...      ...      ...       ...       ...  \n",
       "795       0        0        0         0         0  \n",
       "796       0        0        0         0         0  \n",
       "797       0        0        0         0         0  \n",
       "798       1        0        0         0         0  \n",
       "799       0        0        0         0         0  \n",
       "\n",
       "[800 rows x 47 columns]"
      ]
     },
     "execution_count": 192,
     "metadata": {},
     "output_type": "execute_result"
    }
   ],
   "source": [
    "# Predict legendary or non_legendary with given properties\n",
    "# We first need to code the categorical feature into multiple binary features.\n",
    "\n",
    "df_ml = df.drop(columns=[\"#\",\"Generation\"])\n",
    "def is_type(Type, type):\n",
    "    if Type == type:\n",
    "        return 1\n",
    "    else:\n",
    "        return 0\n",
    "for type in types_list:\n",
    "    df_ml[f\"{type}_1\"] = df_ml[\"Type 1\"].apply(lambda x: is_type(x, type))\n",
    "    df_ml[f\"{type}_2\"] = df_ml[\"Type 2\"].apply(lambda x: is_type(x, type))\n",
    "df_ml"
   ]
  },
  {
   "cell_type": "code",
   "execution_count": 198,
   "metadata": {},
   "outputs": [],
   "source": [
    "# Split dataset in features and target variable\n",
    "\n",
    "\n",
    "X = df_ml.drop(columns = ['Name','Type 1','Type 2','Legendary'])\n",
    "y = df_ml[\"Legendary\"]"
   ]
  },
  {
   "cell_type": "code",
   "execution_count": 199,
   "metadata": {},
   "outputs": [],
   "source": [
    "# Split dataset into training set and test set\n",
    "X_train, X_test, y_train, y_test = train_test_split(X, y, test_size=0.3, random_state=1) # 70% training and 30% test"
   ]
  },
  {
   "cell_type": "code",
   "execution_count": 214,
   "metadata": {},
   "outputs": [],
   "source": [
    "# Create Decision Tree classifer object\n",
    "clf = DecisionTreeClassifier()\n",
    "\n",
    "# Train Decision Tree Classifer\n",
    "clf = clf.fit(X_train,y_train)\n",
    "\n",
    "# Predict the response for test dataset\n",
    "y_pred = clf.predict(X_test)"
   ]
  },
  {
   "cell_type": "code",
   "execution_count": 215,
   "metadata": {},
   "outputs": [
    {
     "name": "stdout",
     "output_type": "stream",
     "text": [
      "Accuracy: 0.9166666666666666\n"
     ]
    }
   ],
   "source": [
    "# Model Accuracy, how often is the classifier correct?\n",
    "print(\"Accuracy:\",metrics.accuracy_score(y_test, y_pred))"
   ]
  },
  {
   "cell_type": "code",
   "execution_count": 216,
   "metadata": {},
   "outputs": [
    {
     "data": {
      "text/plain": [
       "[Text(496.0, 860.7, 'Total <= 573.5\\ngini = 0.145\\nsamples = 560\\nvalue = [516, 44]'),\n",
       " Text(434.0, 770.1, 'gini = 0.0\\nsamples = 484\\nvalue = [484, 0]'),\n",
       " Text(558.0, 770.1, 'Total <= 650.0\\ngini = 0.488\\nsamples = 76\\nvalue = [32, 44]'),\n",
       " Text(310.0, 679.5, 'Total <= 585.0\\ngini = 0.49\\nsamples = 49\\nvalue = [28, 21]'),\n",
       " Text(124.0, 588.9000000000001, 'Attack <= 117.5\\ngini = 0.245\\nsamples = 14\\nvalue = [2, 12]'),\n",
       " Text(62.0, 498.3, 'gini = 0.0\\nsamples = 11\\nvalue = [0, 11]'),\n",
       " Text(186.0, 498.3, 'HP <= 85.5\\ngini = 0.444\\nsamples = 3\\nvalue = [2, 1]'),\n",
       " Text(124.0, 407.70000000000005, 'gini = 0.0\\nsamples = 2\\nvalue = [2, 0]'),\n",
       " Text(248.0, 407.70000000000005, 'gini = 0.0\\nsamples = 1\\nvalue = [0, 1]'),\n",
       " Text(496.0, 588.9000000000001, 'Dragon_1 <= 0.5\\ngini = 0.382\\nsamples = 35\\nvalue = [26, 9]'),\n",
       " Text(434.0, 498.3, 'HP <= 52.5\\ngini = 0.305\\nsamples = 32\\nvalue = [26, 6]'),\n",
       " Text(372.0, 407.70000000000005, 'gini = 0.0\\nsamples = 2\\nvalue = [0, 2]'),\n",
       " Text(496.0, 407.70000000000005, 'Water_2 <= 0.5\\ngini = 0.231\\nsamples = 30\\nvalue = [26, 4]'),\n",
       " Text(434.0, 317.1, 'Speed <= 118.5\\ngini = 0.185\\nsamples = 29\\nvalue = [26, 3]'),\n",
       " Text(310.0, 226.5, 'Fire_1 <= 0.5\\ngini = 0.08\\nsamples = 24\\nvalue = [23, 1]'),\n",
       " Text(248.0, 135.9000000000001, 'gini = 0.0\\nsamples = 21\\nvalue = [21, 0]'),\n",
       " Text(372.0, 135.9000000000001, 'Attack <= 110.0\\ngini = 0.444\\nsamples = 3\\nvalue = [2, 1]'),\n",
       " Text(310.0, 45.30000000000007, 'gini = 0.0\\nsamples = 1\\nvalue = [0, 1]'),\n",
       " Text(434.0, 45.30000000000007, 'gini = 0.0\\nsamples = 2\\nvalue = [2, 0]'),\n",
       " Text(558.0, 226.5, 'Speed <= 128.5\\ngini = 0.48\\nsamples = 5\\nvalue = [3, 2]'),\n",
       " Text(496.0, 135.9000000000001, 'gini = 0.0\\nsamples = 2\\nvalue = [0, 2]'),\n",
       " Text(620.0, 135.9000000000001, 'gini = 0.0\\nsamples = 3\\nvalue = [3, 0]'),\n",
       " Text(558.0, 317.1, 'gini = 0.0\\nsamples = 1\\nvalue = [0, 1]'),\n",
       " Text(558.0, 498.3, 'gini = 0.0\\nsamples = 3\\nvalue = [0, 3]'),\n",
       " Text(806.0, 679.5, 'Steel_1 <= 0.5\\ngini = 0.252\\nsamples = 27\\nvalue = [4, 23]'),\n",
       " Text(744.0, 588.9000000000001, 'Ground_2 <= 0.5\\ngini = 0.204\\nsamples = 26\\nvalue = [3, 23]'),\n",
       " Text(682.0, 498.3, 'Sp. Def <= 77.5\\ngini = 0.147\\nsamples = 25\\nvalue = [2, 23]'),\n",
       " Text(620.0, 407.70000000000005, 'gini = 0.0\\nsamples = 1\\nvalue = [1, 0]'),\n",
       " Text(744.0, 407.70000000000005, 'Defense <= 125.0\\ngini = 0.08\\nsamples = 24\\nvalue = [1, 23]'),\n",
       " Text(682.0, 317.1, 'gini = 0.0\\nsamples = 20\\nvalue = [0, 20]'),\n",
       " Text(806.0, 317.1, 'Dragon_1 <= 0.5\\ngini = 0.375\\nsamples = 4\\nvalue = [1, 3]'),\n",
       " Text(744.0, 226.5, 'gini = 0.0\\nsamples = 3\\nvalue = [0, 3]'),\n",
       " Text(868.0, 226.5, 'gini = 0.0\\nsamples = 1\\nvalue = [1, 0]'),\n",
       " Text(806.0, 498.3, 'gini = 0.0\\nsamples = 1\\nvalue = [1, 0]'),\n",
       " Text(868.0, 588.9000000000001, 'gini = 0.0\\nsamples = 1\\nvalue = [1, 0]')]"
      ]
     },
     "execution_count": 216,
     "metadata": {},
     "output_type": "execute_result"
    },
    {
     "data": {
      "image/png": "[encoded data removed]",
      "text/plain": [
       "<Figure size 1200x1200 with 1 Axes>"
      ]
     },
     "metadata": {
      "needs_background": "light"
     },
     "output_type": "display_data"
    }
   ],
   "source": [
    "# Visualize decision tree\n",
    "\n",
    "import matplotlib.pyplot as plt\n",
    "from sklearn import tree\n",
    "\n",
    "# Setting dpi = 300 to make image clearer than default\n",
    "fig, axes = plt.subplots(nrows = 1,ncols = 1,figsize = (4,4), dpi=300)\n",
    "\n",
    "tree.plot_tree(clf,\n",
    "              feature_names = X.columns.to_list()\n",
    ")"
   ]
  },
  {
   "cell_type": "code",
   "execution_count": 217,
   "metadata": {},
   "outputs": [
    {
     "name": "stdout",
     "output_type": "stream",
     "text": [
      "Accuracy: 0.9375\n"
     ]
    }
   ],
   "source": [
    "# Create Decision Tree classifer object\n",
    "clf = DecisionTreeClassifier(criterion=\"entropy\", max_depth=3)\n",
    "\n",
    "# Train Decision Tree Classifer\n",
    "clf = clf.fit(X_train,y_train)\n",
    "\n",
    "#Predict the response for test dataset\n",
    "y_pred = clf.predict(X_test)\n",
    "\n",
    "# Model Accuracy, how often is the classifier correct?\n",
    "print(\"Accuracy:\",metrics.accuracy_score(y_test, y_pred))"
   ]
  },
  {
   "cell_type": "code",
   "execution_count": 219,
   "metadata": {},
   "outputs": [
    {
     "data": {
      "text/plain": [
       "[Text(348.75, 792.75, 'Total <= 573.5\\nentropy = 0.397\\nsamples = 560\\nvalue = [516, 44]'),\n",
       " Text(232.5, 566.25, 'entropy = 0.0\\nsamples = 484\\nvalue = [484, 0]'),\n",
       " Text(465.0, 566.25, 'Total <= 650.0\\nentropy = 0.982\\nsamples = 76\\nvalue = [32, 44]'),\n",
       " Text(232.5, 339.75, 'Attack <= 129.5\\nentropy = 0.985\\nsamples = 49\\nvalue = [28, 21]'),\n",
       " Text(116.25, 113.25, 'entropy = 0.987\\nsamples = 37\\nvalue = [16, 21]'),\n",
       " Text(348.75, 113.25, 'entropy = 0.0\\nsamples = 12\\nvalue = [12, 0]'),\n",
       " Text(697.5, 339.75, 'Sp. Atk <= 125.0\\nentropy = 0.605\\nsamples = 27\\nvalue = [4, 23]'),\n",
       " Text(581.25, 113.25, 'entropy = 0.918\\nsamples = 12\\nvalue = [4, 8]'),\n",
       " Text(813.75, 113.25, 'entropy = 0.0\\nsamples = 15\\nvalue = [0, 15]')]"
      ]
     },
     "execution_count": 219,
     "metadata": {},
     "output_type": "execute_result"
    },
    {
     "data": {
      "image/png": "[encoded data removed]",
      "text/plain": [
       "<Figure size 1200x1200 with 1 Axes>"
      ]
     },
     "metadata": {
      "needs_background": "light"
     },
     "output_type": "display_data"
    }
   ],
   "source": [
    "fig_refined, axes_refined = plt.subplots(nrows = 1,ncols = 1,figsize = (4,4), dpi=300)\n",
    "tree.plot_tree(clf,feature_names = X.columns.to_list())"
   ]
  },
  {
   "cell_type": "code",
   "execution_count": null,
   "metadata": {
    "collapsed": true
   },
   "outputs": [],
   "source": [
    "# The Zen of Python\n",
    "\n",
    "# Beautiful is better than ugly.\n",
    "\n",
    "# Explicit is better than implicit.\n",
    "\n",
    "# Simple is better than complex.\n",
    "\n",
    "# Complex is better than complicated.\n",
    "\n",
    "# Flat is better than nested.\n",
    "\n",
    "# Sparse is better than dense.\n",
    "\n",
    "# Readability counts.\n",
    "\n",
    "# Special cases aren't special enough to break the rules.\n",
    "\n",
    "# Although practicality beats purity.\n",
    "\n",
    "# Errors should never pass silently.\n",
    "\n",
    "# Unless explicitly silenced.\n",
    "\n",
    "# In the face of ambiguity, refuse the temptation to guess.\n",
    "\n",
    "# There should be one-- and preferably only one --obvious way to do it.\n",
    "\n",
    "# Although that way may not be obvious at first unless you're Dutch.\n",
    "\n",
    "# Now is better than never.\n",
    "\n",
    "# Although never is often better than *right* now.\n",
    "\n",
    "# If the implementation is hard to explain, it's a bad idea.\n",
    "\n",
    "# If the implementation is easy to explain, it may be a good idea.\n",
    "\n",
    "# Namespaces are one honking great idea -- let's do more of those!"
   ]
  }
 ],
 "metadata": {
  "kernelspec": {
   "display_name": "Python 3",
   "language": "python",
   "name": "python3"
  },
  "language_info": {
   "codemirror_mode": {
    "name": "ipython",
    "version": 3
   },
   "file_extension": ".py",
   "mimetype": "text/x-python",
   "name": "python",
   "nbconvert_exporter": "python",
   "pygments_lexer": "ipython3",
   "version": "3.7.7"
  }
 },
 "nbformat": 4,
 "nbformat_minor": 4
}
